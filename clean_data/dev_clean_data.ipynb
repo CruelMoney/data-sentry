{
 "cells": [
  {
   "cell_type": "markdown",
   "metadata": {},
   "source": [
    "The goal of this notebook is to develop data cleaning methods. "
   ]
  },
  {
   "cell_type": "code",
   "execution_count": 16,
   "metadata": {},
   "outputs": [],
   "source": [
    "import pandas as pd\n",
    "import re"
   ]
  },
  {
   "cell_type": "code",
   "execution_count": 4,
   "metadata": {},
   "outputs": [],
   "source": [
    "train_data = pd.read_csv(\"../data/train_text_with_pii_2018_12_29_07_26_56_266227.csv\")\n",
    "test_data = pd.read_csv(\"../data/test_text_with_pii_2018_12_29_07_26_58_843238.csv\")"
   ]
  },
  {
   "cell_type": "code",
   "execution_count": 3,
   "metadata": {},
   "outputs": [
    {
     "data": {
      "text/html": [
       "<div>\n",
       "<style scoped>\n",
       "    .dataframe tbody tr th:only-of-type {\n",
       "        vertical-align: middle;\n",
       "    }\n",
       "\n",
       "    .dataframe tbody tr th {\n",
       "        vertical-align: top;\n",
       "    }\n",
       "\n",
       "    .dataframe thead th {\n",
       "        text-align: right;\n",
       "    }\n",
       "</style>\n",
       "<table border=\"1\" class=\"dataframe\">\n",
       "  <thead>\n",
       "    <tr style=\"text-align: right;\">\n",
       "      <th></th>\n",
       "      <th>Text</th>\n",
       "      <th>Labels</th>\n",
       "      <th>PII</th>\n",
       "    </tr>\n",
       "  </thead>\n",
       "  <tbody>\n",
       "    <tr>\n",
       "      <th>0</th>\n",
       "      <td>Return never place become nearly movement. No ...</td>\n",
       "      <td>Address</td>\n",
       "      <td>9479 Ward Creek Suite 474 Warnershire, NH 08434</td>\n",
       "    </tr>\n",
       "    <tr>\n",
       "      <th>1</th>\n",
       "      <td>Quality recently seek Suite 937 goal relations...</td>\n",
       "      <td>Address</td>\n",
       "      <td>Suite 937</td>\n",
       "    </tr>\n",
       "    <tr>\n",
       "      <th>2</th>\n",
       "      <td>Word expert reveal effect response forward. In...</td>\n",
       "      <td>Address</td>\n",
       "      <td>Apt. 925</td>\n",
       "    </tr>\n",
       "    <tr>\n",
       "      <th>3</th>\n",
       "      <td>Son specific think. Conference its home expert...</td>\n",
       "      <td>Address</td>\n",
       "      <td>15286 Ramirez Lakes Apt. 147 West Anthony, FL ...</td>\n",
       "    </tr>\n",
       "    <tr>\n",
       "      <th>4</th>\n",
       "      <td>Control trouble Apt. 223 keep action rule. Sol...</td>\n",
       "      <td>Address</td>\n",
       "      <td>Apt. 223</td>\n",
       "    </tr>\n",
       "  </tbody>\n",
       "</table>\n",
       "</div>"
      ],
      "text/plain": [
       "                                                Text   Labels  \\\n",
       "0  Return never place become nearly movement. No ...  Address   \n",
       "1  Quality recently seek Suite 937 goal relations...  Address   \n",
       "2  Word expert reveal effect response forward. In...  Address   \n",
       "3  Son specific think. Conference its home expert...  Address   \n",
       "4  Control trouble Apt. 223 keep action rule. Sol...  Address   \n",
       "\n",
       "                                                 PII  \n",
       "0    9479 Ward Creek Suite 474 Warnershire, NH 08434  \n",
       "1                                          Suite 937  \n",
       "2                                           Apt. 925  \n",
       "3  15286 Ramirez Lakes Apt. 147 West Anthony, FL ...  \n",
       "4                                           Apt. 223  "
      ]
     },
     "execution_count": 3,
     "metadata": {},
     "output_type": "execute_result"
    }
   ],
   "source": [
    "train_data.head()"
   ]
  },
  {
   "cell_type": "code",
   "execution_count": 90,
   "metadata": {},
   "outputs": [
    {
     "data": {
      "text/plain": [
       "Name                100000\n",
       "SSN                 100000\n",
       "Address             100000\n",
       "None                100000\n",
       "Email               100000\n",
       "Plates              100000\n",
       "Phone_number        100000\n",
       "CreditCardNumber    100000\n",
       "Name: Labels, dtype: int64"
      ]
     },
     "execution_count": 90,
     "metadata": {},
     "output_type": "execute_result"
    }
   ],
   "source": [
    "train_data['Labels'].value_counts()"
   ]
  },
  {
   "cell_type": "code",
   "execution_count": 98,
   "metadata": {},
   "outputs": [],
   "source": [
    "example = train_data[\"Text\"].loc[train_data.Labels == \"SSN\"].iloc[0:100]"
   ]
  },
  {
   "cell_type": "code",
   "execution_count": 99,
   "metadata": {},
   "outputs": [],
   "source": [
    "def clean_text(text):\n",
    "    # replace  . and a space with only a space, then amke all words lower case.\n",
    "    text = text.replace(\". \",\" \").replace(\",\",\"\").lower()\n",
    "    # get rid of the . at the end of each line. \n",
    "    cleaned_text = re.sub(\"\\.$\",\"\",text)\n",
    "    \n",
    "    return cleaned_text"
   ]
  },
  {
   "cell_type": "code",
   "execution_count": 127,
   "metadata": {},
   "outputs": [],
   "source": [
    "def extract_special_len(text):\n",
    "    # the complete special char list\n",
    "    all_special_char = '!\"#$%&\\'()*+,-./:;<=>?@[\\\\]^_`{|}~'\n",
    "    # return the special char if it is in the text\n",
    "    special_list = [special_char for special_char in all_special_char\\\n",
    "                   if special_char in text]\n",
    "    \n",
    "    return len(special_list)   \n",
    "\n",
    "\n",
    "def extract_special_char(text):\n",
    "    # the complete special char list\n",
    "    all_special_char = '!\"#$%&\\'()*+,-./:;<=>?@[\\\\]^_`{|}~'\n",
    "    # return the special char if it is in the text\n",
    "    special_list = [special_char for special_char in all_special_char\\\n",
    "                   if special_char in text]\n",
    "    \n",
    "    return special_list  "
   ]
  },
  {
   "cell_type": "code",
   "execution_count": 128,
   "metadata": {},
   "outputs": [],
   "source": [
    "train_data[\"Cleaned_text\"] = train_data[\"Text\"].apply(clean_text)"
   ]
  },
  {
   "cell_type": "code",
   "execution_count": 129,
   "metadata": {},
   "outputs": [],
   "source": [
    "train_data['Special_char_num'] = train_data[\"Cleaned_text\"].apply(extract_special_len)"
   ]
  },
  {
   "cell_type": "code",
   "execution_count": 130,
   "metadata": {},
   "outputs": [],
   "source": [
    "train_data['Special_chars'] = train_data[\"Cleaned_text\"].apply(extract_special_char)"
   ]
  },
  {
   "cell_type": "code",
   "execution_count": 131,
   "metadata": {},
   "outputs": [
    {
     "data": {
      "text/html": [
       "<div>\n",
       "<style scoped>\n",
       "    .dataframe tbody tr th:only-of-type {\n",
       "        vertical-align: middle;\n",
       "    }\n",
       "\n",
       "    .dataframe tbody tr th {\n",
       "        vertical-align: top;\n",
       "    }\n",
       "\n",
       "    .dataframe thead tr th {\n",
       "        text-align: left;\n",
       "    }\n",
       "\n",
       "    .dataframe thead tr:last-of-type th {\n",
       "        text-align: right;\n",
       "    }\n",
       "</style>\n",
       "<table border=\"1\" class=\"dataframe\">\n",
       "  <thead>\n",
       "    <tr>\n",
       "      <th></th>\n",
       "      <th colspan=\"4\" halign=\"left\">Special_char_num</th>\n",
       "    </tr>\n",
       "    <tr>\n",
       "      <th></th>\n",
       "      <th>min</th>\n",
       "      <th>max</th>\n",
       "      <th>mean</th>\n",
       "      <th>median</th>\n",
       "    </tr>\n",
       "    <tr>\n",
       "      <th>Labels</th>\n",
       "      <th></th>\n",
       "      <th></th>\n",
       "      <th></th>\n",
       "      <th></th>\n",
       "    </tr>\n",
       "  </thead>\n",
       "  <tbody>\n",
       "    <tr>\n",
       "      <th>Address</th>\n",
       "      <td>0</td>\n",
       "      <td>0</td>\n",
       "      <td>0.00000</td>\n",
       "      <td>0</td>\n",
       "    </tr>\n",
       "    <tr>\n",
       "      <th>CreditCardNumber</th>\n",
       "      <td>0</td>\n",
       "      <td>0</td>\n",
       "      <td>0.00000</td>\n",
       "      <td>0</td>\n",
       "    </tr>\n",
       "    <tr>\n",
       "      <th>Email</th>\n",
       "      <td>2</td>\n",
       "      <td>3</td>\n",
       "      <td>2.16875</td>\n",
       "      <td>2</td>\n",
       "    </tr>\n",
       "    <tr>\n",
       "      <th>Name</th>\n",
       "      <td>0</td>\n",
       "      <td>0</td>\n",
       "      <td>0.00000</td>\n",
       "      <td>0</td>\n",
       "    </tr>\n",
       "    <tr>\n",
       "      <th>None</th>\n",
       "      <td>0</td>\n",
       "      <td>0</td>\n",
       "      <td>0.00000</td>\n",
       "      <td>0</td>\n",
       "    </tr>\n",
       "    <tr>\n",
       "      <th>Phone_number</th>\n",
       "      <td>0</td>\n",
       "      <td>3</td>\n",
       "      <td>1.48627</td>\n",
       "      <td>1</td>\n",
       "    </tr>\n",
       "    <tr>\n",
       "      <th>Plates</th>\n",
       "      <td>0</td>\n",
       "      <td>1</td>\n",
       "      <td>0.28694</td>\n",
       "      <td>0</td>\n",
       "    </tr>\n",
       "    <tr>\n",
       "      <th>SSN</th>\n",
       "      <td>0</td>\n",
       "      <td>1</td>\n",
       "      <td>0.60662</td>\n",
       "      <td>1</td>\n",
       "    </tr>\n",
       "  </tbody>\n",
       "</table>\n",
       "</div>"
      ],
      "text/plain": [
       "                 Special_char_num                    \n",
       "                              min max     mean median\n",
       "Labels                                               \n",
       "Address                         0   0  0.00000      0\n",
       "CreditCardNumber                0   0  0.00000      0\n",
       "Email                           2   3  2.16875      2\n",
       "Name                            0   0  0.00000      0\n",
       "None                            0   0  0.00000      0\n",
       "Phone_number                    0   3  1.48627      1\n",
       "Plates                          0   1  0.28694      0\n",
       "SSN                             0   1  0.60662      1"
      ]
     },
     "execution_count": 131,
     "metadata": {},
     "output_type": "execute_result"
    }
   ],
   "source": [
    "train_data.groupby(\"Labels\").agg({'Special_char_num':[\"min\",\"max\",\"mean\",'median']})"
   ]
  }
 ],
 "metadata": {
  "kernelspec": {
   "display_name": "Python 3",
   "language": "python",
   "name": "python3"
  },
  "language_info": {
   "codemirror_mode": {
    "name": "ipython",
    "version": 3
   },
   "file_extension": ".py",
   "mimetype": "text/x-python",
   "name": "python",
   "nbconvert_exporter": "python",
   "pygments_lexer": "ipython3",
   "version": "3.6.6"
  }
 },
 "nbformat": 4,
 "nbformat_minor": 2
}
