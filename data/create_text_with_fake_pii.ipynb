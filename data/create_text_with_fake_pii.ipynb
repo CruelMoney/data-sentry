{
 "cells": [
  {
   "cell_type": "markdown",
   "metadata": {},
   "source": [
    "The goal of this notebook is to create some fake PII data and merge it with some blog or news for training. "
   ]
  },
  {
   "cell_type": "markdown",
   "metadata": {},
   "source": [
    "The generated PII type is SSN, Name (first or last name), address (street address or full address), email (personal or company), phone_number, credit card number, birthday.   "
   ]
  },
  {
   "cell_type": "code",
   "execution_count": 1,
   "metadata": {},
   "outputs": [],
   "source": [
    "from faker import Faker\n",
    "from numpy.random import choice as choose\n",
    "from numpy.random import seed as setseed\n",
    "\n",
    "from tqdm import tqdm\n",
    "\n",
    "from datetime import datetime\n",
    "\n",
    "import pandas as pd\n",
    "\n",
    "\n",
    "\n",
    "def sep_change(text, init_sep, after_sep):\n",
    "    \"\"\"\n",
    "    A function to separate the input text into strings by the init_sep variable\n",
    "    \n",
    "    and combine the strings again by the after_sep variable.\n",
    "    \"\"\"\n",
    "    splitted_strings = text.split(init_sep)\n",
    "    \n",
    "    combined_strings = after_sep.join(splitted_strings)\n",
    "    \n",
    "    return combined_strings\n",
    "\n",
    "def convert_datetime_underscore(data):\n",
    "    \"\"\"\n",
    "    A Helper function to convert all separators in datetime.now() into underscore. \n",
    "    \"\"\"\n",
    "    now_string = str(data)\n",
    "    \n",
    "    now_string = sep_change(now_string, init_sep = \"-\", after_sep = \"_\")\n",
    "    \n",
    "    now_string = sep_change(now_string, init_sep = \" \", after_sep = \"_\")\n",
    "    \n",
    "    now_string = sep_change(now_string, init_sep = \":\", after_sep = \"_\")\n",
    "    \n",
    "    now_string = sep_change(now_string, init_sep = \".\", after_sep = \"_\")\n",
    "    \n",
    "    return now_string\n",
    "    \n",
    "def _random_sep_change(data, init_sep = \"-\", after_sep = \" \", percentage = 0.5 , seed = 7):\n",
    "    \"\"\"\n",
    "    A function to randomly change the SSN data's separator. \n",
    "    \n",
    "    The input data is a list.\n",
    "    \"\"\"\n",
    "    setseed(seed)\n",
    "    # generate the index for replacing separator.\n",
    "    replacing_indexes = choose(range(len(data)), int(len(data)*percentage))\n",
    "    \n",
    "    for each_replacing_index in replacing_indexes:\n",
    "        # change the ssn data's separator from init_sep to after_sep\n",
    "        data[each_replacing_index] = sep_change(data[each_replacing_index], init_sep, after_sep)\n",
    "        \n",
    "    return data\n",
    "        \n",
    "\n",
    "    \n",
    "    \n",
    "\n",
    "class Fake_PII():\n",
    "    '''\n",
    "    A class to generate a number of fake profiles. \n",
    "    '''\n",
    "    def __init__(self, n_profile,fake_profiles = None, seed = 7,\\\n",
    "                pii_text = None, pii_labels = None):\n",
    "\n",
    "            \n",
    "        assert isinstance(n_profile, int), \"Please enter an integer\\\n",
    "        for the number of generated profiles.\"\n",
    "        \n",
    "        # initialize the Faker from faker package for fake data generation.\n",
    "        try:\n",
    "            self.faker = Faker()\n",
    "        except ImportError as error:\n",
    "            print(error.__class__.__name__ + \": \" + error.message)\n",
    "            \n",
    "\n",
    "        self.n_profile = n_profile\n",
    "        self.pii_text = pii_text\n",
    "        self.pii_labels = pii_labels\n",
    "        self.fake_profiles = fake_profiles\n",
    "        self.seed = seed \n",
    " \n",
    "        \n",
    "    def create_fake_profile(self, verbose = False, ssn_sep_change = True):\n",
    "        \n",
    "        fake_profiles = dict()\n",
    "        # use faker package to generate either a full/last name/first name.\n",
    "        fake_profiles[\"Name\"] = [choose([self.faker.name(),\\\n",
    "                                         self.faker.last_name(),\n",
    "                                         self.faker.first_name()])\\\n",
    "                                 for _ in range(self.n_profile)]\n",
    "        # use faker to generate either a full/secondary/street address\n",
    "        fake_profiles[\"Address\"] = [choose([self.faker.address(),\\\n",
    "                                            self.faker.street_address(),\\\n",
    "                                            self.faker.secondary_address()])\\\n",
    "                                   for _ in range(self.n_profile)]\n",
    "        \n",
    "        fake_profiles[\"SSN\"] = [self.faker.ssn() for _ in range(self.n_profile)]\n",
    "        \n",
    "        fake_profiles[\"Email\"] = [self.faker.email() for _ in range(self.n_profile)]\n",
    "                                 \n",
    "        fake_profiles[\"Plates\"] = [self.faker.license_plate()\\\n",
    "                                   for _ in range(self.n_profile)]\n",
    "                                        \n",
    "        \n",
    "        fake_profiles[\"CreditCardNumber\"] = [self.faker.credit_card_number()\\\n",
    "                                             for _ in range(self.n_profile)]\n",
    "                                     \n",
    "        \n",
    "        fake_profiles[\"Phone_number\"] = [self.faker.phone_number()\\\n",
    "                                         for _ in range(self.n_profile)]\n",
    "        \n",
    "        # change the separator in SSN data.\n",
    "        if ssn_sep_change:\n",
    "            fake_profiles[\"SSN\"] = _random_sep_change(fake_profiles[\"SSN\"])\n",
    "                                        \n",
    "        # change the separator in Address data from \"/n\" to \" \"\n",
    "        fake_profiles['Address'] = [sep_change(each_address,init_sep = \"/n\" , after_sep = \" \")\\\n",
    "                                   for each_address in fake_profiles['Address'] ]\n",
    "                                              \n",
    "        \n",
    "        \n",
    "        self.fake_profiles = fake_profiles\n",
    "        \n",
    "        if verbose:\n",
    "            return self.fake_profiles \n",
    "        \n",
    "    def _init_pii_gen(self):\n",
    "        \n",
    "        # generate the all possible PII implemented in the create_fake_profile methods\n",
    "        self._fake_labels = list(self.fake_profiles.keys())\n",
    "        # generate the None labels \n",
    "        self._none_pii_labels = [\"None\" for _ in range(self._n_text)]\n",
    "        # generate the pii labels\n",
    "        self.pii_labels = sorted(self._fake_labels*self._n_text)\n",
    "        # generate the test with no pii\n",
    "        self._fake_text_no_pii = [self.faker.paragraph() for _ in range(self._n_text)]\n",
    "        # mutiply the no pii text with the number of PII types\n",
    "        self._init_fake_text_no_pii = self._fake_text_no_pii*len(self._fake_labels)\n",
    "        # initialize the text mixed with PII with all \"None\" strings. \n",
    "        self.pii_text = [\"None\" for _ in range(self._n_text*len(self._fake_labels))]\n",
    "        \n",
    "    \n",
    "    def create_pii_text(self, n_text = 10):\n",
    "        \"\"\"\n",
    "        A method to create text randomly mixed with fake PII\n",
    "        \"\"\"\n",
    "        warning_text = \"Please create fake profiles first with .create_fake_profile method.\"\n",
    "        assert self.fake_profiles is not None, warning_text\n",
    "        \n",
    "        self._n_text = n_text\n",
    "        # initialized a few variables for inserting PII values \n",
    "        self._init_pii_gen()\n",
    "        \n",
    "        # insert PII into the text\n",
    "        for index, PII in enumerate(tqdm(self.pii_labels)):\n",
    "            # choose a PII value from the dictionary according to the PII type.\n",
    "            PII_value = choose(self.fake_profiles[PII])\n",
    "            \n",
    "            orignal_fake_text = self._init_fake_text_no_pii[index]\n",
    "            \n",
    "            tokenized_fake_text = orignal_fake_text.split(\" \")\n",
    "            \n",
    "            # generate the position to fill in the PII value\n",
    "            PII_position = choose(range(len(tokenized_fake_text)+1))\n",
    "            \n",
    "            tokenized_fake_text.insert(PII_position, PII_value)\n",
    "            \n",
    "            one_text_mixed_with_PII = \" \".join(tokenized_fake_text)\n",
    "            \n",
    "            self.pii_text[index] = one_text_mixed_with_PII\n",
    "        \n",
    "        \n",
    "        self.pii_text.extend(self._fake_text_no_pii)\n",
    "        self.pii_labels.extend(self._none_pii_labels)\n",
    "        \n",
    "   \n",
    "        \n",
    "        return self.pii_labels, self.pii_text\n",
    "    "
   ]
  },
  {
   "cell_type": "code",
   "execution_count": 2,
   "metadata": {},
   "outputs": [],
   "source": [
    "fake_ = Fake_PII(100000)"
   ]
  },
  {
   "cell_type": "code",
   "execution_count": 3,
   "metadata": {},
   "outputs": [],
   "source": [
    "fake_.create_fake_profile()"
   ]
  },
  {
   "cell_type": "code",
   "execution_count": null,
   "metadata": {},
   "outputs": [
    {
     "name": "stderr",
     "output_type": "stream",
     "text": [
      " 57%|█████▋    | 401748/700000 [1:24:35<38:19, 129.68it/s] "
     ]
    }
   ],
   "source": [
    "labels, text = fake_.create_pii_text(n_text = 100000)"
   ]
  },
  {
   "cell_type": "code",
   "execution_count": null,
   "metadata": {},
   "outputs": [],
   "source": [
    "len(labels) "
   ]
  },
  {
   "cell_type": "code",
   "execution_count": null,
   "metadata": {
    "scrolled": false
   },
   "outputs": [],
   "source": [
    "len(text)"
   ]
  },
  {
   "cell_type": "code",
   "execution_count": null,
   "metadata": {},
   "outputs": [],
   "source": [
    "text_with_pii = pd.DataFrame({\"Text\":text, \"Labels\":labels})"
   ]
  },
  {
   "cell_type": "code",
   "execution_count": null,
   "metadata": {},
   "outputs": [],
   "source": [
    "file_name = \"text_with_pii_\" + convert_datetime_underscore(datetime.now()) + \".csv\"\n",
    "text_with_pii.to_csv(file_name,index=False)"
   ]
  }
 ],
 "metadata": {
  "kernelspec": {
   "display_name": "Python 3",
   "language": "python",
   "name": "python3"
  },
  "language_info": {
   "codemirror_mode": {
    "name": "ipython",
    "version": 3
   },
   "file_extension": ".py",
   "mimetype": "text/x-python",
   "name": "python",
   "nbconvert_exporter": "python",
   "pygments_lexer": "ipython3",
   "version": "3.6.6"
  }
 },
 "nbformat": 4,
 "nbformat_minor": 2
}
