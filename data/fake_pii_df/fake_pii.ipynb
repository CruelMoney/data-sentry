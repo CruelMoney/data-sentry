{
 "cells": [
  {
   "cell_type": "markdown",
   "metadata": {},
   "source": [
    "The goal of this document is to generate some fake PII data to infuse into random articles for detection."
   ]
  },
  {
   "cell_type": "code",
   "execution_count": 16,
   "metadata": {},
   "outputs": [
    {
     "name": "stderr",
     "output_type": "stream",
     "text": [
      "Updating HTML index of packages in '.Library'\n",
      "Making 'packages.html' ... done\n"
     ]
    }
   ],
   "source": [
    "# install the generator package for generating some fake data.\n",
    "install.packages('generator')"
   ]
  },
  {
   "cell_type": "code",
   "execution_count": 17,
   "metadata": {},
   "outputs": [],
   "source": [
    "library(detector)\n",
    "library(dplyr, warn.conflicts = FALSE)\n",
    "library(generator)\n",
    "library(magrittr)"
   ]
  },
  {
   "cell_type": "code",
   "execution_count": 25,
   "metadata": {},
   "outputs": [],
   "source": [
    "n = 20000\n",
    "set.seed(1)\n",
    "ashley_madison <- \n",
    "  data.frame(name = r_full_names(n), \n",
    "             ssn = r_national_identification_numbers(n), \n",
    "             dob = r_date_of_births(n), \n",
    "             email = r_email_addresses(n), \n",
    "             ip = r_ipv4_addresses(n), \n",
    "             phone = r_phone_numbers(n), \n",
    "             credit_card = r_credit_card_numbers(n),\n",
    "             national_id = r_national_identification_numbers(n),\n",
    "             lat = r_latitudes(n), \n",
    "             lon = r_longitudes(n), \n",
    "             stringsAsFactors = FALSE)"
   ]
  },
  {
   "cell_type": "code",
   "execution_count": 26,
   "metadata": {},
   "outputs": [],
   "source": [
    "n = 20000\n",
    "set.seed(2)\n",
    "ashley_madison2 <- \n",
    "  data.frame(name = r_full_names(n), \n",
    "             ssn = r_national_identification_numbers(n), \n",
    "             dob = r_date_of_births(n), \n",
    "             email = r_email_addresses(n), \n",
    "             ip = r_ipv4_addresses(n), \n",
    "             phone = r_phone_numbers(n), \n",
    "             credit_card = r_credit_card_numbers(n),\n",
    "             national_id = r_national_identification_numbers(n),\n",
    "             lat = r_latitudes(n), \n",
    "             lon = r_longitudes(n), \n",
    "             stringsAsFactors = FALSE)"
   ]
  },
  {
   "cell_type": "code",
   "execution_count": 27,
   "metadata": {},
   "outputs": [],
   "source": [
    "ashley_madison_tot = rbind(ashley_madison, ashley_madison2)"
   ]
  },
  {
   "cell_type": "code",
   "execution_count": 28,
   "metadata": {},
   "outputs": [],
   "source": [
    "write.csv(ashley_madison_tot, \"fake_pii.csv\")"
   ]
  }
 ],
 "metadata": {
  "kernelspec": {
   "display_name": "R",
   "language": "R",
   "name": "ir"
  },
  "language_info": {
   "codemirror_mode": "r",
   "file_extension": ".r",
   "mimetype": "text/x-r-source",
   "name": "R",
   "pygments_lexer": "r",
   "version": "3.4.1"
  }
 },
 "nbformat": 4,
 "nbformat_minor": 2
}
