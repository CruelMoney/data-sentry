{
 "cells": [
  {
   "cell_type": "markdown",
   "metadata": {},
   "source": [
    "## Train the word2vec model with the data from clean_data/"
   ]
  },
  {
   "cell_type": "code",
   "execution_count": 1,
   "metadata": {},
   "outputs": [
    {
     "data": {
      "application/javascript": [
       "if (!(\"Notification\" in window)) {\n",
       "    alert(\"This browser does not support desktop notifications, so the %%notify magic will not work.\");\n",
       "} else if (Notification.permission !== 'granted' && Notification.permission !== 'denied') {\n",
       "    Notification.requestPermission(function (permission) {\n",
       "        if(!('permission' in Notification)) {\n",
       "            Notification.permission = permission;\n",
       "        }\n",
       "    })\n",
       "}\n"
      ],
      "text/plain": [
       "<IPython.core.display.Javascript object>"
      ]
     },
     "metadata": {},
     "output_type": "display_data"
    }
   ],
   "source": [
    "from gensim.models import Word2Vec\n",
    "import pandas as pd\n",
    "%load_ext jupyternotify"
   ]
  },
  {
   "cell_type": "code",
   "execution_count": 2,
   "metadata": {},
   "outputs": [],
   "source": [
    "fake_pii = pd.read_csv(\"../clean_data/Cleaned_train_text_with_pii_2018_12_29_07_26_56_266227.csv\")"
   ]
  },
  {
   "cell_type": "code",
   "execution_count": 3,
   "metadata": {},
   "outputs": [
    {
     "data": {
      "text/html": [
       "<div>\n",
       "<style scoped>\n",
       "    .dataframe tbody tr th:only-of-type {\n",
       "        vertical-align: middle;\n",
       "    }\n",
       "\n",
       "    .dataframe tbody tr th {\n",
       "        vertical-align: top;\n",
       "    }\n",
       "\n",
       "    .dataframe thead th {\n",
       "        text-align: right;\n",
       "    }\n",
       "</style>\n",
       "<table border=\"1\" class=\"dataframe\">\n",
       "  <thead>\n",
       "    <tr style=\"text-align: right;\">\n",
       "      <th></th>\n",
       "      <th>Text</th>\n",
       "      <th>Labels</th>\n",
       "      <th>PII</th>\n",
       "      <th>Cleaned_text</th>\n",
       "    </tr>\n",
       "  </thead>\n",
       "  <tbody>\n",
       "    <tr>\n",
       "      <th>0</th>\n",
       "      <td>Return never place become nearly movement. No ...</td>\n",
       "      <td>Address</td>\n",
       "      <td>9479 Ward Creek Suite 474 Warnershire, NH 08434</td>\n",
       "      <td>return never place become nearly movement no s...</td>\n",
       "    </tr>\n",
       "    <tr>\n",
       "      <th>1</th>\n",
       "      <td>Quality recently seek Suite 937 goal relations...</td>\n",
       "      <td>Address</td>\n",
       "      <td>Suite 937</td>\n",
       "      <td>quality recently seek suite 937 goal relations...</td>\n",
       "    </tr>\n",
       "    <tr>\n",
       "      <th>2</th>\n",
       "      <td>Word expert reveal effect response forward. In...</td>\n",
       "      <td>Address</td>\n",
       "      <td>Apt. 925</td>\n",
       "      <td>word expert reveal effect response forward ind...</td>\n",
       "    </tr>\n",
       "    <tr>\n",
       "      <th>3</th>\n",
       "      <td>Son specific think. Conference its home expert...</td>\n",
       "      <td>Address</td>\n",
       "      <td>15286 Ramirez Lakes Apt. 147 West Anthony, FL ...</td>\n",
       "      <td>son specific think conference its home expert ...</td>\n",
       "    </tr>\n",
       "    <tr>\n",
       "      <th>4</th>\n",
       "      <td>Control trouble Apt. 223 keep action rule. Sol...</td>\n",
       "      <td>Address</td>\n",
       "      <td>Apt. 223</td>\n",
       "      <td>control trouble apt 223 keep action rule soldi...</td>\n",
       "    </tr>\n",
       "  </tbody>\n",
       "</table>\n",
       "</div>"
      ],
      "text/plain": [
       "                                                Text   Labels  \\\n",
       "0  Return never place become nearly movement. No ...  Address   \n",
       "1  Quality recently seek Suite 937 goal relations...  Address   \n",
       "2  Word expert reveal effect response forward. In...  Address   \n",
       "3  Son specific think. Conference its home expert...  Address   \n",
       "4  Control trouble Apt. 223 keep action rule. Sol...  Address   \n",
       "\n",
       "                                                 PII  \\\n",
       "0    9479 Ward Creek Suite 474 Warnershire, NH 08434   \n",
       "1                                          Suite 937   \n",
       "2                                           Apt. 925   \n",
       "3  15286 Ramirez Lakes Apt. 147 West Anthony, FL ...   \n",
       "4                                           Apt. 223   \n",
       "\n",
       "                                        Cleaned_text  \n",
       "0  return never place become nearly movement no s...  \n",
       "1  quality recently seek suite 937 goal relations...  \n",
       "2  word expert reveal effect response forward ind...  \n",
       "3  son specific think conference its home expert ...  \n",
       "4  control trouble apt 223 keep action rule soldi...  "
      ]
     },
     "execution_count": 3,
     "metadata": {},
     "output_type": "execute_result"
    }
   ],
   "source": [
    "fake_pii.head()"
   ]
  },
  {
   "cell_type": "code",
   "execution_count": 4,
   "metadata": {},
   "outputs": [],
   "source": [
    "# 0 denote no pii\n",
    "# 1 denote pii exists\n",
    "def binary_pii(label):\n",
    "    pii_label = 0\n",
    "    if label != \"None\":\n",
    "        pii_label = 1\n",
    "    return pii_label "
   ]
  },
  {
   "cell_type": "code",
   "execution_count": 5,
   "metadata": {},
   "outputs": [],
   "source": [
    "fake_pii[\"Target\"] = fake_pii['Labels'].apply(binary_pii)"
   ]
  },
  {
   "cell_type": "code",
   "execution_count": 6,
   "metadata": {},
   "outputs": [
    {
     "data": {
      "text/html": [
       "<div>\n",
       "<style scoped>\n",
       "    .dataframe tbody tr th:only-of-type {\n",
       "        vertical-align: middle;\n",
       "    }\n",
       "\n",
       "    .dataframe tbody tr th {\n",
       "        vertical-align: top;\n",
       "    }\n",
       "\n",
       "    .dataframe thead th {\n",
       "        text-align: right;\n",
       "    }\n",
       "</style>\n",
       "<table border=\"1\" class=\"dataframe\">\n",
       "  <thead>\n",
       "    <tr style=\"text-align: right;\">\n",
       "      <th></th>\n",
       "      <th>Text</th>\n",
       "      <th>Labels</th>\n",
       "      <th>PII</th>\n",
       "      <th>Cleaned_text</th>\n",
       "      <th>Target</th>\n",
       "    </tr>\n",
       "  </thead>\n",
       "  <tbody>\n",
       "    <tr>\n",
       "      <th>0</th>\n",
       "      <td>Return never place become nearly movement. No ...</td>\n",
       "      <td>Address</td>\n",
       "      <td>9479 Ward Creek Suite 474 Warnershire, NH 08434</td>\n",
       "      <td>return never place become nearly movement no s...</td>\n",
       "      <td>1</td>\n",
       "    </tr>\n",
       "    <tr>\n",
       "      <th>1</th>\n",
       "      <td>Quality recently seek Suite 937 goal relations...</td>\n",
       "      <td>Address</td>\n",
       "      <td>Suite 937</td>\n",
       "      <td>quality recently seek suite 937 goal relations...</td>\n",
       "      <td>1</td>\n",
       "    </tr>\n",
       "    <tr>\n",
       "      <th>2</th>\n",
       "      <td>Word expert reveal effect response forward. In...</td>\n",
       "      <td>Address</td>\n",
       "      <td>Apt. 925</td>\n",
       "      <td>word expert reveal effect response forward ind...</td>\n",
       "      <td>1</td>\n",
       "    </tr>\n",
       "    <tr>\n",
       "      <th>3</th>\n",
       "      <td>Son specific think. Conference its home expert...</td>\n",
       "      <td>Address</td>\n",
       "      <td>15286 Ramirez Lakes Apt. 147 West Anthony, FL ...</td>\n",
       "      <td>son specific think conference its home expert ...</td>\n",
       "      <td>1</td>\n",
       "    </tr>\n",
       "    <tr>\n",
       "      <th>4</th>\n",
       "      <td>Control trouble Apt. 223 keep action rule. Sol...</td>\n",
       "      <td>Address</td>\n",
       "      <td>Apt. 223</td>\n",
       "      <td>control trouble apt 223 keep action rule soldi...</td>\n",
       "      <td>1</td>\n",
       "    </tr>\n",
       "  </tbody>\n",
       "</table>\n",
       "</div>"
      ],
      "text/plain": [
       "                                                Text   Labels  \\\n",
       "0  Return never place become nearly movement. No ...  Address   \n",
       "1  Quality recently seek Suite 937 goal relations...  Address   \n",
       "2  Word expert reveal effect response forward. In...  Address   \n",
       "3  Son specific think. Conference its home expert...  Address   \n",
       "4  Control trouble Apt. 223 keep action rule. Sol...  Address   \n",
       "\n",
       "                                                 PII  \\\n",
       "0    9479 Ward Creek Suite 474 Warnershire, NH 08434   \n",
       "1                                          Suite 937   \n",
       "2                                           Apt. 925   \n",
       "3  15286 Ramirez Lakes Apt. 147 West Anthony, FL ...   \n",
       "4                                           Apt. 223   \n",
       "\n",
       "                                        Cleaned_text  Target  \n",
       "0  return never place become nearly movement no s...       1  \n",
       "1  quality recently seek suite 937 goal relations...       1  \n",
       "2  word expert reveal effect response forward ind...       1  \n",
       "3  son specific think conference its home expert ...       1  \n",
       "4  control trouble apt 223 keep action rule soldi...       1  "
      ]
     },
     "execution_count": 6,
     "metadata": {},
     "output_type": "execute_result"
    }
   ],
   "source": [
    "fake_pii.head()"
   ]
  },
  {
   "cell_type": "code",
   "execution_count": 7,
   "metadata": {},
   "outputs": [],
   "source": [
    "context_sentences = [sentence.split(\" \") for sentence in fake_pii.Cleaned_text]"
   ]
  },
  {
   "cell_type": "code",
   "execution_count": 8,
   "metadata": {},
   "outputs": [
    {
     "name": "stdout",
     "output_type": "stream",
     "text": [
      "CPU times: user 2min 23s, sys: 620 ms, total: 2min 24s\n",
      "Wall time: 1min 17s\n"
     ]
    }
   ],
   "source": [
    "%%time \n",
    "word2vec_model = Word2Vec(context_sentences, size = 100, window=5,\n",
    "                                  min_count = 1, workers = 2)"
   ]
  },
  {
   "cell_type": "code",
   "execution_count": 9,
   "metadata": {},
   "outputs": [],
   "source": [
    "file_name = \"./word2vec/\"+\"word2vec_cleaned_300_\"+\".bin\"\n",
    "word2vec_model.save(file_name)"
   ]
  },
  {
   "cell_type": "markdown",
   "metadata": {},
   "source": [
    "## Visualize the resulting word2vec model vectors in 2d with PCA."
   ]
  },
  {
   "cell_type": "code",
   "execution_count": 10,
   "metadata": {},
   "outputs": [],
   "source": [
    "from yellowbrick.features.pca import PCADecomposition\n",
    "import matplotlib.pyplot as plt"
   ]
  },
  {
   "cell_type": "code",
   "execution_count": 11,
   "metadata": {},
   "outputs": [],
   "source": [
    "from word2vec_visualizer import find_part_pii, get_pii2vec_matrix, color_dict"
   ]
  },
  {
   "cell_type": "markdown",
   "metadata": {},
   "source": [
    "Extract the PII part since it is most different from other part of the text."
   ]
  },
  {
   "cell_type": "code",
   "execution_count": 12,
   "metadata": {
    "scrolled": true
   },
   "outputs": [
    {
     "name": "stderr",
     "output_type": "stream",
     "text": [
      "100%|██████████| 800000/800000 [01:20<00:00, 9967.92it/s] \n"
     ]
    }
   ],
   "source": [
    "from tqdm import tqdm\n",
    "pii_list = [find_part_pii(text, model = word2vec_model) for text in tqdm(fake_pii[\"Cleaned_text\"]) ]"
   ]
  },
  {
   "cell_type": "markdown",
   "metadata": {},
   "source": [
    "Use the word2vec model to get the vector representation of the extracted PII."
   ]
  },
  {
   "cell_type": "code",
   "execution_count": 13,
   "metadata": {},
   "outputs": [
    {
     "name": "stderr",
     "output_type": "stream",
     "text": [
      "100%|██████████| 800000/800000 [00:03<00:00, 260727.19it/s]\n"
     ]
    }
   ],
   "source": [
    "pii_matrix = get_pii2vec_matrix(pii_list = pii_list, model = word2vec_model)"
   ]
  },
  {
   "cell_type": "code",
   "execution_count": 14,
   "metadata": {},
   "outputs": [
    {
     "data": {
      "image/png": "[encoded data removed]",
      "text/plain": [
       "<Figure size 720x720 with 1 Axes>"
      ]
     },
     "metadata": {
      "needs_background": "light"
     },
     "output_type": "display_data"
    }
   ],
   "source": [
    "pii_labels = fake_pii[\"Labels\"]\n",
    "colors_map = pii_labels.map(color_dict)\n",
    "\n",
    "\n",
    "plt.figure(figsize=(10,10))\n",
    "PCAvisualizer = PCADecomposition(scale=True, color = colors_map, proj_dim = 2)\n",
    "PCAvisualizer.fit_transform(pii_matrix, pii_labels)\n",
    "PCAvisualizer.poof()"
   ]
  },
  {
   "cell_type": "markdown",
   "metadata": {},
   "source": [
    "## Training some classifiers for classifications. \n",
    "\n",
    "### Logistic regression"
   ]
  },
  {
   "cell_type": "code",
   "execution_count": 15,
   "metadata": {},
   "outputs": [
    {
     "name": "stderr",
     "output_type": "stream",
     "text": [
      "/opt/conda/lib/python3.6/site-packages/sklearn/linear_model/logistic.py:432: FutureWarning: Default solver will be changed to 'lbfgs' in 0.22. Specify a solver to silence this warning.\n",
      "  FutureWarning)\n"
     ]
    },
    {
     "data": {
      "text/plain": [
       "RandomizedSearchCV(cv=10, error_score=0,\n",
       "          estimator=Pipeline(memory=None,\n",
       "     steps=[('logisticregression', LogisticRegression(C=1.0, class_weight=None, dual=False, fit_intercept=True,\n",
       "          intercept_scaling=1, max_iter=10000, multi_class='warn',\n",
       "          n_jobs=None, penalty='l2', random_state=0, solver='warn',\n",
       "          tol=0.0001, verbose=0, warm_start=False))]),\n",
       "          fit_params=None, iid='warn', n_iter=10, n_jobs=2,\n",
       "          param_distributions={'logisticregression__C': <scipy.stats._distn_infrastructure.rv_frozen object at 0x7f3e2480c5f8>, 'logisticregression__penalty': ['l1', 'l2']},\n",
       "          pre_dispatch='2*n_jobs', random_state=None, refit=True,\n",
       "          return_train_score=True, scoring='f1', verbose=0)"
      ]
     },
     "execution_count": 15,
     "metadata": {},
     "output_type": "execute_result"
    },
    {
     "data": {
      "application/javascript": [
       "$(document).ready(\n",
       "    function() {\n",
       "        function appendUniqueDiv(){\n",
       "            // append a div with our uuid so we can check that it's already\n",
       "            // been sent and avoid duplicates on page reload\n",
       "            var notifiedDiv = document.createElement(\"div\")\n",
       "            notifiedDiv.id = \"c0d65266-d3d9-4502-9d56-2a6ce1a82288\"\n",
       "            element.append(notifiedDiv)\n",
       "        }\n",
       "\n",
       "        // only send notifications if the pageload is complete; this will\n",
       "        // help stop extra notifications when a saved notebook is loaded,\n",
       "        // which during testing gives us state \"interactive\", not \"complete\"\n",
       "        if (document.readyState === 'complete') {\n",
       "            // check for the div that signifies that the notification\n",
       "            // was already sent\n",
       "            if (document.getElementById(\"c0d65266-d3d9-4502-9d56-2a6ce1a82288\") === null) {\n",
       "                var notificationPayload = {\"requireInteraction\": false, \"icon\": \"/static/base/images/favicon.ico\", \"body\": \"model finished training\"};\n",
       "                if (Notification.permission !== 'denied') {\n",
       "                    if (Notification.permission !== 'granted') { \n",
       "                        Notification.requestPermission(function (permission) {\n",
       "                            if(!('permission' in Notification)) {\n",
       "                                Notification.permission = permission\n",
       "                            }\n",
       "                        })\n",
       "                    }\n",
       "                    if (Notification.permission === 'granted') {\n",
       "                    var notification = new Notification(\"Jupyter Notebook\", notificationPayload)\n",
       "                    appendUniqueDiv()\n",
       "                    notification.onclick = function () {\n",
       "                        window.focus();\n",
       "                        this.close();\n",
       "                        };\n",
       "                    } \n",
       "                }     \n",
       "            }\n",
       "        }\n",
       "    }\n",
       ")\n"
      ],
      "text/plain": [
       "<IPython.core.display.Javascript object>"
      ]
     },
     "metadata": {},
     "output_type": "display_data"
    },
    {
     "name": "stdout",
     "output_type": "stream",
     "text": [
      "CPU times: user 1min 54s, sys: 1.44 s, total: 1min 55s\n",
      "Wall time: 1h 50min 50s\n"
     ]
    }
   ],
   "source": [
    "%%time\n",
    "%%notify -m \"model finished training\"\n",
    "from sklearn.linear_model import LogisticRegression\n",
    "from scipy.stats import expon\n",
    "from sklearn.model_selection import RandomizedSearchCV\n",
    "from sklearn.preprocessing import StandardScaler\n",
    "from sklearn.pipeline import make_pipeline\n",
    "\n",
    "pipe = make_pipeline(LogisticRegression(random_state=0 , max_iter=10000,n_jobs = 1)\n",
    "\n",
    "param_grid = {\n",
    "    'logisticregression__C':expon(scale = 2),\n",
    "    'logisticregression__penalty':['l1','l2']\n",
    "}\n",
    "\n",
    "random_cv_lr = RandomizedSearchCV(estimator= pipe, param_distributions = param_grid, cv =10, error_score = 0,\n",
    "                               n_iter = 10 , scoring = 'f1', return_train_score=True,n_jobs = 2 )\n",
    "\n",
    "\n",
    "random_cv_lr.fit(pii_matrix, fake_pii['Target'])"
   ]
  },
  {
   "cell_type": "code",
   "execution_count": 16,
   "metadata": {},
   "outputs": [],
   "source": [
    "binary_pred = random_cv_lr.predict(pii_matrix)\n",
    "binary_true = fake_pii[\"Target\"]"
   ]
  },
  {
   "cell_type": "code",
   "execution_count": 17,
   "metadata": {},
   "outputs": [],
   "source": [
    "from sklearn.metrics import confusion_matrix\n",
    "from sklearn.metrics import classification_report"
   ]
  },
  {
   "cell_type": "code",
   "execution_count": 29,
   "metadata": {},
   "outputs": [
    {
     "name": "stdout",
     "output_type": "stream",
     "text": [
      "CPU times: user 639 ms, sys: 27.9 ms, total: 667 ms\n",
      "Wall time: 636 ms\n"
     ]
    },
    {
     "data": {
      "image/png": "[encoded data removed]",
      "text/plain": [
       "<Figure size 576x576 with 2 Axes>"
      ]
     },
     "metadata": {
      "needs_background": "light"
     },
     "output_type": "display_data"
    }
   ],
   "source": [
    "%%time\n",
    "\n",
    "import seaborn as sns\n",
    "import matplotlib.pyplot as plt\n",
    "plt.figure(figsize= (8,8))\n",
    "sns.heatmap(confusion_matrix(y_true = binary_true, y_pred = binary_pred), annot = True,fmt=\"d\",cmap=\"YlGnBu\")\n",
    "plt.xlabel(\"Predicted values\")\n",
    "plt.ylabel(\"True values\")"
   ]
  },
  {
   "cell_type": "code",
   "execution_count": 19,
   "metadata": {},
   "outputs": [
    {
     "name": "stdout",
     "output_type": "stream",
     "text": [
      "              precision    recall  f1-score   support\n",
      "\n",
      "           0       0.86      0.92      0.89    100000\n",
      "           1       0.99      0.98      0.98    700000\n",
      "\n",
      "   micro avg       0.97      0.97      0.97    800000\n",
      "   macro avg       0.92      0.95      0.93    800000\n",
      "weighted avg       0.97      0.97      0.97    800000\n",
      "\n"
     ]
    },
    {
     "data": {
      "application/javascript": [
       "$(document).ready(\n",
       "    function() {\n",
       "        function appendUniqueDiv(){\n",
       "            // append a div with our uuid so we can check that it's already\n",
       "            // been sent and avoid duplicates on page reload\n",
       "            var notifiedDiv = document.createElement(\"div\")\n",
       "            notifiedDiv.id = \"4ceffcdd-5347-4640-8f0a-cac871f75321\"\n",
       "            element.append(notifiedDiv)\n",
       "        }\n",
       "\n",
       "        // only send notifications if the pageload is complete; this will\n",
       "        // help stop extra notifications when a saved notebook is loaded,\n",
       "        // which during testing gives us state \"interactive\", not \"complete\"\n",
       "        if (document.readyState === 'complete') {\n",
       "            // check for the div that signifies that the notification\n",
       "            // was already sent\n",
       "            if (document.getElementById(\"4ceffcdd-5347-4640-8f0a-cac871f75321\") === null) {\n",
       "                var notificationPayload = {\"requireInteraction\": false, \"icon\": \"/static/base/images/favicon.ico\", \"body\": \"metric are ready\"};\n",
       "                if (Notification.permission !== 'denied') {\n",
       "                    if (Notification.permission !== 'granted') { \n",
       "                        Notification.requestPermission(function (permission) {\n",
       "                            if(!('permission' in Notification)) {\n",
       "                                Notification.permission = permission\n",
       "                            }\n",
       "                        })\n",
       "                    }\n",
       "                    if (Notification.permission === 'granted') {\n",
       "                    var notification = new Notification(\"Jupyter Notebook\", notificationPayload)\n",
       "                    appendUniqueDiv()\n",
       "                    notification.onclick = function () {\n",
       "                        window.focus();\n",
       "                        this.close();\n",
       "                        };\n",
       "                    } \n",
       "                }     \n",
       "            }\n",
       "        }\n",
       "    }\n",
       ")\n"
      ],
      "text/plain": [
       "<IPython.core.display.Javascript object>"
      ]
     },
     "metadata": {},
     "output_type": "display_data"
    },
    {
     "name": "stdout",
     "output_type": "stream",
     "text": [
      "CPU times: user 492 ms, sys: 72.2 ms, total: 564 ms\n",
      "Wall time: 476 ms\n"
     ]
    }
   ],
   "source": [
    "%%time\n",
    "%%notify -m \"metric are ready\"\n",
    "print(classification_report(y_true = binary_true, y_pred = binary_pred))"
   ]
  },
  {
   "cell_type": "code",
   "execution_count": 25,
   "metadata": {},
   "outputs": [
    {
     "data": {
      "text/plain": [
       "Pipeline(memory=None,\n",
       "     steps=[('logisticregression', LogisticRegression(C=0.026579876280000161, class_weight=None, dual=False,\n",
       "          fit_intercept=True, intercept_scaling=1, max_iter=10000,\n",
       "          multi_class='warn', n_jobs=None, penalty='l1', random_state=0,\n",
       "          solver='warn', tol=0.0001, verbose=0, warm_start=False))])"
      ]
     },
     "execution_count": 25,
     "metadata": {},
     "output_type": "execute_result"
    }
   ],
   "source": [
    "random_cv_lr.best_estimator_"
   ]
  },
  {
   "cell_type": "code",
   "execution_count": 26,
   "metadata": {},
   "outputs": [
    {
     "data": {
      "text/plain": [
       "['word2vec_300_logistic.pkl']"
      ]
     },
     "execution_count": 26,
     "metadata": {},
     "output_type": "execute_result"
    }
   ],
   "source": [
    "from sklearn.externals import joblib\n",
    "joblib.dump(random_cv_lr.best_estimator_, 'word2vec_300_logistic.pkl',compress = 1)"
   ]
  },
  {
   "cell_type": "markdown",
   "metadata": {},
   "source": [
    "### Using class weights in Logistic regression"
   ]
  },
  {
   "cell_type": "code",
   "execution_count": null,
   "metadata": {},
   "outputs": [],
   "source": [
    "%%time\n",
    "%%notify -m \"logistic-regression with class_weights finished training\"\n",
    "from sklearn.linear_model import LogisticRegression\n",
    "from scipy.stats import expon\n",
    "from sklearn.model_selection import RandomizedSearchCV\n",
    "from sklearn.preprocessing import StandardScaler\n",
    "from sklearn.pipeline import make_pipeline\n",
    "\n",
    "# suppose the class_weight are 0.1 for 0 (no PII)  and 0.9 for 1 (PII exist)\n",
    "\n",
    "pipe_lr_weights = make_pipeline(LogisticRegression(random_state=0 , max_iter=10000,n_jobs = 1,\\\n",
    "                                                  class_weight={0:.1, 1:.9}) )\n",
    "param_grid = {\n",
    "              'logisticregression__C':expon(scale = 2),\n",
    "              'logisticregression__penalty':['l1','l2']\n",
    "}\n",
    "\n",
    "random_cv_lr_weights = RandomizedSearchCV(estimator= pipe_lr_weights, param_distributions = param_grid, \\\n",
    "                                  cv =10, error_score = 0,n_iter = 10 , scoring = 'f1', \\\n",
    "                                  return_train_score=True,n_jobs = 2 )\n",
    "                               \n",
    "\n",
    "\n",
    "random_cv_lr_weights.fit(pii_matrix, fake_pii['Target'])\n",
    "\n"
   ]
  },
  {
   "cell_type": "code",
   "execution_count": null,
   "metadata": {},
   "outputs": [],
   "source": [
    "binary_pred = random_cv_lr_weights.predict(pii_matrix)\n",
    "binary_true = fake_pii[\"Target\"]\n",
    "\n",
    "from sklearn.metrics import confusion_matrix\n",
    "from sklearn.metrics import classification_report\n",
    "\n",
    "%%time\n",
    "\n",
    "import seaborn as sns\n",
    "import matplotlib.pyplot as plt\n",
    "plt.figure(figsize= (8,8))\n",
    "sns.heatmap(confusion_matrix(y_true = binary_true, y_pred = binary_pred), annot = True,fmt=\"d\",cmap=\"YlGnBu\")\n",
    "plt.xlabel(\"Predicted values\")\n",
    "plt.ylabel(\"True values\")"
   ]
  },
  {
   "cell_type": "code",
   "execution_count": null,
   "metadata": {},
   "outputs": [],
   "source": [
    "%%time\n",
    "%%notify -m \"metric are ready\"\n",
    "print(classification_report(y_true = binary_true, y_pred = binary_pred))"
   ]
  },
  {
   "cell_type": "code",
   "execution_count": null,
   "metadata": {},
   "outputs": [],
   "source": [
    "random_cv_lr_weights.best_estimator_"
   ]
  },
  {
   "cell_type": "code",
   "execution_count": null,
   "metadata": {},
   "outputs": [],
   "source": [
    "from sklearn.externals import joblib\n",
    "joblib.dump(random_cv_lr_weights.best_estimator_, 'word2vec_300_logistic_with_weights.pkl',compress = 1)"
   ]
  },
  {
   "cell_type": "markdown",
   "metadata": {},
   "source": [
    "## Run some more complex and long-running models in AWS."
   ]
  },
  {
   "cell_type": "markdown",
   "metadata": {},
   "source": [
    "### Random forest"
   ]
  },
  {
   "cell_type": "code",
   "execution_count": null,
   "metadata": {},
   "outputs": [],
   "source": [
    "# %%time \n",
    "# %%notify -m \"random forest model is ready\"\n",
    "# from sklearn.ensemble import RandomForestClassifier\n",
    "\n",
    "# pipe_rf = make_pipeline(RandomForestClassifier())\n",
    "\n",
    "# from scipy.stats import randint\n",
    "\n",
    "# param_grid = {\n",
    "#     'randomforestclassifier__criterion':['gini', 'entropy'],\n",
    "#     'randomforestclassifier__n_estimators':randint(100,5000)\n",
    "# }\n",
    "\n",
    "# random_cv_rf = RandomizedSearchCV(estimator = pipe_rf,param_distributions = param_grid,\\\n",
    "#                                   cv =2, error_score = 0,n_iter = 2 , scoring = 'f1',\\\n",
    "#                                   return_train_score=True, n_jobs = 2)\n",
    "# random_cv_rf.fit(pii_matrix, fake_pii['Target'])                     "
   ]
  },
  {
   "cell_type": "markdown",
   "metadata": {},
   "source": [
    "### Xgboost"
   ]
  },
  {
   "cell_type": "code",
   "execution_count": null,
   "metadata": {},
   "outputs": [],
   "source": [
    "# %%time \n",
    "# %%notify -m \"Xgboost model is ready\"\n",
    "# from xgboost import XGBClassifier\n",
    "\n",
    "\n",
    "# from scipy.stats import randint, uniform\n",
    "# pipe_xgboost = make_pipeline(XGBClassifier())\n",
    "# param_grid = {\n",
    "#     'xgbclassifier__booster':['gbtree', 'gblinear','dart'],\n",
    "#     'xgbclassifier__n_estimators':randint(100,1000),\n",
    "#     'xgbclassifier__gamma':uniform(0,10),\n",
    "#     \"xgbclassifier__learning_rate\":uniform(0,1),\n",
    "#     'xgbclassifier__nthread':[2],\n",
    "#     'xgbclassifier__max_depth':randint(1,10)    \n",
    "# }\n",
    "\n",
    "# random_cv_xgboost = RandomizedSearchCV(estimator = pipe_xgboost, param_distributions = param_grid,\\\n",
    "#                                        cv =10, error_score = 0,n_iter = 10 , scoring = 'f1'\\\n",
    "#                                        ,return_train_score=True, n_jobs = 2)\n",
    "# random_cv_xgboost.fit(pii_matrix, fake_pii['Target'])"
   ]
  },
  {
   "cell_type": "markdown",
   "metadata": {},
   "source": [
    "# Appendix"
   ]
  },
  {
   "cell_type": "code",
   "execution_count": null,
   "metadata": {},
   "outputs": [],
   "source": [
    "import inspect"
   ]
  },
  {
   "cell_type": "code",
   "execution_count": null,
   "metadata": {},
   "outputs": [],
   "source": [
    "color_dict"
   ]
  },
  {
   "cell_type": "code",
   "execution_count": null,
   "metadata": {},
   "outputs": [],
   "source": [
    "print(inspect.getsource(find_part_pii))"
   ]
  },
  {
   "cell_type": "code",
   "execution_count": null,
   "metadata": {},
   "outputs": [],
   "source": [
    "print(inspect.getsource(get_pii2vec_matrix))"
   ]
  }
 ],
 "metadata": {
  "kernelspec": {
   "display_name": "Python 3",
   "language": "python",
   "name": "python3"
  },
  "language_info": {
   "codemirror_mode": {
    "name": "ipython",
    "version": 3
   },
   "file_extension": ".py",
   "mimetype": "text/x-python",
   "name": "python",
   "nbconvert_exporter": "python",
   "pygments_lexer": "ipython3",
   "version": "3.6.6"
  }
 },
 "nbformat": 4,
 "nbformat_minor": 2
}
