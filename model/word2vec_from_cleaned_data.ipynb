{
 "cells": [
  {
   "cell_type": "markdown",
   "metadata": {},
   "source": [
    "## Train the word2vec model with the data from clean_data/"
   ]
  },
  {
   "cell_type": "code",
   "execution_count": 1,
   "metadata": {},
   "outputs": [],
   "source": [
    "from gensim.models import Word2Vec\n",
    "import pandas as pd"
   ]
  },
  {
   "cell_type": "code",
   "execution_count": 2,
   "metadata": {},
   "outputs": [],
   "source": [
    "fake_pii = pd.read_csv(\"../clean_data/Cleaned_train_text_with_pii_2018_12_29_07_26_56_266227.csv\")"
   ]
  },
  {
   "cell_type": "code",
   "execution_count": 3,
   "metadata": {},
   "outputs": [
    {
     "data": {
      "text/html": [
       "<div>\n",
       "<style scoped>\n",
       "    .dataframe tbody tr th:only-of-type {\n",
       "        vertical-align: middle;\n",
       "    }\n",
       "\n",
       "    .dataframe tbody tr th {\n",
       "        vertical-align: top;\n",
       "    }\n",
       "\n",
       "    .dataframe thead th {\n",
       "        text-align: right;\n",
       "    }\n",
       "</style>\n",
       "<table border=\"1\" class=\"dataframe\">\n",
       "  <thead>\n",
       "    <tr style=\"text-align: right;\">\n",
       "      <th></th>\n",
       "      <th>Text</th>\n",
       "      <th>Labels</th>\n",
       "      <th>PII</th>\n",
       "      <th>Cleaned_text</th>\n",
       "    </tr>\n",
       "  </thead>\n",
       "  <tbody>\n",
       "    <tr>\n",
       "      <th>0</th>\n",
       "      <td>Return never place become nearly movement. No ...</td>\n",
       "      <td>Address</td>\n",
       "      <td>9479 Ward Creek Suite 474 Warnershire, NH 08434</td>\n",
       "      <td>return never place become nearly movement no s...</td>\n",
       "    </tr>\n",
       "    <tr>\n",
       "      <th>1</th>\n",
       "      <td>Quality recently seek Suite 937 goal relations...</td>\n",
       "      <td>Address</td>\n",
       "      <td>Suite 937</td>\n",
       "      <td>quality recently seek suite 937 goal relations...</td>\n",
       "    </tr>\n",
       "    <tr>\n",
       "      <th>2</th>\n",
       "      <td>Word expert reveal effect response forward. In...</td>\n",
       "      <td>Address</td>\n",
       "      <td>Apt. 925</td>\n",
       "      <td>word expert reveal effect response forward ind...</td>\n",
       "    </tr>\n",
       "    <tr>\n",
       "      <th>3</th>\n",
       "      <td>Son specific think. Conference its home expert...</td>\n",
       "      <td>Address</td>\n",
       "      <td>15286 Ramirez Lakes Apt. 147 West Anthony, FL ...</td>\n",
       "      <td>son specific think conference its home expert ...</td>\n",
       "    </tr>\n",
       "    <tr>\n",
       "      <th>4</th>\n",
       "      <td>Control trouble Apt. 223 keep action rule. Sol...</td>\n",
       "      <td>Address</td>\n",
       "      <td>Apt. 223</td>\n",
       "      <td>control trouble apt 223 keep action rule soldi...</td>\n",
       "    </tr>\n",
       "  </tbody>\n",
       "</table>\n",
       "</div>"
      ],
      "text/plain": [
       "                                                Text   Labels  \\\n",
       "0  Return never place become nearly movement. No ...  Address   \n",
       "1  Quality recently seek Suite 937 goal relations...  Address   \n",
       "2  Word expert reveal effect response forward. In...  Address   \n",
       "3  Son specific think. Conference its home expert...  Address   \n",
       "4  Control trouble Apt. 223 keep action rule. Sol...  Address   \n",
       "\n",
       "                                                 PII  \\\n",
       "0    9479 Ward Creek Suite 474 Warnershire, NH 08434   \n",
       "1                                          Suite 937   \n",
       "2                                           Apt. 925   \n",
       "3  15286 Ramirez Lakes Apt. 147 West Anthony, FL ...   \n",
       "4                                           Apt. 223   \n",
       "\n",
       "                                        Cleaned_text  \n",
       "0  return never place become nearly movement no s...  \n",
       "1  quality recently seek suite 937 goal relations...  \n",
       "2  word expert reveal effect response forward ind...  \n",
       "3  son specific think conference its home expert ...  \n",
       "4  control trouble apt 223 keep action rule soldi...  "
      ]
     },
     "execution_count": 3,
     "metadata": {},
     "output_type": "execute_result"
    }
   ],
   "source": [
    "fake_pii.head()"
   ]
  },
  {
   "cell_type": "code",
   "execution_count": 4,
   "metadata": {},
   "outputs": [],
   "source": [
    "context_sentences = [sentence.split(\" \") for sentence in fake_pii.Cleaned_text]"
   ]
  },
  {
   "cell_type": "code",
   "execution_count": 5,
   "metadata": {},
   "outputs": [
    {
     "name": "stdout",
     "output_type": "stream",
     "text": [
      "CPU times: user 2min 23s, sys: 519 ms, total: 2min 24s\n",
      "Wall time: 1min 17s\n"
     ]
    }
   ],
   "source": [
    "%%time \n",
    "word2vec_model = Word2Vec(context_sentences, size = 100, window=5,\n",
    "                                  min_count = 1, workers = 2)"
   ]
  },
  {
   "cell_type": "code",
   "execution_count": 6,
   "metadata": {},
   "outputs": [],
   "source": [
    "file_name = \"./word2vec/\"+\"word2vec_cleaned_300_\"+\".bin\"\n",
    "word2vec_model.save(file_name)"
   ]
  },
  {
   "cell_type": "markdown",
   "metadata": {},
   "source": [
    "## Visualize the resulting word2vec model vectors in 2d with PCA."
   ]
  },
  {
   "cell_type": "code",
   "execution_count": 7,
   "metadata": {},
   "outputs": [],
   "source": [
    "from yellowbrick.features.pca import PCADecomposition\n",
    "import matplotlib.pyplot as plt"
   ]
  },
  {
   "cell_type": "code",
   "execution_count": 8,
   "metadata": {},
   "outputs": [],
   "source": [
    "from word2vec_visualizer import find_part_pii, get_pii2vec_matrix, color_dict"
   ]
  },
  {
   "cell_type": "code",
   "execution_count": 9,
   "metadata": {
    "scrolled": true
   },
   "outputs": [
    {
     "name": "stderr",
     "output_type": "stream",
     "text": [
      "100%|██████████| 800000/800000 [01:19<00:00, 10052.91it/s]\n"
     ]
    }
   ],
   "source": [
    "from tqdm import tqdm\n",
    "pii_list = [find_part_pii(text, model = word2vec_model) for text in tqdm(fake_pii[\"Cleaned_text\"]) ]"
   ]
  },
  {
   "cell_type": "code",
   "execution_count": 10,
   "metadata": {},
   "outputs": [
    {
     "name": "stderr",
     "output_type": "stream",
     "text": [
      "100%|██████████| 800000/800000 [00:02<00:00, 288888.04it/s]\n"
     ]
    }
   ],
   "source": [
    "pii_matrix = get_pii2vec_matrix(pii_list = pii_list, model = word2vec_model)"
   ]
  },
  {
   "cell_type": "code",
   "execution_count": 11,
   "metadata": {},
   "outputs": [
    {
     "data": {
      "image/png": "[encoded data removed]",
      "text/plain": [
       "<Figure size 720x720 with 1 Axes>"
      ]
     },
     "metadata": {
      "needs_background": "light"
     },
     "output_type": "display_data"
    }
   ],
   "source": [
    "pii_labels = fake_pii[\"Labels\"]\n",
    "colors_map = pii_labels.map(color_dict)\n",
    "\n",
    "\n",
    "plt.figure(figsize=(10,10))\n",
    "PCAvisualizer = PCADecomposition(scale=True, color = colors_map, proj_dim = 2)\n",
    "PCAvisualizer.fit_transform(pii_matrix, pii_labels)\n",
    "PCAvisualizer.poof()"
   ]
  },
  {
   "cell_type": "code",
   "execution_count": 26,
   "metadata": {},
   "outputs": [
    {
     "name": "stdout",
     "output_type": "stream",
     "text": [
      "CPU times: user 7min 31s, sys: 2min 48s, total: 10min 19s\n",
      "Wall time: 4min 20s\n"
     ]
    }
   ],
   "source": [
    "%%time\n",
    "\n",
    "from sklearn.linear_model import LogisticRegression\n",
    "\n",
    "lr_multi = LogisticRegression(random_state=0, multi_class='multinomial',solver='lbfgs',max_iter=10000)\n",
    "\n",
    "lr_multi.fit(pii_matrix, fake_pii[\"Labels\"])\n"
   ]
  },
  {
   "cell_type": "code",
   "execution_count": null,
   "metadata": {},
   "outputs": [],
   "source": [
    "prediction = lr_multi.predict(pii_matrix)\n",
    "\n",
    "\n",
    "def binary_pii(label):\n",
    "    pii_label = \"No\"\n",
    "    if label != \"None\":\n",
    "        pii_label = \"Yes\"\n",
    "    return pii_label \n"
   ]
  },
  {
   "cell_type": "code",
   "execution_count": null,
   "metadata": {},
   "outputs": [],
   "source": [
    "binary_true = [binary_pii(label) for label in fake_pii[\"Labels\"]]\n",
    "binary_true = pd.Series(binary_true)\n",
    "binary_true.value_counts()"
   ]
  },
  {
   "cell_type": "code",
   "execution_count": null,
   "metadata": {},
   "outputs": [],
   "source": [
    "binary_pred = [binary_pii(label) for label in prediction]\n",
    "binary_pred = pd.Series(binary_pred)\n",
    "binary_pred.value_counts()"
   ]
  },
  {
   "cell_type": "code",
   "execution_count": null,
   "metadata": {},
   "outputs": [],
   "source": [
    "import seaborn as sns\n",
    "import matplotlib.pyplot as plt\n",
    "sns.heatmap(confusion_matrix(y_true = binary_true, y_pred = binary_pred), annot = True,fmt=\"d\")\n",
    "plt.xlabel(\"Predicted values\")\n",
    "plt.ylabel(\"True values\")"
   ]
  },
  {
   "cell_type": "code",
   "execution_count": null,
   "metadata": {},
   "outputs": [],
   "source": [
    "from sklearn.metrics import confusion_matrix\n",
    "from sklearn.metrics import classification_report"
   ]
  },
  {
   "cell_type": "code",
   "execution_count": null,
   "metadata": {},
   "outputs": [],
   "source": [
    "%%time\n",
    "print(classification_report(y_true = binary_true, y_pred = binary_pred))"
   ]
  },
  {
   "cell_type": "code",
   "execution_count": null,
   "metadata": {},
   "outputs": [],
   "source": [
    "%%time\n",
    "print(classification_report(y_true = fake_pii[\"Labels\"], y_pred = prediction))"
   ]
  },
  {
   "cell_type": "markdown",
   "metadata": {},
   "source": [
    "# Appendix"
   ]
  },
  {
   "cell_type": "code",
   "execution_count": 21,
   "metadata": {},
   "outputs": [],
   "source": [
    "import inspect"
   ]
  },
  {
   "cell_type": "code",
   "execution_count": 22,
   "metadata": {},
   "outputs": [
    {
     "data": {
      "text/plain": [
       "{'Phone_number': 'red',\n",
       " 'SSN': 'blue',\n",
       " 'Address': 'black',\n",
       " 'Name': 'yellow',\n",
       " 'Plates': 'orange',\n",
       " 'CreditCardNumber': 'purple',\n",
       " 'None': 'pink',\n",
       " 'Email': 'tan'}"
      ]
     },
     "execution_count": 22,
     "metadata": {},
     "output_type": "execute_result"
    }
   ],
   "source": [
    "color_dict"
   ]
  },
  {
   "cell_type": "code",
   "execution_count": 24,
   "metadata": {},
   "outputs": [
    {
     "name": "stdout",
     "output_type": "stream",
     "text": [
      "def find_part_pii(text, model, sep = \" \"):\n",
      "    tokenized_text = text.split(sep)\n",
      "    \n",
      "    part_pii = model.wv.doesnt_match(tokenized_text)\n",
      "    \n",
      "    return part_pii    \n",
      "\n"
     ]
    }
   ],
   "source": [
    "print(inspect.getsource(find_part_pii))"
   ]
  },
  {
   "cell_type": "code",
   "execution_count": 25,
   "metadata": {},
   "outputs": [
    {
     "name": "stdout",
     "output_type": "stream",
     "text": [
      "def get_pii2vec_matrix(pii_list, model):\n",
      "    # set the matrix dimensions\n",
      "    column_num = model.trainables.layer1_size\n",
      "    row_num = len(pii_list)\n",
      "    # initialized the matrix\n",
      "    pii2vec_mat = np.zeros((row_num, column_num))\n",
      "    # iterate through the pii_list and assign the vectors to matrix.\n",
      "    for index, ith_pii in enumerate(tqdm(pii_list)):\n",
      "        pii2vec_mat[index,:] = model.wv[ith_pii]\n",
      "    \n",
      "    return pii2vec_mat\n",
      "\n"
     ]
    }
   ],
   "source": [
    "print(inspect.getsource(get_pii2vec_matrix))"
   ]
  }
 ],
 "metadata": {
  "kernelspec": {
   "display_name": "Python 3",
   "language": "python",
   "name": "python3"
  },
  "language_info": {
   "codemirror_mode": {
    "name": "ipython",
    "version": 3
   },
   "file_extension": ".py",
   "mimetype": "text/x-python",
   "name": "python",
   "nbconvert_exporter": "python",
   "pygments_lexer": "ipython3",
   "version": "3.6.6"
  }
 },
 "nbformat": 4,
 "nbformat_minor": 2
}
