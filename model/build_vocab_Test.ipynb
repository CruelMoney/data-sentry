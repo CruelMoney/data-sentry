{
 "cells": [
  {
   "cell_type": "markdown",
   "metadata": {},
   "source": [
    "Testing build_vocab method in gensim for word2vec"
   ]
  },
  {
   "cell_type": "code",
   "execution_count": 1,
   "metadata": {},
   "outputs": [],
   "source": [
    "old_sentences = [[\"bad\",\"robots\"],[\"good\",\"human\"]]\n",
    "\n",
    "new_sentences = [['yes', 'this', 'is', 'the', 'word2vec', 'model']]"
   ]
  },
  {
   "cell_type": "code",
   "execution_count": 2,
   "metadata": {},
   "outputs": [],
   "source": [
    "from gensim.models import Word2Vec"
   ]
  },
  {
   "cell_type": "code",
   "execution_count": 3,
   "metadata": {},
   "outputs": [],
   "source": [
    "old_model = Word2Vec(old_sentences,size = 10, window=5,\n",
    "                                  min_count = 1, workers = 2)"
   ]
  },
  {
   "cell_type": "code",
   "execution_count": 4,
   "metadata": {},
   "outputs": [
    {
     "data": {
      "text/plain": [
       "{'bad': <gensim.models.keyedvectors.Vocab at 0x7f4df9e6d048>,\n",
       " 'robots': <gensim.models.keyedvectors.Vocab at 0x7f4df9e6d080>,\n",
       " 'good': <gensim.models.keyedvectors.Vocab at 0x7f4df9e6d0b8>,\n",
       " 'human': <gensim.models.keyedvectors.Vocab at 0x7f4df9e6d0f0>}"
      ]
     },
     "execution_count": 4,
     "metadata": {},
     "output_type": "execute_result"
    }
   ],
   "source": [
    "old_model.wv.vocab"
   ]
  },
  {
   "cell_type": "code",
   "execution_count": 5,
   "metadata": {},
   "outputs": [],
   "source": [
    "old_model.save(\"old_model\")"
   ]
  },
  {
   "cell_type": "code",
   "execution_count": 6,
   "metadata": {},
   "outputs": [],
   "source": [
    "new_model = Word2Vec.load(\"old_model\")"
   ]
  },
  {
   "cell_type": "code",
   "execution_count": 7,
   "metadata": {},
   "outputs": [],
   "source": [
    "new_model.build_vocab(new_sentences, update = True)"
   ]
  },
  {
   "cell_type": "code",
   "execution_count": 8,
   "metadata": {},
   "outputs": [
    {
     "data": {
      "text/plain": [
       "(0, 6)"
      ]
     },
     "execution_count": 8,
     "metadata": {},
     "output_type": "execute_result"
    }
   ],
   "source": [
    "new_model.train(new_sentences, total_examples=2, epochs = 1)"
   ]
  },
  {
   "cell_type": "code",
   "execution_count": 9,
   "metadata": {},
   "outputs": [
    {
     "data": {
      "text/plain": [
       "{'bad': <gensim.models.keyedvectors.Vocab at 0x7f4df9e6d940>,\n",
       " 'robots': <gensim.models.keyedvectors.Vocab at 0x7f4df9e6da20>,\n",
       " 'good': <gensim.models.keyedvectors.Vocab at 0x7f4df9e6da90>,\n",
       " 'human': <gensim.models.keyedvectors.Vocab at 0x7f4df9e6db00>,\n",
       " 'yes': <gensim.models.keyedvectors.Vocab at 0x7f4df9e6dd68>,\n",
       " 'this': <gensim.models.keyedvectors.Vocab at 0x7f4df9e6d898>,\n",
       " 'is': <gensim.models.keyedvectors.Vocab at 0x7f4df9e6d748>,\n",
       " 'the': <gensim.models.keyedvectors.Vocab at 0x7f4df9e6d780>,\n",
       " 'word2vec': <gensim.models.keyedvectors.Vocab at 0x7f4df9e6db38>,\n",
       " 'model': <gensim.models.keyedvectors.Vocab at 0x7f4df9e6d4e0>}"
      ]
     },
     "execution_count": 9,
     "metadata": {},
     "output_type": "execute_result"
    }
   ],
   "source": [
    "new_model.wv.vocab"
   ]
  },
  {
   "cell_type": "code",
   "execution_count": 10,
   "metadata": {},
   "outputs": [],
   "source": [
    "new_new_sentences = [['my','email','address','is','salitrojan@gmailcom','111-999-7711','best','sali','trojan']]"
   ]
  },
  {
   "cell_type": "code",
   "execution_count": 11,
   "metadata": {},
   "outputs": [],
   "source": [
    "new_model.build_vocab(new_new_sentences, update = True)"
   ]
  },
  {
   "cell_type": "code",
   "execution_count": 12,
   "metadata": {},
   "outputs": [
    {
     "data": {
      "text/plain": [
       "(1, 9)"
      ]
     },
     "execution_count": 12,
     "metadata": {},
     "output_type": "execute_result"
    }
   ],
   "source": [
    "new_model.train(new_new_sentences, total_examples=1, epochs = 1)"
   ]
  },
  {
   "cell_type": "code",
   "execution_count": 13,
   "metadata": {},
   "outputs": [
    {
     "data": {
      "text/plain": [
       "{'bad': <gensim.models.keyedvectors.Vocab at 0x7f4df9e6d940>,\n",
       " 'robots': <gensim.models.keyedvectors.Vocab at 0x7f4df9e6da20>,\n",
       " 'good': <gensim.models.keyedvectors.Vocab at 0x7f4df9e6da90>,\n",
       " 'human': <gensim.models.keyedvectors.Vocab at 0x7f4df9e6db00>,\n",
       " 'yes': <gensim.models.keyedvectors.Vocab at 0x7f4df9e6dd68>,\n",
       " 'this': <gensim.models.keyedvectors.Vocab at 0x7f4df9e6d898>,\n",
       " 'is': <gensim.models.keyedvectors.Vocab at 0x7f4df9e6d748>,\n",
       " 'the': <gensim.models.keyedvectors.Vocab at 0x7f4df9e6d780>,\n",
       " 'word2vec': <gensim.models.keyedvectors.Vocab at 0x7f4df9e6db38>,\n",
       " 'model': <gensim.models.keyedvectors.Vocab at 0x7f4df9e6d4e0>,\n",
       " 'my': <gensim.models.keyedvectors.Vocab at 0x7f4df9e0b908>,\n",
       " 'email': <gensim.models.keyedvectors.Vocab at 0x7f4df9e0b978>,\n",
       " 'address': <gensim.models.keyedvectors.Vocab at 0x7f4df9e0b9b0>,\n",
       " 'salitrojan@gmailcom': <gensim.models.keyedvectors.Vocab at 0x7f4df9e0b9e8>,\n",
       " '111-999-7711': <gensim.models.keyedvectors.Vocab at 0x7f4df9e0ba20>,\n",
       " 'best': <gensim.models.keyedvectors.Vocab at 0x7f4df9e0ba58>,\n",
       " 'sali': <gensim.models.keyedvectors.Vocab at 0x7f4df9e0ba90>,\n",
       " 'trojan': <gensim.models.keyedvectors.Vocab at 0x7f4df9e0bac8>}"
      ]
     },
     "execution_count": 13,
     "metadata": {},
     "output_type": "execute_result"
    }
   ],
   "source": [
    "new_model.wv.vocab"
   ]
  },
  {
   "cell_type": "code",
   "execution_count": null,
   "metadata": {},
   "outputs": [],
   "source": []
  }
 ],
 "metadata": {
  "kernelspec": {
   "display_name": "Python 3",
   "language": "python",
   "name": "python3"
  },
  "language_info": {
   "codemirror_mode": {
    "name": "ipython",
    "version": 3
   },
   "file_extension": ".py",
   "mimetype": "text/x-python",
   "name": "python",
   "nbconvert_exporter": "python",
   "pygments_lexer": "ipython3",
   "version": "3.6.6"
  }
 },
 "nbformat": 4,
 "nbformat_minor": 2
}
