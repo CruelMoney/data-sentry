{
 "cells": [
  {
   "cell_type": "markdown",
   "metadata": {},
   "source": [
    "Testing build_vocab method in gensim for word2vec"
   ]
  },
  {
   "cell_type": "code",
   "execution_count": 1,
   "metadata": {},
   "outputs": [],
   "source": [
    "old_sentences = [[\"bad\",\"robots\"],[\"good\",\"human\"]]\n",
    "\n",
    "new_sentences = [['yes', 'this', 'is', 'the', 'word2vec', 'model']]"
   ]
  },
  {
   "cell_type": "code",
   "execution_count": 2,
   "metadata": {},
   "outputs": [
    {
     "name": "stderr",
     "output_type": "stream",
     "text": [
      "D:\\Data_science\\Python3.7\\lib\\site-packages\\gensim\\utils.py:1197: UserWarning: detected Windows; aliasing chunkize to chunkize_serial\n",
      "  warnings.warn(\"detected Windows; aliasing chunkize to chunkize_serial\")\n"
     ]
    }
   ],
   "source": [
    "from gensim.models import Word2Vec"
   ]
  },
  {
   "cell_type": "code",
   "execution_count": 3,
   "metadata": {},
   "outputs": [],
   "source": [
    "old_model = Word2Vec(old_sentences,size = 10, window=5,\n",
    "                                  min_count = 1, workers = 2)"
   ]
  },
  {
   "cell_type": "code",
   "execution_count": 4,
   "metadata": {},
   "outputs": [
    {
     "data": {
      "text/plain": [
       "{'bad': <gensim.models.keyedvectors.Vocab at 0x16767cd97f0>,\n",
       " 'robots': <gensim.models.keyedvectors.Vocab at 0x16767cd97b8>,\n",
       " 'good': <gensim.models.keyedvectors.Vocab at 0x16767cd9828>,\n",
       " 'human': <gensim.models.keyedvectors.Vocab at 0x16767cd9860>}"
      ]
     },
     "execution_count": 4,
     "metadata": {},
     "output_type": "execute_result"
    }
   ],
   "source": [
    "old_model.wv.vocab"
   ]
  },
  {
   "cell_type": "code",
   "execution_count": 5,
   "metadata": {},
   "outputs": [],
   "source": [
    "old_model.save(\"old_model\")"
   ]
  },
  {
   "cell_type": "code",
   "execution_count": 6,
   "metadata": {},
   "outputs": [],
   "source": [
    "new_model = Word2Vec.load(\"old_model\")"
   ]
  },
  {
   "cell_type": "code",
   "execution_count": 7,
   "metadata": {},
   "outputs": [],
   "source": [
    "new_model.build_vocab(new_sentences, update = True)"
   ]
  },
  {
   "cell_type": "code",
   "execution_count": 8,
   "metadata": {},
   "outputs": [
    {
     "data": {
      "text/plain": [
       "(0, 6)"
      ]
     },
     "execution_count": 8,
     "metadata": {},
     "output_type": "execute_result"
    }
   ],
   "source": [
    "new_model.train(new_sentences, total_examples=2, epochs = 1)"
   ]
  },
  {
   "cell_type": "code",
   "execution_count": 9,
   "metadata": {},
   "outputs": [
    {
     "data": {
      "text/plain": [
       "{'bad': <gensim.models.keyedvectors.Vocab at 0x16767cfa208>,\n",
       " 'robots': <gensim.models.keyedvectors.Vocab at 0x16767cfa2e8>,\n",
       " 'good': <gensim.models.keyedvectors.Vocab at 0x16767cfa358>,\n",
       " 'human': <gensim.models.keyedvectors.Vocab at 0x16767cfa3c8>,\n",
       " 'yes': <gensim.models.keyedvectors.Vocab at 0x16767cd9cf8>,\n",
       " 'this': <gensim.models.keyedvectors.Vocab at 0x16767cd99b0>,\n",
       " 'is': <gensim.models.keyedvectors.Vocab at 0x16767cfa828>,\n",
       " 'the': <gensim.models.keyedvectors.Vocab at 0x16767cfa7f0>,\n",
       " 'word2vec': <gensim.models.keyedvectors.Vocab at 0x16767cfa400>,\n",
       " 'model': <gensim.models.keyedvectors.Vocab at 0x16767cfa7b8>}"
      ]
     },
     "execution_count": 9,
     "metadata": {},
     "output_type": "execute_result"
    }
   ],
   "source": [
    "new_model.wv.vocab"
   ]
  },
  {
   "cell_type": "code",
   "execution_count": 10,
   "metadata": {},
   "outputs": [],
   "source": [
    "new_new_sentences = [['my','email','address','is','salitrojan@gmailcom','111-999-7711','best','sali','trojan']]"
   ]
  },
  {
   "cell_type": "code",
   "execution_count": 11,
   "metadata": {},
   "outputs": [],
   "source": [
    "new_model.build_vocab(new_new_sentences, update = True)"
   ]
  },
  {
   "cell_type": "code",
   "execution_count": 12,
   "metadata": {},
   "outputs": [
    {
     "data": {
      "text/plain": [
       "(1, 9)"
      ]
     },
     "execution_count": 12,
     "metadata": {},
     "output_type": "execute_result"
    }
   ],
   "source": [
    "new_model.train(new_new_sentences, total_examples=1, epochs = 1)"
   ]
  },
  {
   "cell_type": "code",
   "execution_count": 13,
   "metadata": {},
   "outputs": [
    {
     "data": {
      "text/plain": [
       "{'bad': <gensim.models.keyedvectors.Vocab at 0x16767cfa208>,\n",
       " 'robots': <gensim.models.keyedvectors.Vocab at 0x16767cfa2e8>,\n",
       " 'good': <gensim.models.keyedvectors.Vocab at 0x16767cfa358>,\n",
       " 'human': <gensim.models.keyedvectors.Vocab at 0x16767cfa3c8>,\n",
       " 'yes': <gensim.models.keyedvectors.Vocab at 0x16767cd9cf8>,\n",
       " 'this': <gensim.models.keyedvectors.Vocab at 0x16767cd99b0>,\n",
       " 'is': <gensim.models.keyedvectors.Vocab at 0x16767cfa828>,\n",
       " 'the': <gensim.models.keyedvectors.Vocab at 0x16767cfa7f0>,\n",
       " 'word2vec': <gensim.models.keyedvectors.Vocab at 0x16767cfa400>,\n",
       " 'model': <gensim.models.keyedvectors.Vocab at 0x16767cfa7b8>,\n",
       " 'my': <gensim.models.keyedvectors.Vocab at 0x16767d02160>,\n",
       " 'email': <gensim.models.keyedvectors.Vocab at 0x16767d021d0>,\n",
       " 'address': <gensim.models.keyedvectors.Vocab at 0x16767d02208>,\n",
       " 'salitrojan@gmailcom': <gensim.models.keyedvectors.Vocab at 0x16767d02240>,\n",
       " '111-999-7711': <gensim.models.keyedvectors.Vocab at 0x16767d02278>,\n",
       " 'best': <gensim.models.keyedvectors.Vocab at 0x16767d022b0>,\n",
       " 'sali': <gensim.models.keyedvectors.Vocab at 0x16767d022e8>,\n",
       " 'trojan': <gensim.models.keyedvectors.Vocab at 0x16767d02320>}"
      ]
     },
     "execution_count": 13,
     "metadata": {},
     "output_type": "execute_result"
    }
   ],
   "source": [
    "new_model.wv.vocab"
   ]
  },
  {
   "cell_type": "code",
   "execution_count": null,
   "metadata": {},
   "outputs": [],
   "source": []
  }
 ],
 "metadata": {
  "kernelspec": {
   "display_name": "Python 3",
   "language": "python",
   "name": "python3"
  },
  "language_info": {
   "codemirror_mode": {
    "name": "ipython",
    "version": 3
   },
   "file_extension": ".py",
   "mimetype": "text/x-python",
   "name": "python",
   "nbconvert_exporter": "python",
   "pygments_lexer": "ipython3",
   "version": "3.7.1"
  }
 },
 "nbformat": 4,
 "nbformat_minor": 2
}
