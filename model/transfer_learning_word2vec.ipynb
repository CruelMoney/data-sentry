{
 "cells": [
  {
   "cell_type": "markdown",
   "metadata": {},
   "source": [
    "Transfer learning on Google's pre-trained model"
   ]
  },
  {
   "cell_type": "code",
   "execution_count": 1,
   "metadata": {},
   "outputs": [
    {
     "name": "stderr",
     "output_type": "stream",
     "text": [
      "D:\\Data_science\\Python3.7\\lib\\site-packages\\gensim\\utils.py:1197: UserWarning: detected Windows; aliasing chunkize to chunkize_serial\n",
      "  warnings.warn(\"detected Windows; aliasing chunkize to chunkize_serial\")\n"
     ]
    }
   ],
   "source": [
    "from gensim.models import Word2Vec"
   ]
  },
  {
   "cell_type": "code",
   "execution_count": 2,
   "metadata": {},
   "outputs": [],
   "source": [
    "sentences = [[\"bad\",\"robots\"],[\"good\",\"human\"],['yes', 'this', 'is', 'the', 'word2vec', 'model']]"
   ]
  },
  {
   "cell_type": "code",
   "execution_count": 3,
   "metadata": {},
   "outputs": [],
   "source": [
    "word2vec_model = Word2Vec(size = 300, window=5,\n",
    "                                  min_count = 1, workers = 2)"
   ]
  },
  {
   "cell_type": "code",
   "execution_count": 4,
   "metadata": {},
   "outputs": [],
   "source": [
    "word2vec_model.build_vocab(sentences)\n"
   ]
  },
  {
   "cell_type": "code",
   "execution_count": 5,
   "metadata": {},
   "outputs": [],
   "source": [
    "word2vec_model.intersect_word2vec_format('./word2vec/GoogleNews-vectors-negative300.bin',\\\n",
    "                                  lockf=1.0, binary=True)"
   ]
  },
  {
   "cell_type": "code",
   "execution_count": 7,
   "metadata": {},
   "outputs": [
    {
     "data": {
      "text/plain": [
       "(4, 50)"
      ]
     },
     "execution_count": 7,
     "metadata": {},
     "output_type": "execute_result"
    }
   ],
   "source": [
    "word2vec_model.train(sentences, total_examples=3, epochs = 5)"
   ]
  },
  {
   "cell_type": "code",
   "execution_count": 8,
   "metadata": {},
   "outputs": [
    {
     "data": {
      "text/plain": [
       "{'bad': <gensim.models.keyedvectors.Vocab at 0x21247af1160>,\n",
       " 'robots': <gensim.models.keyedvectors.Vocab at 0x21247af15f8>,\n",
       " 'good': <gensim.models.keyedvectors.Vocab at 0x21247af1630>,\n",
       " 'human': <gensim.models.keyedvectors.Vocab at 0x21247af1668>,\n",
       " 'yes': <gensim.models.keyedvectors.Vocab at 0x21247af16a0>,\n",
       " 'this': <gensim.models.keyedvectors.Vocab at 0x21247af16d8>,\n",
       " 'is': <gensim.models.keyedvectors.Vocab at 0x21247af1710>,\n",
       " 'the': <gensim.models.keyedvectors.Vocab at 0x21247af1748>,\n",
       " 'word2vec': <gensim.models.keyedvectors.Vocab at 0x21247af1780>,\n",
       " 'model': <gensim.models.keyedvectors.Vocab at 0x21247af17b8>}"
      ]
     },
     "execution_count": 8,
     "metadata": {},
     "output_type": "execute_result"
    }
   ],
   "source": [
    "word2vec_model.wv.vocab"
   ]
  },
  {
   "cell_type": "code",
   "execution_count": null,
   "metadata": {},
   "outputs": [],
   "source": []
  }
 ],
 "metadata": {
  "kernelspec": {
   "display_name": "Python 3",
   "language": "python",
   "name": "python3"
  },
  "language_info": {
   "codemirror_mode": {
    "name": "ipython",
    "version": 3
   },
   "file_extension": ".py",
   "mimetype": "text/x-python",
   "name": "python",
   "nbconvert_exporter": "python",
   "pygments_lexer": "ipython3",
   "version": "3.7.1"
  }
 },
 "nbformat": 4,
 "nbformat_minor": 2
}
