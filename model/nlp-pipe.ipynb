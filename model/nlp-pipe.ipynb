{
 "cells": [
  {
   "cell_type": "markdown",
   "metadata": {},
   "source": [
    "The goal of this notebook is to develop an end2end text classifier using different embedding like word2vec, fasttext, and doc2vec."
   ]
  },
  {
   "cell_type": "markdown",
   "metadata": {},
   "source": [
    "The first pipe is to clean the text data (More cleaning for future data.) "
   ]
  },
  {
   "cell_type": "code",
   "execution_count": 1,
   "metadata": {},
   "outputs": [],
   "source": [
    "\n",
    "\n",
    "# Data cleaning\n",
    "# ===========================================================================\n",
    "import re\n",
    "def clean_text(text):\n",
    "    # replace  . and a space with only a space, then amke all words lower case.\n",
    "    text = text.replace(\". \",\" \").replace(\",\",\"\").lower()\n",
    "    # get rid of the . at the end of each line. \n",
    "    cleaned_text = re.sub(\"\\.$\",\"\",text)\n",
    "    \n",
    "    return cleaned_text\n",
    " \n",
    "\n",
    "\n",
    "class text_clean:\n",
    "    \"\"\"\n",
    "    A class to help with cleaning text data. \n",
    "    \"\"\"\n",
    "    def fit(self, X, y = None):\n",
    "        return self\n",
    "    def transform(self, X):\n",
    "        assert isinstance(X,pd.Series), \"The input data should be pandas Series.\"\n",
    "        X = X.apply(clean_text)\n",
    "        \n",
    "        return X\n",
    "\n",
    "\n",
    "# Word embedding training \n",
    "# ===========================================================================\n",
    "from tqdm import tqdm\n",
    "import numpy as np\n",
    "from gensim.models import Word2Vec\n",
    "from gensim.models import FastText\n",
    "from gensim.models.doc2vec import Doc2Vec, TaggedDocument\n",
    "\n",
    "from sklearn.externals import joblib\n",
    "\n",
    "from sklearn.base import BaseEstimator\n",
    "\n",
    "def _find_part_pii(text, model, sep = \" \"):\n",
    "    tokenized_text = text.split(sep)\n",
    "    \n",
    "    part_pii = model.wv.doesnt_match(tokenized_text)\n",
    "    \n",
    "    return part_pii    \n",
    "\n",
    "\n",
    "\n",
    "def _extracted_pii2matrix(pii_list, model):\n",
    "    # set the matrix dimensions\n",
    "    column_num = model.trainables.layer1_size\n",
    "    row_num = len(pii_list)\n",
    "    # initialized the matrix\n",
    "    pii2vec_mat = np.zeros((row_num, column_num))\n",
    "    # iterate through the pii_list and assign the vectors to matrix.\n",
    "    for index, ith_pii in enumerate(tqdm(pii_list)):\n",
    "        pii2vec_mat[index,:] = model.wv[ith_pii]\n",
    "    \n",
    "    return pii2vec_mat\n",
    "\n",
    "\n",
    "\n",
    "class word_embedding(BaseEstimator):\n",
    "    \"\"\"\n",
    "    A class to convert words/docs to vectors by applying any model supported by gensim.  \n",
    "    \n",
    "    This class will allow continued training on the pre-trained model by assigning\n",
    "    the model to the pre_trained option in class initialization.  \n",
    "    \n",
    "    After training the model, it will dump the word2vec model to the path assigned to \n",
    "    dump_file option.  \n",
    "    \n",
    "    \n",
    "    \"\"\"\n",
    "    def __init__(self, algo_name = \"word2vec\", size = 100, min_count = 1, window = 5, workers =1,\\\n",
    "                 epochs = 5, pre_train = None, dump_file = False, continue_train_pre_train = True,\n",
    "                 re_train_new_sentences = True):\n",
    "        \n",
    "        \n",
    "        assert algo_name in [\"word2vec\", 'fasttext', 'doc2vec'], \\\n",
    "        \"please enter a model name in ['word2vec', 'fasttext', 'doc2vec']\"\n",
    "        \n",
    "        self.algo_name = algo_name\n",
    "        self.epochs = epochs \n",
    "        self.pre_train = pre_train\n",
    "        self.dump_file = dump_file \n",
    "        self.re_train_new_sentences = re_train_new_sentences\n",
    "        self.continue_train_pre_train = continue_train_pre_train\n",
    "        \n",
    "        # model options\n",
    "        self.size = size\n",
    "        self.min_count = min_count\n",
    "        self.window = window\n",
    "        self.workers = workers\n",
    "        \n",
    "        \n",
    "    def _algo_init(self):\n",
    "        if self.algo_name == \"word2vec\":\n",
    "            model = Word2Vec(size = self.size, min_count = self.min_count,\n",
    "                            window = self.window, workers = self.workers)\n",
    "        elif self.algo_name == \"fasttext\":\n",
    "            model = FastText(size = self.size, min_count = self.min_count,\n",
    "                            window = self.window, workers = self.workers)\n",
    "        elif self.algo_name == \"doc2vec\":\n",
    "            model = Doc2Vec(vector_size = self.size, min_count = self.min_count,\n",
    "                            window = self.window, workers = self.workers)\n",
    "            \n",
    "        self.model = model\n",
    "        return self\n",
    "\n",
    "    def _embedding_training(self, sentences, update = False):\n",
    "        \"\"\"\n",
    "        This helper functions will build the vocabulary, train the model and update the self.model\n",
    "        with the newly trained model.\n",
    "        \n",
    "        if update = True, it will update the vocabulary and the model can continue to train.\n",
    "        If update = False, the model will rebuild a new vocabulary from scratch using the input data.\n",
    "        \"\"\"\n",
    "        updated_model_with_vocab = self.model\n",
    "\n",
    "        updated_model_with_vocab.build_vocab(sentences, update = update)\n",
    "        \n",
    "        updated_model_with_vocab.train(sentences, total_examples = len(sentences), epochs = self.epochs)\n",
    "        \n",
    "        # update the model with the trained one. \n",
    "        self.model = updated_model_with_vocab\n",
    "        \n",
    "    def _pd_to_gensim_format(self, text):\n",
    "        \n",
    "        # special handling for doc2vec model. \n",
    "        if self.algo_name == \"doc2vec\":\n",
    "            documents = [TaggedDocument(sentence.split(\" \"), [index])\\\n",
    "                          for index, sentence in enumerate(text)] \n",
    "            print(\"Using index for the tags\")    \n",
    "        else:\n",
    "            documents = [sentence.split(\" \") for sentence in text]\n",
    "            \n",
    "            \n",
    "        return documents\n",
    "            \n",
    "        \n",
    "    def fit(self, X, y = None):\n",
    "        \"\"\"\n",
    "        The fit method will get use the pre_trained model if the model is assigned to the pre_train option.\n",
    "        \n",
    "        If the pre_train is None, then the model will be trained. \n",
    "        \n",
    "        \n",
    "        If the pre_train model is not None, then the default is to continue training on the new model. \n",
    "        Unless option continue_train_pre_train is specified as False. The False option will just assign \n",
    "        the pre_train model to self.model\n",
    "        \"\"\"\n",
    "        gensim_X = self._pd_to_gensim_format(text = X)\n",
    "        \n",
    "        if self.pre_train is not None:\n",
    "            \n",
    "            # update the pre_trained model with new training data\n",
    "            if self.continue_train_pre_train:\n",
    "                self.model = self.pre_train\n",
    "                self._embedding_training(sentences = gensim_X, update = True)\n",
    "                print(\"continue training with the pre_train model.\")\n",
    "                \n",
    "            # no training the pre_trained model. \n",
    "            elif not self.continue_train_pre_train:\n",
    "                self.model = self.pre_train\n",
    "                print(\"No training with pre_train model.\")\n",
    "                \n",
    "            \n",
    "            return self\n",
    "        \n",
    "        else:\n",
    "            # initialize the model, split the sentence into tokens and train it. \n",
    "            self._algo_init()\n",
    "            self._embedding_training(sentences = gensim_X)\n",
    "            print(\"Building new vocabulary and training the {} model\".format(self.algo_name))\n",
    "        \n",
    "        \n",
    "        # dump the model to disk\n",
    "        if isinstance(self.dump_file,str):\n",
    "            self.model.save(self.dump_file)\n",
    "            print(\"Writing the {} model to disk.\".format(self.algo_name))\n",
    "            \n",
    "        return self\n",
    "        \n",
    "    \n",
    "    def transform(self, X):\n",
    "        \"\"\"\n",
    "        If re_train_new_sentences is True, which is the default setting, \n",
    "        the model will be re-trained on the new sentences. \n",
    "        This will create word embedding for words not in the original vocabulary.\n",
    "        This will increase the model inference time since it invovles model training. \n",
    "        \n",
    "        For using word2vec to predict PII data, it is recommended to update the model with new sentences. \n",
    "        For fastttext, it is not necessary since it will infer from the character n-grams. The fasttext training\n",
    "        is much longer than word2vec. \n",
    "        \"\"\"\n",
    "        gensim_X = self._pd_to_gensim_format(text = X)\n",
    "        \n",
    "        # update the embedding with new sentences or train the model. \n",
    "        if self.re_train_new_sentences:\n",
    "            self._embedding_training(sentences = gensim_X, update = True)\n",
    "            print(\"transforming while training {} model with new data.\".format(self.algo_name))\n",
    "            \n",
    "            \n",
    "        # extract the PII \n",
    "        extracted_pii_list = [_find_part_pii(text = text, model = self.model)\\\n",
    "                    for text in tqdm(X) ]\n",
    "        \n",
    "        # convert the extracted pii text into vectors.\n",
    "        piivec_matrix = _extracted_pii2matrix(pii_list = extracted_pii_list,\\\n",
    "                                          model = self.model)\n",
    "        return piivec_matrix \n",
    "                                          "
   ]
  },
  {
   "cell_type": "code",
   "execution_count": 2,
   "metadata": {},
   "outputs": [],
   "source": [
    "import pandas as pd\n",
    "algo_test_data = pd.read_csv(\"../data/train_text_with_pii_2019_01_05_02_48_24_796403.csv\")"
   ]
  },
  {
   "cell_type": "markdown",
   "metadata": {},
   "source": [
    "## Word2vec testing"
   ]
  },
  {
   "cell_type": "code",
   "execution_count": 3,
   "metadata": {},
   "outputs": [
    {
     "name": "stderr",
     "output_type": "stream",
     "text": [
      "\r",
      "  0%|          | 0/800 [00:00<?, ?it/s]"
     ]
    },
    {
     "name": "stdout",
     "output_type": "stream",
     "text": [
      "Building new vocabulary and training the word2vec model\n",
      "Writing the word2vec model to disk.\n",
      "transforming while training word2vec model with new data.\n"
     ]
    },
    {
     "name": "stderr",
     "output_type": "stream",
     "text": [
      "100%|██████████| 800/800 [00:00<00:00, 9731.68it/s]\n",
      "100%|██████████| 800/800 [00:00<00:00, 185753.06it/s]\n"
     ]
    },
    {
     "data": {
      "text/plain": [
       "(800, 100)"
      ]
     },
     "execution_count": 3,
     "metadata": {},
     "output_type": "execute_result"
    }
   ],
   "source": [
    "testing_embedding = word_embedding(algo_name = 'word2vec', dump_file = './devs/word2vec.bin')\n",
    "testing_embedding.fit(algo_test_data['Text']);\n",
    "test_pii_matrix = testing_embedding.transform(algo_test_data[\"Text\"])\n",
    "test_pii_matrix.shape"
   ]
  },
  {
   "cell_type": "code",
   "execution_count": 4,
   "metadata": {},
   "outputs": [
    {
     "name": "stderr",
     "output_type": "stream",
     "text": [
      "100%|██████████| 800/800 [00:00<00:00, 9535.95it/s]\n",
      "100%|██████████| 800/800 [00:00<00:00, 186185.95it/s]"
     ]
    },
    {
     "name": "stdout",
     "output_type": "stream",
     "text": [
      "continue training with the pre_train model.\n",
      "transforming while training word2vec model with new data.\n"
     ]
    },
    {
     "name": "stderr",
     "output_type": "stream",
     "text": [
      "\n"
     ]
    },
    {
     "data": {
      "text/plain": [
       "(800, 100)"
      ]
     },
     "execution_count": 4,
     "metadata": {},
     "output_type": "execute_result"
    }
   ],
   "source": [
    "pre_trained1 = Word2Vec.load(\"./word2vec/word2vec_cleaned_300_.bin\")\n",
    "pre_trained2 = Word2Vec.load(\"./devs/word2vec.bin\")\n",
    "testing_pre_trained = word_embedding(algo_name = \"word2vec\", pre_train = pre_trained2)\n",
    "testing_pre_trained.fit(algo_test_data[\"Text\"])\n",
    "test_pii_matrix = testing_pre_trained.transform(algo_test_data[\"Text\"])\n",
    "test_pii_matrix.shape"
   ]
  },
  {
   "cell_type": "markdown",
   "metadata": {},
   "source": [
    "## Fasttext testing"
   ]
  },
  {
   "cell_type": "code",
   "execution_count": 5,
   "metadata": {},
   "outputs": [
    {
     "name": "stdout",
     "output_type": "stream",
     "text": [
      "Building new vocabulary and training the fasttext model\n",
      "Writing the fasttext model to disk.\n"
     ]
    },
    {
     "name": "stderr",
     "output_type": "stream",
     "text": [
      "100%|██████████| 800/800 [00:00<00:00, 6654.80it/s]\n",
      "100%|██████████| 800/800 [00:00<00:00, 131529.27it/s]"
     ]
    },
    {
     "name": "stdout",
     "output_type": "stream",
     "text": [
      "transforming while training fasttext model with new data.\n"
     ]
    },
    {
     "name": "stderr",
     "output_type": "stream",
     "text": [
      "\n"
     ]
    },
    {
     "data": {
      "text/plain": [
       "(800, 100)"
      ]
     },
     "execution_count": 5,
     "metadata": {},
     "output_type": "execute_result"
    }
   ],
   "source": [
    "testing_embedding = word_embedding(algo_name = 'fasttext', dump_file = \"./devs/fasttext.bin\")\n",
    "\n",
    "testing_embedding.fit(algo_test_data[\"Text\"]);\n",
    "test_pii_matrix = testing_embedding.transform(algo_test_data[\"Text\"])\n",
    "test_pii_matrix.shape"
   ]
  },
  {
   "cell_type": "code",
   "execution_count": 6,
   "metadata": {},
   "outputs": [
    {
     "name": "stdout",
     "output_type": "stream",
     "text": [
      "continue training with the pre_train model.\n"
     ]
    },
    {
     "name": "stderr",
     "output_type": "stream",
     "text": [
      "100%|██████████| 800/800 [00:00<00:00, 6978.38it/s]\n",
      "100%|██████████| 800/800 [00:00<00:00, 154857.08it/s]"
     ]
    },
    {
     "name": "stdout",
     "output_type": "stream",
     "text": [
      "transforming while training fasttext model with new data.\n"
     ]
    },
    {
     "name": "stderr",
     "output_type": "stream",
     "text": [
      "\n"
     ]
    },
    {
     "data": {
      "text/plain": [
       "(800, 100)"
      ]
     },
     "execution_count": 6,
     "metadata": {},
     "output_type": "execute_result"
    }
   ],
   "source": [
    "pre_trained = FastText.load(\"./devs/fasttext.bin\")\n",
    "testing_pre_trained = word_embedding(algo_name = \"fasttext\", pre_train = pre_trained)\n",
    "testing_pre_trained.fit(algo_test_data[\"Text\"])\n",
    "test_pii_matrix = testing_pre_trained.transform(algo_test_data[\"Text\"])\n",
    "test_pii_matrix.shape"
   ]
  },
  {
   "cell_type": "markdown",
   "metadata": {},
   "source": [
    "## doc2vec testing"
   ]
  },
  {
   "cell_type": "code",
   "execution_count": 7,
   "metadata": {
    "scrolled": false
   },
   "outputs": [
    {
     "name": "stdout",
     "output_type": "stream",
     "text": [
      "Using index for the tags\n"
     ]
    },
    {
     "name": "stderr",
     "output_type": "stream",
     "text": [
      "\r",
      "  0%|          | 0/800 [00:00<?, ?it/s]"
     ]
    },
    {
     "name": "stdout",
     "output_type": "stream",
     "text": [
      "Building new vocabulary and training the doc2vec model\n",
      "Writing the doc2vec model to disk.\n",
      "Using index for the tags\n",
      "transforming while training doc2vec model with new data.\n"
     ]
    },
    {
     "name": "stderr",
     "output_type": "stream",
     "text": [
      "100%|██████████| 800/800 [00:00<00:00, 8453.53it/s]\n",
      "100%|██████████| 800/800 [00:00<00:00, 210451.78it/s]\n"
     ]
    },
    {
     "data": {
      "text/plain": [
       "(800, 100)"
      ]
     },
     "execution_count": 7,
     "metadata": {},
     "output_type": "execute_result"
    }
   ],
   "source": [
    "testing_embedding_doc2vec = word_embedding(algo_name = 'doc2vec', dump_file = \"./devs/doc2vec.bin\")\n",
    "testing_embedding_doc2vec.fit(X = algo_test_data['Text'])\n",
    "\n",
    "test__doc2vec_pii_matrix = testing_embedding_doc2vec.transform(algo_test_data['Text'])\n",
    "test__doc2vec_pii_matrix.shape"
   ]
  },
  {
   "cell_type": "code",
   "execution_count": 8,
   "metadata": {},
   "outputs": [
    {
     "name": "stdout",
     "output_type": "stream",
     "text": [
      "Using index for the tags\n",
      "continue training with the pre_train model.\n",
      "Using index for the tags\n"
     ]
    },
    {
     "name": "stderr",
     "output_type": "stream",
     "text": [
      "100%|██████████| 800/800 [00:00<00:00, 9990.42it/s]\n",
      "100%|██████████| 800/800 [00:00<00:00, 199538.73it/s]"
     ]
    },
    {
     "name": "stdout",
     "output_type": "stream",
     "text": [
      "transforming while training doc2vec model with new data.\n"
     ]
    },
    {
     "name": "stderr",
     "output_type": "stream",
     "text": [
      "\n"
     ]
    },
    {
     "data": {
      "text/plain": [
       "(800, 100)"
      ]
     },
     "execution_count": 8,
     "metadata": {},
     "output_type": "execute_result"
    }
   ],
   "source": [
    "pre_trained = FastText.load(\"./devs/doc2vec.bin\")\n",
    "testing_pre_trained = word_embedding(algo_name = \"doc2vec\", pre_train = pre_trained)\n",
    "testing_pre_trained.fit(algo_test_data[\"Text\"])\n",
    "test_pii_matrix = testing_pre_trained.transform(algo_test_data[\"Text\"])\n",
    "test_pii_matrix.shape"
   ]
  },
  {
   "cell_type": "markdown",
   "metadata": {},
   "source": [
    "## Add all the pipe above to a single pipeline for training an end-to-end model."
   ]
  },
  {
   "cell_type": "markdown",
   "metadata": {},
   "source": [
    "## word2vec pipe"
   ]
  },
  {
   "cell_type": "code",
   "execution_count": 9,
   "metadata": {},
   "outputs": [],
   "source": [
    "from sklearn.pipeline import Pipeline\n",
    "from sklearn.linear_model import LogisticRegression\n",
    "logit_clf = LogisticRegression(solver = \"lbfgs\", max_iter = 10000, class_weight={0:0.9,1:0.1})"
   ]
  },
  {
   "cell_type": "code",
   "execution_count": 10,
   "metadata": {},
   "outputs": [],
   "source": [
    "word2vec_pipe = Pipeline([('text_cleaning', text_clean()),\n",
    "                 (\"fasttext\", word_embedding(algo_name = \"word2vec\", size= 100,\\\n",
    "                                             dump_file = \"./word2vec/word2vec_100_pipe_dump.bin\")),\n",
    "                 (\"logit\",logit_clf)\n",
    "                ])"
   ]
  },
  {
   "cell_type": "code",
   "execution_count": 11,
   "metadata": {},
   "outputs": [],
   "source": [
    "pipe_test_data = pd.read_csv(\"../clean_data/Cleaned_test_text_with_pii_2018_12_31_05_35_46_815414.csv\")"
   ]
  },
  {
   "cell_type": "code",
   "execution_count": 12,
   "metadata": {},
   "outputs": [
    {
     "data": {
      "text/html": [
       "<div>\n",
       "<style scoped>\n",
       "    .dataframe tbody tr th:only-of-type {\n",
       "        vertical-align: middle;\n",
       "    }\n",
       "\n",
       "    .dataframe tbody tr th {\n",
       "        vertical-align: top;\n",
       "    }\n",
       "\n",
       "    .dataframe thead th {\n",
       "        text-align: right;\n",
       "    }\n",
       "</style>\n",
       "<table border=\"1\" class=\"dataframe\">\n",
       "  <thead>\n",
       "    <tr style=\"text-align: right;\">\n",
       "      <th></th>\n",
       "      <th>Text</th>\n",
       "      <th>Labels</th>\n",
       "      <th>PII</th>\n",
       "      <th>Cleaned_text</th>\n",
       "      <th>Target</th>\n",
       "    </tr>\n",
       "  </thead>\n",
       "  <tbody>\n",
       "    <tr>\n",
       "      <th>0</th>\n",
       "      <td>Wife marriage cup 7416 Smith Forks before pict...</td>\n",
       "      <td>Address</td>\n",
       "      <td>7416 Smith Forks</td>\n",
       "      <td>wife marriage cup 7416 smith forks before pict...</td>\n",
       "      <td>1</td>\n",
       "    </tr>\n",
       "    <tr>\n",
       "      <th>1</th>\n",
       "      <td>However send which. Suite 244 Nice market acce...</td>\n",
       "      <td>Address</td>\n",
       "      <td>Suite 244</td>\n",
       "      <td>however send which suite 244 nice market accep...</td>\n",
       "      <td>1</td>\n",
       "    </tr>\n",
       "    <tr>\n",
       "      <th>2</th>\n",
       "      <td>0497 Kemp Lane Amount tough and fire until. Is...</td>\n",
       "      <td>Address</td>\n",
       "      <td>0497 Kemp Lane</td>\n",
       "      <td>0497 kemp lane amount tough and fire until iss...</td>\n",
       "      <td>1</td>\n",
       "    </tr>\n",
       "    <tr>\n",
       "      <th>3</th>\n",
       "      <td>Model north receive nature effort 58162 France...</td>\n",
       "      <td>Address</td>\n",
       "      <td>58162 Frances Shoals Conniemouth, OH 71686</td>\n",
       "      <td>model north receive nature effort 58162 france...</td>\n",
       "      <td>1</td>\n",
       "    </tr>\n",
       "    <tr>\n",
       "      <th>4</th>\n",
       "      <td>Child already drive could. Begin such down cel...</td>\n",
       "      <td>Address</td>\n",
       "      <td>538 Gina Circles</td>\n",
       "      <td>child already drive could begin such down cell...</td>\n",
       "      <td>1</td>\n",
       "    </tr>\n",
       "  </tbody>\n",
       "</table>\n",
       "</div>"
      ],
      "text/plain": [
       "                                                Text   Labels  \\\n",
       "0  Wife marriage cup 7416 Smith Forks before pict...  Address   \n",
       "1  However send which. Suite 244 Nice market acce...  Address   \n",
       "2  0497 Kemp Lane Amount tough and fire until. Is...  Address   \n",
       "3  Model north receive nature effort 58162 France...  Address   \n",
       "4  Child already drive could. Begin such down cel...  Address   \n",
       "\n",
       "                                          PII  \\\n",
       "0                            7416 Smith Forks   \n",
       "1                                   Suite 244   \n",
       "2                              0497 Kemp Lane   \n",
       "3  58162 Frances Shoals Conniemouth, OH 71686   \n",
       "4                            538 Gina Circles   \n",
       "\n",
       "                                        Cleaned_text  Target  \n",
       "0  wife marriage cup 7416 smith forks before pict...       1  \n",
       "1  however send which suite 244 nice market accep...       1  \n",
       "2  0497 kemp lane amount tough and fire until iss...       1  \n",
       "3  model north receive nature effort 58162 france...       1  \n",
       "4  child already drive could begin such down cell...       1  "
      ]
     },
     "execution_count": 12,
     "metadata": {},
     "output_type": "execute_result"
    }
   ],
   "source": [
    "pipe_test_data.head()"
   ]
  },
  {
   "cell_type": "code",
   "execution_count": 13,
   "metadata": {},
   "outputs": [
    {
     "name": "stdout",
     "output_type": "stream",
     "text": [
      "Building new vocabulary and training the word2vec model\n",
      "Writing the word2vec model to disk.\n"
     ]
    },
    {
     "name": "stderr",
     "output_type": "stream",
     "text": [
      "  1%|          | 730/80000 [00:00<00:10, 7295.33it/s]"
     ]
    },
    {
     "name": "stdout",
     "output_type": "stream",
     "text": [
      "transforming while training word2vec model with new data.\n"
     ]
    },
    {
     "name": "stderr",
     "output_type": "stream",
     "text": [
      "100%|██████████| 80000/80000 [00:08<00:00, 9961.38it/s] \n",
      "100%|██████████| 80000/80000 [00:00<00:00, 273495.78it/s]\n"
     ]
    },
    {
     "name": "stdout",
     "output_type": "stream",
     "text": [
      "CPU times: user 37.3 s, sys: 5.24 s, total: 42.5 s\n",
      "Wall time: 34.6 s\n"
     ]
    },
    {
     "data": {
      "text/plain": [
       "Pipeline(memory=None,\n",
       "     steps=[('text_cleaning', <__main__.text_clean object at 0x7f7983150be0>), ('fasttext', word_embedding(algo_name='word2vec', continue_train_pre_train=True,\n",
       "        dump_file='./word2vec/word2vec_100_pipe_dump.bin', epochs=5,\n",
       "        min_count=1, pre_train=None, re_train_new_sentences=True, size=100,\n",
       "...enalty='l2', random_state=None,\n",
       "          solver='lbfgs', tol=0.0001, verbose=0, warm_start=False))])"
      ]
     },
     "execution_count": 13,
     "metadata": {},
     "output_type": "execute_result"
    }
   ],
   "source": [
    "%%time \n",
    "word2vec_pipe.fit(pipe_test_data[\"Text\"],pipe_test_data['Target'] )"
   ]
  },
  {
   "cell_type": "markdown",
   "metadata": {},
   "source": [
    "## fasttext pipe"
   ]
  },
  {
   "cell_type": "code",
   "execution_count": 14,
   "metadata": {},
   "outputs": [],
   "source": [
    "logit_clf = LogisticRegression(solver = \"lbfgs\", max_iter = 10000, class_weight={0:0.9,1:0.1})\n",
    "fasttext_pipe = Pipeline([('text_cleaning', text_clean()),\n",
    "                 (\"fasttext\", word_embedding(algo_name = \"fasttext\", size= 100,\\\n",
    "                                             dump_file = \"./fasttext/fasttext_100_pipe_dump.bin\")),\n",
    "                 (\"logit\",logit_clf)\n",
    "                ])"
   ]
  },
  {
   "cell_type": "code",
   "execution_count": 15,
   "metadata": {},
   "outputs": [
    {
     "name": "stdout",
     "output_type": "stream",
     "text": [
      "Building new vocabulary and training the fasttext model\n",
      "Writing the fasttext model to disk.\n"
     ]
    },
    {
     "name": "stderr",
     "output_type": "stream",
     "text": [
      "\r",
      "  0%|          | 0/80000 [00:00<?, ?it/s]"
     ]
    },
    {
     "name": "stdout",
     "output_type": "stream",
     "text": [
      "transforming while training fasttext model with new data.\n"
     ]
    },
    {
     "name": "stderr",
     "output_type": "stream",
     "text": [
      "100%|██████████| 80000/80000 [00:08<00:00, 8935.57it/s] \n",
      "100%|██████████| 80000/80000 [00:00<00:00, 237005.16it/s]\n"
     ]
    },
    {
     "name": "stdout",
     "output_type": "stream",
     "text": [
      "CPU times: user 1min 46s, sys: 8.38 s, total: 1min 55s\n",
      "Wall time: 1min 39s\n"
     ]
    },
    {
     "data": {
      "text/plain": [
       "Pipeline(memory=None,\n",
       "     steps=[('text_cleaning', <__main__.text_clean object at 0x7f797853d748>), ('fasttext', word_embedding(algo_name='fasttext', continue_train_pre_train=True,\n",
       "        dump_file='./fasttext/fasttext_100_pipe_dump.bin', epochs=5,\n",
       "        min_count=1, pre_train=None, re_train_new_sentences=True, size=100,\n",
       "...enalty='l2', random_state=None,\n",
       "          solver='lbfgs', tol=0.0001, verbose=0, warm_start=False))])"
      ]
     },
     "execution_count": 15,
     "metadata": {},
     "output_type": "execute_result"
    }
   ],
   "source": [
    "%%time \n",
    "fasttext_pipe.fit(pipe_test_data[\"Text\"],pipe_test_data['Target'] )"
   ]
  },
  {
   "cell_type": "markdown",
   "metadata": {},
   "source": [
    "## doc2vec pipe"
   ]
  },
  {
   "cell_type": "code",
   "execution_count": 16,
   "metadata": {},
   "outputs": [],
   "source": [
    "logit_clf = LogisticRegression(solver = \"lbfgs\", max_iter = 10000, class_weight={0:0.9,1:0.1})\n",
    "doc2vec_pipe = Pipeline([('text_cleaning', text_clean()),\n",
    "                 (\"doc2vec\", word_embedding(algo_name = \"doc2vec\", size= 100,\\\n",
    "                                             dump_file = \"./doc2vec/fasttext_100_pipe_dump.bin\")),\n",
    "                 (\"logit\",logit_clf)\n",
    "                ])"
   ]
  },
  {
   "cell_type": "code",
   "execution_count": 17,
   "metadata": {},
   "outputs": [
    {
     "name": "stdout",
     "output_type": "stream",
     "text": [
      "Using index for the tags\n",
      "Building new vocabulary and training the doc2vec model\n",
      "Writing the doc2vec model to disk.\n",
      "Using index for the tags\n"
     ]
    },
    {
     "name": "stderr",
     "output_type": "stream",
     "text": [
      "  1%|          | 751/80000 [00:00<00:10, 7508.63it/s]"
     ]
    },
    {
     "name": "stdout",
     "output_type": "stream",
     "text": [
      "transforming while training doc2vec model with new data.\n"
     ]
    },
    {
     "name": "stderr",
     "output_type": "stream",
     "text": [
      "100%|██████████| 80000/80000 [00:07<00:00, 10003.70it/s]\n",
      "100%|██████████| 80000/80000 [00:00<00:00, 267942.01it/s]\n"
     ]
    },
    {
     "name": "stdout",
     "output_type": "stream",
     "text": [
      "CPU times: user 50.4 s, sys: 4.07 s, total: 54.5 s\n",
      "Wall time: 48.1 s\n"
     ]
    },
    {
     "data": {
      "text/plain": [
       "Pipeline(memory=None,\n",
       "     steps=[('text_cleaning', <__main__.text_clean object at 0x7f79784e3b00>), ('doc2vec', word_embedding(algo_name='doc2vec', continue_train_pre_train=True,\n",
       "        dump_file='./doc2vec/fasttext_100_pipe_dump.bin', epochs=5,\n",
       "        min_count=1, pre_train=None, re_train_new_sentences=True, size=100,\n",
       "   ...enalty='l2', random_state=None,\n",
       "          solver='lbfgs', tol=0.0001, verbose=0, warm_start=False))])"
      ]
     },
     "execution_count": 17,
     "metadata": {},
     "output_type": "execute_result"
    }
   ],
   "source": [
    "%%time \n",
    "doc2vec_pipe.fit(pipe_test_data[\"Text\"],pipe_test_data['Target'] )"
   ]
  },
  {
   "cell_type": "markdown",
   "metadata": {},
   "source": [
    "# put the above pipe into a CV. "
   ]
  },
  {
   "cell_type": "code",
   "execution_count": 46,
   "metadata": {},
   "outputs": [],
   "source": [
    "from scipy.stats import randint, uniform\n",
    "from sklearn.pipeline import Pipeline\n",
    "from sklearn.linear_model import LogisticRegression\n",
    "from sklearn.model_selection import RandomizedSearchCV\n",
    "\n",
    "\n",
    "logit_clf = LogisticRegression(solver = \"lbfgs\", max_iter = 10000, class_weight={0:0.9,1:0.1})\n",
    "\n",
    "diff_pipe = Pipeline([('text_cleaning', text_clean()),\n",
    "                 (\"word_embedding\", word_embedding()),\n",
    "                 (\"logit\",logit_clf)\n",
    "                ])\n",
    "\n",
    "\n",
    "param_grid = {\n",
    "    'word_embedding__algo_name':['word2vec', 'doc2vec','fasttext'],\n",
    "    'word_embedding__size':[100,200,300],   \n",
    "    'logit__C': uniform(0,10),\n",
    "    'logit__class_weight':[{0: 0.9, 1: 0.1}, {0: 0.8, 1: 0.2}, None]\n",
    "}\n",
    "\n",
    "diff_pipe_cv = RandomizedSearchCV(estimator = diff_pipe,param_distributions = param_grid, cv =10, \\\n",
    "                                  error_score = 0,n_iter = 10 , scoring = 'f1'\n",
    "                               ,return_train_score=True, n_jobs = 1)"
   ]
  },
  {
   "cell_type": "code",
   "execution_count": 47,
   "metadata": {
    "scrolled": true
   },
   "outputs": [
    {
     "name": "stdout",
     "output_type": "stream",
     "text": [
      "Building new vocabulary and training the word2vec model\n"
     ]
    },
    {
     "name": "stderr",
     "output_type": "stream",
     "text": [
      "  1%|          | 547/72000 [00:00<00:13, 5464.95it/s]"
     ]
    },
    {
     "name": "stdout",
     "output_type": "stream",
     "text": [
      "transforming while training word2vec model with new data.\n"
     ]
    },
    {
     "name": "stderr",
     "output_type": "stream",
     "text": [
      "100%|██████████| 72000/72000 [00:07<00:00, 10093.65it/s]\n",
      "100%|██████████| 72000/72000 [00:00<00:00, 265160.90it/s]\n",
      "  8%|▊         | 637/8000 [00:00<00:01, 6369.29it/s]"
     ]
    },
    {
     "name": "stdout",
     "output_type": "stream",
     "text": [
      "transforming while training word2vec model with new data.\n"
     ]
    },
    {
     "name": "stderr",
     "output_type": "stream",
     "text": [
      "100%|██████████| 8000/8000 [00:00<00:00, 8695.61it/s]\n",
      "100%|██████████| 8000/8000 [00:00<00:00, 273578.74it/s]\n",
      "  1%|          | 654/72000 [00:00<00:10, 6535.92it/s]"
     ]
    },
    {
     "name": "stdout",
     "output_type": "stream",
     "text": [
      "transforming while training word2vec model with new data.\n"
     ]
    },
    {
     "name": "stderr",
     "output_type": "stream",
     "text": [
      "100%|██████████| 72000/72000 [00:07<00:00, 10088.77it/s]\n",
      "100%|██████████| 72000/72000 [00:00<00:00, 270156.53it/s]\n"
     ]
    },
    {
     "name": "stdout",
     "output_type": "stream",
     "text": [
      "Building new vocabulary and training the word2vec model\n"
     ]
    },
    {
     "name": "stderr",
     "output_type": "stream",
     "text": [
      "  1%|          | 641/72000 [00:00<00:11, 6409.94it/s]"
     ]
    },
    {
     "name": "stdout",
     "output_type": "stream",
     "text": [
      "transforming while training word2vec model with new data.\n"
     ]
    },
    {
     "name": "stderr",
     "output_type": "stream",
     "text": [
      "100%|██████████| 72000/72000 [00:06<00:00, 10330.29it/s]\n",
      "100%|██████████| 72000/72000 [00:00<00:00, 259421.43it/s]\n",
      "  9%|▊         | 697/8000 [00:00<00:01, 6968.98it/s]"
     ]
    },
    {
     "name": "stdout",
     "output_type": "stream",
     "text": [
      "transforming while training word2vec model with new data.\n"
     ]
    },
    {
     "name": "stderr",
     "output_type": "stream",
     "text": [
      "100%|██████████| 8000/8000 [00:00<00:00, 9880.01it/s] \n",
      "100%|██████████| 8000/8000 [00:00<00:00, 200142.15it/s]\n",
      "  1%|          | 647/72000 [00:00<00:11, 6463.53it/s]"
     ]
    },
    {
     "name": "stdout",
     "output_type": "stream",
     "text": [
      "transforming while training word2vec model with new data.\n"
     ]
    },
    {
     "name": "stderr",
     "output_type": "stream",
     "text": [
      "100%|██████████| 72000/72000 [00:07<00:00, 9750.62it/s] \n",
      "100%|██████████| 72000/72000 [00:00<00:00, 244433.20it/s]\n"
     ]
    },
    {
     "name": "stdout",
     "output_type": "stream",
     "text": [
      "Building new vocabulary and training the word2vec model\n"
     ]
    },
    {
     "name": "stderr",
     "output_type": "stream",
     "text": [
      "  1%|          | 565/72000 [00:00<00:12, 5648.25it/s]"
     ]
    },
    {
     "name": "stdout",
     "output_type": "stream",
     "text": [
      "transforming while training word2vec model with new data.\n"
     ]
    },
    {
     "name": "stderr",
     "output_type": "stream",
     "text": [
      "100%|██████████| 72000/72000 [00:06<00:00, 10318.41it/s]\n",
      "100%|██████████| 72000/72000 [00:00<00:00, 262763.04it/s]\n",
      "  9%|▉         | 730/8000 [00:00<00:00, 7294.16it/s]"
     ]
    },
    {
     "name": "stdout",
     "output_type": "stream",
     "text": [
      "transforming while training word2vec model with new data.\n"
     ]
    },
    {
     "name": "stderr",
     "output_type": "stream",
     "text": [
      "100%|██████████| 8000/8000 [00:00<00:00, 10335.39it/s]\n",
      "100%|██████████| 8000/8000 [00:00<00:00, 197100.75it/s]\n",
      "  1%|          | 722/72000 [00:00<00:09, 7215.67it/s]"
     ]
    },
    {
     "name": "stdout",
     "output_type": "stream",
     "text": [
      "transforming while training word2vec model with new data.\n"
     ]
    },
    {
     "name": "stderr",
     "output_type": "stream",
     "text": [
      "100%|██████████| 72000/72000 [00:06<00:00, 10478.92it/s]\n",
      "100%|██████████| 72000/72000 [00:00<00:00, 274804.57it/s]\n"
     ]
    },
    {
     "name": "stdout",
     "output_type": "stream",
     "text": [
      "Building new vocabulary and training the word2vec model\n"
     ]
    },
    {
     "name": "stderr",
     "output_type": "stream",
     "text": [
      "  1%|          | 605/72000 [00:00<00:11, 6047.64it/s]"
     ]
    },
    {
     "name": "stdout",
     "output_type": "stream",
     "text": [
      "transforming while training word2vec model with new data.\n"
     ]
    },
    {
     "name": "stderr",
     "output_type": "stream",
     "text": [
      "100%|██████████| 72000/72000 [00:07<00:00, 9985.50it/s] \n",
      "100%|██████████| 72000/72000 [00:00<00:00, 265639.04it/s]\n",
      "  9%|▊         | 689/8000 [00:00<00:01, 6888.66it/s]"
     ]
    },
    {
     "name": "stdout",
     "output_type": "stream",
     "text": [
      "transforming while training word2vec model with new data.\n"
     ]
    },
    {
     "name": "stderr",
     "output_type": "stream",
     "text": [
      "100%|██████████| 8000/8000 [00:00<00:00, 9583.10it/s]\n",
      "100%|██████████| 8000/8000 [00:00<00:00, 199681.22it/s]\n",
      "  1%|          | 745/72000 [00:00<00:09, 7449.05it/s]"
     ]
    },
    {
     "name": "stdout",
     "output_type": "stream",
     "text": [
      "transforming while training word2vec model with new data.\n"
     ]
    },
    {
     "name": "stderr",
     "output_type": "stream",
     "text": [
      "100%|██████████| 72000/72000 [00:07<00:00, 9797.65it/s] \n",
      "100%|██████████| 72000/72000 [00:00<00:00, 248039.96it/s]\n"
     ]
    },
    {
     "name": "stdout",
     "output_type": "stream",
     "text": [
      "Building new vocabulary and training the word2vec model\n"
     ]
    },
    {
     "name": "stderr",
     "output_type": "stream",
     "text": [
      "  1%|          | 601/72000 [00:00<00:11, 6008.50it/s]"
     ]
    },
    {
     "name": "stdout",
     "output_type": "stream",
     "text": [
      "transforming while training word2vec model with new data.\n"
     ]
    },
    {
     "name": "stderr",
     "output_type": "stream",
     "text": [
      "100%|██████████| 72000/72000 [00:07<00:00, 9335.72it/s] \n",
      "100%|██████████| 72000/72000 [00:00<00:00, 261251.62it/s]\n",
      "  7%|▋         | 585/8000 [00:00<00:01, 5844.14it/s]"
     ]
    },
    {
     "name": "stdout",
     "output_type": "stream",
     "text": [
      "transforming while training word2vec model with new data.\n"
     ]
    },
    {
     "name": "stderr",
     "output_type": "stream",
     "text": [
      "100%|██████████| 8000/8000 [00:00<00:00, 9062.14it/s]\n",
      "100%|██████████| 8000/8000 [00:00<00:00, 230077.02it/s]\n",
      "  1%|          | 592/72000 [00:00<00:12, 5915.68it/s]"
     ]
    },
    {
     "name": "stdout",
     "output_type": "stream",
     "text": [
      "transforming while training word2vec model with new data.\n"
     ]
    },
    {
     "name": "stderr",
     "output_type": "stream",
     "text": [
      "100%|██████████| 72000/72000 [00:07<00:00, 9167.54it/s] \n",
      "100%|██████████| 72000/72000 [00:00<00:00, 254075.34it/s]\n"
     ]
    },
    {
     "name": "stdout",
     "output_type": "stream",
     "text": [
      "Building new vocabulary and training the word2vec model\n"
     ]
    },
    {
     "name": "stderr",
     "output_type": "stream",
     "text": [
      "  1%|          | 525/72000 [00:00<00:13, 5245.95it/s]"
     ]
    },
    {
     "name": "stdout",
     "output_type": "stream",
     "text": [
      "transforming while training word2vec model with new data.\n"
     ]
    },
    {
     "name": "stderr",
     "output_type": "stream",
     "text": [
      "100%|██████████| 72000/72000 [00:08<00:00, 8992.68it/s] \n",
      "100%|██████████| 72000/72000 [00:00<00:00, 213030.04it/s]\n",
      "  9%|▉         | 731/8000 [00:00<00:00, 7309.31it/s]"
     ]
    },
    {
     "name": "stdout",
     "output_type": "stream",
     "text": [
      "transforming while training word2vec model with new data.\n"
     ]
    },
    {
     "name": "stderr",
     "output_type": "stream",
     "text": [
      "100%|██████████| 8000/8000 [00:00<00:00, 10346.72it/s]\n",
      "100%|██████████| 8000/8000 [00:00<00:00, 199571.96it/s]\n",
      "  1%|          | 644/72000 [00:00<00:11, 6433.01it/s]"
     ]
    },
    {
     "name": "stdout",
     "output_type": "stream",
     "text": [
      "transforming while training word2vec model with new data.\n"
     ]
    },
    {
     "name": "stderr",
     "output_type": "stream",
     "text": [
      "100%|██████████| 72000/72000 [00:07<00:00, 10202.07it/s]\n",
      "100%|██████████| 72000/72000 [00:00<00:00, 269955.12it/s]\n"
     ]
    },
    {
     "name": "stdout",
     "output_type": "stream",
     "text": [
      "Building new vocabulary and training the word2vec model\n"
     ]
    },
    {
     "name": "stderr",
     "output_type": "stream",
     "text": [
      "  1%|          | 639/72000 [00:00<00:11, 6385.74it/s]"
     ]
    },
    {
     "name": "stdout",
     "output_type": "stream",
     "text": [
      "transforming while training word2vec model with new data.\n"
     ]
    },
    {
     "name": "stderr",
     "output_type": "stream",
     "text": [
      "100%|██████████| 72000/72000 [00:07<00:00, 9931.52it/s] \n",
      "100%|██████████| 72000/72000 [00:00<00:00, 246868.58it/s]\n",
      " 22%|██▏       | 1782/8000 [00:00<00:00, 8043.22it/s]"
     ]
    },
    {
     "name": "stdout",
     "output_type": "stream",
     "text": [
      "transforming while training word2vec model with new data.\n"
     ]
    },
    {
     "name": "stderr",
     "output_type": "stream",
     "text": [
      "100%|██████████| 8000/8000 [00:00<00:00, 10437.39it/s]\n",
      "100%|██████████| 8000/8000 [00:00<00:00, 231060.89it/s]\n",
      "  1%|          | 741/72000 [00:00<00:09, 7406.85it/s]"
     ]
    },
    {
     "name": "stdout",
     "output_type": "stream",
     "text": [
      "transforming while training word2vec model with new data.\n"
     ]
    },
    {
     "name": "stderr",
     "output_type": "stream",
     "text": [
      "100%|██████████| 72000/72000 [00:06<00:00, 10549.19it/s]\n",
      "100%|██████████| 72000/72000 [00:00<00:00, 269746.79it/s]\n"
     ]
    },
    {
     "name": "stdout",
     "output_type": "stream",
     "text": [
      "Building new vocabulary and training the word2vec model\n"
     ]
    },
    {
     "name": "stderr",
     "output_type": "stream",
     "text": [
      "  1%|          | 623/72000 [00:00<00:11, 6227.30it/s]"
     ]
    },
    {
     "name": "stdout",
     "output_type": "stream",
     "text": [
      "transforming while training word2vec model with new data.\n"
     ]
    },
    {
     "name": "stderr",
     "output_type": "stream",
     "text": [
      "100%|██████████| 72000/72000 [00:06<00:00, 10446.42it/s]\n",
      "100%|██████████| 72000/72000 [00:00<00:00, 251488.69it/s]\n",
      " 22%|██▏       | 1724/8000 [00:00<00:00, 7821.62it/s]"
     ]
    },
    {
     "name": "stdout",
     "output_type": "stream",
     "text": [
      "transforming while training word2vec model with new data.\n"
     ]
    },
    {
     "name": "stderr",
     "output_type": "stream",
     "text": [
      "100%|██████████| 8000/8000 [00:00<00:00, 9786.76it/s]\n",
      "100%|██████████| 8000/8000 [00:00<00:00, 196600.70it/s]\n",
      "  1%|          | 669/72000 [00:00<00:10, 6686.71it/s]"
     ]
    },
    {
     "name": "stdout",
     "output_type": "stream",
     "text": [
      "transforming while training word2vec model with new data.\n"
     ]
    },
    {
     "name": "stderr",
     "output_type": "stream",
     "text": [
      "100%|██████████| 72000/72000 [00:07<00:00, 9941.58it/s] \n",
      "100%|██████████| 72000/72000 [00:00<00:00, 260590.64it/s]\n"
     ]
    },
    {
     "name": "stdout",
     "output_type": "stream",
     "text": [
      "Building new vocabulary and training the word2vec model\n"
     ]
    },
    {
     "name": "stderr",
     "output_type": "stream",
     "text": [
      "  1%|          | 630/72000 [00:00<00:11, 6297.98it/s]"
     ]
    },
    {
     "name": "stdout",
     "output_type": "stream",
     "text": [
      "transforming while training word2vec model with new data.\n"
     ]
    },
    {
     "name": "stderr",
     "output_type": "stream",
     "text": [
      "100%|██████████| 72000/72000 [00:07<00:00, 9987.37it/s] \n",
      "100%|██████████| 72000/72000 [00:00<00:00, 233976.45it/s]\n",
      "  9%|▉         | 707/8000 [00:00<00:01, 7069.03it/s]"
     ]
    },
    {
     "name": "stdout",
     "output_type": "stream",
     "text": [
      "transforming while training word2vec model with new data.\n"
     ]
    },
    {
     "name": "stderr",
     "output_type": "stream",
     "text": [
      "100%|██████████| 8000/8000 [00:00<00:00, 10075.32it/s]\n",
      "100%|██████████| 8000/8000 [00:00<00:00, 192253.75it/s]\n",
      "  1%|          | 679/72000 [00:00<00:10, 6785.78it/s]"
     ]
    },
    {
     "name": "stdout",
     "output_type": "stream",
     "text": [
      "transforming while training word2vec model with new data.\n"
     ]
    },
    {
     "name": "stderr",
     "output_type": "stream",
     "text": [
      "100%|██████████| 72000/72000 [00:07<00:00, 9950.48it/s] \n",
      "100%|██████████| 72000/72000 [00:00<00:00, 242203.23it/s]\n"
     ]
    },
    {
     "name": "stdout",
     "output_type": "stream",
     "text": [
      "Building new vocabulary and training the word2vec model\n"
     ]
    },
    {
     "name": "stderr",
     "output_type": "stream",
     "text": [
      "  1%|          | 601/72000 [00:00<00:11, 6009.26it/s]"
     ]
    },
    {
     "name": "stdout",
     "output_type": "stream",
     "text": [
      "transforming while training word2vec model with new data.\n"
     ]
    },
    {
     "name": "stderr",
     "output_type": "stream",
     "text": [
      "100%|██████████| 72000/72000 [00:07<00:00, 10284.29it/s]\n",
      "100%|██████████| 72000/72000 [00:00<00:00, 259561.23it/s]\n",
      "  8%|▊         | 629/8000 [00:00<00:01, 6289.74it/s]"
     ]
    },
    {
     "name": "stdout",
     "output_type": "stream",
     "text": [
      "transforming while training word2vec model with new data.\n"
     ]
    },
    {
     "name": "stderr",
     "output_type": "stream",
     "text": [
      "100%|██████████| 8000/8000 [00:00<00:00, 9585.81it/s]\n",
      "100%|██████████| 8000/8000 [00:00<00:00, 236530.35it/s]\n",
      "  1%|          | 732/72000 [00:00<00:09, 7317.53it/s]"
     ]
    },
    {
     "name": "stdout",
     "output_type": "stream",
     "text": [
      "transforming while training word2vec model with new data.\n"
     ]
    },
    {
     "name": "stderr",
     "output_type": "stream",
     "text": [
      "100%|██████████| 72000/72000 [00:07<00:00, 9733.35it/s] \n",
      "100%|██████████| 72000/72000 [00:00<00:00, 250163.51it/s]\n"
     ]
    },
    {
     "name": "stdout",
     "output_type": "stream",
     "text": [
      "Building new vocabulary and training the word2vec model\n"
     ]
    },
    {
     "name": "stderr",
     "output_type": "stream",
     "text": [
      "  1%|          | 660/72000 [00:00<00:10, 6595.71it/s]"
     ]
    },
    {
     "name": "stdout",
     "output_type": "stream",
     "text": [
      "transforming while training word2vec model with new data.\n"
     ]
    },
    {
     "name": "stderr",
     "output_type": "stream",
     "text": [
      "100%|██████████| 72000/72000 [00:06<00:00, 10432.26it/s]\n",
      "100%|██████████| 72000/72000 [00:00<00:00, 255650.65it/s]\n",
      "  6%|▋         | 501/8000 [00:00<00:01, 5008.91it/s]"
     ]
    },
    {
     "name": "stdout",
     "output_type": "stream",
     "text": [
      "transforming while training word2vec model with new data.\n"
     ]
    },
    {
     "name": "stderr",
     "output_type": "stream",
     "text": [
      "100%|██████████| 8000/8000 [00:00<00:00, 8717.13it/s]\n",
      "100%|██████████| 8000/8000 [00:00<00:00, 235865.29it/s]\n",
      "  1%|          | 681/72000 [00:00<00:10, 6800.60it/s]"
     ]
    },
    {
     "name": "stdout",
     "output_type": "stream",
     "text": [
      "transforming while training word2vec model with new data.\n"
     ]
    },
    {
     "name": "stderr",
     "output_type": "stream",
     "text": [
      "100%|██████████| 72000/72000 [00:07<00:00, 9878.80it/s] \n",
      "100%|██████████| 72000/72000 [00:00<00:00, 235883.16it/s]\n"
     ]
    },
    {
     "name": "stdout",
     "output_type": "stream",
     "text": [
      "Building new vocabulary and training the word2vec model\n"
     ]
    },
    {
     "name": "stderr",
     "output_type": "stream",
     "text": [
      "  1%|          | 641/72000 [00:00<00:11, 6404.71it/s]"
     ]
    },
    {
     "name": "stdout",
     "output_type": "stream",
     "text": [
      "transforming while training word2vec model with new data.\n"
     ]
    },
    {
     "name": "stderr",
     "output_type": "stream",
     "text": [
      "100%|██████████| 72000/72000 [00:06<00:00, 10425.35it/s]\n",
      "100%|██████████| 72000/72000 [00:00<00:00, 257855.80it/s]\n",
      "  8%|▊         | 637/8000 [00:00<00:01, 6369.79it/s]"
     ]
    },
    {
     "name": "stdout",
     "output_type": "stream",
     "text": [
      "transforming while training word2vec model with new data.\n"
     ]
    },
    {
     "name": "stderr",
     "output_type": "stream",
     "text": [
      "100%|██████████| 8000/8000 [00:00<00:00, 9768.62it/s] \n",
      "100%|██████████| 8000/8000 [00:00<00:00, 200234.11it/s]\n",
      "  1%|          | 581/72000 [00:00<00:12, 5805.98it/s]"
     ]
    },
    {
     "name": "stdout",
     "output_type": "stream",
     "text": [
      "transforming while training word2vec model with new data.\n"
     ]
    },
    {
     "name": "stderr",
     "output_type": "stream",
     "text": [
      "100%|██████████| 72000/72000 [00:07<00:00, 9178.82it/s] \n",
      "100%|██████████| 72000/72000 [00:00<00:00, 245998.03it/s]\n"
     ]
    },
    {
     "name": "stdout",
     "output_type": "stream",
     "text": [
      "Building new vocabulary and training the word2vec model\n"
     ]
    },
    {
     "name": "stderr",
     "output_type": "stream",
     "text": [
      "  1%|          | 510/72000 [00:00<00:14, 5099.79it/s]"
     ]
    },
    {
     "name": "stdout",
     "output_type": "stream",
     "text": [
      "transforming while training word2vec model with new data.\n"
     ]
    },
    {
     "name": "stderr",
     "output_type": "stream",
     "text": [
      "100%|██████████| 72000/72000 [00:07<00:00, 9935.45it/s] \n",
      "100%|██████████| 72000/72000 [00:00<00:00, 259326.53it/s]\n",
      "  8%|▊         | 632/8000 [00:00<00:01, 6319.07it/s]"
     ]
    },
    {
     "name": "stdout",
     "output_type": "stream",
     "text": [
      "transforming while training word2vec model with new data.\n"
     ]
    },
    {
     "name": "stderr",
     "output_type": "stream",
     "text": [
      "100%|██████████| 8000/8000 [00:00<00:00, 9700.61it/s]\n",
      "100%|██████████| 8000/8000 [00:00<00:00, 256451.97it/s]\n",
      "  1%|          | 744/72000 [00:00<00:09, 7437.28it/s]"
     ]
    },
    {
     "name": "stdout",
     "output_type": "stream",
     "text": [
      "transforming while training word2vec model with new data.\n"
     ]
    },
    {
     "name": "stderr",
     "output_type": "stream",
     "text": [
      "100%|██████████| 72000/72000 [00:07<00:00, 10210.48it/s]\n",
      "100%|██████████| 72000/72000 [00:00<00:00, 275001.51it/s]\n"
     ]
    },
    {
     "name": "stdout",
     "output_type": "stream",
     "text": [
      "Building new vocabulary and training the word2vec model\n"
     ]
    },
    {
     "name": "stderr",
     "output_type": "stream",
     "text": [
      "  1%|          | 624/72000 [00:00<00:11, 6234.85it/s]"
     ]
    },
    {
     "name": "stdout",
     "output_type": "stream",
     "text": [
      "transforming while training word2vec model with new data.\n"
     ]
    },
    {
     "name": "stderr",
     "output_type": "stream",
     "text": [
      "100%|██████████| 72000/72000 [00:06<00:00, 10470.28it/s]\n",
      "100%|██████████| 72000/72000 [00:00<00:00, 260047.14it/s]\n",
      " 22%|██▏       | 1766/8000 [00:00<00:00, 8012.17it/s]"
     ]
    },
    {
     "name": "stdout",
     "output_type": "stream",
     "text": [
      "transforming while training word2vec model with new data.\n"
     ]
    },
    {
     "name": "stderr",
     "output_type": "stream",
     "text": [
      "100%|██████████| 8000/8000 [00:00<00:00, 10316.97it/s]\n",
      "100%|██████████| 8000/8000 [00:00<00:00, 198004.47it/s]\n",
      "  1%|          | 735/72000 [00:00<00:09, 7345.38it/s]"
     ]
    },
    {
     "name": "stdout",
     "output_type": "stream",
     "text": [
      "transforming while training word2vec model with new data.\n"
     ]
    },
    {
     "name": "stderr",
     "output_type": "stream",
     "text": [
      "100%|██████████| 72000/72000 [00:06<00:00, 10486.93it/s]\n",
      "100%|██████████| 72000/72000 [00:00<00:00, 266625.48it/s]\n"
     ]
    },
    {
     "name": "stdout",
     "output_type": "stream",
     "text": [
      "Building new vocabulary and training the word2vec model\n"
     ]
    },
    {
     "name": "stderr",
     "output_type": "stream",
     "text": [
      "  1%|          | 627/72000 [00:00<00:11, 6267.88it/s]"
     ]
    },
    {
     "name": "stdout",
     "output_type": "stream",
     "text": [
      "transforming while training word2vec model with new data.\n"
     ]
    },
    {
     "name": "stderr",
     "output_type": "stream",
     "text": [
      "100%|██████████| 72000/72000 [00:06<00:00, 10285.77it/s]\n",
      "100%|██████████| 72000/72000 [00:00<00:00, 261647.96it/s]\n",
      " 22%|██▏       | 1795/8000 [00:00<00:00, 7975.32it/s]"
     ]
    },
    {
     "name": "stdout",
     "output_type": "stream",
     "text": [
      "transforming while training word2vec model with new data.\n"
     ]
    },
    {
     "name": "stderr",
     "output_type": "stream",
     "text": [
      "100%|██████████| 8000/8000 [00:00<00:00, 10155.23it/s]\n",
      "100%|██████████| 8000/8000 [00:00<00:00, 280830.18it/s]\n",
      "  1%|          | 734/72000 [00:00<00:09, 7333.01it/s]"
     ]
    },
    {
     "name": "stdout",
     "output_type": "stream",
     "text": [
      "transforming while training word2vec model with new data.\n"
     ]
    },
    {
     "name": "stderr",
     "output_type": "stream",
     "text": [
      "100%|██████████| 72000/72000 [00:06<00:00, 10417.09it/s]\n",
      "100%|██████████| 72000/72000 [00:00<00:00, 262068.93it/s]\n"
     ]
    },
    {
     "name": "stdout",
     "output_type": "stream",
     "text": [
      "Building new vocabulary and training the word2vec model\n"
     ]
    },
    {
     "name": "stderr",
     "output_type": "stream",
     "text": [
      "  2%|▏         | 1550/72000 [00:00<00:10, 6872.24it/s]"
     ]
    },
    {
     "name": "stdout",
     "output_type": "stream",
     "text": [
      "transforming while training word2vec model with new data.\n"
     ]
    },
    {
     "name": "stderr",
     "output_type": "stream",
     "text": [
      "100%|██████████| 72000/72000 [00:06<00:00, 10426.00it/s]\n",
      "100%|██████████| 72000/72000 [00:00<00:00, 247084.70it/s]\n",
      "  9%|▉         | 715/8000 [00:00<00:01, 7140.92it/s]"
     ]
    },
    {
     "name": "stdout",
     "output_type": "stream",
     "text": [
      "transforming while training word2vec model with new data.\n"
     ]
    },
    {
     "name": "stderr",
     "output_type": "stream",
     "text": [
      "100%|██████████| 8000/8000 [00:00<00:00, 10073.01it/s]\n",
      "100%|██████████| 8000/8000 [00:00<00:00, 188792.29it/s]\n",
      "  1%|          | 717/72000 [00:00<00:09, 7169.56it/s]"
     ]
    },
    {
     "name": "stdout",
     "output_type": "stream",
     "text": [
      "transforming while training word2vec model with new data.\n"
     ]
    },
    {
     "name": "stderr",
     "output_type": "stream",
     "text": [
      "100%|██████████| 72000/72000 [00:06<00:00, 10356.71it/s]\n",
      "100%|██████████| 72000/72000 [00:00<00:00, 269697.40it/s]\n"
     ]
    },
    {
     "name": "stdout",
     "output_type": "stream",
     "text": [
      "Building new vocabulary and training the word2vec model\n"
     ]
    },
    {
     "name": "stderr",
     "output_type": "stream",
     "text": [
      "  1%|          | 646/72000 [00:00<00:11, 6453.94it/s]"
     ]
    },
    {
     "name": "stdout",
     "output_type": "stream",
     "text": [
      "transforming while training word2vec model with new data.\n"
     ]
    },
    {
     "name": "stderr",
     "output_type": "stream",
     "text": [
      "100%|██████████| 72000/72000 [00:06<00:00, 10490.35it/s]\n",
      "100%|██████████| 72000/72000 [00:00<00:00, 258676.34it/s]\n",
      "  9%|▊         | 686/8000 [00:00<00:01, 6855.66it/s]"
     ]
    },
    {
     "name": "stdout",
     "output_type": "stream",
     "text": [
      "transforming while training word2vec model with new data.\n"
     ]
    },
    {
     "name": "stderr",
     "output_type": "stream",
     "text": [
      "100%|██████████| 8000/8000 [00:00<00:00, 10298.54it/s]\n",
      "100%|██████████| 8000/8000 [00:00<00:00, 213674.86it/s]\n",
      "  1%|          | 747/72000 [00:00<00:09, 7467.07it/s]"
     ]
    },
    {
     "name": "stdout",
     "output_type": "stream",
     "text": [
      "transforming while training word2vec model with new data.\n"
     ]
    },
    {
     "name": "stderr",
     "output_type": "stream",
     "text": [
      "100%|██████████| 72000/72000 [00:06<00:00, 10435.25it/s]\n",
      "100%|██████████| 72000/72000 [00:00<00:00, 276662.54it/s]\n"
     ]
    },
    {
     "name": "stdout",
     "output_type": "stream",
     "text": [
      "Building new vocabulary and training the word2vec model\n"
     ]
    },
    {
     "name": "stderr",
     "output_type": "stream",
     "text": [
      "  1%|          | 629/72000 [00:00<00:11, 6285.27it/s]"
     ]
    },
    {
     "name": "stdout",
     "output_type": "stream",
     "text": [
      "transforming while training word2vec model with new data.\n"
     ]
    },
    {
     "name": "stderr",
     "output_type": "stream",
     "text": [
      "100%|██████████| 72000/72000 [00:06<00:00, 10413.49it/s]\n",
      "100%|██████████| 72000/72000 [00:00<00:00, 261804.47it/s]\n",
      "  9%|▉         | 737/8000 [00:00<00:00, 7367.90it/s]"
     ]
    },
    {
     "name": "stdout",
     "output_type": "stream",
     "text": [
      "transforming while training word2vec model with new data.\n"
     ]
    },
    {
     "name": "stderr",
     "output_type": "stream",
     "text": [
      "100%|██████████| 8000/8000 [00:00<00:00, 10052.02it/s]\n",
      "100%|██████████| 8000/8000 [00:00<00:00, 267400.08it/s]\n",
      "  1%|          | 728/72000 [00:00<00:09, 7277.16it/s]"
     ]
    },
    {
     "name": "stdout",
     "output_type": "stream",
     "text": [
      "transforming while training word2vec model with new data.\n"
     ]
    },
    {
     "name": "stderr",
     "output_type": "stream",
     "text": [
      "100%|██████████| 72000/72000 [00:06<00:00, 10534.09it/s]\n",
      "100%|██████████| 72000/72000 [00:00<00:00, 268340.76it/s]\n"
     ]
    },
    {
     "name": "stdout",
     "output_type": "stream",
     "text": [
      "Building new vocabulary and training the word2vec model\n"
     ]
    },
    {
     "name": "stderr",
     "output_type": "stream",
     "text": [
      "  2%|▏         | 1585/72000 [00:00<00:09, 7132.00it/s]"
     ]
    },
    {
     "name": "stdout",
     "output_type": "stream",
     "text": [
      "transforming while training word2vec model with new data.\n"
     ]
    },
    {
     "name": "stderr",
     "output_type": "stream",
     "text": [
      "100%|██████████| 72000/72000 [00:06<00:00, 10493.30it/s]\n",
      "100%|██████████| 72000/72000 [00:00<00:00, 263542.93it/s]\n",
      "  9%|▉         | 703/8000 [00:00<00:01, 7024.97it/s]"
     ]
    },
    {
     "name": "stdout",
     "output_type": "stream",
     "text": [
      "transforming while training word2vec model with new data.\n"
     ]
    },
    {
     "name": "stderr",
     "output_type": "stream",
     "text": [
      "100%|██████████| 8000/8000 [00:00<00:00, 10072.43it/s]\n",
      "100%|██████████| 8000/8000 [00:00<00:00, 198917.70it/s]\n",
      "  2%|▏         | 1653/72000 [00:00<00:09, 7726.18it/s]"
     ]
    },
    {
     "name": "stdout",
     "output_type": "stream",
     "text": [
      "transforming while training word2vec model with new data.\n"
     ]
    },
    {
     "name": "stderr",
     "output_type": "stream",
     "text": [
      "100%|██████████| 72000/72000 [00:06<00:00, 10455.48it/s]\n",
      "100%|██████████| 72000/72000 [00:00<00:00, 273085.43it/s]\n"
     ]
    },
    {
     "name": "stdout",
     "output_type": "stream",
     "text": [
      "Building new vocabulary and training the word2vec model\n"
     ]
    },
    {
     "name": "stderr",
     "output_type": "stream",
     "text": [
      "  1%|          | 647/72000 [00:00<00:11, 6465.20it/s]"
     ]
    },
    {
     "name": "stdout",
     "output_type": "stream",
     "text": [
      "transforming while training word2vec model with new data.\n"
     ]
    },
    {
     "name": "stderr",
     "output_type": "stream",
     "text": [
      "100%|██████████| 72000/72000 [00:06<00:00, 10502.95it/s]\n",
      "100%|██████████| 72000/72000 [00:00<00:00, 263665.11it/s]\n",
      " 22%|██▏       | 1721/8000 [00:00<00:00, 7617.07it/s]"
     ]
    },
    {
     "name": "stdout",
     "output_type": "stream",
     "text": [
      "transforming while training word2vec model with new data.\n"
     ]
    },
    {
     "name": "stderr",
     "output_type": "stream",
     "text": [
      "100%|██████████| 8000/8000 [00:00<00:00, 10019.36it/s]\n",
      "100%|██████████| 8000/8000 [00:00<00:00, 198168.19it/s]\n",
      "  1%|          | 744/72000 [00:00<00:09, 7435.82it/s]"
     ]
    },
    {
     "name": "stdout",
     "output_type": "stream",
     "text": [
      "transforming while training word2vec model with new data.\n"
     ]
    },
    {
     "name": "stderr",
     "output_type": "stream",
     "text": [
      "100%|██████████| 72000/72000 [00:06<00:00, 10488.86it/s]\n",
      "100%|██████████| 72000/72000 [00:00<00:00, 272345.86it/s]\n"
     ]
    },
    {
     "name": "stdout",
     "output_type": "stream",
     "text": [
      "Building new vocabulary and training the word2vec model\n"
     ]
    },
    {
     "name": "stderr",
     "output_type": "stream",
     "text": [
      "  0%|          | 215/72000 [00:00<00:33, 2147.94it/s]"
     ]
    },
    {
     "name": "stdout",
     "output_type": "stream",
     "text": [
      "transforming while training word2vec model with new data.\n"
     ]
    },
    {
     "name": "stderr",
     "output_type": "stream",
     "text": [
      "100%|██████████| 72000/72000 [00:07<00:00, 10042.08it/s]\n",
      "100%|██████████| 72000/72000 [00:00<00:00, 238421.67it/s]\n",
      " 13%|█▎        | 1025/8000 [00:00<00:02, 2425.57it/s]"
     ]
    },
    {
     "name": "stdout",
     "output_type": "stream",
     "text": [
      "transforming while training word2vec model with new data.\n"
     ]
    },
    {
     "name": "stderr",
     "output_type": "stream",
     "text": [
      "100%|██████████| 8000/8000 [00:01<00:00, 7921.70it/s]\n",
      "100%|██████████| 8000/8000 [00:00<00:00, 239576.97it/s]\n",
      "  1%|▏         | 959/72000 [00:00<00:25, 2829.51it/s]"
     ]
    },
    {
     "name": "stdout",
     "output_type": "stream",
     "text": [
      "transforming while training word2vec model with new data.\n"
     ]
    },
    {
     "name": "stderr",
     "output_type": "stream",
     "text": [
      "100%|██████████| 72000/72000 [00:07<00:00, 10029.77it/s]\n",
      "100%|██████████| 72000/72000 [00:00<00:00, 249121.15it/s]\n"
     ]
    },
    {
     "name": "stdout",
     "output_type": "stream",
     "text": [
      "Building new vocabulary and training the word2vec model\n"
     ]
    },
    {
     "name": "stderr",
     "output_type": "stream",
     "text": [
      "  0%|          | 257/72000 [00:00<00:27, 2568.84it/s]"
     ]
    },
    {
     "name": "stdout",
     "output_type": "stream",
     "text": [
      "transforming while training word2vec model with new data.\n"
     ]
    },
    {
     "name": "stderr",
     "output_type": "stream",
     "text": [
      "100%|██████████| 72000/72000 [00:07<00:00, 9963.49it/s] \n",
      "100%|██████████| 72000/72000 [00:00<00:00, 242190.02it/s]\n",
      " 12%|█▏        | 983/8000 [00:00<00:03, 1766.74it/s]"
     ]
    },
    {
     "name": "stdout",
     "output_type": "stream",
     "text": [
      "transforming while training word2vec model with new data.\n"
     ]
    },
    {
     "name": "stderr",
     "output_type": "stream",
     "text": [
      "100%|██████████| 8000/8000 [00:00<00:00, 8714.30it/s]\n",
      "100%|██████████| 8000/8000 [00:00<00:00, 197199.21it/s]\n",
      "  2%|▏         | 1090/72000 [00:00<00:23, 2991.44it/s]"
     ]
    },
    {
     "name": "stdout",
     "output_type": "stream",
     "text": [
      "transforming while training word2vec model with new data.\n"
     ]
    },
    {
     "name": "stderr",
     "output_type": "stream",
     "text": [
      "100%|██████████| 72000/72000 [00:07<00:00, 9985.01it/s] \n",
      "100%|██████████| 72000/72000 [00:00<00:00, 245587.32it/s]\n"
     ]
    },
    {
     "name": "stdout",
     "output_type": "stream",
     "text": [
      "Building new vocabulary and training the word2vec model\n"
     ]
    },
    {
     "name": "stderr",
     "output_type": "stream",
     "text": [
      "  0%|          | 256/72000 [00:00<00:28, 2557.41it/s]"
     ]
    },
    {
     "name": "stdout",
     "output_type": "stream",
     "text": [
      "transforming while training word2vec model with new data.\n"
     ]
    },
    {
     "name": "stderr",
     "output_type": "stream",
     "text": [
      "100%|██████████| 72000/72000 [00:07<00:00, 9871.44it/s] \n",
      "100%|██████████| 72000/72000 [00:00<00:00, 230331.47it/s]\n",
      "  3%|▎         | 231/8000 [00:00<00:03, 2308.76it/s]"
     ]
    },
    {
     "name": "stdout",
     "output_type": "stream",
     "text": [
      "transforming while training word2vec model with new data.\n"
     ]
    },
    {
     "name": "stderr",
     "output_type": "stream",
     "text": [
      "100%|██████████| 8000/8000 [00:00<00:00, 9436.68it/s]\n",
      "100%|██████████| 8000/8000 [00:00<00:00, 190585.21it/s]\n",
      "  1%|▏         | 1069/72000 [00:00<00:25, 2757.59it/s]"
     ]
    },
    {
     "name": "stdout",
     "output_type": "stream",
     "text": [
      "transforming while training word2vec model with new data.\n"
     ]
    },
    {
     "name": "stderr",
     "output_type": "stream",
     "text": [
      "100%|██████████| 72000/72000 [00:07<00:00, 9706.88it/s] \n",
      "100%|██████████| 72000/72000 [00:00<00:00, 246379.96it/s]\n"
     ]
    },
    {
     "name": "stdout",
     "output_type": "stream",
     "text": [
      "Building new vocabulary and training the word2vec model\n"
     ]
    },
    {
     "name": "stderr",
     "output_type": "stream",
     "text": [
      "  0%|          | 266/72000 [00:00<00:26, 2657.22it/s]"
     ]
    },
    {
     "name": "stdout",
     "output_type": "stream",
     "text": [
      "transforming while training word2vec model with new data.\n"
     ]
    },
    {
     "name": "stderr",
     "output_type": "stream",
     "text": [
      "100%|██████████| 72000/72000 [00:07<00:00, 9812.89it/s] \n",
      "100%|██████████| 72000/72000 [00:00<00:00, 241460.75it/s]\n",
      "  2%|▏         | 189/8000 [00:00<00:04, 1889.38it/s]"
     ]
    },
    {
     "name": "stdout",
     "output_type": "stream",
     "text": [
      "transforming while training word2vec model with new data.\n"
     ]
    },
    {
     "name": "stderr",
     "output_type": "stream",
     "text": [
      "100%|██████████| 8000/8000 [00:00<00:00, 9247.65it/s]\n",
      "100%|██████████| 8000/8000 [00:00<00:00, 192264.77it/s]\n",
      "  0%|          | 244/72000 [00:00<00:29, 2437.22it/s]"
     ]
    },
    {
     "name": "stdout",
     "output_type": "stream",
     "text": [
      "transforming while training word2vec model with new data.\n"
     ]
    },
    {
     "name": "stderr",
     "output_type": "stream",
     "text": [
      "100%|██████████| 72000/72000 [00:07<00:00, 9839.57it/s] \n",
      "100%|██████████| 72000/72000 [00:00<00:00, 242357.76it/s]\n"
     ]
    },
    {
     "name": "stdout",
     "output_type": "stream",
     "text": [
      "Building new vocabulary and training the word2vec model\n"
     ]
    },
    {
     "name": "stderr",
     "output_type": "stream",
     "text": [
      "  0%|          | 268/72000 [00:00<00:26, 2679.16it/s]"
     ]
    },
    {
     "name": "stdout",
     "output_type": "stream",
     "text": [
      "transforming while training word2vec model with new data.\n"
     ]
    },
    {
     "name": "stderr",
     "output_type": "stream",
     "text": [
      "100%|██████████| 72000/72000 [00:07<00:00, 9945.48it/s] \n",
      "100%|██████████| 72000/72000 [00:00<00:00, 240224.74it/s]\n",
      "  2%|▏         | 194/8000 [00:00<00:04, 1939.23it/s]"
     ]
    },
    {
     "name": "stdout",
     "output_type": "stream",
     "text": [
      "transforming while training word2vec model with new data.\n"
     ]
    },
    {
     "name": "stderr",
     "output_type": "stream",
     "text": [
      "100%|██████████| 8000/8000 [00:00<00:00, 9330.11it/s]\n",
      "100%|██████████| 8000/8000 [00:00<00:00, 174035.71it/s]\n",
      "  2%|▏         | 1087/72000 [00:00<00:24, 2934.26it/s]"
     ]
    },
    {
     "name": "stdout",
     "output_type": "stream",
     "text": [
      "transforming while training word2vec model with new data.\n"
     ]
    },
    {
     "name": "stderr",
     "output_type": "stream",
     "text": [
      "100%|██████████| 72000/72000 [00:07<00:00, 9568.33it/s] \n",
      "100%|██████████| 72000/72000 [00:00<00:00, 245024.61it/s]\n"
     ]
    },
    {
     "name": "stdout",
     "output_type": "stream",
     "text": [
      "Building new vocabulary and training the word2vec model\n"
     ]
    },
    {
     "name": "stderr",
     "output_type": "stream",
     "text": [
      "  2%|▏         | 1088/72000 [00:00<00:23, 2968.38it/s]"
     ]
    },
    {
     "name": "stdout",
     "output_type": "stream",
     "text": [
      "transforming while training word2vec model with new data.\n"
     ]
    },
    {
     "name": "stderr",
     "output_type": "stream",
     "text": [
      "100%|██████████| 72000/72000 [00:07<00:00, 9829.16it/s] \n",
      "100%|██████████| 72000/72000 [00:00<00:00, 238084.07it/s]\n",
      " 15%|█▌        | 1224/8000 [00:00<00:02, 2466.10it/s]"
     ]
    },
    {
     "name": "stdout",
     "output_type": "stream",
     "text": [
      "transforming while training word2vec model with new data.\n"
     ]
    },
    {
     "name": "stderr",
     "output_type": "stream",
     "text": [
      "100%|██████████| 8000/8000 [00:00<00:00, 9353.05it/s]\n",
      "100%|██████████| 8000/8000 [00:00<00:00, 215120.09it/s]\n",
      "  1%|▏         | 1036/72000 [00:00<00:28, 2487.23it/s]"
     ]
    },
    {
     "name": "stdout",
     "output_type": "stream",
     "text": [
      "transforming while training word2vec model with new data.\n"
     ]
    },
    {
     "name": "stderr",
     "output_type": "stream",
     "text": [
      "100%|██████████| 72000/72000 [00:07<00:00, 9906.70it/s] \n",
      "100%|██████████| 72000/72000 [00:00<00:00, 243544.95it/s]\n"
     ]
    },
    {
     "name": "stdout",
     "output_type": "stream",
     "text": [
      "Building new vocabulary and training the word2vec model\n"
     ]
    },
    {
     "name": "stderr",
     "output_type": "stream",
     "text": [
      "  2%|▏         | 1130/72000 [00:00<00:21, 3356.54it/s]"
     ]
    },
    {
     "name": "stdout",
     "output_type": "stream",
     "text": [
      "transforming while training word2vec model with new data.\n"
     ]
    },
    {
     "name": "stderr",
     "output_type": "stream",
     "text": [
      "100%|██████████| 72000/72000 [00:07<00:00, 9906.26it/s] \n",
      "100%|██████████| 72000/72000 [00:00<00:00, 236475.90it/s]\n",
      "  2%|▏         | 175/8000 [00:00<00:04, 1748.73it/s]"
     ]
    },
    {
     "name": "stdout",
     "output_type": "stream",
     "text": [
      "transforming while training word2vec model with new data.\n"
     ]
    },
    {
     "name": "stderr",
     "output_type": "stream",
     "text": [
      "100%|██████████| 8000/8000 [00:00<00:00, 9435.60it/s]\n",
      "100%|██████████| 8000/8000 [00:00<00:00, 195320.11it/s]\n",
      "  1%|▏         | 1062/72000 [00:00<00:24, 2870.42it/s]"
     ]
    },
    {
     "name": "stdout",
     "output_type": "stream",
     "text": [
      "transforming while training word2vec model with new data.\n"
     ]
    },
    {
     "name": "stderr",
     "output_type": "stream",
     "text": [
      "100%|██████████| 72000/72000 [00:07<00:00, 9936.31it/s] \n",
      "100%|██████████| 72000/72000 [00:00<00:00, 251167.42it/s]\n"
     ]
    },
    {
     "name": "stdout",
     "output_type": "stream",
     "text": [
      "Building new vocabulary and training the word2vec model\n"
     ]
    },
    {
     "name": "stderr",
     "output_type": "stream",
     "text": [
      "  0%|          | 261/72000 [00:00<00:27, 2607.89it/s]"
     ]
    },
    {
     "name": "stdout",
     "output_type": "stream",
     "text": [
      "transforming while training word2vec model with new data.\n"
     ]
    },
    {
     "name": "stderr",
     "output_type": "stream",
     "text": [
      "100%|██████████| 72000/72000 [00:07<00:00, 9951.75it/s] \n",
      "100%|██████████| 72000/72000 [00:00<00:00, 243151.39it/s]\n",
      "  2%|▏         | 183/8000 [00:00<00:04, 1828.03it/s]"
     ]
    },
    {
     "name": "stdout",
     "output_type": "stream",
     "text": [
      "transforming while training word2vec model with new data.\n"
     ]
    },
    {
     "name": "stderr",
     "output_type": "stream",
     "text": [
      "100%|██████████| 8000/8000 [00:00<00:00, 9182.56it/s]\n",
      "100%|██████████| 8000/8000 [00:00<00:00, 192317.66it/s]\n",
      "  0%|          | 230/72000 [00:00<00:31, 2297.04it/s]"
     ]
    },
    {
     "name": "stdout",
     "output_type": "stream",
     "text": [
      "transforming while training word2vec model with new data.\n"
     ]
    },
    {
     "name": "stderr",
     "output_type": "stream",
     "text": [
      "100%|██████████| 72000/72000 [00:07<00:00, 9914.34it/s] \n",
      "100%|██████████| 72000/72000 [00:00<00:00, 250061.39it/s]\n"
     ]
    },
    {
     "name": "stdout",
     "output_type": "stream",
     "text": [
      "Building new vocabulary and training the word2vec model\n"
     ]
    },
    {
     "name": "stderr",
     "output_type": "stream",
     "text": [
      "  0%|          | 230/72000 [00:00<00:31, 2298.81it/s]"
     ]
    },
    {
     "name": "stdout",
     "output_type": "stream",
     "text": [
      "transforming while training word2vec model with new data.\n"
     ]
    },
    {
     "name": "stderr",
     "output_type": "stream",
     "text": [
      "100%|██████████| 72000/72000 [00:08<00:00, 8966.47it/s] \n",
      "100%|██████████| 72000/72000 [00:00<00:00, 232511.14it/s]\n",
      "  2%|▏         | 162/8000 [00:00<00:04, 1619.51it/s]"
     ]
    },
    {
     "name": "stdout",
     "output_type": "stream",
     "text": [
      "transforming while training word2vec model with new data.\n"
     ]
    },
    {
     "name": "stderr",
     "output_type": "stream",
     "text": [
      "100%|██████████| 8000/8000 [00:00<00:00, 8451.14it/s]\n",
      "100%|██████████| 8000/8000 [00:00<00:00, 181539.18it/s]\n",
      "  1%|▏         | 1013/72000 [00:00<00:30, 2328.04it/s]"
     ]
    },
    {
     "name": "stdout",
     "output_type": "stream",
     "text": [
      "transforming while training word2vec model with new data.\n"
     ]
    },
    {
     "name": "stderr",
     "output_type": "stream",
     "text": [
      "100%|██████████| 72000/72000 [00:08<00:00, 8886.50it/s] \n",
      "100%|██████████| 72000/72000 [00:00<00:00, 238747.38it/s]\n"
     ]
    },
    {
     "name": "stdout",
     "output_type": "stream",
     "text": [
      "Building new vocabulary and training the word2vec model\n"
     ]
    },
    {
     "name": "stderr",
     "output_type": "stream",
     "text": [
      "  2%|▏         | 1081/72000 [00:00<00:24, 2942.10it/s]"
     ]
    },
    {
     "name": "stdout",
     "output_type": "stream",
     "text": [
      "transforming while training word2vec model with new data.\n"
     ]
    },
    {
     "name": "stderr",
     "output_type": "stream",
     "text": [
      "100%|██████████| 72000/72000 [00:07<00:00, 9425.82it/s] \n",
      "100%|██████████| 72000/72000 [00:00<00:00, 205581.44it/s]\n",
      " 14%|█▍        | 1111/8000 [00:00<00:02, 2337.50it/s]"
     ]
    },
    {
     "name": "stdout",
     "output_type": "stream",
     "text": [
      "transforming while training word2vec model with new data.\n"
     ]
    },
    {
     "name": "stderr",
     "output_type": "stream",
     "text": [
      "100%|██████████| 8000/8000 [00:00<00:00, 8893.01it/s]\n",
      "100%|██████████| 8000/8000 [00:00<00:00, 279259.56it/s]\n",
      "  0%|          | 246/72000 [00:00<00:29, 2457.89it/s]"
     ]
    },
    {
     "name": "stdout",
     "output_type": "stream",
     "text": [
      "transforming while training word2vec model with new data.\n"
     ]
    },
    {
     "name": "stderr",
     "output_type": "stream",
     "text": [
      "100%|██████████| 72000/72000 [00:08<00:00, 8939.67it/s]\n",
      "100%|██████████| 72000/72000 [00:00<00:00, 240042.58it/s]\n"
     ]
    },
    {
     "name": "stdout",
     "output_type": "stream",
     "text": [
      "Building new vocabulary and training the fasttext model\n"
     ]
    },
    {
     "name": "stderr",
     "output_type": "stream",
     "text": [
      "\r",
      "  0%|          | 0/72000 [00:00<?, ?it/s]"
     ]
    },
    {
     "name": "stdout",
     "output_type": "stream",
     "text": [
      "transforming while training fasttext model with new data.\n"
     ]
    },
    {
     "name": "stderr",
     "output_type": "stream",
     "text": [
      "100%|██████████| 72000/72000 [00:09<00:00, 7879.96it/s]\n",
      "100%|██████████| 72000/72000 [00:00<00:00, 223097.82it/s]\n",
      "  0%|          | 0/8000 [00:00<?, ?it/s]"
     ]
    },
    {
     "name": "stdout",
     "output_type": "stream",
     "text": [
      "transforming while training fasttext model with new data.\n"
     ]
    },
    {
     "name": "stderr",
     "output_type": "stream",
     "text": [
      "100%|██████████| 8000/8000 [00:01<00:00, 5406.77it/s]\n",
      "100%|██████████| 8000/8000 [00:00<00:00, 214152.17it/s]\n",
      "  0%|          | 0/72000 [00:00<?, ?it/s]"
     ]
    },
    {
     "name": "stdout",
     "output_type": "stream",
     "text": [
      "transforming while training fasttext model with new data.\n"
     ]
    },
    {
     "name": "stderr",
     "output_type": "stream",
     "text": [
      "100%|██████████| 72000/72000 [00:08<00:00, 8257.01it/s]\n",
      "100%|██████████| 72000/72000 [00:00<00:00, 228409.05it/s]\n"
     ]
    },
    {
     "name": "stdout",
     "output_type": "stream",
     "text": [
      "Building new vocabulary and training the fasttext model\n"
     ]
    },
    {
     "name": "stderr",
     "output_type": "stream",
     "text": [
      "\r",
      "  0%|          | 0/72000 [00:00<?, ?it/s]"
     ]
    },
    {
     "name": "stdout",
     "output_type": "stream",
     "text": [
      "transforming while training fasttext model with new data.\n"
     ]
    },
    {
     "name": "stderr",
     "output_type": "stream",
     "text": [
      "100%|██████████| 72000/72000 [00:08<00:00, 8562.29it/s]\n",
      "100%|██████████| 72000/72000 [00:00<00:00, 223672.85it/s]\n",
      "  0%|          | 0/8000 [00:00<?, ?it/s]"
     ]
    },
    {
     "name": "stdout",
     "output_type": "stream",
     "text": [
      "transforming while training fasttext model with new data.\n"
     ]
    },
    {
     "name": "stderr",
     "output_type": "stream",
     "text": [
      "100%|██████████| 8000/8000 [00:01<00:00, 5734.88it/s]\n",
      "100%|██████████| 8000/8000 [00:00<00:00, 201757.14it/s]\n",
      "  0%|          | 0/72000 [00:00<?, ?it/s]"
     ]
    },
    {
     "name": "stdout",
     "output_type": "stream",
     "text": [
      "transforming while training fasttext model with new data.\n"
     ]
    },
    {
     "name": "stderr",
     "output_type": "stream",
     "text": [
      "100%|██████████| 72000/72000 [00:08<00:00, 8347.99it/s]\n",
      "100%|██████████| 72000/72000 [00:00<00:00, 205099.19it/s]\n"
     ]
    },
    {
     "name": "stdout",
     "output_type": "stream",
     "text": [
      "Building new vocabulary and training the fasttext model\n"
     ]
    },
    {
     "name": "stderr",
     "output_type": "stream",
     "text": [
      "\r",
      "  0%|          | 0/72000 [00:00<?, ?it/s]"
     ]
    },
    {
     "name": "stdout",
     "output_type": "stream",
     "text": [
      "transforming while training fasttext model with new data.\n"
     ]
    },
    {
     "name": "stderr",
     "output_type": "stream",
     "text": [
      "100%|██████████| 72000/72000 [00:08<00:00, 8544.09it/s]\n",
      "100%|██████████| 72000/72000 [00:00<00:00, 220660.42it/s]\n",
      "  0%|          | 0/8000 [00:00<?, ?it/s]"
     ]
    },
    {
     "name": "stdout",
     "output_type": "stream",
     "text": [
      "transforming while training fasttext model with new data.\n"
     ]
    },
    {
     "name": "stderr",
     "output_type": "stream",
     "text": [
      "100%|██████████| 8000/8000 [00:01<00:00, 5802.06it/s]\n",
      "100%|██████████| 8000/8000 [00:00<00:00, 247586.68it/s]\n",
      "  0%|          | 0/72000 [00:00<?, ?it/s]"
     ]
    },
    {
     "name": "stdout",
     "output_type": "stream",
     "text": [
      "transforming while training fasttext model with new data.\n"
     ]
    },
    {
     "name": "stderr",
     "output_type": "stream",
     "text": [
      "100%|██████████| 72000/72000 [00:08<00:00, 8506.53it/s]\n",
      "100%|██████████| 72000/72000 [00:00<00:00, 221235.26it/s]\n"
     ]
    },
    {
     "name": "stdout",
     "output_type": "stream",
     "text": [
      "Building new vocabulary and training the fasttext model\n"
     ]
    },
    {
     "name": "stderr",
     "output_type": "stream",
     "text": [
      "\r",
      "  0%|          | 0/72000 [00:00<?, ?it/s]"
     ]
    },
    {
     "name": "stdout",
     "output_type": "stream",
     "text": [
      "transforming while training fasttext model with new data.\n"
     ]
    },
    {
     "name": "stderr",
     "output_type": "stream",
     "text": [
      "100%|██████████| 72000/72000 [00:08<00:00, 8344.03it/s]\n",
      "100%|██████████| 72000/72000 [00:00<00:00, 220665.25it/s]\n",
      "  0%|          | 0/8000 [00:00<?, ?it/s]"
     ]
    },
    {
     "name": "stdout",
     "output_type": "stream",
     "text": [
      "transforming while training fasttext model with new data.\n"
     ]
    },
    {
     "name": "stderr",
     "output_type": "stream",
     "text": [
      "100%|██████████| 8000/8000 [00:01<00:00, 6008.80it/s]\n",
      "100%|██████████| 8000/8000 [00:00<00:00, 176097.15it/s]\n",
      "  0%|          | 0/72000 [00:00<?, ?it/s]"
     ]
    },
    {
     "name": "stdout",
     "output_type": "stream",
     "text": [
      "transforming while training fasttext model with new data.\n"
     ]
    },
    {
     "name": "stderr",
     "output_type": "stream",
     "text": [
      "100%|██████████| 72000/72000 [00:08<00:00, 8204.58it/s]\n",
      "100%|██████████| 72000/72000 [00:00<00:00, 218066.23it/s]\n"
     ]
    },
    {
     "name": "stdout",
     "output_type": "stream",
     "text": [
      "Building new vocabulary and training the fasttext model\n"
     ]
    },
    {
     "name": "stderr",
     "output_type": "stream",
     "text": [
      "\r",
      "  0%|          | 0/72000 [00:00<?, ?it/s]"
     ]
    },
    {
     "name": "stdout",
     "output_type": "stream",
     "text": [
      "transforming while training fasttext model with new data.\n"
     ]
    },
    {
     "name": "stderr",
     "output_type": "stream",
     "text": [
      "100%|██████████| 72000/72000 [00:08<00:00, 8499.86it/s]\n",
      "100%|██████████| 72000/72000 [00:00<00:00, 221483.67it/s]\n",
      "  0%|          | 0/8000 [00:00<?, ?it/s]"
     ]
    },
    {
     "name": "stdout",
     "output_type": "stream",
     "text": [
      "transforming while training fasttext model with new data.\n"
     ]
    },
    {
     "name": "stderr",
     "output_type": "stream",
     "text": [
      "100%|██████████| 8000/8000 [00:01<00:00, 5254.03it/s]\n",
      "100%|██████████| 8000/8000 [00:00<00:00, 172213.55it/s]\n",
      "  0%|          | 0/72000 [00:00<?, ?it/s]"
     ]
    },
    {
     "name": "stdout",
     "output_type": "stream",
     "text": [
      "transforming while training fasttext model with new data.\n"
     ]
    },
    {
     "name": "stderr",
     "output_type": "stream",
     "text": [
      "100%|██████████| 72000/72000 [00:09<00:00, 7768.51it/s]\n",
      "100%|██████████| 72000/72000 [00:00<00:00, 218107.65it/s]\n"
     ]
    },
    {
     "name": "stdout",
     "output_type": "stream",
     "text": [
      "Building new vocabulary and training the fasttext model\n"
     ]
    },
    {
     "name": "stderr",
     "output_type": "stream",
     "text": [
      "\r",
      "  0%|          | 0/72000 [00:00<?, ?it/s]"
     ]
    },
    {
     "name": "stdout",
     "output_type": "stream",
     "text": [
      "transforming while training fasttext model with new data.\n"
     ]
    },
    {
     "name": "stderr",
     "output_type": "stream",
     "text": [
      "100%|██████████| 72000/72000 [00:08<00:00, 8626.27it/s]\n",
      "100%|██████████| 72000/72000 [00:00<00:00, 224043.56it/s]\n",
      "  0%|          | 0/8000 [00:00<?, ?it/s]"
     ]
    },
    {
     "name": "stdout",
     "output_type": "stream",
     "text": [
      "transforming while training fasttext model with new data.\n"
     ]
    },
    {
     "name": "stderr",
     "output_type": "stream",
     "text": [
      "100%|██████████| 8000/8000 [00:01<00:00, 5804.49it/s]\n",
      "100%|██████████| 8000/8000 [00:00<00:00, 178721.53it/s]\n",
      "  0%|          | 0/72000 [00:00<?, ?it/s]"
     ]
    },
    {
     "name": "stdout",
     "output_type": "stream",
     "text": [
      "transforming while training fasttext model with new data.\n"
     ]
    },
    {
     "name": "stderr",
     "output_type": "stream",
     "text": [
      "100%|██████████| 72000/72000 [00:08<00:00, 8603.33it/s]\n",
      "100%|██████████| 72000/72000 [00:00<00:00, 224034.09it/s]\n"
     ]
    },
    {
     "name": "stdout",
     "output_type": "stream",
     "text": [
      "Building new vocabulary and training the fasttext model\n"
     ]
    },
    {
     "name": "stderr",
     "output_type": "stream",
     "text": [
      "\r",
      "  0%|          | 0/72000 [00:00<?, ?it/s]"
     ]
    },
    {
     "name": "stdout",
     "output_type": "stream",
     "text": [
      "transforming while training fasttext model with new data.\n"
     ]
    },
    {
     "name": "stderr",
     "output_type": "stream",
     "text": [
      "100%|██████████| 72000/72000 [00:08<00:00, 8436.52it/s]\n",
      "100%|██████████| 72000/72000 [00:00<00:00, 206991.82it/s]\n",
      "  0%|          | 0/8000 [00:00<?, ?it/s]"
     ]
    },
    {
     "name": "stdout",
     "output_type": "stream",
     "text": [
      "transforming while training fasttext model with new data.\n"
     ]
    },
    {
     "name": "stderr",
     "output_type": "stream",
     "text": [
      "100%|██████████| 8000/8000 [00:01<00:00, 5677.47it/s]\n",
      "100%|██████████| 8000/8000 [00:00<00:00, 208664.05it/s]\n",
      "  0%|          | 0/72000 [00:00<?, ?it/s]"
     ]
    },
    {
     "name": "stdout",
     "output_type": "stream",
     "text": [
      "transforming while training fasttext model with new data.\n"
     ]
    },
    {
     "name": "stderr",
     "output_type": "stream",
     "text": [
      "100%|██████████| 72000/72000 [00:08<00:00, 8366.07it/s]\n",
      "100%|██████████| 72000/72000 [00:00<00:00, 217531.53it/s]\n"
     ]
    },
    {
     "name": "stdout",
     "output_type": "stream",
     "text": [
      "Building new vocabulary and training the fasttext model\n"
     ]
    },
    {
     "name": "stderr",
     "output_type": "stream",
     "text": [
      "\r",
      "  0%|          | 0/72000 [00:00<?, ?it/s]"
     ]
    },
    {
     "name": "stdout",
     "output_type": "stream",
     "text": [
      "transforming while training fasttext model with new data.\n"
     ]
    },
    {
     "name": "stderr",
     "output_type": "stream",
     "text": [
      "100%|██████████| 72000/72000 [00:08<00:00, 8358.48it/s]\n",
      "100%|██████████| 72000/72000 [00:00<00:00, 222922.42it/s]\n",
      "  0%|          | 0/8000 [00:00<?, ?it/s]"
     ]
    },
    {
     "name": "stdout",
     "output_type": "stream",
     "text": [
      "transforming while training fasttext model with new data.\n"
     ]
    },
    {
     "name": "stderr",
     "output_type": "stream",
     "text": [
      "100%|██████████| 8000/8000 [00:01<00:00, 5562.52it/s]\n",
      "100%|██████████| 8000/8000 [00:00<00:00, 203968.39it/s]\n",
      "  0%|          | 0/72000 [00:00<?, ?it/s]"
     ]
    },
    {
     "name": "stdout",
     "output_type": "stream",
     "text": [
      "transforming while training fasttext model with new data.\n"
     ]
    },
    {
     "name": "stderr",
     "output_type": "stream",
     "text": [
      "100%|██████████| 72000/72000 [00:08<00:00, 8382.94it/s]\n",
      "100%|██████████| 72000/72000 [00:00<00:00, 223307.00it/s]\n"
     ]
    },
    {
     "name": "stdout",
     "output_type": "stream",
     "text": [
      "Building new vocabulary and training the fasttext model\n"
     ]
    },
    {
     "name": "stderr",
     "output_type": "stream",
     "text": [
      "\r",
      "  0%|          | 0/72000 [00:00<?, ?it/s]"
     ]
    },
    {
     "name": "stdout",
     "output_type": "stream",
     "text": [
      "transforming while training fasttext model with new data.\n"
     ]
    },
    {
     "name": "stderr",
     "output_type": "stream",
     "text": [
      "100%|██████████| 72000/72000 [00:09<00:00, 7978.08it/s]\n",
      "100%|██████████| 72000/72000 [00:00<00:00, 205632.68it/s]\n",
      "  0%|          | 0/8000 [00:00<?, ?it/s]"
     ]
    },
    {
     "name": "stdout",
     "output_type": "stream",
     "text": [
      "transforming while training fasttext model with new data.\n"
     ]
    },
    {
     "name": "stderr",
     "output_type": "stream",
     "text": [
      "100%|██████████| 8000/8000 [00:01<00:00, 5366.22it/s]\n",
      "100%|██████████| 8000/8000 [00:00<00:00, 191631.20it/s]\n",
      "  0%|          | 0/72000 [00:00<?, ?it/s]"
     ]
    },
    {
     "name": "stdout",
     "output_type": "stream",
     "text": [
      "transforming while training fasttext model with new data.\n"
     ]
    },
    {
     "name": "stderr",
     "output_type": "stream",
     "text": [
      "100%|██████████| 72000/72000 [00:08<00:00, 8407.09it/s]\n",
      "100%|██████████| 72000/72000 [00:00<00:00, 211138.33it/s]\n"
     ]
    },
    {
     "name": "stdout",
     "output_type": "stream",
     "text": [
      "Building new vocabulary and training the fasttext model\n"
     ]
    },
    {
     "name": "stderr",
     "output_type": "stream",
     "text": [
      "\r",
      "  0%|          | 0/72000 [00:00<?, ?it/s]"
     ]
    },
    {
     "name": "stdout",
     "output_type": "stream",
     "text": [
      "transforming while training fasttext model with new data.\n"
     ]
    },
    {
     "name": "stderr",
     "output_type": "stream",
     "text": [
      "100%|██████████| 72000/72000 [00:08<00:00, 8206.96it/s]\n",
      "100%|██████████| 72000/72000 [00:00<00:00, 193487.26it/s]\n",
      "  0%|          | 0/8000 [00:00<?, ?it/s]"
     ]
    },
    {
     "name": "stdout",
     "output_type": "stream",
     "text": [
      "transforming while training fasttext model with new data.\n"
     ]
    },
    {
     "name": "stderr",
     "output_type": "stream",
     "text": [
      "100%|██████████| 8000/8000 [00:01<00:00, 5616.26it/s]\n",
      "100%|██████████| 8000/8000 [00:00<00:00, 170230.29it/s]\n",
      "  0%|          | 0/72000 [00:00<?, ?it/s]"
     ]
    },
    {
     "name": "stdout",
     "output_type": "stream",
     "text": [
      "transforming while training fasttext model with new data.\n"
     ]
    },
    {
     "name": "stderr",
     "output_type": "stream",
     "text": [
      "100%|██████████| 72000/72000 [00:09<00:00, 7880.93it/s]\n",
      "100%|██████████| 72000/72000 [00:00<00:00, 205304.71it/s]\n"
     ]
    },
    {
     "name": "stdout",
     "output_type": "stream",
     "text": [
      "Building new vocabulary and training the fasttext model\n"
     ]
    },
    {
     "name": "stderr",
     "output_type": "stream",
     "text": [
      "\r",
      "  0%|          | 0/72000 [00:00<?, ?it/s]"
     ]
    },
    {
     "name": "stdout",
     "output_type": "stream",
     "text": [
      "transforming while training fasttext model with new data.\n"
     ]
    },
    {
     "name": "stderr",
     "output_type": "stream",
     "text": [
      "100%|██████████| 72000/72000 [00:07<00:00, 9249.11it/s] \n",
      "100%|██████████| 72000/72000 [00:00<00:00, 243163.52it/s]\n",
      "  0%|          | 0/8000 [00:00<?, ?it/s]"
     ]
    },
    {
     "name": "stdout",
     "output_type": "stream",
     "text": [
      "transforming while training fasttext model with new data.\n"
     ]
    },
    {
     "name": "stderr",
     "output_type": "stream",
     "text": [
      "100%|██████████| 8000/8000 [00:01<00:00, 6614.35it/s]\n",
      "100%|██████████| 8000/8000 [00:00<00:00, 182490.97it/s]\n",
      "  0%|          | 0/72000 [00:00<?, ?it/s]"
     ]
    },
    {
     "name": "stdout",
     "output_type": "stream",
     "text": [
      "transforming while training fasttext model with new data.\n"
     ]
    },
    {
     "name": "stderr",
     "output_type": "stream",
     "text": [
      "100%|██████████| 72000/72000 [00:07<00:00, 9248.49it/s] \n",
      "100%|██████████| 72000/72000 [00:00<00:00, 247319.43it/s]\n"
     ]
    },
    {
     "name": "stdout",
     "output_type": "stream",
     "text": [
      "Building new vocabulary and training the fasttext model\n"
     ]
    },
    {
     "name": "stderr",
     "output_type": "stream",
     "text": [
      "\r",
      "  0%|          | 0/72000 [00:00<?, ?it/s]"
     ]
    },
    {
     "name": "stdout",
     "output_type": "stream",
     "text": [
      "transforming while training fasttext model with new data.\n"
     ]
    },
    {
     "name": "stderr",
     "output_type": "stream",
     "text": [
      "100%|██████████| 72000/72000 [00:08<00:00, 8496.53it/s]\n",
      "100%|██████████| 72000/72000 [00:00<00:00, 192499.96it/s]\n",
      "  0%|          | 0/8000 [00:00<?, ?it/s]"
     ]
    },
    {
     "name": "stdout",
     "output_type": "stream",
     "text": [
      "transforming while training fasttext model with new data.\n"
     ]
    },
    {
     "name": "stderr",
     "output_type": "stream",
     "text": [
      "100%|██████████| 8000/8000 [00:01<00:00, 6675.19it/s]\n",
      "100%|██████████| 8000/8000 [00:00<00:00, 235286.42it/s]\n",
      "  0%|          | 0/72000 [00:00<?, ?it/s]"
     ]
    },
    {
     "name": "stdout",
     "output_type": "stream",
     "text": [
      "transforming while training fasttext model with new data.\n"
     ]
    },
    {
     "name": "stderr",
     "output_type": "stream",
     "text": [
      "100%|██████████| 72000/72000 [00:08<00:00, 8047.53it/s]\n",
      "100%|██████████| 72000/72000 [00:00<00:00, 221642.33it/s]\n"
     ]
    },
    {
     "name": "stdout",
     "output_type": "stream",
     "text": [
      "Building new vocabulary and training the fasttext model\n"
     ]
    },
    {
     "name": "stderr",
     "output_type": "stream",
     "text": [
      "\r",
      "  0%|          | 0/72000 [00:00<?, ?it/s]"
     ]
    },
    {
     "name": "stdout",
     "output_type": "stream",
     "text": [
      "transforming while training fasttext model with new data.\n"
     ]
    },
    {
     "name": "stderr",
     "output_type": "stream",
     "text": [
      "100%|██████████| 72000/72000 [00:09<00:00, 7645.97it/s]\n",
      "100%|██████████| 72000/72000 [00:00<00:00, 216261.15it/s]\n",
      "  0%|          | 0/8000 [00:00<?, ?it/s]"
     ]
    },
    {
     "name": "stdout",
     "output_type": "stream",
     "text": [
      "transforming while training fasttext model with new data.\n"
     ]
    },
    {
     "name": "stderr",
     "output_type": "stream",
     "text": [
      "100%|██████████| 8000/8000 [00:01<00:00, 6862.68it/s]\n",
      "100%|██████████| 8000/8000 [00:00<00:00, 194154.90it/s]\n",
      "  0%|          | 0/72000 [00:00<?, ?it/s]"
     ]
    },
    {
     "name": "stdout",
     "output_type": "stream",
     "text": [
      "transforming while training fasttext model with new data.\n"
     ]
    },
    {
     "name": "stderr",
     "output_type": "stream",
     "text": [
      "100%|██████████| 72000/72000 [00:08<00:00, 8272.88it/s]\n",
      "100%|██████████| 72000/72000 [00:00<00:00, 230872.41it/s]\n"
     ]
    },
    {
     "name": "stdout",
     "output_type": "stream",
     "text": [
      "Building new vocabulary and training the fasttext model\n"
     ]
    },
    {
     "name": "stderr",
     "output_type": "stream",
     "text": [
      "\r",
      "  0%|          | 0/72000 [00:00<?, ?it/s]"
     ]
    },
    {
     "name": "stdout",
     "output_type": "stream",
     "text": [
      "transforming while training fasttext model with new data.\n"
     ]
    },
    {
     "name": "stderr",
     "output_type": "stream",
     "text": [
      "100%|██████████| 72000/72000 [00:08<00:00, 8286.94it/s]\n",
      "100%|██████████| 72000/72000 [00:00<00:00, 198065.77it/s]\n",
      "  0%|          | 0/8000 [00:00<?, ?it/s]"
     ]
    },
    {
     "name": "stdout",
     "output_type": "stream",
     "text": [
      "transforming while training fasttext model with new data.\n"
     ]
    },
    {
     "name": "stderr",
     "output_type": "stream",
     "text": [
      "100%|██████████| 8000/8000 [00:01<00:00, 6869.64it/s]\n",
      "100%|██████████| 8000/8000 [00:00<00:00, 173097.50it/s]\n",
      "  0%|          | 0/72000 [00:00<?, ?it/s]"
     ]
    },
    {
     "name": "stdout",
     "output_type": "stream",
     "text": [
      "transforming while training fasttext model with new data.\n"
     ]
    },
    {
     "name": "stderr",
     "output_type": "stream",
     "text": [
      "100%|██████████| 72000/72000 [00:08<00:00, 8577.93it/s]\n",
      "100%|██████████| 72000/72000 [00:00<00:00, 227680.28it/s]\n"
     ]
    },
    {
     "name": "stdout",
     "output_type": "stream",
     "text": [
      "Building new vocabulary and training the fasttext model\n"
     ]
    },
    {
     "name": "stderr",
     "output_type": "stream",
     "text": [
      "\r",
      "  0%|          | 0/72000 [00:00<?, ?it/s]"
     ]
    },
    {
     "name": "stdout",
     "output_type": "stream",
     "text": [
      "transforming while training fasttext model with new data.\n"
     ]
    },
    {
     "name": "stderr",
     "output_type": "stream",
     "text": [
      "100%|██████████| 72000/72000 [00:08<00:00, 8531.11it/s]\n",
      "100%|██████████| 72000/72000 [00:00<00:00, 219994.28it/s]\n",
      "  0%|          | 0/8000 [00:00<?, ?it/s]"
     ]
    },
    {
     "name": "stdout",
     "output_type": "stream",
     "text": [
      "transforming while training fasttext model with new data.\n"
     ]
    },
    {
     "name": "stderr",
     "output_type": "stream",
     "text": [
      "100%|██████████| 8000/8000 [00:01<00:00, 7352.18it/s]\n",
      "100%|██████████| 8000/8000 [00:00<00:00, 239845.83it/s]\n",
      "  0%|          | 0/72000 [00:00<?, ?it/s]"
     ]
    },
    {
     "name": "stdout",
     "output_type": "stream",
     "text": [
      "transforming while training fasttext model with new data.\n"
     ]
    },
    {
     "name": "stderr",
     "output_type": "stream",
     "text": [
      "100%|██████████| 72000/72000 [00:08<00:00, 8271.79it/s]\n",
      "100%|██████████| 72000/72000 [00:00<00:00, 208573.41it/s]\n"
     ]
    },
    {
     "name": "stdout",
     "output_type": "stream",
     "text": [
      "Building new vocabulary and training the fasttext model\n"
     ]
    },
    {
     "name": "stderr",
     "output_type": "stream",
     "text": [
      "\r",
      "  0%|          | 0/72000 [00:00<?, ?it/s]"
     ]
    },
    {
     "name": "stdout",
     "output_type": "stream",
     "text": [
      "transforming while training fasttext model with new data.\n"
     ]
    },
    {
     "name": "stderr",
     "output_type": "stream",
     "text": [
      "100%|██████████| 72000/72000 [00:08<00:00, 8553.61it/s]\n",
      "100%|██████████| 72000/72000 [00:00<00:00, 241999.05it/s]\n",
      "  0%|          | 0/8000 [00:00<?, ?it/s]"
     ]
    },
    {
     "name": "stdout",
     "output_type": "stream",
     "text": [
      "transforming while training fasttext model with new data.\n"
     ]
    },
    {
     "name": "stderr",
     "output_type": "stream",
     "text": [
      "100%|██████████| 8000/8000 [00:01<00:00, 6264.00it/s]\n",
      "100%|██████████| 8000/8000 [00:00<00:00, 212536.62it/s]\n",
      "  0%|          | 0/72000 [00:00<?, ?it/s]"
     ]
    },
    {
     "name": "stdout",
     "output_type": "stream",
     "text": [
      "transforming while training fasttext model with new data.\n"
     ]
    },
    {
     "name": "stderr",
     "output_type": "stream",
     "text": [
      "100%|██████████| 72000/72000 [00:09<00:00, 7844.12it/s]\n",
      "100%|██████████| 72000/72000 [00:00<00:00, 218762.71it/s]\n"
     ]
    },
    {
     "name": "stdout",
     "output_type": "stream",
     "text": [
      "Building new vocabulary and training the fasttext model\n"
     ]
    },
    {
     "name": "stderr",
     "output_type": "stream",
     "text": [
      "\r",
      "  0%|          | 0/72000 [00:00<?, ?it/s]"
     ]
    },
    {
     "name": "stdout",
     "output_type": "stream",
     "text": [
      "transforming while training fasttext model with new data.\n"
     ]
    },
    {
     "name": "stderr",
     "output_type": "stream",
     "text": [
      "100%|██████████| 72000/72000 [00:08<00:00, 8321.46it/s]\n",
      "100%|██████████| 72000/72000 [00:00<00:00, 234276.49it/s]\n",
      "  0%|          | 0/8000 [00:00<?, ?it/s]"
     ]
    },
    {
     "name": "stdout",
     "output_type": "stream",
     "text": [
      "transforming while training fasttext model with new data.\n"
     ]
    },
    {
     "name": "stderr",
     "output_type": "stream",
     "text": [
      "100%|██████████| 8000/8000 [00:01<00:00, 7183.97it/s]\n",
      "100%|██████████| 8000/8000 [00:00<00:00, 189984.16it/s]\n",
      "  0%|          | 0/72000 [00:00<?, ?it/s]"
     ]
    },
    {
     "name": "stdout",
     "output_type": "stream",
     "text": [
      "transforming while training fasttext model with new data.\n"
     ]
    },
    {
     "name": "stderr",
     "output_type": "stream",
     "text": [
      "100%|██████████| 72000/72000 [00:08<00:00, 8030.98it/s]\n",
      "100%|██████████| 72000/72000 [00:00<00:00, 197521.02it/s]\n"
     ]
    },
    {
     "name": "stdout",
     "output_type": "stream",
     "text": [
      "Building new vocabulary and training the fasttext model\n"
     ]
    },
    {
     "name": "stderr",
     "output_type": "stream",
     "text": [
      "\r",
      "  0%|          | 0/72000 [00:00<?, ?it/s]"
     ]
    },
    {
     "name": "stdout",
     "output_type": "stream",
     "text": [
      "transforming while training fasttext model with new data.\n"
     ]
    },
    {
     "name": "stderr",
     "output_type": "stream",
     "text": [
      "100%|██████████| 72000/72000 [00:08<00:00, 8506.97it/s]\n",
      "100%|██████████| 72000/72000 [00:00<00:00, 226388.73it/s]\n",
      "  0%|          | 0/8000 [00:00<?, ?it/s]"
     ]
    },
    {
     "name": "stdout",
     "output_type": "stream",
     "text": [
      "transforming while training fasttext model with new data.\n"
     ]
    },
    {
     "name": "stderr",
     "output_type": "stream",
     "text": [
      "100%|██████████| 8000/8000 [00:01<00:00, 6323.52it/s]\n",
      "100%|██████████| 8000/8000 [00:00<00:00, 166548.03it/s]\n",
      "  0%|          | 0/72000 [00:00<?, ?it/s]"
     ]
    },
    {
     "name": "stdout",
     "output_type": "stream",
     "text": [
      "transforming while training fasttext model with new data.\n"
     ]
    },
    {
     "name": "stderr",
     "output_type": "stream",
     "text": [
      "100%|██████████| 72000/72000 [00:08<00:00, 8755.66it/s] \n",
      "100%|██████████| 72000/72000 [00:00<00:00, 217268.76it/s]\n"
     ]
    },
    {
     "name": "stdout",
     "output_type": "stream",
     "text": [
      "Building new vocabulary and training the fasttext model\n"
     ]
    },
    {
     "name": "stderr",
     "output_type": "stream",
     "text": [
      "\r",
      "  0%|          | 0/72000 [00:00<?, ?it/s]"
     ]
    },
    {
     "name": "stdout",
     "output_type": "stream",
     "text": [
      "transforming while training fasttext model with new data.\n"
     ]
    },
    {
     "name": "stderr",
     "output_type": "stream",
     "text": [
      "100%|██████████| 72000/72000 [00:08<00:00, 8983.07it/s]\n",
      "100%|██████████| 72000/72000 [00:00<00:00, 213204.80it/s]\n",
      "  0%|          | 0/8000 [00:00<?, ?it/s]"
     ]
    },
    {
     "name": "stdout",
     "output_type": "stream",
     "text": [
      "transforming while training fasttext model with new data.\n"
     ]
    },
    {
     "name": "stderr",
     "output_type": "stream",
     "text": [
      "100%|██████████| 8000/8000 [00:01<00:00, 6390.73it/s]\n",
      "100%|██████████| 8000/8000 [00:00<00:00, 169271.06it/s]\n",
      "  0%|          | 0/72000 [00:00<?, ?it/s]"
     ]
    },
    {
     "name": "stdout",
     "output_type": "stream",
     "text": [
      "transforming while training fasttext model with new data.\n"
     ]
    },
    {
     "name": "stderr",
     "output_type": "stream",
     "text": [
      "100%|██████████| 72000/72000 [00:08<00:00, 8180.92it/s]\n",
      "100%|██████████| 72000/72000 [00:00<00:00, 230389.98it/s]\n"
     ]
    },
    {
     "name": "stdout",
     "output_type": "stream",
     "text": [
      "Building new vocabulary and training the fasttext model\n"
     ]
    },
    {
     "name": "stderr",
     "output_type": "stream",
     "text": [
      "\r",
      "  0%|          | 0/72000 [00:00<?, ?it/s]"
     ]
    },
    {
     "name": "stdout",
     "output_type": "stream",
     "text": [
      "transforming while training fasttext model with new data.\n"
     ]
    },
    {
     "name": "stderr",
     "output_type": "stream",
     "text": [
      "100%|██████████| 72000/72000 [00:08<00:00, 8283.75it/s]\n",
      "100%|██████████| 72000/72000 [00:00<00:00, 228006.72it/s]\n",
      "  0%|          | 0/8000 [00:00<?, ?it/s]"
     ]
    },
    {
     "name": "stdout",
     "output_type": "stream",
     "text": [
      "transforming while training fasttext model with new data.\n"
     ]
    },
    {
     "name": "stderr",
     "output_type": "stream",
     "text": [
      "100%|██████████| 8000/8000 [00:01<00:00, 6849.38it/s]\n",
      "100%|██████████| 8000/8000 [00:00<00:00, 173768.03it/s]\n",
      "  0%|          | 0/72000 [00:00<?, ?it/s]"
     ]
    },
    {
     "name": "stdout",
     "output_type": "stream",
     "text": [
      "transforming while training fasttext model with new data.\n"
     ]
    },
    {
     "name": "stderr",
     "output_type": "stream",
     "text": [
      "100%|██████████| 72000/72000 [00:08<00:00, 8969.56it/s]\n",
      "100%|██████████| 72000/72000 [00:00<00:00, 242044.05it/s]\n"
     ]
    },
    {
     "name": "stdout",
     "output_type": "stream",
     "text": [
      "Building new vocabulary and training the word2vec model\n"
     ]
    },
    {
     "name": "stderr",
     "output_type": "stream",
     "text": [
      "  1%|          | 625/72000 [00:00<00:11, 6245.72it/s]"
     ]
    },
    {
     "name": "stdout",
     "output_type": "stream",
     "text": [
      "transforming while training word2vec model with new data.\n"
     ]
    },
    {
     "name": "stderr",
     "output_type": "stream",
     "text": [
      "100%|██████████| 72000/72000 [00:07<00:00, 9132.47it/s] \n",
      "100%|██████████| 72000/72000 [00:00<00:00, 247803.25it/s]\n",
      "  7%|▋         | 562/8000 [00:00<00:01, 5615.07it/s]"
     ]
    },
    {
     "name": "stdout",
     "output_type": "stream",
     "text": [
      "transforming while training word2vec model with new data.\n"
     ]
    },
    {
     "name": "stderr",
     "output_type": "stream",
     "text": [
      "100%|██████████| 8000/8000 [00:00<00:00, 9020.32it/s]\n",
      "100%|██████████| 8000/8000 [00:00<00:00, 250120.62it/s]\n",
      "  2%|▏         | 1684/72000 [00:00<00:08, 7872.61it/s]"
     ]
    },
    {
     "name": "stdout",
     "output_type": "stream",
     "text": [
      "transforming while training word2vec model with new data.\n"
     ]
    },
    {
     "name": "stderr",
     "output_type": "stream",
     "text": [
      "100%|██████████| 72000/72000 [00:07<00:00, 9970.14it/s] \n",
      "100%|██████████| 72000/72000 [00:00<00:00, 244415.00it/s]\n"
     ]
    },
    {
     "name": "stdout",
     "output_type": "stream",
     "text": [
      "Building new vocabulary and training the word2vec model\n"
     ]
    },
    {
     "name": "stderr",
     "output_type": "stream",
     "text": [
      "  1%|          | 630/72000 [00:00<00:11, 6299.77it/s]"
     ]
    },
    {
     "name": "stdout",
     "output_type": "stream",
     "text": [
      "transforming while training word2vec model with new data.\n"
     ]
    },
    {
     "name": "stderr",
     "output_type": "stream",
     "text": [
      "100%|██████████| 72000/72000 [00:07<00:00, 10049.91it/s]\n",
      "100%|██████████| 72000/72000 [00:00<00:00, 236812.65it/s]\n",
      "  8%|▊         | 620/8000 [00:00<00:01, 6196.49it/s]"
     ]
    },
    {
     "name": "stdout",
     "output_type": "stream",
     "text": [
      "transforming while training word2vec model with new data.\n"
     ]
    },
    {
     "name": "stderr",
     "output_type": "stream",
     "text": [
      "100%|██████████| 8000/8000 [00:00<00:00, 9078.99it/s]\n",
      "100%|██████████| 8000/8000 [00:00<00:00, 265239.85it/s]\n",
      "  1%|          | 642/72000 [00:00<00:11, 6419.16it/s]"
     ]
    },
    {
     "name": "stdout",
     "output_type": "stream",
     "text": [
      "transforming while training word2vec model with new data.\n"
     ]
    },
    {
     "name": "stderr",
     "output_type": "stream",
     "text": [
      "100%|██████████| 72000/72000 [00:07<00:00, 9411.61it/s] \n",
      "100%|██████████| 72000/72000 [00:00<00:00, 216405.59it/s]\n"
     ]
    },
    {
     "name": "stdout",
     "output_type": "stream",
     "text": [
      "Building new vocabulary and training the word2vec model\n"
     ]
    },
    {
     "name": "stderr",
     "output_type": "stream",
     "text": [
      "  1%|          | 557/72000 [00:00<00:12, 5566.48it/s]"
     ]
    },
    {
     "name": "stdout",
     "output_type": "stream",
     "text": [
      "transforming while training word2vec model with new data.\n"
     ]
    },
    {
     "name": "stderr",
     "output_type": "stream",
     "text": [
      "100%|██████████| 72000/72000 [00:07<00:00, 9867.70it/s] \n",
      "100%|██████████| 72000/72000 [00:00<00:00, 245907.29it/s]\n",
      "  9%|▊         | 696/8000 [00:00<00:01, 6956.56it/s]"
     ]
    },
    {
     "name": "stdout",
     "output_type": "stream",
     "text": [
      "transforming while training word2vec model with new data.\n"
     ]
    },
    {
     "name": "stderr",
     "output_type": "stream",
     "text": [
      "100%|██████████| 8000/8000 [00:00<00:00, 9090.54it/s]\n",
      "100%|██████████| 8000/8000 [00:00<00:00, 194167.26it/s]\n",
      "  1%|          | 541/72000 [00:00<00:13, 5400.94it/s]"
     ]
    },
    {
     "name": "stdout",
     "output_type": "stream",
     "text": [
      "transforming while training word2vec model with new data.\n"
     ]
    },
    {
     "name": "stderr",
     "output_type": "stream",
     "text": [
      "100%|██████████| 72000/72000 [00:07<00:00, 9299.15it/s] \n",
      "100%|██████████| 72000/72000 [00:00<00:00, 256585.54it/s]\n"
     ]
    },
    {
     "name": "stdout",
     "output_type": "stream",
     "text": [
      "Building new vocabulary and training the word2vec model\n"
     ]
    },
    {
     "name": "stderr",
     "output_type": "stream",
     "text": [
      "  1%|          | 613/72000 [00:00<00:11, 6128.47it/s]"
     ]
    },
    {
     "name": "stdout",
     "output_type": "stream",
     "text": [
      "transforming while training word2vec model with new data.\n"
     ]
    },
    {
     "name": "stderr",
     "output_type": "stream",
     "text": [
      "100%|██████████| 72000/72000 [00:08<00:00, 8990.57it/s] \n",
      "100%|██████████| 72000/72000 [00:00<00:00, 200130.74it/s]\n",
      "  7%|▋         | 588/8000 [00:00<00:01, 5873.35it/s]"
     ]
    },
    {
     "name": "stdout",
     "output_type": "stream",
     "text": [
      "transforming while training word2vec model with new data.\n"
     ]
    },
    {
     "name": "stderr",
     "output_type": "stream",
     "text": [
      "100%|██████████| 8000/8000 [00:00<00:00, 8981.88it/s]\n",
      "100%|██████████| 8000/8000 [00:00<00:00, 222401.83it/s]\n",
      "  1%|          | 614/72000 [00:00<00:11, 6134.92it/s]"
     ]
    },
    {
     "name": "stdout",
     "output_type": "stream",
     "text": [
      "transforming while training word2vec model with new data.\n"
     ]
    },
    {
     "name": "stderr",
     "output_type": "stream",
     "text": [
      "100%|██████████| 72000/72000 [00:07<00:00, 9547.96it/s] \n",
      "100%|██████████| 72000/72000 [00:00<00:00, 269327.71it/s]\n"
     ]
    },
    {
     "name": "stdout",
     "output_type": "stream",
     "text": [
      "Building new vocabulary and training the word2vec model\n"
     ]
    },
    {
     "name": "stderr",
     "output_type": "stream",
     "text": [
      "  1%|          | 467/72000 [00:00<00:15, 4667.48it/s]"
     ]
    },
    {
     "name": "stdout",
     "output_type": "stream",
     "text": [
      "transforming while training word2vec model with new data.\n"
     ]
    },
    {
     "name": "stderr",
     "output_type": "stream",
     "text": [
      "100%|██████████| 72000/72000 [00:07<00:00, 9219.91it/s] \n",
      "100%|██████████| 72000/72000 [00:00<00:00, 231485.44it/s]\n",
      "  9%|▉         | 713/8000 [00:00<00:01, 7124.84it/s]"
     ]
    },
    {
     "name": "stdout",
     "output_type": "stream",
     "text": [
      "transforming while training word2vec model with new data.\n"
     ]
    },
    {
     "name": "stderr",
     "output_type": "stream",
     "text": [
      "100%|██████████| 8000/8000 [00:00<00:00, 9597.02it/s]\n",
      "100%|██████████| 8000/8000 [00:00<00:00, 198149.46it/s]\n",
      "  1%|          | 738/72000 [00:00<00:09, 7377.91it/s]"
     ]
    },
    {
     "name": "stdout",
     "output_type": "stream",
     "text": [
      "transforming while training word2vec model with new data.\n"
     ]
    },
    {
     "name": "stderr",
     "output_type": "stream",
     "text": [
      "100%|██████████| 72000/72000 [00:06<00:00, 10389.81it/s]\n",
      "100%|██████████| 72000/72000 [00:00<00:00, 269750.40it/s]\n"
     ]
    },
    {
     "name": "stdout",
     "output_type": "stream",
     "text": [
      "Building new vocabulary and training the word2vec model\n"
     ]
    },
    {
     "name": "stderr",
     "output_type": "stream",
     "text": [
      "  1%|          | 607/72000 [00:00<00:11, 6067.55it/s]"
     ]
    },
    {
     "name": "stdout",
     "output_type": "stream",
     "text": [
      "transforming while training word2vec model with new data.\n"
     ]
    },
    {
     "name": "stderr",
     "output_type": "stream",
     "text": [
      "100%|██████████| 72000/72000 [00:06<00:00, 10446.23it/s]\n",
      "100%|██████████| 72000/72000 [00:00<00:00, 258824.66it/s]\n",
      "  8%|▊         | 673/8000 [00:00<00:01, 6729.46it/s]"
     ]
    },
    {
     "name": "stdout",
     "output_type": "stream",
     "text": [
      "transforming while training word2vec model with new data.\n"
     ]
    },
    {
     "name": "stderr",
     "output_type": "stream",
     "text": [
      "100%|██████████| 8000/8000 [00:00<00:00, 10216.62it/s]\n",
      "100%|██████████| 8000/8000 [00:00<00:00, 199720.44it/s]\n",
      "  1%|          | 734/72000 [00:00<00:09, 7337.94it/s]"
     ]
    },
    {
     "name": "stdout",
     "output_type": "stream",
     "text": [
      "transforming while training word2vec model with new data.\n"
     ]
    },
    {
     "name": "stderr",
     "output_type": "stream",
     "text": [
      "100%|██████████| 72000/72000 [00:06<00:00, 10486.58it/s]\n",
      "100%|██████████| 72000/72000 [00:00<00:00, 267467.82it/s]\n"
     ]
    },
    {
     "name": "stdout",
     "output_type": "stream",
     "text": [
      "Building new vocabulary and training the word2vec model\n"
     ]
    },
    {
     "name": "stderr",
     "output_type": "stream",
     "text": [
      "  2%|▏         | 1561/72000 [00:00<00:10, 7016.10it/s]"
     ]
    },
    {
     "name": "stdout",
     "output_type": "stream",
     "text": [
      "transforming while training word2vec model with new data.\n"
     ]
    },
    {
     "name": "stderr",
     "output_type": "stream",
     "text": [
      "100%|██████████| 72000/72000 [00:06<00:00, 10410.32it/s]\n",
      "100%|██████████| 72000/72000 [00:00<00:00, 256266.12it/s]\n",
      " 22%|██▏       | 1787/8000 [00:00<00:00, 7967.77it/s]"
     ]
    },
    {
     "name": "stdout",
     "output_type": "stream",
     "text": [
      "transforming while training word2vec model with new data.\n"
     ]
    },
    {
     "name": "stderr",
     "output_type": "stream",
     "text": [
      "100%|██████████| 8000/8000 [00:00<00:00, 10356.75it/s]\n",
      "100%|██████████| 8000/8000 [00:00<00:00, 193917.02it/s]\n",
      "  1%|          | 740/72000 [00:00<00:09, 7397.45it/s]"
     ]
    },
    {
     "name": "stdout",
     "output_type": "stream",
     "text": [
      "transforming while training word2vec model with new data.\n"
     ]
    },
    {
     "name": "stderr",
     "output_type": "stream",
     "text": [
      "100%|██████████| 72000/72000 [00:07<00:00, 10099.02it/s]\n",
      "100%|██████████| 72000/72000 [00:00<00:00, 268845.77it/s]\n"
     ]
    },
    {
     "name": "stdout",
     "output_type": "stream",
     "text": [
      "Building new vocabulary and training the word2vec model\n"
     ]
    },
    {
     "name": "stderr",
     "output_type": "stream",
     "text": [
      "  1%|          | 519/72000 [00:00<00:13, 5184.53it/s]"
     ]
    },
    {
     "name": "stdout",
     "output_type": "stream",
     "text": [
      "transforming while training word2vec model with new data.\n"
     ]
    },
    {
     "name": "stderr",
     "output_type": "stream",
     "text": [
      "100%|██████████| 72000/72000 [00:07<00:00, 9468.52it/s] \n",
      "100%|██████████| 72000/72000 [00:00<00:00, 260060.13it/s]\n",
      "  9%|▉         | 715/8000 [00:00<00:01, 7149.21it/s]"
     ]
    },
    {
     "name": "stdout",
     "output_type": "stream",
     "text": [
      "transforming while training word2vec model with new data.\n"
     ]
    },
    {
     "name": "stderr",
     "output_type": "stream",
     "text": [
      "100%|██████████| 8000/8000 [00:00<00:00, 9007.71it/s]\n",
      "100%|██████████| 8000/8000 [00:00<00:00, 253942.45it/s]\n",
      "  2%|▏         | 1641/72000 [00:00<00:09, 7598.53it/s]"
     ]
    },
    {
     "name": "stdout",
     "output_type": "stream",
     "text": [
      "transforming while training word2vec model with new data.\n"
     ]
    },
    {
     "name": "stderr",
     "output_type": "stream",
     "text": [
      "100%|██████████| 72000/72000 [00:07<00:00, 9854.97it/s] \n",
      "100%|██████████| 72000/72000 [00:00<00:00, 254791.54it/s]\n"
     ]
    },
    {
     "name": "stdout",
     "output_type": "stream",
     "text": [
      "Building new vocabulary and training the word2vec model\n"
     ]
    },
    {
     "name": "stderr",
     "output_type": "stream",
     "text": [
      "  1%|          | 644/72000 [00:00<00:11, 6437.12it/s]"
     ]
    },
    {
     "name": "stdout",
     "output_type": "stream",
     "text": [
      "transforming while training word2vec model with new data.\n"
     ]
    },
    {
     "name": "stderr",
     "output_type": "stream",
     "text": [
      "100%|██████████| 72000/72000 [00:06<00:00, 10385.30it/s]\n",
      "100%|██████████| 72000/72000 [00:00<00:00, 233673.55it/s]\n",
      "  9%|▊         | 690/8000 [00:00<00:01, 6895.55it/s]"
     ]
    },
    {
     "name": "stdout",
     "output_type": "stream",
     "text": [
      "transforming while training word2vec model with new data.\n"
     ]
    },
    {
     "name": "stderr",
     "output_type": "stream",
     "text": [
      "100%|██████████| 8000/8000 [00:00<00:00, 10062.82it/s]\n",
      "100%|██████████| 8000/8000 [00:00<00:00, 278007.82it/s]\n",
      "  1%|          | 725/72000 [00:00<00:09, 7247.21it/s]"
     ]
    },
    {
     "name": "stdout",
     "output_type": "stream",
     "text": [
      "transforming while training word2vec model with new data.\n"
     ]
    },
    {
     "name": "stderr",
     "output_type": "stream",
     "text": [
      "100%|██████████| 72000/72000 [00:06<00:00, 10534.04it/s]\n",
      "100%|██████████| 72000/72000 [00:00<00:00, 269499.80it/s]\n"
     ]
    },
    {
     "name": "stdout",
     "output_type": "stream",
     "text": [
      "Building new vocabulary and training the word2vec model\n"
     ]
    },
    {
     "name": "stderr",
     "output_type": "stream",
     "text": [
      "  1%|          | 631/72000 [00:00<00:11, 6305.81it/s]"
     ]
    },
    {
     "name": "stdout",
     "output_type": "stream",
     "text": [
      "transforming while training word2vec model with new data.\n"
     ]
    },
    {
     "name": "stderr",
     "output_type": "stream",
     "text": [
      "100%|██████████| 72000/72000 [00:07<00:00, 9907.39it/s] \n",
      "100%|██████████| 72000/72000 [00:00<00:00, 246098.06it/s]\n",
      " 18%|█▊        | 1463/8000 [00:00<00:00, 6768.31it/s]"
     ]
    },
    {
     "name": "stdout",
     "output_type": "stream",
     "text": [
      "transforming while training word2vec model with new data.\n"
     ]
    },
    {
     "name": "stderr",
     "output_type": "stream",
     "text": [
      "100%|██████████| 8000/8000 [00:00<00:00, 9284.80it/s]\n",
      "100%|██████████| 8000/8000 [00:00<00:00, 201418.04it/s]\n",
      "  1%|          | 705/72000 [00:00<00:10, 7042.67it/s]"
     ]
    },
    {
     "name": "stdout",
     "output_type": "stream",
     "text": [
      "transforming while training word2vec model with new data.\n"
     ]
    },
    {
     "name": "stderr",
     "output_type": "stream",
     "text": [
      "100%|██████████| 72000/72000 [00:06<00:00, 10399.29it/s]\n",
      "100%|██████████| 72000/72000 [00:00<00:00, 267801.30it/s]\n"
     ]
    },
    {
     "name": "stdout",
     "output_type": "stream",
     "text": [
      "Building new vocabulary and training the word2vec model\n"
     ]
    },
    {
     "name": "stderr",
     "output_type": "stream",
     "text": [
      "  0%|          | 199/72000 [00:00<00:36, 1989.56it/s]"
     ]
    },
    {
     "name": "stdout",
     "output_type": "stream",
     "text": [
      "transforming while training word2vec model with new data.\n"
     ]
    },
    {
     "name": "stderr",
     "output_type": "stream",
     "text": [
      "100%|██████████| 72000/72000 [00:07<00:00, 10135.25it/s]\n",
      "100%|██████████| 72000/72000 [00:00<00:00, 236416.47it/s]\n",
      "  2%|▏         | 138/8000 [00:00<00:05, 1379.93it/s]"
     ]
    },
    {
     "name": "stdout",
     "output_type": "stream",
     "text": [
      "transforming while training word2vec model with new data.\n"
     ]
    },
    {
     "name": "stderr",
     "output_type": "stream",
     "text": [
      "100%|██████████| 8000/8000 [00:01<00:00, 7612.24it/s]\n",
      "100%|██████████| 8000/8000 [00:00<00:00, 203288.73it/s]\n",
      "  0%|          | 140/72000 [00:00<00:51, 1399.10it/s]"
     ]
    },
    {
     "name": "stdout",
     "output_type": "stream",
     "text": [
      "transforming while training word2vec model with new data.\n"
     ]
    },
    {
     "name": "stderr",
     "output_type": "stream",
     "text": [
      "100%|██████████| 72000/72000 [00:07<00:00, 9759.10it/s] \n",
      "100%|██████████| 72000/72000 [00:00<00:00, 243248.53it/s]\n"
     ]
    },
    {
     "name": "stdout",
     "output_type": "stream",
     "text": [
      "Building new vocabulary and training the word2vec model\n"
     ]
    },
    {
     "name": "stderr",
     "output_type": "stream",
     "text": [
      "  0%|          | 171/72000 [00:00<00:42, 1708.57it/s]"
     ]
    },
    {
     "name": "stdout",
     "output_type": "stream",
     "text": [
      "transforming while training word2vec model with new data.\n"
     ]
    },
    {
     "name": "stderr",
     "output_type": "stream",
     "text": [
      "100%|██████████| 72000/72000 [00:07<00:00, 9749.06it/s] \n",
      "100%|██████████| 72000/72000 [00:00<00:00, 235328.59it/s]\n",
      "  2%|▏         | 133/8000 [00:00<00:05, 1329.02it/s]"
     ]
    },
    {
     "name": "stdout",
     "output_type": "stream",
     "text": [
      "transforming while training word2vec model with new data.\n"
     ]
    },
    {
     "name": "stderr",
     "output_type": "stream",
     "text": [
      "100%|██████████| 8000/8000 [00:00<00:00, 8317.81it/s]\n",
      "100%|██████████| 8000/8000 [00:00<00:00, 195496.50it/s]\n",
      "  1%|▏         | 984/72000 [00:00<00:38, 1866.97it/s]"
     ]
    },
    {
     "name": "stdout",
     "output_type": "stream",
     "text": [
      "transforming while training word2vec model with new data.\n"
     ]
    },
    {
     "name": "stderr",
     "output_type": "stream",
     "text": [
      "100%|██████████| 72000/72000 [00:07<00:00, 9897.21it/s] \n",
      "100%|██████████| 72000/72000 [00:00<00:00, 245769.80it/s]\n"
     ]
    },
    {
     "name": "stdout",
     "output_type": "stream",
     "text": [
      "Building new vocabulary and training the word2vec model\n"
     ]
    },
    {
     "name": "stderr",
     "output_type": "stream",
     "text": [
      "  0%|          | 182/72000 [00:00<00:39, 1818.68it/s]"
     ]
    },
    {
     "name": "stdout",
     "output_type": "stream",
     "text": [
      "transforming while training word2vec model with new data.\n"
     ]
    },
    {
     "name": "stderr",
     "output_type": "stream",
     "text": [
      "100%|██████████| 72000/72000 [00:07<00:00, 9389.10it/s] \n",
      "100%|██████████| 72000/72000 [00:00<00:00, 236812.47it/s]\n",
      "  2%|▏         | 153/8000 [00:00<00:05, 1529.35it/s]"
     ]
    },
    {
     "name": "stdout",
     "output_type": "stream",
     "text": [
      "transforming while training word2vec model with new data.\n"
     ]
    },
    {
     "name": "stderr",
     "output_type": "stream",
     "text": [
      "100%|██████████| 8000/8000 [00:00<00:00, 9015.37it/s]\n",
      "100%|██████████| 8000/8000 [00:00<00:00, 201379.35it/s]\n",
      "  1%|▏         | 963/72000 [00:00<00:37, 1888.30it/s]"
     ]
    },
    {
     "name": "stdout",
     "output_type": "stream",
     "text": [
      "transforming while training word2vec model with new data.\n"
     ]
    },
    {
     "name": "stderr",
     "output_type": "stream",
     "text": [
      "100%|██████████| 72000/72000 [00:07<00:00, 9863.28it/s] \n",
      "100%|██████████| 72000/72000 [00:00<00:00, 246213.23it/s]\n"
     ]
    },
    {
     "name": "stdout",
     "output_type": "stream",
     "text": [
      "Building new vocabulary and training the word2vec model\n"
     ]
    },
    {
     "name": "stderr",
     "output_type": "stream",
     "text": [
      "  0%|          | 201/72000 [00:00<00:35, 2008.57it/s]"
     ]
    },
    {
     "name": "stdout",
     "output_type": "stream",
     "text": [
      "transforming while training word2vec model with new data.\n"
     ]
    },
    {
     "name": "stderr",
     "output_type": "stream",
     "text": [
      "100%|██████████| 72000/72000 [00:07<00:00, 9873.62it/s] \n",
      "100%|██████████| 72000/72000 [00:00<00:00, 236180.73it/s]\n",
      " 14%|█▍        | 1103/8000 [00:00<00:03, 1869.54it/s]"
     ]
    },
    {
     "name": "stdout",
     "output_type": "stream",
     "text": [
      "transforming while training word2vec model with new data.\n"
     ]
    },
    {
     "name": "stderr",
     "output_type": "stream",
     "text": [
      "100%|██████████| 8000/8000 [00:00<00:00, 9316.34it/s]\n",
      "100%|██████████| 8000/8000 [00:00<00:00, 193865.48it/s]\n",
      "  0%|          | 141/72000 [00:00<00:51, 1408.77it/s]"
     ]
    },
    {
     "name": "stdout",
     "output_type": "stream",
     "text": [
      "transforming while training word2vec model with new data.\n"
     ]
    },
    {
     "name": "stderr",
     "output_type": "stream",
     "text": [
      "100%|██████████| 72000/72000 [00:07<00:00, 9480.71it/s] \n",
      "100%|██████████| 72000/72000 [00:00<00:00, 211688.76it/s]\n"
     ]
    },
    {
     "name": "stdout",
     "output_type": "stream",
     "text": [
      "Building new vocabulary and training the word2vec model\n"
     ]
    },
    {
     "name": "stderr",
     "output_type": "stream",
     "text": [
      "  0%|          | 152/72000 [00:00<00:47, 1519.28it/s]"
     ]
    },
    {
     "name": "stdout",
     "output_type": "stream",
     "text": [
      "transforming while training word2vec model with new data.\n"
     ]
    },
    {
     "name": "stderr",
     "output_type": "stream",
     "text": [
      "100%|██████████| 72000/72000 [00:07<00:00, 9918.77it/s] \n",
      "100%|██████████| 72000/72000 [00:00<00:00, 234557.07it/s]\n",
      "  2%|▏         | 181/8000 [00:00<00:04, 1809.89it/s]"
     ]
    },
    {
     "name": "stdout",
     "output_type": "stream",
     "text": [
      "transforming while training word2vec model with new data.\n"
     ]
    },
    {
     "name": "stderr",
     "output_type": "stream",
     "text": [
      "100%|██████████| 8000/8000 [00:00<00:00, 9255.99it/s]\n",
      "100%|██████████| 8000/8000 [00:00<00:00, 274498.58it/s]\n",
      "  1%|▏         | 964/72000 [00:00<00:39, 1802.22it/s]"
     ]
    },
    {
     "name": "stdout",
     "output_type": "stream",
     "text": [
      "transforming while training word2vec model with new data.\n"
     ]
    },
    {
     "name": "stderr",
     "output_type": "stream",
     "text": [
      "100%|██████████| 72000/72000 [00:07<00:00, 9807.23it/s] \n",
      "100%|██████████| 72000/72000 [00:00<00:00, 245181.96it/s]\n"
     ]
    },
    {
     "name": "stdout",
     "output_type": "stream",
     "text": [
      "Building new vocabulary and training the word2vec model\n"
     ]
    },
    {
     "name": "stderr",
     "output_type": "stream",
     "text": [
      "  0%|          | 125/72000 [00:00<00:57, 1249.44it/s]"
     ]
    },
    {
     "name": "stdout",
     "output_type": "stream",
     "text": [
      "transforming while training word2vec model with new data.\n"
     ]
    },
    {
     "name": "stderr",
     "output_type": "stream",
     "text": [
      "100%|██████████| 72000/72000 [00:07<00:00, 9892.54it/s] \n",
      "100%|██████████| 72000/72000 [00:00<00:00, 223534.44it/s]\n",
      "  2%|▏         | 130/8000 [00:00<00:06, 1299.62it/s]"
     ]
    },
    {
     "name": "stdout",
     "output_type": "stream",
     "text": [
      "transforming while training word2vec model with new data.\n"
     ]
    },
    {
     "name": "stderr",
     "output_type": "stream",
     "text": [
      "100%|██████████| 8000/8000 [00:01<00:00, 7305.48it/s]\n",
      "100%|██████████| 8000/8000 [00:00<00:00, 194913.92it/s]\n",
      "  0%|          | 117/72000 [00:00<01:01, 1168.61it/s]"
     ]
    },
    {
     "name": "stdout",
     "output_type": "stream",
     "text": [
      "transforming while training word2vec model with new data.\n"
     ]
    },
    {
     "name": "stderr",
     "output_type": "stream",
     "text": [
      "100%|██████████| 72000/72000 [00:07<00:00, 9357.52it/s] \n",
      "100%|██████████| 72000/72000 [00:00<00:00, 197222.78it/s]\n"
     ]
    },
    {
     "name": "stdout",
     "output_type": "stream",
     "text": [
      "Building new vocabulary and training the word2vec model\n"
     ]
    },
    {
     "name": "stderr",
     "output_type": "stream",
     "text": [
      "  0%|          | 199/72000 [00:00<00:36, 1989.78it/s]"
     ]
    },
    {
     "name": "stdout",
     "output_type": "stream",
     "text": [
      "transforming while training word2vec model with new data.\n"
     ]
    },
    {
     "name": "stderr",
     "output_type": "stream",
     "text": [
      "100%|██████████| 72000/72000 [00:07<00:00, 9870.37it/s] \n",
      "100%|██████████| 72000/72000 [00:00<00:00, 238713.22it/s]\n",
      " 13%|█▎        | 1022/8000 [00:00<00:03, 1908.20it/s]"
     ]
    },
    {
     "name": "stdout",
     "output_type": "stream",
     "text": [
      "transforming while training word2vec model with new data.\n"
     ]
    },
    {
     "name": "stderr",
     "output_type": "stream",
     "text": [
      "100%|██████████| 8000/8000 [00:00<00:00, 8667.59it/s]\n",
      "100%|██████████| 8000/8000 [00:00<00:00, 189192.54it/s]\n",
      "  0%|          | 125/72000 [00:00<01:04, 1109.78it/s]"
     ]
    },
    {
     "name": "stdout",
     "output_type": "stream",
     "text": [
      "transforming while training word2vec model with new data.\n"
     ]
    },
    {
     "name": "stderr",
     "output_type": "stream",
     "text": [
      "100%|██████████| 72000/72000 [00:07<00:00, 9824.54it/s] \n",
      "100%|██████████| 72000/72000 [00:00<00:00, 246731.63it/s]\n"
     ]
    },
    {
     "name": "stdout",
     "output_type": "stream",
     "text": [
      "Building new vocabulary and training the word2vec model\n"
     ]
    },
    {
     "name": "stderr",
     "output_type": "stream",
     "text": [
      "  1%|▏         | 1025/72000 [00:00<00:28, 2507.18it/s]"
     ]
    },
    {
     "name": "stdout",
     "output_type": "stream",
     "text": [
      "transforming while training word2vec model with new data.\n"
     ]
    },
    {
     "name": "stderr",
     "output_type": "stream",
     "text": [
      "100%|██████████| 72000/72000 [00:07<00:00, 9885.50it/s] \n",
      "100%|██████████| 72000/72000 [00:00<00:00, 236726.15it/s]\n",
      "  2%|▏         | 172/8000 [00:00<00:04, 1719.52it/s]"
     ]
    },
    {
     "name": "stdout",
     "output_type": "stream",
     "text": [
      "transforming while training word2vec model with new data.\n"
     ]
    },
    {
     "name": "stderr",
     "output_type": "stream",
     "text": [
      "100%|██████████| 8000/8000 [00:00<00:00, 9137.33it/s]\n",
      "100%|██████████| 8000/8000 [00:00<00:00, 196893.73it/s]\n",
      "  0%|          | 143/72000 [00:00<00:50, 1429.03it/s]"
     ]
    },
    {
     "name": "stdout",
     "output_type": "stream",
     "text": [
      "transforming while training word2vec model with new data.\n"
     ]
    },
    {
     "name": "stderr",
     "output_type": "stream",
     "text": [
      "100%|██████████| 72000/72000 [00:07<00:00, 9895.36it/s] \n",
      "100%|██████████| 72000/72000 [00:00<00:00, 248020.60it/s]\n"
     ]
    },
    {
     "name": "stdout",
     "output_type": "stream",
     "text": [
      "Building new vocabulary and training the word2vec model\n"
     ]
    },
    {
     "name": "stderr",
     "output_type": "stream",
     "text": [
      "  0%|          | 171/72000 [00:00<00:42, 1709.65it/s]"
     ]
    },
    {
     "name": "stdout",
     "output_type": "stream",
     "text": [
      "transforming while training word2vec model with new data.\n"
     ]
    },
    {
     "name": "stderr",
     "output_type": "stream",
     "text": [
      "100%|██████████| 72000/72000 [00:07<00:00, 9952.80it/s] \n",
      "100%|██████████| 72000/72000 [00:00<00:00, 239962.09it/s]\n",
      "  2%|▏         | 174/8000 [00:00<00:04, 1738.00it/s]"
     ]
    },
    {
     "name": "stdout",
     "output_type": "stream",
     "text": [
      "transforming while training word2vec model with new data.\n"
     ]
    },
    {
     "name": "stderr",
     "output_type": "stream",
     "text": [
      "100%|██████████| 8000/8000 [00:00<00:00, 8800.79it/s]\n",
      "100%|██████████| 8000/8000 [00:00<00:00, 192658.87it/s]\n",
      "  1%|▏         | 983/72000 [00:00<00:37, 1876.70it/s]"
     ]
    },
    {
     "name": "stdout",
     "output_type": "stream",
     "text": [
      "transforming while training word2vec model with new data.\n"
     ]
    },
    {
     "name": "stderr",
     "output_type": "stream",
     "text": [
      "100%|██████████| 72000/72000 [00:07<00:00, 9950.86it/s] \n",
      "100%|██████████| 72000/72000 [00:00<00:00, 248406.60it/s]\n"
     ]
    },
    {
     "name": "stdout",
     "output_type": "stream",
     "text": [
      "Building new vocabulary and training the word2vec model\n"
     ]
    },
    {
     "name": "stderr",
     "output_type": "stream",
     "text": [
      "  1%|▏         | 1014/72000 [00:00<00:28, 2514.67it/s]"
     ]
    },
    {
     "name": "stdout",
     "output_type": "stream",
     "text": [
      "transforming while training word2vec model with new data.\n"
     ]
    },
    {
     "name": "stderr",
     "output_type": "stream",
     "text": [
      "100%|██████████| 72000/72000 [00:07<00:00, 9971.05it/s] \n",
      "100%|██████████| 72000/72000 [00:00<00:00, 236293.64it/s]\n",
      "  2%|▏         | 169/8000 [00:00<00:04, 1688.75it/s]"
     ]
    },
    {
     "name": "stdout",
     "output_type": "stream",
     "text": [
      "transforming while training word2vec model with new data.\n"
     ]
    },
    {
     "name": "stderr",
     "output_type": "stream",
     "text": [
      "100%|██████████| 8000/8000 [00:00<00:00, 8830.46it/s]\n",
      "100%|██████████| 8000/8000 [00:00<00:00, 194112.22it/s]\n",
      "  0%|          | 136/72000 [00:00<00:52, 1359.04it/s]"
     ]
    },
    {
     "name": "stdout",
     "output_type": "stream",
     "text": [
      "transforming while training word2vec model with new data.\n"
     ]
    },
    {
     "name": "stderr",
     "output_type": "stream",
     "text": [
      "100%|██████████| 72000/72000 [00:07<00:00, 9844.93it/s] \n",
      "100%|██████████| 72000/72000 [00:00<00:00, 246028.49it/s]\n"
     ]
    },
    {
     "name": "stdout",
     "output_type": "stream",
     "text": [
      "Using index for the tags\n",
      "Building new vocabulary and training the doc2vec model\n",
      "Using index for the tags\n"
     ]
    },
    {
     "name": "stderr",
     "output_type": "stream",
     "text": [
      "  2%|▏         | 1181/72000 [00:00<00:18, 3869.81it/s]"
     ]
    },
    {
     "name": "stdout",
     "output_type": "stream",
     "text": [
      "transforming while training doc2vec model with new data.\n"
     ]
    },
    {
     "name": "stderr",
     "output_type": "stream",
     "text": [
      "100%|██████████| 72000/72000 [00:07<00:00, 10088.48it/s]\n",
      "100%|██████████| 72000/72000 [00:00<00:00, 235617.04it/s]\n"
     ]
    },
    {
     "name": "stdout",
     "output_type": "stream",
     "text": [
      "Using index for the tags\n"
     ]
    },
    {
     "name": "stderr",
     "output_type": "stream",
     "text": [
      " 12%|█▏        | 978/8000 [00:00<00:03, 2023.59it/s]"
     ]
    },
    {
     "name": "stdout",
     "output_type": "stream",
     "text": [
      "transforming while training doc2vec model with new data.\n"
     ]
    },
    {
     "name": "stderr",
     "output_type": "stream",
     "text": [
      "100%|██████████| 8000/8000 [00:01<00:00, 7830.06it/s]\n",
      "100%|██████████| 8000/8000 [00:00<00:00, 308339.52it/s]\n"
     ]
    },
    {
     "name": "stdout",
     "output_type": "stream",
     "text": [
      "Using index for the tags\n"
     ]
    },
    {
     "name": "stderr",
     "output_type": "stream",
     "text": [
      "  1%|▏         | 986/72000 [00:00<00:34, 2049.94it/s]"
     ]
    },
    {
     "name": "stdout",
     "output_type": "stream",
     "text": [
      "transforming while training doc2vec model with new data.\n"
     ]
    },
    {
     "name": "stderr",
     "output_type": "stream",
     "text": [
      "100%|██████████| 72000/72000 [00:07<00:00, 10016.65it/s]\n",
      "100%|██████████| 72000/72000 [00:00<00:00, 235755.73it/s]\n"
     ]
    },
    {
     "name": "stdout",
     "output_type": "stream",
     "text": [
      "Using index for the tags\n",
      "Building new vocabulary and training the doc2vec model\n",
      "Using index for the tags\n"
     ]
    },
    {
     "name": "stderr",
     "output_type": "stream",
     "text": [
      "  0%|          | 158/72000 [00:00<00:45, 1578.51it/s]"
     ]
    },
    {
     "name": "stdout",
     "output_type": "stream",
     "text": [
      "transforming while training doc2vec model with new data.\n"
     ]
    },
    {
     "name": "stderr",
     "output_type": "stream",
     "text": [
      "100%|██████████| 72000/72000 [00:07<00:00, 9738.15it/s] \n",
      "100%|██████████| 72000/72000 [00:00<00:00, 242244.42it/s]\n"
     ]
    },
    {
     "name": "stdout",
     "output_type": "stream",
     "text": [
      "Using index for the tags\n"
     ]
    },
    {
     "name": "stderr",
     "output_type": "stream",
     "text": [
      "  2%|▏         | 158/8000 [00:00<00:04, 1578.47it/s]"
     ]
    },
    {
     "name": "stdout",
     "output_type": "stream",
     "text": [
      "transforming while training doc2vec model with new data.\n"
     ]
    },
    {
     "name": "stderr",
     "output_type": "stream",
     "text": [
      "100%|██████████| 8000/8000 [00:00<00:00, 8767.06it/s]\n",
      "100%|██████████| 8000/8000 [00:00<00:00, 190689.19it/s]\n"
     ]
    },
    {
     "name": "stdout",
     "output_type": "stream",
     "text": [
      "Using index for the tags\n"
     ]
    },
    {
     "name": "stderr",
     "output_type": "stream",
     "text": [
      "  1%|▏         | 1020/72000 [00:00<00:30, 2307.72it/s]"
     ]
    },
    {
     "name": "stdout",
     "output_type": "stream",
     "text": [
      "transforming while training doc2vec model with new data.\n"
     ]
    },
    {
     "name": "stderr",
     "output_type": "stream",
     "text": [
      "100%|██████████| 72000/72000 [00:07<00:00, 9865.00it/s] \n",
      "100%|██████████| 72000/72000 [00:00<00:00, 236008.70it/s]\n"
     ]
    },
    {
     "name": "stdout",
     "output_type": "stream",
     "text": [
      "Using index for the tags\n",
      "Building new vocabulary and training the doc2vec model\n",
      "Using index for the tags\n"
     ]
    },
    {
     "name": "stderr",
     "output_type": "stream",
     "text": [
      "  1%|▏         | 1052/72000 [00:00<00:26, 2686.87it/s]"
     ]
    },
    {
     "name": "stdout",
     "output_type": "stream",
     "text": [
      "transforming while training doc2vec model with new data.\n"
     ]
    },
    {
     "name": "stderr",
     "output_type": "stream",
     "text": [
      "100%|██████████| 72000/72000 [00:07<00:00, 9856.88it/s] \n",
      "100%|██████████| 72000/72000 [00:00<00:00, 241992.07it/s]\n"
     ]
    },
    {
     "name": "stdout",
     "output_type": "stream",
     "text": [
      "Using index for the tags\n"
     ]
    },
    {
     "name": "stderr",
     "output_type": "stream",
     "text": [
      "  2%|▏         | 184/8000 [00:00<00:04, 1838.73it/s]"
     ]
    },
    {
     "name": "stdout",
     "output_type": "stream",
     "text": [
      "transforming while training doc2vec model with new data.\n"
     ]
    },
    {
     "name": "stderr",
     "output_type": "stream",
     "text": [
      "100%|██████████| 8000/8000 [00:00<00:00, 9198.20it/s]\n",
      "100%|██████████| 8000/8000 [00:00<00:00, 192039.19it/s]\n"
     ]
    },
    {
     "name": "stdout",
     "output_type": "stream",
     "text": [
      "Using index for the tags\n"
     ]
    },
    {
     "name": "stderr",
     "output_type": "stream",
     "text": [
      "  1%|▏         | 997/72000 [00:00<00:35, 2015.41it/s]"
     ]
    },
    {
     "name": "stdout",
     "output_type": "stream",
     "text": [
      "transforming while training doc2vec model with new data.\n"
     ]
    },
    {
     "name": "stderr",
     "output_type": "stream",
     "text": [
      "100%|██████████| 72000/72000 [00:07<00:00, 9883.57it/s] \n",
      "100%|██████████| 72000/72000 [00:00<00:00, 237706.46it/s]\n"
     ]
    },
    {
     "name": "stdout",
     "output_type": "stream",
     "text": [
      "Using index for the tags\n",
      "Building new vocabulary and training the doc2vec model\n",
      "Using index for the tags\n"
     ]
    },
    {
     "name": "stderr",
     "output_type": "stream",
     "text": [
      "  1%|▏         | 1061/72000 [00:00<00:26, 2689.20it/s]"
     ]
    },
    {
     "name": "stdout",
     "output_type": "stream",
     "text": [
      "transforming while training doc2vec model with new data.\n"
     ]
    },
    {
     "name": "stderr",
     "output_type": "stream",
     "text": [
      "100%|██████████| 72000/72000 [00:07<00:00, 9893.01it/s] \n",
      "100%|██████████| 72000/72000 [00:00<00:00, 236710.93it/s]\n"
     ]
    },
    {
     "name": "stdout",
     "output_type": "stream",
     "text": [
      "Using index for the tags\n"
     ]
    },
    {
     "name": "stderr",
     "output_type": "stream",
     "text": [
      "  4%|▍         | 302/8000 [00:00<00:02, 3019.25it/s]"
     ]
    },
    {
     "name": "stdout",
     "output_type": "stream",
     "text": [
      "transforming while training doc2vec model with new data.\n"
     ]
    },
    {
     "name": "stderr",
     "output_type": "stream",
     "text": [
      "100%|██████████| 8000/8000 [00:00<00:00, 9444.01it/s]\n",
      "100%|██████████| 8000/8000 [00:00<00:00, 193270.31it/s]\n"
     ]
    },
    {
     "name": "stdout",
     "output_type": "stream",
     "text": [
      "Using index for the tags\n"
     ]
    },
    {
     "name": "stderr",
     "output_type": "stream",
     "text": [
      "  0%|          | 103/72000 [00:00<01:09, 1029.70it/s]"
     ]
    },
    {
     "name": "stdout",
     "output_type": "stream",
     "text": [
      "transforming while training doc2vec model with new data.\n"
     ]
    },
    {
     "name": "stderr",
     "output_type": "stream",
     "text": [
      "100%|██████████| 72000/72000 [00:07<00:00, 9843.65it/s] \n",
      "100%|██████████| 72000/72000 [00:00<00:00, 227218.78it/s]\n"
     ]
    },
    {
     "name": "stdout",
     "output_type": "stream",
     "text": [
      "Using index for the tags\n",
      "Building new vocabulary and training the doc2vec model\n",
      "Using index for the tags\n"
     ]
    },
    {
     "name": "stderr",
     "output_type": "stream",
     "text": [
      "  0%|          | 168/72000 [00:00<00:42, 1677.85it/s]"
     ]
    },
    {
     "name": "stdout",
     "output_type": "stream",
     "text": [
      "transforming while training doc2vec model with new data.\n"
     ]
    },
    {
     "name": "stderr",
     "output_type": "stream",
     "text": [
      "100%|██████████| 72000/72000 [00:07<00:00, 9872.58it/s] \n",
      "100%|██████████| 72000/72000 [00:00<00:00, 241601.38it/s]\n"
     ]
    },
    {
     "name": "stdout",
     "output_type": "stream",
     "text": [
      "Using index for the tags\n"
     ]
    },
    {
     "name": "stderr",
     "output_type": "stream",
     "text": [
      "  2%|▏         | 176/8000 [00:00<00:04, 1758.32it/s]"
     ]
    },
    {
     "name": "stdout",
     "output_type": "stream",
     "text": [
      "transforming while training doc2vec model with new data.\n"
     ]
    },
    {
     "name": "stderr",
     "output_type": "stream",
     "text": [
      "100%|██████████| 8000/8000 [00:00<00:00, 9164.45it/s]\n",
      "100%|██████████| 8000/8000 [00:00<00:00, 187720.25it/s]\n"
     ]
    },
    {
     "name": "stdout",
     "output_type": "stream",
     "text": [
      "Using index for the tags\n"
     ]
    },
    {
     "name": "stderr",
     "output_type": "stream",
     "text": [
      "  1%|▏         | 995/72000 [00:00<00:34, 2074.41it/s]"
     ]
    },
    {
     "name": "stdout",
     "output_type": "stream",
     "text": [
      "transforming while training doc2vec model with new data.\n"
     ]
    },
    {
     "name": "stderr",
     "output_type": "stream",
     "text": [
      "100%|██████████| 72000/72000 [00:07<00:00, 9917.51it/s] \n",
      "100%|██████████| 72000/72000 [00:00<00:00, 238882.60it/s]\n"
     ]
    },
    {
     "name": "stdout",
     "output_type": "stream",
     "text": [
      "Using index for the tags\n",
      "Building new vocabulary and training the doc2vec model\n",
      "Using index for the tags\n"
     ]
    },
    {
     "name": "stderr",
     "output_type": "stream",
     "text": [
      "  1%|▏         | 992/72000 [00:00<00:34, 2062.32it/s]"
     ]
    },
    {
     "name": "stdout",
     "output_type": "stream",
     "text": [
      "transforming while training doc2vec model with new data.\n"
     ]
    },
    {
     "name": "stderr",
     "output_type": "stream",
     "text": [
      "100%|██████████| 72000/72000 [00:07<00:00, 9823.70it/s] \n",
      "100%|██████████| 72000/72000 [00:00<00:00, 240802.85it/s]\n"
     ]
    },
    {
     "name": "stdout",
     "output_type": "stream",
     "text": [
      "Using index for the tags\n"
     ]
    },
    {
     "name": "stderr",
     "output_type": "stream",
     "text": [
      "  3%|▎         | 231/8000 [00:00<00:03, 2309.13it/s]"
     ]
    },
    {
     "name": "stdout",
     "output_type": "stream",
     "text": [
      "transforming while training doc2vec model with new data.\n"
     ]
    },
    {
     "name": "stderr",
     "output_type": "stream",
     "text": [
      "100%|██████████| 8000/8000 [00:00<00:00, 9370.48it/s]\n",
      "100%|██████████| 8000/8000 [00:00<00:00, 196072.25it/s]\n"
     ]
    },
    {
     "name": "stdout",
     "output_type": "stream",
     "text": [
      "Using index for the tags\n"
     ]
    },
    {
     "name": "stderr",
     "output_type": "stream",
     "text": [
      "  0%|          | 146/72000 [00:00<00:49, 1459.02it/s]"
     ]
    },
    {
     "name": "stdout",
     "output_type": "stream",
     "text": [
      "transforming while training doc2vec model with new data.\n"
     ]
    },
    {
     "name": "stderr",
     "output_type": "stream",
     "text": [
      "100%|██████████| 72000/72000 [00:07<00:00, 9823.17it/s] \n",
      "100%|██████████| 72000/72000 [00:00<00:00, 241179.98it/s]\n"
     ]
    },
    {
     "name": "stdout",
     "output_type": "stream",
     "text": [
      "Using index for the tags\n",
      "Building new vocabulary and training the doc2vec model\n",
      "Using index for the tags\n"
     ]
    },
    {
     "name": "stderr",
     "output_type": "stream",
     "text": [
      "  1%|▏         | 952/72000 [00:00<00:26, 2685.75it/s]"
     ]
    },
    {
     "name": "stdout",
     "output_type": "stream",
     "text": [
      "transforming while training doc2vec model with new data.\n"
     ]
    },
    {
     "name": "stderr",
     "output_type": "stream",
     "text": [
      "100%|██████████| 72000/72000 [00:07<00:00, 9883.96it/s] \n",
      "100%|██████████| 72000/72000 [00:00<00:00, 242107.31it/s]\n"
     ]
    },
    {
     "name": "stdout",
     "output_type": "stream",
     "text": [
      "Using index for the tags\n"
     ]
    },
    {
     "name": "stderr",
     "output_type": "stream",
     "text": [
      "  4%|▍         | 323/8000 [00:00<00:02, 3228.60it/s]"
     ]
    },
    {
     "name": "stdout",
     "output_type": "stream",
     "text": [
      "transforming while training doc2vec model with new data.\n"
     ]
    },
    {
     "name": "stderr",
     "output_type": "stream",
     "text": [
      "100%|██████████| 8000/8000 [00:00<00:00, 9626.18it/s]\n",
      "100%|██████████| 8000/8000 [00:00<00:00, 195264.41it/s]\n"
     ]
    },
    {
     "name": "stdout",
     "output_type": "stream",
     "text": [
      "Using index for the tags\n"
     ]
    },
    {
     "name": "stderr",
     "output_type": "stream",
     "text": [
      "  0%|          | 178/72000 [00:00<00:40, 1778.42it/s]"
     ]
    },
    {
     "name": "stdout",
     "output_type": "stream",
     "text": [
      "transforming while training doc2vec model with new data.\n"
     ]
    },
    {
     "name": "stderr",
     "output_type": "stream",
     "text": [
      "100%|██████████| 72000/72000 [00:07<00:00, 9861.38it/s] \n",
      "100%|██████████| 72000/72000 [00:00<00:00, 235442.34it/s]\n"
     ]
    },
    {
     "name": "stdout",
     "output_type": "stream",
     "text": [
      "Using index for the tags\n",
      "Building new vocabulary and training the doc2vec model\n",
      "Using index for the tags\n"
     ]
    },
    {
     "name": "stderr",
     "output_type": "stream",
     "text": [
      "  1%|▏         | 981/72000 [00:00<00:27, 2608.02it/s]"
     ]
    },
    {
     "name": "stdout",
     "output_type": "stream",
     "text": [
      "transforming while training doc2vec model with new data.\n"
     ]
    },
    {
     "name": "stderr",
     "output_type": "stream",
     "text": [
      "100%|██████████| 72000/72000 [00:07<00:00, 9588.45it/s] \n",
      "100%|██████████| 72000/72000 [00:00<00:00, 242222.08it/s]\n"
     ]
    },
    {
     "name": "stdout",
     "output_type": "stream",
     "text": [
      "Using index for the tags\n"
     ]
    },
    {
     "name": "stderr",
     "output_type": "stream",
     "text": [
      "  2%|▏         | 186/8000 [00:00<00:04, 1859.82it/s]"
     ]
    },
    {
     "name": "stdout",
     "output_type": "stream",
     "text": [
      "transforming while training doc2vec model with new data.\n"
     ]
    },
    {
     "name": "stderr",
     "output_type": "stream",
     "text": [
      "100%|██████████| 8000/8000 [00:00<00:00, 9140.85it/s]\n",
      "100%|██████████| 8000/8000 [00:00<00:00, 193761.37it/s]\n"
     ]
    },
    {
     "name": "stdout",
     "output_type": "stream",
     "text": [
      "Using index for the tags\n"
     ]
    },
    {
     "name": "stderr",
     "output_type": "stream",
     "text": [
      "  0%|          | 172/72000 [00:00<00:41, 1718.28it/s]"
     ]
    },
    {
     "name": "stdout",
     "output_type": "stream",
     "text": [
      "transforming while training doc2vec model with new data.\n"
     ]
    },
    {
     "name": "stderr",
     "output_type": "stream",
     "text": [
      "100%|██████████| 72000/72000 [00:07<00:00, 9805.86it/s] \n",
      "100%|██████████| 72000/72000 [00:00<00:00, 242557.09it/s]\n"
     ]
    },
    {
     "name": "stdout",
     "output_type": "stream",
     "text": [
      "Using index for the tags\n",
      "Building new vocabulary and training the doc2vec model\n",
      "Using index for the tags\n"
     ]
    },
    {
     "name": "stderr",
     "output_type": "stream",
     "text": [
      "  1%|▏         | 1047/72000 [00:00<00:27, 2594.37it/s]"
     ]
    },
    {
     "name": "stdout",
     "output_type": "stream",
     "text": [
      "transforming while training doc2vec model with new data.\n"
     ]
    },
    {
     "name": "stderr",
     "output_type": "stream",
     "text": [
      "100%|██████████| 72000/72000 [00:07<00:00, 9872.13it/s] \n",
      "100%|██████████| 72000/72000 [00:00<00:00, 236835.12it/s]\n"
     ]
    },
    {
     "name": "stdout",
     "output_type": "stream",
     "text": [
      "Using index for the tags\n"
     ]
    },
    {
     "name": "stderr",
     "output_type": "stream",
     "text": [
      "  2%|▏         | 166/8000 [00:00<00:04, 1658.47it/s]"
     ]
    },
    {
     "name": "stdout",
     "output_type": "stream",
     "text": [
      "transforming while training doc2vec model with new data.\n"
     ]
    },
    {
     "name": "stderr",
     "output_type": "stream",
     "text": [
      "100%|██████████| 8000/8000 [00:00<00:00, 8868.58it/s]\n",
      "100%|██████████| 8000/8000 [00:00<00:00, 188214.09it/s]\n"
     ]
    },
    {
     "name": "stdout",
     "output_type": "stream",
     "text": [
      "Using index for the tags\n"
     ]
    },
    {
     "name": "stderr",
     "output_type": "stream",
     "text": [
      "  0%|          | 141/72000 [00:00<00:51, 1408.08it/s]"
     ]
    },
    {
     "name": "stdout",
     "output_type": "stream",
     "text": [
      "transforming while training doc2vec model with new data.\n"
     ]
    },
    {
     "name": "stderr",
     "output_type": "stream",
     "text": [
      "100%|██████████| 72000/72000 [00:07<00:00, 9901.69it/s] \n",
      "100%|██████████| 72000/72000 [00:00<00:00, 241698.84it/s]\n"
     ]
    },
    {
     "name": "stdout",
     "output_type": "stream",
     "text": [
      "Using index for the tags\n",
      "Building new vocabulary and training the doc2vec model\n",
      "Using index for the tags\n"
     ]
    },
    {
     "name": "stderr",
     "output_type": "stream",
     "text": [
      "  1%|▏         | 1047/72000 [00:00<00:26, 2639.92it/s]"
     ]
    },
    {
     "name": "stdout",
     "output_type": "stream",
     "text": [
      "transforming while training doc2vec model with new data.\n"
     ]
    },
    {
     "name": "stderr",
     "output_type": "stream",
     "text": [
      "100%|██████████| 72000/72000 [00:07<00:00, 9924.60it/s] \n",
      "100%|██████████| 72000/72000 [00:00<00:00, 242881.90it/s]\n"
     ]
    },
    {
     "name": "stdout",
     "output_type": "stream",
     "text": [
      "Using index for the tags\n"
     ]
    },
    {
     "name": "stderr",
     "output_type": "stream",
     "text": [
      " 15%|█▌        | 1234/8000 [00:00<00:01, 3626.84it/s]"
     ]
    },
    {
     "name": "stdout",
     "output_type": "stream",
     "text": [
      "transforming while training doc2vec model with new data.\n"
     ]
    },
    {
     "name": "stderr",
     "output_type": "stream",
     "text": [
      "100%|██████████| 8000/8000 [00:00<00:00, 8930.55it/s]\n",
      "100%|██████████| 8000/8000 [00:00<00:00, 192577.05it/s]\n"
     ]
    },
    {
     "name": "stdout",
     "output_type": "stream",
     "text": [
      "Using index for the tags\n"
     ]
    },
    {
     "name": "stderr",
     "output_type": "stream",
     "text": [
      "  0%|          | 260/72000 [00:00<00:27, 2596.94it/s]"
     ]
    },
    {
     "name": "stdout",
     "output_type": "stream",
     "text": [
      "transforming while training doc2vec model with new data.\n"
     ]
    },
    {
     "name": "stderr",
     "output_type": "stream",
     "text": [
      "100%|██████████| 72000/72000 [00:07<00:00, 9925.92it/s] \n",
      "100%|██████████| 72000/72000 [00:00<00:00, 232181.32it/s]\n"
     ]
    },
    {
     "name": "stdout",
     "output_type": "stream",
     "text": [
      "Building new vocabulary and training the word2vec model\n"
     ]
    },
    {
     "name": "stderr",
     "output_type": "stream",
     "text": [
      "  2%|▏         | 1586/72000 [00:00<00:09, 7116.62it/s]"
     ]
    },
    {
     "name": "stdout",
     "output_type": "stream",
     "text": [
      "transforming while training word2vec model with new data.\n"
     ]
    },
    {
     "name": "stderr",
     "output_type": "stream",
     "text": [
      "100%|██████████| 72000/72000 [00:06<00:00, 10593.03it/s]\n",
      "100%|██████████| 72000/72000 [00:00<00:00, 257246.49it/s]\n",
      "  8%|▊         | 614/8000 [00:00<00:01, 6134.01it/s]"
     ]
    },
    {
     "name": "stdout",
     "output_type": "stream",
     "text": [
      "transforming while training word2vec model with new data.\n"
     ]
    },
    {
     "name": "stderr",
     "output_type": "stream",
     "text": [
      "100%|██████████| 8000/8000 [00:00<00:00, 9088.09it/s]\n",
      "100%|██████████| 8000/8000 [00:00<00:00, 281901.32it/s]\n",
      "  2%|▏         | 1631/72000 [00:00<00:09, 7590.93it/s]"
     ]
    },
    {
     "name": "stdout",
     "output_type": "stream",
     "text": [
      "transforming while training word2vec model with new data.\n"
     ]
    },
    {
     "name": "stderr",
     "output_type": "stream",
     "text": [
      "100%|██████████| 72000/72000 [00:06<00:00, 10665.92it/s]\n",
      "100%|██████████| 72000/72000 [00:00<00:00, 274519.29it/s]\n"
     ]
    },
    {
     "name": "stdout",
     "output_type": "stream",
     "text": [
      "Building new vocabulary and training the word2vec model\n"
     ]
    },
    {
     "name": "stderr",
     "output_type": "stream",
     "text": [
      "  2%|▏         | 1562/72000 [00:00<00:10, 7007.48it/s]"
     ]
    },
    {
     "name": "stdout",
     "output_type": "stream",
     "text": [
      "transforming while training word2vec model with new data.\n"
     ]
    },
    {
     "name": "stderr",
     "output_type": "stream",
     "text": [
      "100%|██████████| 72000/72000 [00:06<00:00, 10482.31it/s]\n",
      "100%|██████████| 72000/72000 [00:00<00:00, 260756.47it/s]\n",
      " 20%|█▉        | 1566/8000 [00:00<00:00, 6950.24it/s]"
     ]
    },
    {
     "name": "stdout",
     "output_type": "stream",
     "text": [
      "transforming while training word2vec model with new data.\n"
     ]
    },
    {
     "name": "stderr",
     "output_type": "stream",
     "text": [
      "100%|██████████| 8000/8000 [00:00<00:00, 9835.76it/s] \n",
      "100%|██████████| 8000/8000 [00:00<00:00, 280534.34it/s]\n",
      "  2%|▏         | 1675/72000 [00:00<00:08, 7863.82it/s]"
     ]
    },
    {
     "name": "stdout",
     "output_type": "stream",
     "text": [
      "transforming while training word2vec model with new data.\n"
     ]
    },
    {
     "name": "stderr",
     "output_type": "stream",
     "text": [
      "100%|██████████| 72000/72000 [00:06<00:00, 10475.40it/s]\n",
      "100%|██████████| 72000/72000 [00:00<00:00, 272643.62it/s]\n"
     ]
    },
    {
     "name": "stdout",
     "output_type": "stream",
     "text": [
      "Building new vocabulary and training the word2vec model\n"
     ]
    },
    {
     "name": "stderr",
     "output_type": "stream",
     "text": [
      "  1%|          | 636/72000 [00:00<00:11, 6355.41it/s]"
     ]
    },
    {
     "name": "stdout",
     "output_type": "stream",
     "text": [
      "transforming while training word2vec model with new data.\n"
     ]
    },
    {
     "name": "stderr",
     "output_type": "stream",
     "text": [
      "100%|██████████| 72000/72000 [00:06<00:00, 10422.60it/s]\n",
      "100%|██████████| 72000/72000 [00:00<00:00, 259311.61it/s]\n",
      "  9%|▉         | 705/8000 [00:00<00:01, 7045.12it/s]"
     ]
    },
    {
     "name": "stdout",
     "output_type": "stream",
     "text": [
      "transforming while training word2vec model with new data.\n"
     ]
    },
    {
     "name": "stderr",
     "output_type": "stream",
     "text": [
      "100%|██████████| 8000/8000 [00:00<00:00, 10255.69it/s]\n",
      "100%|██████████| 8000/8000 [00:00<00:00, 198048.88it/s]\n",
      "  1%|          | 726/72000 [00:00<00:09, 7256.18it/s]"
     ]
    },
    {
     "name": "stdout",
     "output_type": "stream",
     "text": [
      "transforming while training word2vec model with new data.\n"
     ]
    },
    {
     "name": "stderr",
     "output_type": "stream",
     "text": [
      "100%|██████████| 72000/72000 [00:06<00:00, 10438.11it/s]\n",
      "100%|██████████| 72000/72000 [00:00<00:00, 273339.28it/s]\n"
     ]
    },
    {
     "name": "stdout",
     "output_type": "stream",
     "text": [
      "Building new vocabulary and training the word2vec model\n"
     ]
    },
    {
     "name": "stderr",
     "output_type": "stream",
     "text": [
      "  2%|▏         | 1539/72000 [00:00<00:10, 6927.97it/s]"
     ]
    },
    {
     "name": "stdout",
     "output_type": "stream",
     "text": [
      "transforming while training word2vec model with new data.\n"
     ]
    },
    {
     "name": "stderr",
     "output_type": "stream",
     "text": [
      "100%|██████████| 72000/72000 [00:06<00:00, 10445.60it/s]\n",
      "100%|██████████| 72000/72000 [00:00<00:00, 264831.63it/s]\n",
      "  9%|▊         | 696/8000 [00:00<00:01, 6957.04it/s]"
     ]
    },
    {
     "name": "stdout",
     "output_type": "stream",
     "text": [
      "transforming while training word2vec model with new data.\n"
     ]
    },
    {
     "name": "stderr",
     "output_type": "stream",
     "text": [
      "100%|██████████| 8000/8000 [00:00<00:00, 10403.12it/s]\n",
      "100%|██████████| 8000/8000 [00:00<00:00, 201490.61it/s]\n",
      "  1%|          | 726/72000 [00:00<00:09, 7253.82it/s]"
     ]
    },
    {
     "name": "stdout",
     "output_type": "stream",
     "text": [
      "transforming while training word2vec model with new data.\n"
     ]
    },
    {
     "name": "stderr",
     "output_type": "stream",
     "text": [
      "100%|██████████| 72000/72000 [00:06<00:00, 10468.07it/s]\n",
      "100%|██████████| 72000/72000 [00:00<00:00, 273872.74it/s]\n"
     ]
    },
    {
     "name": "stdout",
     "output_type": "stream",
     "text": [
      "Building new vocabulary and training the word2vec model\n"
     ]
    },
    {
     "name": "stderr",
     "output_type": "stream",
     "text": [
      "  1%|          | 620/72000 [00:00<00:11, 6195.54it/s]"
     ]
    },
    {
     "name": "stdout",
     "output_type": "stream",
     "text": [
      "transforming while training word2vec model with new data.\n"
     ]
    },
    {
     "name": "stderr",
     "output_type": "stream",
     "text": [
      "100%|██████████| 72000/72000 [00:06<00:00, 10470.45it/s]\n",
      "100%|██████████| 72000/72000 [00:00<00:00, 261390.01it/s]\n",
      "  9%|▉         | 716/8000 [00:00<00:01, 7158.25it/s]"
     ]
    },
    {
     "name": "stdout",
     "output_type": "stream",
     "text": [
      "transforming while training word2vec model with new data.\n"
     ]
    },
    {
     "name": "stderr",
     "output_type": "stream",
     "text": [
      "100%|██████████| 8000/8000 [00:00<00:00, 10237.93it/s]\n",
      "100%|██████████| 8000/8000 [00:00<00:00, 197383.66it/s]\n",
      "  1%|          | 725/72000 [00:00<00:09, 7248.68it/s]"
     ]
    },
    {
     "name": "stdout",
     "output_type": "stream",
     "text": [
      "transforming while training word2vec model with new data.\n"
     ]
    },
    {
     "name": "stderr",
     "output_type": "stream",
     "text": [
      "100%|██████████| 72000/72000 [00:06<00:00, 10432.65it/s]\n",
      "100%|██████████| 72000/72000 [00:00<00:00, 271869.96it/s]\n"
     ]
    },
    {
     "name": "stdout",
     "output_type": "stream",
     "text": [
      "Building new vocabulary and training the word2vec model\n"
     ]
    },
    {
     "name": "stderr",
     "output_type": "stream",
     "text": [
      "  2%|▏         | 1539/72000 [00:00<00:10, 6820.17it/s]"
     ]
    },
    {
     "name": "stdout",
     "output_type": "stream",
     "text": [
      "transforming while training word2vec model with new data.\n"
     ]
    },
    {
     "name": "stderr",
     "output_type": "stream",
     "text": [
      "100%|██████████| 72000/72000 [00:06<00:00, 10344.68it/s]\n",
      "100%|██████████| 72000/72000 [00:00<00:00, 259293.79it/s]\n",
      " 22%|██▏       | 1754/8000 [00:00<00:00, 7667.71it/s]"
     ]
    },
    {
     "name": "stdout",
     "output_type": "stream",
     "text": [
      "transforming while training word2vec model with new data.\n"
     ]
    },
    {
     "name": "stderr",
     "output_type": "stream",
     "text": [
      "100%|██████████| 8000/8000 [00:00<00:00, 10223.03it/s]\n",
      "100%|██████████| 8000/8000 [00:00<00:00, 201063.20it/s]\n",
      "  1%|          | 739/72000 [00:00<00:09, 7385.57it/s]"
     ]
    },
    {
     "name": "stdout",
     "output_type": "stream",
     "text": [
      "transforming while training word2vec model with new data.\n"
     ]
    },
    {
     "name": "stderr",
     "output_type": "stream",
     "text": [
      "100%|██████████| 72000/72000 [00:06<00:00, 10448.56it/s]\n",
      "100%|██████████| 72000/72000 [00:00<00:00, 270723.73it/s]\n"
     ]
    },
    {
     "name": "stdout",
     "output_type": "stream",
     "text": [
      "Building new vocabulary and training the word2vec model\n"
     ]
    },
    {
     "name": "stderr",
     "output_type": "stream",
     "text": [
      "  2%|▏         | 1569/72000 [00:00<00:09, 7053.59it/s]"
     ]
    },
    {
     "name": "stdout",
     "output_type": "stream",
     "text": [
      "transforming while training word2vec model with new data.\n"
     ]
    },
    {
     "name": "stderr",
     "output_type": "stream",
     "text": [
      "100%|██████████| 72000/72000 [00:06<00:00, 10498.77it/s]\n",
      "100%|██████████| 72000/72000 [00:00<00:00, 253176.45it/s]\n",
      "  9%|▉         | 714/8000 [00:00<00:01, 7134.72it/s]"
     ]
    },
    {
     "name": "stdout",
     "output_type": "stream",
     "text": [
      "transforming while training word2vec model with new data.\n"
     ]
    },
    {
     "name": "stderr",
     "output_type": "stream",
     "text": [
      "100%|██████████| 8000/8000 [00:00<00:00, 10389.47it/s]\n",
      "100%|██████████| 8000/8000 [00:00<00:00, 204039.09it/s]\n",
      "  1%|          | 734/72000 [00:00<00:09, 7335.34it/s]"
     ]
    },
    {
     "name": "stdout",
     "output_type": "stream",
     "text": [
      "transforming while training word2vec model with new data.\n"
     ]
    },
    {
     "name": "stderr",
     "output_type": "stream",
     "text": [
      "100%|██████████| 72000/72000 [00:06<00:00, 10458.28it/s]\n",
      "100%|██████████| 72000/72000 [00:00<00:00, 267754.76it/s]\n"
     ]
    },
    {
     "name": "stdout",
     "output_type": "stream",
     "text": [
      "Building new vocabulary and training the word2vec model\n"
     ]
    },
    {
     "name": "stderr",
     "output_type": "stream",
     "text": [
      "  1%|          | 631/72000 [00:00<00:11, 6309.71it/s]"
     ]
    },
    {
     "name": "stdout",
     "output_type": "stream",
     "text": [
      "transforming while training word2vec model with new data.\n"
     ]
    },
    {
     "name": "stderr",
     "output_type": "stream",
     "text": [
      "100%|██████████| 72000/72000 [00:06<00:00, 10530.90it/s]\n",
      "100%|██████████| 72000/72000 [00:00<00:00, 259865.22it/s]\n",
      "  9%|▉         | 708/8000 [00:00<00:01, 7079.20it/s]"
     ]
    },
    {
     "name": "stdout",
     "output_type": "stream",
     "text": [
      "transforming while training word2vec model with new data.\n"
     ]
    },
    {
     "name": "stderr",
     "output_type": "stream",
     "text": [
      "100%|██████████| 8000/8000 [00:00<00:00, 10106.97it/s]\n",
      "100%|██████████| 8000/8000 [00:00<00:00, 283016.46it/s]\n",
      "  1%|          | 603/72000 [00:00<00:11, 6028.35it/s]"
     ]
    },
    {
     "name": "stdout",
     "output_type": "stream",
     "text": [
      "transforming while training word2vec model with new data.\n"
     ]
    },
    {
     "name": "stderr",
     "output_type": "stream",
     "text": [
      "100%|██████████| 72000/72000 [00:06<00:00, 10411.64it/s]\n",
      "100%|██████████| 72000/72000 [00:00<00:00, 270963.00it/s]\n"
     ]
    },
    {
     "name": "stdout",
     "output_type": "stream",
     "text": [
      "Building new vocabulary and training the word2vec model\n"
     ]
    },
    {
     "name": "stderr",
     "output_type": "stream",
     "text": [
      "  1%|          | 626/72000 [00:00<00:11, 6255.56it/s]"
     ]
    },
    {
     "name": "stdout",
     "output_type": "stream",
     "text": [
      "transforming while training word2vec model with new data.\n"
     ]
    },
    {
     "name": "stderr",
     "output_type": "stream",
     "text": [
      "100%|██████████| 72000/72000 [00:06<00:00, 10408.44it/s]\n",
      "100%|██████████| 72000/72000 [00:00<00:00, 254912.62it/s]\n",
      "  9%|▊         | 685/8000 [00:00<00:01, 6845.49it/s]"
     ]
    },
    {
     "name": "stdout",
     "output_type": "stream",
     "text": [
      "transforming while training word2vec model with new data.\n"
     ]
    },
    {
     "name": "stderr",
     "output_type": "stream",
     "text": [
      "100%|██████████| 8000/8000 [00:00<00:00, 10030.45it/s]\n",
      "100%|██████████| 8000/8000 [00:00<00:00, 280945.39it/s]\n",
      "  1%|          | 736/72000 [00:00<00:09, 7356.55it/s]"
     ]
    },
    {
     "name": "stdout",
     "output_type": "stream",
     "text": [
      "transforming while training word2vec model with new data.\n"
     ]
    },
    {
     "name": "stderr",
     "output_type": "stream",
     "text": [
      "100%|██████████| 72000/72000 [00:06<00:00, 10495.64it/s]\n",
      "100%|██████████| 72000/72000 [00:00<00:00, 269898.91it/s]\n"
     ]
    },
    {
     "name": "stdout",
     "output_type": "stream",
     "text": [
      "Building new vocabulary and training the word2vec model\n"
     ]
    },
    {
     "name": "stderr",
     "output_type": "stream",
     "text": [
      "  1%|          | 639/72000 [00:00<00:11, 6388.50it/s]"
     ]
    },
    {
     "name": "stdout",
     "output_type": "stream",
     "text": [
      "transforming while training word2vec model with new data.\n"
     ]
    },
    {
     "name": "stderr",
     "output_type": "stream",
     "text": [
      "100%|██████████| 72000/72000 [00:06<00:00, 10513.46it/s]\n",
      "100%|██████████| 72000/72000 [00:00<00:00, 262963.71it/s]\n",
      "  8%|▊         | 678/8000 [00:00<00:01, 6773.95it/s]"
     ]
    },
    {
     "name": "stdout",
     "output_type": "stream",
     "text": [
      "transforming while training word2vec model with new data.\n"
     ]
    },
    {
     "name": "stderr",
     "output_type": "stream",
     "text": [
      "100%|██████████| 8000/8000 [00:00<00:00, 10012.65it/s]\n",
      "100%|██████████| 8000/8000 [00:00<00:00, 205512.47it/s]\n",
      "  1%|          | 725/72000 [00:00<00:09, 7245.22it/s]"
     ]
    },
    {
     "name": "stdout",
     "output_type": "stream",
     "text": [
      "transforming while training word2vec model with new data.\n"
     ]
    },
    {
     "name": "stderr",
     "output_type": "stream",
     "text": [
      "100%|██████████| 72000/72000 [00:06<00:00, 10506.45it/s]\n",
      "100%|██████████| 72000/72000 [00:00<00:00, 270419.49it/s]\n"
     ]
    },
    {
     "name": "stdout",
     "output_type": "stream",
     "text": [
      "Building new vocabulary and training the fasttext model\n"
     ]
    },
    {
     "name": "stderr",
     "output_type": "stream",
     "text": [
      "\r",
      "  0%|          | 0/72000 [00:00<?, ?it/s]"
     ]
    },
    {
     "name": "stdout",
     "output_type": "stream",
     "text": [
      "transforming while training fasttext model with new data.\n"
     ]
    },
    {
     "name": "stderr",
     "output_type": "stream",
     "text": [
      "100%|██████████| 72000/72000 [00:08<00:00, 8828.93it/s] \n",
      "100%|██████████| 72000/72000 [00:00<00:00, 224621.82it/s]\n",
      "  0%|          | 0/8000 [00:00<?, ?it/s]"
     ]
    },
    {
     "name": "stdout",
     "output_type": "stream",
     "text": [
      "transforming while training fasttext model with new data.\n"
     ]
    },
    {
     "name": "stderr",
     "output_type": "stream",
     "text": [
      "100%|██████████| 8000/8000 [00:01<00:00, 5468.92it/s]\n",
      "100%|██████████| 8000/8000 [00:00<00:00, 245151.91it/s]\n",
      "  0%|          | 0/72000 [00:00<?, ?it/s]"
     ]
    },
    {
     "name": "stdout",
     "output_type": "stream",
     "text": [
      "transforming while training fasttext model with new data.\n"
     ]
    },
    {
     "name": "stderr",
     "output_type": "stream",
     "text": [
      "100%|██████████| 72000/72000 [00:08<00:00, 8721.29it/s]\n",
      "100%|██████████| 72000/72000 [00:00<00:00, 225978.43it/s]\n"
     ]
    },
    {
     "name": "stdout",
     "output_type": "stream",
     "text": [
      "Building new vocabulary and training the fasttext model\n"
     ]
    },
    {
     "name": "stderr",
     "output_type": "stream",
     "text": [
      "\r",
      "  0%|          | 0/72000 [00:00<?, ?it/s]"
     ]
    },
    {
     "name": "stdout",
     "output_type": "stream",
     "text": [
      "transforming while training fasttext model with new data.\n"
     ]
    },
    {
     "name": "stderr",
     "output_type": "stream",
     "text": [
      "100%|██████████| 72000/72000 [00:08<00:00, 8774.76it/s] \n",
      "100%|██████████| 72000/72000 [00:00<00:00, 222738.93it/s]\n",
      "  0%|          | 0/8000 [00:00<?, ?it/s]"
     ]
    },
    {
     "name": "stdout",
     "output_type": "stream",
     "text": [
      "transforming while training fasttext model with new data.\n"
     ]
    },
    {
     "name": "stderr",
     "output_type": "stream",
     "text": [
      "100%|██████████| 8000/8000 [00:01<00:00, 5682.14it/s]\n",
      "100%|██████████| 8000/8000 [00:00<00:00, 178823.45it/s]\n",
      "  0%|          | 0/72000 [00:00<?, ?it/s]"
     ]
    },
    {
     "name": "stdout",
     "output_type": "stream",
     "text": [
      "transforming while training fasttext model with new data.\n"
     ]
    },
    {
     "name": "stderr",
     "output_type": "stream",
     "text": [
      "100%|██████████| 72000/72000 [00:08<00:00, 8589.40it/s]\n",
      "100%|██████████| 72000/72000 [00:00<00:00, 218814.38it/s]\n"
     ]
    },
    {
     "name": "stdout",
     "output_type": "stream",
     "text": [
      "Building new vocabulary and training the fasttext model\n"
     ]
    },
    {
     "name": "stderr",
     "output_type": "stream",
     "text": [
      "\r",
      "  0%|          | 0/72000 [00:00<?, ?it/s]"
     ]
    },
    {
     "name": "stdout",
     "output_type": "stream",
     "text": [
      "transforming while training fasttext model with new data.\n"
     ]
    },
    {
     "name": "stderr",
     "output_type": "stream",
     "text": [
      "100%|██████████| 72000/72000 [00:08<00:00, 8591.61it/s]\n",
      "100%|██████████| 72000/72000 [00:00<00:00, 221625.25it/s]\n",
      "  0%|          | 0/8000 [00:00<?, ?it/s]"
     ]
    },
    {
     "name": "stdout",
     "output_type": "stream",
     "text": [
      "transforming while training fasttext model with new data.\n"
     ]
    },
    {
     "name": "stderr",
     "output_type": "stream",
     "text": [
      "100%|██████████| 8000/8000 [00:01<00:00, 6007.89it/s]\n",
      "100%|██████████| 8000/8000 [00:00<00:00, 177182.31it/s]\n",
      "  0%|          | 0/72000 [00:00<?, ?it/s]"
     ]
    },
    {
     "name": "stdout",
     "output_type": "stream",
     "text": [
      "transforming while training fasttext model with new data.\n"
     ]
    },
    {
     "name": "stderr",
     "output_type": "stream",
     "text": [
      "100%|██████████| 72000/72000 [00:08<00:00, 8618.93it/s]\n",
      "100%|██████████| 72000/72000 [00:00<00:00, 225401.25it/s]\n"
     ]
    },
    {
     "name": "stdout",
     "output_type": "stream",
     "text": [
      "Building new vocabulary and training the fasttext model\n"
     ]
    },
    {
     "name": "stderr",
     "output_type": "stream",
     "text": [
      "\r",
      "  0%|          | 0/72000 [00:00<?, ?it/s]"
     ]
    },
    {
     "name": "stdout",
     "output_type": "stream",
     "text": [
      "transforming while training fasttext model with new data.\n"
     ]
    },
    {
     "name": "stderr",
     "output_type": "stream",
     "text": [
      "100%|██████████| 72000/72000 [00:08<00:00, 8731.26it/s] \n",
      "100%|██████████| 72000/72000 [00:00<00:00, 227244.77it/s]\n",
      "  0%|          | 0/8000 [00:00<?, ?it/s]"
     ]
    },
    {
     "name": "stdout",
     "output_type": "stream",
     "text": [
      "transforming while training fasttext model with new data.\n"
     ]
    },
    {
     "name": "stderr",
     "output_type": "stream",
     "text": [
      "100%|██████████| 8000/8000 [00:01<00:00, 5985.22it/s]\n",
      "100%|██████████| 8000/8000 [00:00<00:00, 180311.95it/s]\n",
      "  0%|          | 0/72000 [00:00<?, ?it/s]"
     ]
    },
    {
     "name": "stdout",
     "output_type": "stream",
     "text": [
      "transforming while training fasttext model with new data.\n"
     ]
    },
    {
     "name": "stderr",
     "output_type": "stream",
     "text": [
      "100%|██████████| 72000/72000 [00:08<00:00, 8607.26it/s] \n",
      "100%|██████████| 72000/72000 [00:00<00:00, 226156.29it/s]\n"
     ]
    },
    {
     "name": "stdout",
     "output_type": "stream",
     "text": [
      "Building new vocabulary and training the fasttext model\n"
     ]
    },
    {
     "name": "stderr",
     "output_type": "stream",
     "text": [
      "\r",
      "  0%|          | 0/72000 [00:00<?, ?it/s]"
     ]
    },
    {
     "name": "stdout",
     "output_type": "stream",
     "text": [
      "transforming while training fasttext model with new data.\n"
     ]
    },
    {
     "name": "stderr",
     "output_type": "stream",
     "text": [
      "100%|██████████| 72000/72000 [00:08<00:00, 8692.20it/s] \n",
      "100%|██████████| 72000/72000 [00:00<00:00, 226077.06it/s]\n",
      "  0%|          | 0/8000 [00:00<?, ?it/s]"
     ]
    },
    {
     "name": "stdout",
     "output_type": "stream",
     "text": [
      "transforming while training fasttext model with new data.\n"
     ]
    },
    {
     "name": "stderr",
     "output_type": "stream",
     "text": [
      "100%|██████████| 8000/8000 [00:01<00:00, 5919.20it/s]\n",
      "100%|██████████| 8000/8000 [00:00<00:00, 178938.84it/s]\n",
      "  0%|          | 0/72000 [00:00<?, ?it/s]"
     ]
    },
    {
     "name": "stdout",
     "output_type": "stream",
     "text": [
      "transforming while training fasttext model with new data.\n"
     ]
    },
    {
     "name": "stderr",
     "output_type": "stream",
     "text": [
      "100%|██████████| 72000/72000 [00:08<00:00, 8623.86it/s]\n",
      "100%|██████████| 72000/72000 [00:00<00:00, 224423.01it/s]\n"
     ]
    },
    {
     "name": "stdout",
     "output_type": "stream",
     "text": [
      "Building new vocabulary and training the fasttext model\n"
     ]
    },
    {
     "name": "stderr",
     "output_type": "stream",
     "text": [
      "\r",
      "  0%|          | 0/72000 [00:00<?, ?it/s]"
     ]
    },
    {
     "name": "stdout",
     "output_type": "stream",
     "text": [
      "transforming while training fasttext model with new data.\n"
     ]
    },
    {
     "name": "stderr",
     "output_type": "stream",
     "text": [
      "100%|██████████| 72000/72000 [00:08<00:00, 8651.01it/s]\n",
      "100%|██████████| 72000/72000 [00:00<00:00, 221810.50it/s]\n",
      "  0%|          | 0/8000 [00:00<?, ?it/s]"
     ]
    },
    {
     "name": "stdout",
     "output_type": "stream",
     "text": [
      "transforming while training fasttext model with new data.\n"
     ]
    },
    {
     "name": "stderr",
     "output_type": "stream",
     "text": [
      "100%|██████████| 8000/8000 [00:01<00:00, 5887.88it/s]\n",
      "100%|██████████| 8000/8000 [00:00<00:00, 199922.73it/s]\n",
      "  0%|          | 0/72000 [00:00<?, ?it/s]"
     ]
    },
    {
     "name": "stdout",
     "output_type": "stream",
     "text": [
      "transforming while training fasttext model with new data.\n"
     ]
    },
    {
     "name": "stderr",
     "output_type": "stream",
     "text": [
      "100%|██████████| 72000/72000 [00:08<00:00, 8639.96it/s]\n",
      "100%|██████████| 72000/72000 [00:00<00:00, 221707.09it/s]\n"
     ]
    },
    {
     "name": "stdout",
     "output_type": "stream",
     "text": [
      "Building new vocabulary and training the fasttext model\n"
     ]
    },
    {
     "name": "stderr",
     "output_type": "stream",
     "text": [
      "\r",
      "  0%|          | 0/72000 [00:00<?, ?it/s]"
     ]
    },
    {
     "name": "stdout",
     "output_type": "stream",
     "text": [
      "transforming while training fasttext model with new data.\n"
     ]
    },
    {
     "name": "stderr",
     "output_type": "stream",
     "text": [
      "100%|██████████| 72000/72000 [00:08<00:00, 8780.40it/s] \n",
      "100%|██████████| 72000/72000 [00:00<00:00, 223023.18it/s]\n",
      "  0%|          | 0/8000 [00:00<?, ?it/s]"
     ]
    },
    {
     "name": "stdout",
     "output_type": "stream",
     "text": [
      "transforming while training fasttext model with new data.\n"
     ]
    },
    {
     "name": "stderr",
     "output_type": "stream",
     "text": [
      "100%|██████████| 8000/8000 [00:01<00:00, 5977.31it/s]\n",
      "100%|██████████| 8000/8000 [00:00<00:00, 178155.98it/s]\n",
      "  0%|          | 0/72000 [00:00<?, ?it/s]"
     ]
    },
    {
     "name": "stdout",
     "output_type": "stream",
     "text": [
      "transforming while training fasttext model with new data.\n"
     ]
    },
    {
     "name": "stderr",
     "output_type": "stream",
     "text": [
      "100%|██████████| 72000/72000 [00:08<00:00, 8613.18it/s]\n",
      "100%|██████████| 72000/72000 [00:00<00:00, 225376.86it/s]\n"
     ]
    },
    {
     "name": "stdout",
     "output_type": "stream",
     "text": [
      "Building new vocabulary and training the fasttext model\n"
     ]
    },
    {
     "name": "stderr",
     "output_type": "stream",
     "text": [
      "\r",
      "  0%|          | 0/72000 [00:00<?, ?it/s]"
     ]
    },
    {
     "name": "stdout",
     "output_type": "stream",
     "text": [
      "transforming while training fasttext model with new data.\n"
     ]
    },
    {
     "name": "stderr",
     "output_type": "stream",
     "text": [
      "100%|██████████| 72000/72000 [00:08<00:00, 8738.74it/s] \n",
      "100%|██████████| 72000/72000 [00:00<00:00, 225420.60it/s]\n",
      "  0%|          | 0/8000 [00:00<?, ?it/s]"
     ]
    },
    {
     "name": "stdout",
     "output_type": "stream",
     "text": [
      "transforming while training fasttext model with new data.\n"
     ]
    },
    {
     "name": "stderr",
     "output_type": "stream",
     "text": [
      "100%|██████████| 8000/8000 [00:01<00:00, 5844.21it/s]\n",
      "100%|██████████| 8000/8000 [00:00<00:00, 169374.44it/s]\n",
      "  0%|          | 0/72000 [00:00<?, ?it/s]"
     ]
    },
    {
     "name": "stdout",
     "output_type": "stream",
     "text": [
      "transforming while training fasttext model with new data.\n"
     ]
    },
    {
     "name": "stderr",
     "output_type": "stream",
     "text": [
      "100%|██████████| 72000/72000 [00:08<00:00, 8595.06it/s]\n",
      "100%|██████████| 72000/72000 [00:00<00:00, 224566.03it/s]\n"
     ]
    },
    {
     "name": "stdout",
     "output_type": "stream",
     "text": [
      "Building new vocabulary and training the fasttext model\n"
     ]
    },
    {
     "name": "stderr",
     "output_type": "stream",
     "text": [
      "\r",
      "  0%|          | 0/72000 [00:00<?, ?it/s]"
     ]
    },
    {
     "name": "stdout",
     "output_type": "stream",
     "text": [
      "transforming while training fasttext model with new data.\n"
     ]
    },
    {
     "name": "stderr",
     "output_type": "stream",
     "text": [
      "100%|██████████| 72000/72000 [00:08<00:00, 8637.42it/s]\n",
      "100%|██████████| 72000/72000 [00:00<00:00, 224884.44it/s]\n",
      "  0%|          | 0/8000 [00:00<?, ?it/s]"
     ]
    },
    {
     "name": "stdout",
     "output_type": "stream",
     "text": [
      "transforming while training fasttext model with new data.\n"
     ]
    },
    {
     "name": "stderr",
     "output_type": "stream",
     "text": [
      "100%|██████████| 8000/8000 [00:01<00:00, 5833.65it/s]\n",
      "100%|██████████| 8000/8000 [00:00<00:00, 173353.27it/s]\n",
      "  0%|          | 0/72000 [00:00<?, ?it/s]"
     ]
    },
    {
     "name": "stdout",
     "output_type": "stream",
     "text": [
      "transforming while training fasttext model with new data.\n"
     ]
    },
    {
     "name": "stderr",
     "output_type": "stream",
     "text": [
      "100%|██████████| 72000/72000 [00:08<00:00, 8642.50it/s]\n",
      "100%|██████████| 72000/72000 [00:00<00:00, 227058.87it/s]\n"
     ]
    },
    {
     "name": "stdout",
     "output_type": "stream",
     "text": [
      "Building new vocabulary and training the fasttext model\n"
     ]
    },
    {
     "name": "stderr",
     "output_type": "stream",
     "text": [
      "\r",
      "  0%|          | 0/72000 [00:00<?, ?it/s]"
     ]
    },
    {
     "name": "stdout",
     "output_type": "stream",
     "text": [
      "transforming while training fasttext model with new data.\n"
     ]
    },
    {
     "name": "stderr",
     "output_type": "stream",
     "text": [
      "100%|██████████| 72000/72000 [00:08<00:00, 8681.91it/s]\n",
      "100%|██████████| 72000/72000 [00:00<00:00, 223424.79it/s]\n",
      "  0%|          | 0/8000 [00:00<?, ?it/s]"
     ]
    },
    {
     "name": "stdout",
     "output_type": "stream",
     "text": [
      "transforming while training fasttext model with new data.\n"
     ]
    },
    {
     "name": "stderr",
     "output_type": "stream",
     "text": [
      "100%|██████████| 8000/8000 [00:01<00:00, 5828.78it/s]\n",
      "100%|██████████| 8000/8000 [00:00<00:00, 175321.50it/s]\n",
      "  0%|          | 0/72000 [00:00<?, ?it/s]"
     ]
    },
    {
     "name": "stdout",
     "output_type": "stream",
     "text": [
      "transforming while training fasttext model with new data.\n"
     ]
    },
    {
     "name": "stderr",
     "output_type": "stream",
     "text": [
      "100%|██████████| 72000/72000 [00:08<00:00, 8664.27it/s]\n",
      "100%|██████████| 72000/72000 [00:00<00:00, 227036.85it/s]\n"
     ]
    },
    {
     "name": "stdout",
     "output_type": "stream",
     "text": [
      "Using index for the tags\n",
      "Building new vocabulary and training the doc2vec model\n",
      "Using index for the tags\n"
     ]
    },
    {
     "name": "stderr",
     "output_type": "stream",
     "text": [
      "  0%|          | 179/80000 [00:00<00:44, 1789.31it/s]"
     ]
    },
    {
     "name": "stdout",
     "output_type": "stream",
     "text": [
      "transforming while training doc2vec model with new data.\n"
     ]
    },
    {
     "name": "stderr",
     "output_type": "stream",
     "text": [
      "100%|██████████| 80000/80000 [00:08<00:00, 9762.26it/s] \n",
      "100%|██████████| 80000/80000 [00:00<00:00, 238179.43it/s]\n"
     ]
    },
    {
     "name": "stdout",
     "output_type": "stream",
     "text": [
      "CPU times: user 3h 44min 39s, sys: 27min 9s, total: 4h 11min 49s\n",
      "Wall time: 3h 11min 37s\n"
     ]
    },
    {
     "data": {
      "text/plain": [
       "RandomizedSearchCV(cv=10, error_score=0,\n",
       "          estimator=Pipeline(memory=None,\n",
       "     steps=[('text_cleaning', <__main__.text_clean object at 0x7f7965a71e10>), ('word_embedding', word_embedding(algo_name='word2vec', continue_train_pre_train=True,\n",
       "        dump_file=False, epochs=5, min_count=1, pre_train=None,\n",
       "        re_train_new_sentences=True, size=100, window=5, workers=1)), ('log...enalty='l2', random_state=None,\n",
       "          solver='lbfgs', tol=0.0001, verbose=0, warm_start=False))]),\n",
       "          fit_params=None, iid='warn', n_iter=10, n_jobs=1,\n",
       "          param_distributions={'word_embedding__algo_name': ['word2vec', 'doc2vec', 'fasttext'], 'word_embedding__size': [100, 200, 300], 'logit__C': <scipy.stats._distn_infrastructure.rv_frozen object at 0x7f7965a715f8>, 'logit__class_weight': [{0: 0.9, 1: 0.1}, {0: 0.8, 1: 0.2}, None]},\n",
       "          pre_dispatch='2*n_jobs', random_state=None, refit=True,\n",
       "          return_train_score=True, scoring='f1', verbose=0)"
      ]
     },
     "execution_count": 47,
     "metadata": {},
     "output_type": "execute_result"
    }
   ],
   "source": [
    "%%time \n",
    "diff_pipe_cv.fit(pipe_test_data[\"Text\"],pipe_test_data['Target'] )"
   ]
  },
  {
   "cell_type": "code",
   "execution_count": 48,
   "metadata": {
    "scrolled": true
   },
   "outputs": [
    {
     "data": {
      "text/plain": [
       "{'logit__C': 8.0074456867553661,\n",
       " 'logit__class_weight': {0: 0.8, 1: 0.2},\n",
       " 'word_embedding__algo_name': 'doc2vec',\n",
       " 'word_embedding__size': 300}"
      ]
     },
     "execution_count": 48,
     "metadata": {},
     "output_type": "execute_result"
    }
   ],
   "source": [
    "diff_pipe_cv.best_params_"
   ]
  },
  {
   "cell_type": "code",
   "execution_count": 60,
   "metadata": {},
   "outputs": [
    {
     "data": {
      "text/plain": [
       "0.96608392853306702"
      ]
     },
     "execution_count": 60,
     "metadata": {},
     "output_type": "execute_result"
    }
   ],
   "source": [
    "diff_pipe_cv.best_score_"
   ]
  },
  {
   "cell_type": "code",
   "execution_count": 61,
   "metadata": {},
   "outputs": [
    {
     "data": {
      "text/plain": [
       "Pipeline(memory=None,\n",
       "     steps=[('text_cleaning', <__main__.text_clean object at 0x7f79643512e8>), ('word_embedding', word_embedding(algo_name='doc2vec', continue_train_pre_train=True,\n",
       "        dump_file=False, epochs=5, min_count=1, pre_train=None,\n",
       "        re_train_new_sentences=True, size=300, window=5, workers=1)), ('logi...',\n",
       "          random_state=None, solver='lbfgs', tol=0.0001, verbose=0,\n",
       "          warm_start=False))])"
      ]
     },
     "execution_count": 61,
     "metadata": {},
     "output_type": "execute_result"
    }
   ],
   "source": [
    "diff_pipe_cv.best_estimator_"
   ]
  },
  {
   "cell_type": "code",
   "execution_count": 58,
   "metadata": {},
   "outputs": [],
   "source": [
    "import re\n",
    "def _match_re_and_extract_cv_scores(model,all_cv_keys, regex):\n",
    "    match_keys = re.findall(regex,\" \".join(all_cv_keys))\n",
    "    \n",
    "    cv_scores = dict()\n",
    "    \n",
    "    for key in match_keys:\n",
    "        cv_scores[key] = model.cv_results_[key]\n",
    "    return cv_scores \n",
    "\n",
    "\n",
    "def extract_sk_cv(model, test = True):\n",
    "    \"\"\"\n",
    "    A helper function to extract the training/testing cross validation result\n",
    "    \"\"\"\n",
    "    all_cv_keys = model.cv_results_.keys()\n",
    "    \n",
    "    if test:\n",
    "        sk_cv_result =  _match_re_and_extract_cv_scores(model = model,all_cv_keys = all_cv_keys\\\n",
    "                                                             ,regex = r\"split[0-9]+_test_score\")\n",
    "        return pd.DataFrame(sk_cv_result)\n",
    "\n",
    "    elif not test:\n",
    "        \n",
    "        sk_cv_result = _match_re_and_extract_cv_scores(model = model,all_cv_keys = all_cv_keys\\\n",
    "                                                             ,regex = r\"split[0-9]+_train_score\")\n",
    "        return pd.DataFrame(sk_cv_result)\n"
   ]
  },
  {
   "cell_type": "code",
   "execution_count": 59,
   "metadata": {},
   "outputs": [
    {
     "data": {
      "image/png": "[encoded data removed]",
      "text/plain": [
       "<Figure size 576x576 with 1 Axes>"
      ]
     },
     "metadata": {
      "needs_background": "light"
     },
     "output_type": "display_data"
    }
   ],
   "source": [
    "plt.figure(figsize = (8,8))\n",
    "sns.boxenplot(data=extract_sk_cv(diff_pipe_cv), orient=\"h\");"
   ]
  },
  {
   "cell_type": "code",
   "execution_count": null,
   "metadata": {},
   "outputs": [],
   "source": []
  }
 ],
 "metadata": {
  "kernelspec": {
   "display_name": "Python 3",
   "language": "python",
   "name": "python3"
  },
  "language_info": {
   "codemirror_mode": {
    "name": "ipython",
    "version": 3
   },
   "file_extension": ".py",
   "mimetype": "text/x-python",
   "name": "python",
   "nbconvert_exporter": "python",
   "pygments_lexer": "ipython3",
   "version": "3.6.6"
  }
 },
 "nbformat": 4,
 "nbformat_minor": 2
}
