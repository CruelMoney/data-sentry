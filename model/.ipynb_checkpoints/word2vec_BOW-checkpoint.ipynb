{
 "cells": [
  {
   "cell_type": "markdown",
   "metadata": {},
   "source": [
    "Use the word2vec model to convert the entire text to a vector. "
   ]
  },
  {
   "cell_type": "code",
   "execution_count": 2,
   "metadata": {},
   "outputs": [],
   "source": [
    "from gensim.models import Word2Vec\n",
    "import pandas as pd"
   ]
  },
  {
   "cell_type": "code",
   "execution_count": 4,
   "metadata": {},
   "outputs": [],
   "source": [
    "word2vec = Word2Vec.load(\"./word2vec/word2vec_200_fake_pii.bin\")"
   ]
  },
  {
   "cell_type": "code",
   "execution_count": 8,
   "metadata": {},
   "outputs": [],
   "source": [
    "string = \"My email address is edwardcooper@gmail.com. I would love you to call me any time at 513-801-9094. Best,\\\n",
    " Edward Cooper\""
   ]
  },
  {
   "cell_type": "code",
   "execution_count": 9,
   "metadata": {},
   "outputs": [],
   "source": [
    "fake_pii = pd.read_csv(\"../data/text_with_pii_2018_12_21_04_32_47_173911.csv\")\n",
    "\n",
    "# clean the text in a sentence and return a sentence.\n",
    "def clean_sentence(sentence):\n",
    "    \n",
    "    sentence_cleaned = [word.replace(\",\", \"\").replace(\".\", \"\")\\\n",
    "                        .lower() for word in sentence.split(\" \")]\n",
    "    return \" \".join(sentence_cleaned)    \n",
    "\n",
    "context_sentences = fake_pii[\"Text\"].apply(clean_sentence)"
   ]
  },
  {
   "cell_type": "code",
   "execution_count": 10,
   "metadata": {},
   "outputs": [],
   "source": [
    "tokenized_sentence_word_list = [sentence.split(\" \")\\\n",
    "                                for sentence in context_sentences]"
   ]
  },
  {
   "cell_type": "code",
   "execution_count": 32,
   "metadata": {},
   "outputs": [
    {
     "data": {
      "text/plain": [
       "(800000, 3)"
      ]
     },
     "execution_count": 32,
     "metadata": {},
     "output_type": "execute_result"
    }
   ],
   "source": [
    "fake_pii.shape"
   ]
  },
  {
   "cell_type": "code",
   "execution_count": 87,
   "metadata": {},
   "outputs": [
    {
     "data": {
      "text/plain": [
       "'Impact region card technology indicate. Station cut rule Patricia Smith church Congress. There west parent write. Accept image region through group matter.'"
      ]
     },
     "execution_count": 87,
     "metadata": {},
     "output_type": "execute_result"
    }
   ],
   "source": [
    "fake_pii.iloc[300001,0]"
   ]
  },
  {
   "cell_type": "code",
   "execution_count": 90,
   "metadata": {},
   "outputs": [
    {
     "data": {
      "text/plain": [
       "['impact',\n",
       " 'region',\n",
       " 'card',\n",
       " 'technology',\n",
       " 'indicate',\n",
       " 'station',\n",
       " 'cut',\n",
       " 'rule',\n",
       " 'patricia',\n",
       " 'smith',\n",
       " 'church',\n",
       " 'congress',\n",
       " 'there',\n",
       " 'west',\n",
       " 'parent',\n",
       " 'write',\n",
       " 'accept',\n",
       " 'image',\n",
       " 'region',\n",
       " 'through',\n",
       " 'group',\n",
       " 'matter']"
      ]
     },
     "execution_count": 90,
     "metadata": {},
     "output_type": "execute_result"
    }
   ],
   "source": [
    "result_text = context_sentences[300001].split()\n",
    "\n",
    "result_text"
   ]
  },
  {
   "cell_type": "code",
   "execution_count": 91,
   "metadata": {},
   "outputs": [
    {
     "data": {
      "text/plain": [
       "'patricia'"
      ]
     },
     "execution_count": 91,
     "metadata": {},
     "output_type": "execute_result"
    }
   ],
   "source": [
    "word2vec.wv.doesnt_match(result_text)"
   ]
  },
  {
   "cell_type": "code",
   "execution_count": 80,
   "metadata": {},
   "outputs": [
    {
     "data": {
      "text/plain": [
       "'ever watch television read measure almost thought shake take suite 971 program interest strong exist clear least like create most order court build organization'"
      ]
     },
     "execution_count": 80,
     "metadata": {},
     "output_type": "execute_result"
    }
   ],
   "source": [
    "context_sentences[0]"
   ]
  },
  {
   "cell_type": "code",
   "execution_count": 92,
   "metadata": {},
   "outputs": [
    {
     "data": {
      "text/plain": [
       "array([ 0.36622727,  0.27836189, -0.37526613,  0.39204478,  0.54952252,\n",
       "        0.42405748,  0.06321009,  0.39116091,  0.39493561,  0.42504805,\n",
       "       -0.04260241, -0.32782874,  0.28235227,  0.20148884,  0.51235503,\n",
       "        0.12329604,  0.39492026,  0.11548052,  0.48414013,  0.46749458,\n",
       "       -0.09176376, -0.26889315,  0.00905478,  0.10210225,  0.82386851,\n",
       "        0.22759764, -0.42818621, -0.46396604, -0.15678126, -0.07515994,\n",
       "       -0.5305078 , -0.00258889, -0.46586043,  0.2786144 ,  0.21425438,\n",
       "       -0.11656933, -0.00812311, -0.32174751, -0.38319516, -0.06494484,\n",
       "        0.11989294,  0.08557372, -0.07803344,  0.65480614, -0.27052978,\n",
       "       -0.231998  ,  0.34841606, -0.46566299,  0.54239953, -0.34700489,\n",
       "       -0.48149049, -0.00473366,  0.16973442,  0.57294244,  0.29995993,\n",
       "        0.11582996, -0.29220232,  0.03455056,  0.22629175, -0.00957377,\n",
       "       -0.1343711 , -0.0322794 , -0.45557189, -0.25282791, -0.30939597,\n",
       "       -0.42252561, -0.38229427,  0.70267814,  0.03212199, -0.56221449,\n",
       "       -0.28951436,  0.44209307, -0.18840943,  0.25071573,  0.07071137,\n",
       "        0.01802514,  0.24301881,  0.56312686, -0.87896854, -0.1228103 ,\n",
       "       -0.21848464, -0.27417973,  0.33964124,  0.05376858, -0.45965025,\n",
       "        0.24960047,  0.16081516, -0.09656464, -0.36986965,  0.69823992,\n",
       "        0.518058  , -0.28044942, -0.67946982, -0.21037459, -0.18949661,\n",
       "        0.486357  , -0.09703605, -0.01699125,  0.38966861, -0.14187039,\n",
       "       -0.55625379,  0.24004665,  0.03387077, -0.06611191,  0.32117337,\n",
       "       -0.00470518,  0.07983319, -0.2084811 , -0.32976964,  0.04163716,\n",
       "        0.03847374, -0.28346476, -0.08689872, -0.06094688, -0.10077219,\n",
       "       -0.30367556, -0.23542252,  0.23426592, -0.03507572, -0.31629482,\n",
       "        0.03728339,  0.08034741,  0.00640894,  0.02541019, -0.05821044,\n",
       "       -0.29559648,  0.28139323,  0.14867941, -0.3150309 , -0.56748217,\n",
       "       -0.41574594, -0.34591457, -0.36659819,  0.2511352 ,  0.25805655,\n",
       "        0.21286656, -0.66818804,  0.19983318,  0.38626057,  0.14800163,\n",
       "        0.50411046, -0.11313665, -0.12401381,  0.41839257,  0.04548705,\n",
       "       -0.28719687,  0.12991162, -0.30293354,  0.08439358,  0.0599613 ,\n",
       "        0.67579079, -0.83187032, -0.17593484,  0.11238219,  0.26818511,\n",
       "       -0.07943866,  0.13152783, -0.67337078,  0.15032665, -0.33699712,\n",
       "       -0.39176679,  0.05526476, -0.02376574, -0.16123222,  0.09082134,\n",
       "       -0.14629154,  0.4196482 ,  0.45445991, -0.23925678,  0.22602221,\n",
       "        0.02624905,  0.24055468, -0.0130647 , -0.00354376, -0.53426176,\n",
       "        0.28655559,  0.0750755 ,  0.00988806, -0.59504151, -0.25715533,\n",
       "       -0.34431168, -0.15743522,  0.19060867,  0.31156909,  0.04773479,\n",
       "        0.67373681, -0.23917529,  0.25175881, -0.17434303,  0.04685862,\n",
       "       -0.53877157, -0.34430555,  0.14777781, -0.19242966,  0.44837737,\n",
       "        0.14584933,  0.08974441,  0.1938848 , -0.332755  ,  0.27944371], dtype=float32)"
      ]
     },
     "execution_count": 92,
     "metadata": {},
     "output_type": "execute_result"
    }
   ],
   "source": [
    "word2vec.wv[\"patricia\"]"
   ]
  },
  {
   "cell_type": "code",
   "execution_count": 93,
   "metadata": {},
   "outputs": [
    {
     "data": {
      "text/html": [
       "<div>\n",
       "<style scoped>\n",
       "    .dataframe tbody tr th:only-of-type {\n",
       "        vertical-align: middle;\n",
       "    }\n",
       "\n",
       "    .dataframe tbody tr th {\n",
       "        vertical-align: top;\n",
       "    }\n",
       "\n",
       "    .dataframe thead th {\n",
       "        text-align: right;\n",
       "    }\n",
       "</style>\n",
       "<table border=\"1\" class=\"dataframe\">\n",
       "  <thead>\n",
       "    <tr style=\"text-align: right;\">\n",
       "      <th></th>\n",
       "      <th>Text</th>\n",
       "      <th>Labels</th>\n",
       "      <th>PII</th>\n",
       "    </tr>\n",
       "  </thead>\n",
       "  <tbody>\n",
       "    <tr>\n",
       "      <th>0</th>\n",
       "      <td>Ever watch television read measure almost. Tho...</td>\n",
       "      <td>Address</td>\n",
       "      <td>Suite 971</td>\n",
       "    </tr>\n",
       "    <tr>\n",
       "      <th>1</th>\n",
       "      <td>Impact region card 37271 Adams Road Suite 438 ...</td>\n",
       "      <td>Address</td>\n",
       "      <td>37271 Adams Road Suite 438</td>\n",
       "    </tr>\n",
       "    <tr>\n",
       "      <th>2</th>\n",
       "      <td>0604 Mason Wall Throughout admit have science ...</td>\n",
       "      <td>Address</td>\n",
       "      <td>0604 Mason Wall</td>\n",
       "    </tr>\n",
       "    <tr>\n",
       "      <th>3</th>\n",
       "      <td>Able item bag my day impact continue. Apt. 633...</td>\n",
       "      <td>Address</td>\n",
       "      <td>Apt. 633</td>\n",
       "    </tr>\n",
       "    <tr>\n",
       "      <th>4</th>\n",
       "      <td>Inside perhaps Suite 744 else seven. Able seas...</td>\n",
       "      <td>Address</td>\n",
       "      <td>Suite 744</td>\n",
       "    </tr>\n",
       "    <tr>\n",
       "      <th>5</th>\n",
       "      <td>Feeling more reduce everything. Apt. 524 Creat...</td>\n",
       "      <td>Address</td>\n",
       "      <td>Apt. 524</td>\n",
       "    </tr>\n",
       "    <tr>\n",
       "      <th>6</th>\n",
       "      <td>Rule price recognize continue. Happy act agree...</td>\n",
       "      <td>Address</td>\n",
       "      <td>22471 Hannah Crossing</td>\n",
       "    </tr>\n",
       "    <tr>\n",
       "      <th>7</th>\n",
       "      <td>Suite 104 Some second dinner. Force past line ...</td>\n",
       "      <td>Address</td>\n",
       "      <td>Suite 104</td>\n",
       "    </tr>\n",
       "    <tr>\n",
       "      <th>8</th>\n",
       "      <td>Large 930 Chad Ford Apt. 029 New Michaelmouth,...</td>\n",
       "      <td>Address</td>\n",
       "      <td>930 Chad Ford Apt. 029 New Michaelmouth, KY 89394</td>\n",
       "    </tr>\n",
       "    <tr>\n",
       "      <th>9</th>\n",
       "      <td>Future movement office. Thus building successf...</td>\n",
       "      <td>Address</td>\n",
       "      <td>0874 Charles Forge Suite 659 Caitlinburgh, ME ...</td>\n",
       "    </tr>\n",
       "  </tbody>\n",
       "</table>\n",
       "</div>"
      ],
      "text/plain": [
       "                                                Text   Labels  \\\n",
       "0  Ever watch television read measure almost. Tho...  Address   \n",
       "1  Impact region card 37271 Adams Road Suite 438 ...  Address   \n",
       "2  0604 Mason Wall Throughout admit have science ...  Address   \n",
       "3  Able item bag my day impact continue. Apt. 633...  Address   \n",
       "4  Inside perhaps Suite 744 else seven. Able seas...  Address   \n",
       "5  Feeling more reduce everything. Apt. 524 Creat...  Address   \n",
       "6  Rule price recognize continue. Happy act agree...  Address   \n",
       "7  Suite 104 Some second dinner. Force past line ...  Address   \n",
       "8  Large 930 Chad Ford Apt. 029 New Michaelmouth,...  Address   \n",
       "9  Future movement office. Thus building successf...  Address   \n",
       "\n",
       "                                                 PII  \n",
       "0                                          Suite 971  \n",
       "1                         37271 Adams Road Suite 438  \n",
       "2                                    0604 Mason Wall  \n",
       "3                                           Apt. 633  \n",
       "4                                          Suite 744  \n",
       "5                                           Apt. 524  \n",
       "6                              22471 Hannah Crossing  \n",
       "7                                          Suite 104  \n",
       "8  930 Chad Ford Apt. 029 New Michaelmouth, KY 89394  \n",
       "9  0874 Charles Forge Suite 659 Caitlinburgh, ME ...  "
      ]
     },
     "execution_count": 93,
     "metadata": {},
     "output_type": "execute_result"
    }
   ],
   "source": [
    "fake_pii.head(10)"
   ]
  },
  {
   "cell_type": "markdown",
   "metadata": {},
   "source": [
    "The next goal is to generate the embedding for the part of the PII. "
   ]
  },
  {
   "cell_type": "code",
   "execution_count": 94,
   "metadata": {},
   "outputs": [],
   "source": [
    "def find_part_pii(text, model, sep = \" \"):\n",
    "    tokenized_text = text.split(sep)\n",
    "    \n",
    "    part_pii = model.wv.doesnt_match(tokenized_text)\n",
    "    \n",
    "    return part_pii    "
   ]
  },
  {
   "cell_type": "code",
   "execution_count": null,
   "metadata": {},
   "outputs": [],
   "source": []
  },
  {
   "cell_type": "code",
   "execution_count": 97,
   "metadata": {},
   "outputs": [],
   "source": [
    "import numpy as np\n",
    "def get_pii2vec_matrix(pii_list, model):\n",
    "    # set the matrix dimensions\n",
    "    column_num = model.trainables.layer1_size\n",
    "    row_num = len(pii_list)\n",
    "    # initialized the matrix\n",
    "    pii2vec_mat = np.zeros(row_num, column_num)\n",
    "    # iterate through the pii_list and assign the vectors to matrix.\n",
    "    for ith_pii in pii_list:\n",
    "        pii2vec_mat[1,:] = model.wv[ith_pii]\n",
    "    \n",
    "    return pii2vec_mat"
   ]
  },
  {
   "cell_type": "code",
   "execution_count": 96,
   "metadata": {},
   "outputs": [
    {
     "data": {
      "text/plain": [
       "200"
      ]
     },
     "execution_count": 96,
     "metadata": {},
     "output_type": "execute_result"
    }
   ],
   "source": []
  },
  {
   "cell_type": "code",
   "execution_count": null,
   "metadata": {},
   "outputs": [],
   "source": []
  }
 ],
 "metadata": {
  "kernelspec": {
   "display_name": "Python 3",
   "language": "python",
   "name": "python3"
  },
  "language_info": {
   "codemirror_mode": {
    "name": "ipython",
    "version": 3
   },
   "file_extension": ".py",
   "mimetype": "text/x-python",
   "name": "python",
   "nbconvert_exporter": "python",
   "pygments_lexer": "ipython3",
   "version": "3.6.6"
  }
 },
 "nbformat": 4,
 "nbformat_minor": 2
}
