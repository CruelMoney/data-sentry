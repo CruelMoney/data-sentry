{
 "cells": [
  {
   "cell_type": "markdown",
   "metadata": {},
   "source": [
    "## Load the pre-trained word2vec model from the fake PII data. "
   ]
  },
  {
   "cell_type": "markdown",
   "metadata": {},
   "source": [
    "First, load the packages."
   ]
  },
  {
   "cell_type": "code",
   "execution_count": 1,
   "metadata": {},
   "outputs": [],
   "source": [
    "from gensim.models import Word2Vec\n",
    "import pandas as pd"
   ]
  },
  {
   "cell_type": "markdown",
   "metadata": {},
   "source": [
    "Load the word2vec model and the fake pii text with labels."
   ]
  },
  {
   "cell_type": "code",
   "execution_count": 2,
   "metadata": {},
   "outputs": [],
   "source": [
    "word2vec = Word2Vec.load(\"./word2vec/word2vec_300_fake_pii.bin\")"
   ]
  },
  {
   "cell_type": "code",
   "execution_count": 3,
   "metadata": {
    "scrolled": true
   },
   "outputs": [],
   "source": [
    "fake_pii = pd.read_csv(\"../data/text_with_pii_2018_12_21_04_32_47_173911.csv\")\n",
    "\n",
    "# clean the text in a sentence and return a sentence.\n",
    "def clean_sentence(sentence):\n",
    "    \n",
    "    sentence_cleaned = [word.replace(\",\", \"\").replace(\".\", \"\")\\\n",
    "                        .lower() for word in sentence.split(\" \")]\n",
    "    return \" \".join(sentence_cleaned)    \n",
    "\n",
    "context_sentences = fake_pii[\"Text\"].apply(clean_sentence)"
   ]
  },
  {
   "cell_type": "markdown",
   "metadata": {},
   "source": [
    "What the data look like?"
   ]
  },
  {
   "cell_type": "code",
   "execution_count": 4,
   "metadata": {},
   "outputs": [
    {
     "data": {
      "text/html": [
       "<div>\n",
       "<style scoped>\n",
       "    .dataframe tbody tr th:only-of-type {\n",
       "        vertical-align: middle;\n",
       "    }\n",
       "\n",
       "    .dataframe tbody tr th {\n",
       "        vertical-align: top;\n",
       "    }\n",
       "\n",
       "    .dataframe thead th {\n",
       "        text-align: right;\n",
       "    }\n",
       "</style>\n",
       "<table border=\"1\" class=\"dataframe\">\n",
       "  <thead>\n",
       "    <tr style=\"text-align: right;\">\n",
       "      <th></th>\n",
       "      <th>Text</th>\n",
       "      <th>Labels</th>\n",
       "      <th>PII</th>\n",
       "    </tr>\n",
       "  </thead>\n",
       "  <tbody>\n",
       "    <tr>\n",
       "      <th>0</th>\n",
       "      <td>Ever watch television read measure almost. Tho...</td>\n",
       "      <td>Address</td>\n",
       "      <td>Suite 971</td>\n",
       "    </tr>\n",
       "    <tr>\n",
       "      <th>1</th>\n",
       "      <td>Impact region card 37271 Adams Road Suite 438 ...</td>\n",
       "      <td>Address</td>\n",
       "      <td>37271 Adams Road Suite 438</td>\n",
       "    </tr>\n",
       "    <tr>\n",
       "      <th>2</th>\n",
       "      <td>0604 Mason Wall Throughout admit have science ...</td>\n",
       "      <td>Address</td>\n",
       "      <td>0604 Mason Wall</td>\n",
       "    </tr>\n",
       "    <tr>\n",
       "      <th>3</th>\n",
       "      <td>Able item bag my day impact continue. Apt. 633...</td>\n",
       "      <td>Address</td>\n",
       "      <td>Apt. 633</td>\n",
       "    </tr>\n",
       "    <tr>\n",
       "      <th>4</th>\n",
       "      <td>Inside perhaps Suite 744 else seven. Able seas...</td>\n",
       "      <td>Address</td>\n",
       "      <td>Suite 744</td>\n",
       "    </tr>\n",
       "    <tr>\n",
       "      <th>5</th>\n",
       "      <td>Feeling more reduce everything. Apt. 524 Creat...</td>\n",
       "      <td>Address</td>\n",
       "      <td>Apt. 524</td>\n",
       "    </tr>\n",
       "    <tr>\n",
       "      <th>6</th>\n",
       "      <td>Rule price recognize continue. Happy act agree...</td>\n",
       "      <td>Address</td>\n",
       "      <td>22471 Hannah Crossing</td>\n",
       "    </tr>\n",
       "    <tr>\n",
       "      <th>7</th>\n",
       "      <td>Suite 104 Some second dinner. Force past line ...</td>\n",
       "      <td>Address</td>\n",
       "      <td>Suite 104</td>\n",
       "    </tr>\n",
       "    <tr>\n",
       "      <th>8</th>\n",
       "      <td>Large 930 Chad Ford Apt. 029 New Michaelmouth,...</td>\n",
       "      <td>Address</td>\n",
       "      <td>930 Chad Ford Apt. 029 New Michaelmouth, KY 89394</td>\n",
       "    </tr>\n",
       "    <tr>\n",
       "      <th>9</th>\n",
       "      <td>Future movement office. Thus building successf...</td>\n",
       "      <td>Address</td>\n",
       "      <td>0874 Charles Forge Suite 659 Caitlinburgh, ME ...</td>\n",
       "    </tr>\n",
       "  </tbody>\n",
       "</table>\n",
       "</div>"
      ],
      "text/plain": [
       "                                                Text   Labels  \\\n",
       "0  Ever watch television read measure almost. Tho...  Address   \n",
       "1  Impact region card 37271 Adams Road Suite 438 ...  Address   \n",
       "2  0604 Mason Wall Throughout admit have science ...  Address   \n",
       "3  Able item bag my day impact continue. Apt. 633...  Address   \n",
       "4  Inside perhaps Suite 744 else seven. Able seas...  Address   \n",
       "5  Feeling more reduce everything. Apt. 524 Creat...  Address   \n",
       "6  Rule price recognize continue. Happy act agree...  Address   \n",
       "7  Suite 104 Some second dinner. Force past line ...  Address   \n",
       "8  Large 930 Chad Ford Apt. 029 New Michaelmouth,...  Address   \n",
       "9  Future movement office. Thus building successf...  Address   \n",
       "\n",
       "                                                 PII  \n",
       "0                                          Suite 971  \n",
       "1                         37271 Adams Road Suite 438  \n",
       "2                                    0604 Mason Wall  \n",
       "3                                           Apt. 633  \n",
       "4                                          Suite 744  \n",
       "5                                           Apt. 524  \n",
       "6                              22471 Hannah Crossing  \n",
       "7                                          Suite 104  \n",
       "8  930 Chad Ford Apt. 029 New Michaelmouth, KY 89394  \n",
       "9  0874 Charles Forge Suite 659 Caitlinburgh, ME ...  "
      ]
     },
     "execution_count": 4,
     "metadata": {},
     "output_type": "execute_result"
    }
   ],
   "source": [
    "fake_pii.head(10)"
   ]
  },
  {
   "cell_type": "markdown",
   "metadata": {},
   "source": [
    "Take a look at the dimensions of the data."
   ]
  },
  {
   "cell_type": "code",
   "execution_count": 5,
   "metadata": {},
   "outputs": [
    {
     "data": {
      "text/plain": [
       "(800000, 3)"
      ]
     },
     "execution_count": 5,
     "metadata": {},
     "output_type": "execute_result"
    }
   ],
   "source": [
    "fake_pii.shape"
   ]
  },
  {
   "cell_type": "markdown",
   "metadata": {},
   "source": [
    "Let us take a look at one example of the data."
   ]
  },
  {
   "cell_type": "code",
   "execution_count": 6,
   "metadata": {},
   "outputs": [
    {
     "data": {
      "text/plain": [
       "'Impact region card technology indicate. Station cut rule Patricia Smith church Congress. There west parent write. Accept image region through group matter.'"
      ]
     },
     "execution_count": 6,
     "metadata": {},
     "output_type": "execute_result"
    }
   ],
   "source": [
    "fake_pii.iloc[300001,0]"
   ]
  },
  {
   "cell_type": "code",
   "execution_count": 7,
   "metadata": {},
   "outputs": [
    {
     "data": {
      "text/plain": [
       "['impact',\n",
       " 'region',\n",
       " 'card',\n",
       " 'technology',\n",
       " 'indicate',\n",
       " 'station',\n",
       " 'cut',\n",
       " 'rule',\n",
       " 'patricia',\n",
       " 'smith',\n",
       " 'church',\n",
       " 'congress',\n",
       " 'there',\n",
       " 'west',\n",
       " 'parent',\n",
       " 'write',\n",
       " 'accept',\n",
       " 'image',\n",
       " 'region',\n",
       " 'through',\n",
       " 'group',\n",
       " 'matter']"
      ]
     },
     "execution_count": 7,
     "metadata": {},
     "output_type": "execute_result"
    }
   ],
   "source": [
    "result_text = context_sentences[300001].split()\n",
    "\n",
    "result_text"
   ]
  },
  {
   "cell_type": "markdown",
   "metadata": {},
   "source": [
    "Let us see what is the most dissimilar word in the above list."
   ]
  },
  {
   "cell_type": "code",
   "execution_count": 8,
   "metadata": {
    "scrolled": true
   },
   "outputs": [
    {
     "data": {
      "text/plain": [
       "'patricia'"
      ]
     },
     "execution_count": 8,
     "metadata": {},
     "output_type": "execute_result"
    }
   ],
   "source": [
    "word2vec.wv.doesnt_match(result_text)"
   ]
  },
  {
   "cell_type": "markdown",
   "metadata": {},
   "source": [
    "## Visualize word2vec embedding in 2d "
   ]
  },
  {
   "cell_type": "markdown",
   "metadata": {},
   "source": [
    "The next goal is to generate the embedding for the part of the PII. "
   ]
  },
  {
   "cell_type": "code",
   "execution_count": 9,
   "metadata": {},
   "outputs": [],
   "source": [
    "def find_part_pii(text, model, sep = \" \"):\n",
    "    tokenized_text = text.split(sep)\n",
    "    \n",
    "    part_pii = model.wv.doesnt_match(tokenized_text)\n",
    "    \n",
    "    return part_pii    "
   ]
  },
  {
   "cell_type": "code",
   "execution_count": 10,
   "metadata": {
    "scrolled": true
   },
   "outputs": [
    {
     "name": "stderr",
     "output_type": "stream",
     "text": [
      "100%|██████████| 800000/800000 [01:24<00:00, 9511.84it/s] \n"
     ]
    }
   ],
   "source": [
    "from tqdm import tqdm\n",
    "pii_list = [find_part_pii(text, model = word2vec) for text in tqdm(context_sentences) ]"
   ]
  },
  {
   "cell_type": "code",
   "execution_count": 11,
   "metadata": {},
   "outputs": [],
   "source": [
    "import numpy as np\n",
    "from tqdm import tqdm\n",
    "\n",
    "def get_pii2vec_matrix(pii_list, model):\n",
    "    # set the matrix dimensions\n",
    "    column_num = model.trainables.layer1_size\n",
    "    row_num = len(pii_list)\n",
    "    # initialized the matrix\n",
    "    pii2vec_mat = np.zeros((row_num, column_num))\n",
    "    # iterate through the pii_list and assign the vectors to matrix.\n",
    "    for index, ith_pii in enumerate(tqdm(pii_list)):\n",
    "        pii2vec_mat[index,:] = model.wv[ith_pii]\n",
    "    \n",
    "    return pii2vec_mat"
   ]
  },
  {
   "cell_type": "code",
   "execution_count": 12,
   "metadata": {
    "scrolled": true
   },
   "outputs": [
    {
     "name": "stderr",
     "output_type": "stream",
     "text": [
      "100%|██████████| 800000/800000 [00:03<00:00, 227325.33it/s]\n"
     ]
    }
   ],
   "source": [
    "pii_matrix = get_pii2vec_matrix(pii_list = pii_list, model = word2vec)"
   ]
  },
  {
   "cell_type": "code",
   "execution_count": 13,
   "metadata": {},
   "outputs": [],
   "source": [
    "pii_labels = fake_pii[\"Labels\"]"
   ]
  },
  {
   "cell_type": "markdown",
   "metadata": {},
   "source": [
    "Visualize the resulting matrix with PCA in 2 dimensions. "
   ]
  },
  {
   "cell_type": "code",
   "execution_count": 14,
   "metadata": {},
   "outputs": [],
   "source": [
    "from yellowbrick.features.pca import PCADecomposition\n",
    "import matplotlib.pyplot as plt"
   ]
  },
  {
   "cell_type": "code",
   "execution_count": 15,
   "metadata": {},
   "outputs": [
    {
     "data": {
      "text/plain": [
       "CreditCardNumber    100000\n",
       "None                100000\n",
       "Plates              100000\n",
       "SSN                 100000\n",
       "Name                100000\n",
       "Phone_number        100000\n",
       "Email               100000\n",
       "Address             100000\n",
       "Name: Labels, dtype: int64"
      ]
     },
     "execution_count": 15,
     "metadata": {},
     "output_type": "execute_result"
    }
   ],
   "source": [
    "pii_labels.value_counts()"
   ]
  },
  {
   "cell_type": "code",
   "execution_count": 16,
   "metadata": {},
   "outputs": [],
   "source": [
    "color_dict = {\"Phone_number\":\"red\",\"SSN\":\"blue\",\"Address\":\"black\",\"Name\":\"yellow\",\\\n",
    "             \"Plates\":\"orange\",\"CreditCardNumber\":\"purple\",\"None\":'pink',\"Email\":\"tan\"}\n",
    "\n",
    "colors = pii_labels.map(color_dict)"
   ]
  },
  {
   "cell_type": "code",
   "execution_count": 17,
   "metadata": {},
   "outputs": [
    {
     "data": {
      "image/png": "[encoded data removed]",
      "text/plain": [
       "<Figure size 720x720 with 1 Axes>"
      ]
     },
     "metadata": {
      "needs_background": "light"
     },
     "output_type": "display_data"
    }
   ],
   "source": [
    "plt.figure(figsize=(10,10))\n",
    "PCAvisualizer = PCADecomposition(scale=True, color = colors, proj_dim = 2)\n",
    "PCAvisualizer.fit_transform(pii_matrix, pii_labels)\n",
    "PCAvisualizer.poof()"
   ]
  },
  {
   "cell_type": "markdown",
   "metadata": {},
   "source": [
    "The color and PII type are related as \n",
    "{\"Phone_number\":\"red\",\"SSN\":\"blue\",\"Address\":\"black\",\"Name\":\"yellow\",\\\n",
    "             \"Plates\":\"orange\",\"CreditCardNumber\":\"purple\",\"None\":'pink',\"Email\":\"tan\"}"
   ]
  },
  {
   "cell_type": "markdown",
   "metadata": {},
   "source": [
    "### The Pink is the non-PII data and others are different types of PII. A Logistic regression can have a good performance on seprating the PII vs non-PII data."
   ]
  },
  {
   "cell_type": "markdown",
   "metadata": {},
   "source": [
    "## Try a logistic regression classifier for performance. "
   ]
  },
  {
   "cell_type": "markdown",
   "metadata": {},
   "source": [
    "Train a Logistic regression to classify different PIIs and non-PII text. "
   ]
  },
  {
   "cell_type": "code",
   "execution_count": 18,
   "metadata": {},
   "outputs": [],
   "source": [
    "fake_pii[\"Extracted_PII\"] = pii_list"
   ]
  },
  {
   "cell_type": "code",
   "execution_count": null,
   "metadata": {},
   "outputs": [],
   "source": [
    "from sklearn.linear_model import LogisticRegression\n",
    "\n",
    "lr_multi = LogisticRegression(random_state=0, multi_class='multinomial',solver='lbfgs',max_iter=10000)\n",
    "\n",
    "lr_multi.fit(pii_matrix, fake_pii[\"Labels\"])\n"
   ]
  },
  {
   "cell_type": "code",
   "execution_count": null,
   "metadata": {},
   "outputs": [],
   "source": [
    "prediction = lr_multi.predict(pii_matrix)"
   ]
  },
  {
   "cell_type": "code",
   "execution_count": null,
   "metadata": {},
   "outputs": [],
   "source": [
    "def binary_pii(label):\n",
    "    pii_label = \"No\"\n",
    "    if label != \"None\":\n",
    "        pii_label = \"Yes\"\n",
    "    return pii_label \n",
    "        \n",
    "binary_true = [binary_pii(label) for label in fake_pii[\"Labels\"]]\n",
    "\n",
    "binary_pred = [binary_pii(label) for label in prediction]"
   ]
  },
  {
   "cell_type": "code",
   "execution_count": null,
   "metadata": {},
   "outputs": [],
   "source": [
    "from sklearn.metrics import f1_score"
   ]
  },
  {
   "cell_type": "code",
   "execution_count": null,
   "metadata": {},
   "outputs": [],
   "source": [
    "from sklearn.metrics import confusion_matrix"
   ]
  },
  {
   "cell_type": "code",
   "execution_count": null,
   "metadata": {},
   "outputs": [],
   "source": [
    "binary_true = pd.Series(binary_true)\n",
    "binary_true.value_counts()"
   ]
  },
  {
   "cell_type": "code",
   "execution_count": null,
   "metadata": {},
   "outputs": [],
   "source": [
    "binary_pred = pd.Series(binary_pred)\n",
    "binary_pred.value_counts()"
   ]
  },
  {
   "cell_type": "code",
   "execution_count": null,
   "metadata": {},
   "outputs": [],
   "source": [
    "from sklearn.metrics import classification_report"
   ]
  },
  {
   "cell_type": "markdown",
   "metadata": {},
   "source": [
    "## The non-PII vs PII binary classification result. "
   ]
  },
  {
   "cell_type": "code",
   "execution_count": null,
   "metadata": {},
   "outputs": [],
   "source": [
    "%%time\n",
    "print(classification_report(y_true = binary_true, y_pred = binary_pred))"
   ]
  },
  {
   "cell_type": "markdown",
   "metadata": {},
   "source": [
    "##  The multi-class PII classification result."
   ]
  },
  {
   "cell_type": "code",
   "execution_count": null,
   "metadata": {},
   "outputs": [],
   "source": [
    "%%time\n",
    "print(classification_report(y_true = fake_pii[\"Labels\"], y_pred = prediction))"
   ]
  },
  {
   "cell_type": "markdown",
   "metadata": {},
   "source": [
    "The model achieves a pretty good performance on binary classification of text with/without PII as expected from the PCA visualizer. A much better model can be trained to deal with better performance among recognizing different PII types. "
   ]
  },
  {
   "cell_type": "markdown",
   "metadata": {},
   "source": [
    "### But a more important problem to solve was how to generalize the trained model to perform on unseen data if  the model has not seen this specific PII data before. "
   ]
  }
 ],
 "metadata": {
  "kernelspec": {
   "display_name": "Python 3",
   "language": "python",
   "name": "python3"
  },
  "language_info": {
   "codemirror_mode": {
    "name": "ipython",
    "version": 3
   },
   "file_extension": ".py",
   "mimetype": "text/x-python",
   "name": "python",
   "nbconvert_exporter": "python",
   "pygments_lexer": "ipython3",
   "version": "3.6.6"
  }
 },
 "nbformat": 4,
 "nbformat_minor": 2
}
