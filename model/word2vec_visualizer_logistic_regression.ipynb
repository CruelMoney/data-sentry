{
 "cells": [
  {
   "cell_type": "markdown",
   "metadata": {},
   "source": [
    "## Load the pre-trained word2vec model from the fake PII data. "
   ]
  },
  {
   "cell_type": "markdown",
   "metadata": {},
   "source": [
    "First, load the packages."
   ]
  },
  {
   "cell_type": "code",
   "execution_count": 1,
   "metadata": {},
   "outputs": [],
   "source": [
    "from gensim.models import Word2Vec\n",
    "import pandas as pd"
   ]
  },
  {
   "cell_type": "markdown",
   "metadata": {},
   "source": [
    "Load the word2vec model and the fake pii text with labels."
   ]
  },
  {
   "cell_type": "code",
   "execution_count": 55,
   "metadata": {},
   "outputs": [],
   "source": [
    "word2vec = Word2Vec.load(\"./word2vec/word2vec_300_fake_pii.bin\")"
   ]
  },
  {
   "cell_type": "code",
   "execution_count": 3,
   "metadata": {
    "scrolled": true
   },
   "outputs": [],
   "source": [
    "fake_pii = pd.read_csv(\"../data/text_with_pii_2018_12_21_04_32_47_173911.csv\")\n",
    "\n",
    "# clean the text in a sentence and return a sentence.\n",
    "def clean_sentence(sentence):\n",
    "    \n",
    "    sentence_cleaned = [word.replace(\",\", \"\").replace(\".\", \"\")\\\n",
    "                        .lower() for word in sentence.split(\" \")]\n",
    "    return \" \".join(sentence_cleaned)    \n",
    "\n",
    "context_sentences = fake_pii[\"Text\"].apply(clean_sentence)"
   ]
  },
  {
   "cell_type": "markdown",
   "metadata": {},
   "source": [
    "What the data look like?"
   ]
  },
  {
   "cell_type": "code",
   "execution_count": 4,
   "metadata": {},
   "outputs": [
    {
     "data": {
      "text/html": [
       "<div>\n",
       "<style scoped>\n",
       "    .dataframe tbody tr th:only-of-type {\n",
       "        vertical-align: middle;\n",
       "    }\n",
       "\n",
       "    .dataframe tbody tr th {\n",
       "        vertical-align: top;\n",
       "    }\n",
       "\n",
       "    .dataframe thead th {\n",
       "        text-align: right;\n",
       "    }\n",
       "</style>\n",
       "<table border=\"1\" class=\"dataframe\">\n",
       "  <thead>\n",
       "    <tr style=\"text-align: right;\">\n",
       "      <th></th>\n",
       "      <th>Text</th>\n",
       "      <th>Labels</th>\n",
       "      <th>PII</th>\n",
       "    </tr>\n",
       "  </thead>\n",
       "  <tbody>\n",
       "    <tr>\n",
       "      <th>0</th>\n",
       "      <td>Ever watch television read measure almost. Tho...</td>\n",
       "      <td>Address</td>\n",
       "      <td>Suite 971</td>\n",
       "    </tr>\n",
       "    <tr>\n",
       "      <th>1</th>\n",
       "      <td>Impact region card 37271 Adams Road Suite 438 ...</td>\n",
       "      <td>Address</td>\n",
       "      <td>37271 Adams Road Suite 438</td>\n",
       "    </tr>\n",
       "    <tr>\n",
       "      <th>2</th>\n",
       "      <td>0604 Mason Wall Throughout admit have science ...</td>\n",
       "      <td>Address</td>\n",
       "      <td>0604 Mason Wall</td>\n",
       "    </tr>\n",
       "    <tr>\n",
       "      <th>3</th>\n",
       "      <td>Able item bag my day impact continue. Apt. 633...</td>\n",
       "      <td>Address</td>\n",
       "      <td>Apt. 633</td>\n",
       "    </tr>\n",
       "    <tr>\n",
       "      <th>4</th>\n",
       "      <td>Inside perhaps Suite 744 else seven. Able seas...</td>\n",
       "      <td>Address</td>\n",
       "      <td>Suite 744</td>\n",
       "    </tr>\n",
       "    <tr>\n",
       "      <th>5</th>\n",
       "      <td>Feeling more reduce everything. Apt. 524 Creat...</td>\n",
       "      <td>Address</td>\n",
       "      <td>Apt. 524</td>\n",
       "    </tr>\n",
       "    <tr>\n",
       "      <th>6</th>\n",
       "      <td>Rule price recognize continue. Happy act agree...</td>\n",
       "      <td>Address</td>\n",
       "      <td>22471 Hannah Crossing</td>\n",
       "    </tr>\n",
       "    <tr>\n",
       "      <th>7</th>\n",
       "      <td>Suite 104 Some second dinner. Force past line ...</td>\n",
       "      <td>Address</td>\n",
       "      <td>Suite 104</td>\n",
       "    </tr>\n",
       "    <tr>\n",
       "      <th>8</th>\n",
       "      <td>Large 930 Chad Ford Apt. 029 New Michaelmouth,...</td>\n",
       "      <td>Address</td>\n",
       "      <td>930 Chad Ford Apt. 029 New Michaelmouth, KY 89394</td>\n",
       "    </tr>\n",
       "    <tr>\n",
       "      <th>9</th>\n",
       "      <td>Future movement office. Thus building successf...</td>\n",
       "      <td>Address</td>\n",
       "      <td>0874 Charles Forge Suite 659 Caitlinburgh, ME ...</td>\n",
       "    </tr>\n",
       "  </tbody>\n",
       "</table>\n",
       "</div>"
      ],
      "text/plain": [
       "                                                Text   Labels  \\\n",
       "0  Ever watch television read measure almost. Tho...  Address   \n",
       "1  Impact region card 37271 Adams Road Suite 438 ...  Address   \n",
       "2  0604 Mason Wall Throughout admit have science ...  Address   \n",
       "3  Able item bag my day impact continue. Apt. 633...  Address   \n",
       "4  Inside perhaps Suite 744 else seven. Able seas...  Address   \n",
       "5  Feeling more reduce everything. Apt. 524 Creat...  Address   \n",
       "6  Rule price recognize continue. Happy act agree...  Address   \n",
       "7  Suite 104 Some second dinner. Force past line ...  Address   \n",
       "8  Large 930 Chad Ford Apt. 029 New Michaelmouth,...  Address   \n",
       "9  Future movement office. Thus building successf...  Address   \n",
       "\n",
       "                                                 PII  \n",
       "0                                          Suite 971  \n",
       "1                         37271 Adams Road Suite 438  \n",
       "2                                    0604 Mason Wall  \n",
       "3                                           Apt. 633  \n",
       "4                                          Suite 744  \n",
       "5                                           Apt. 524  \n",
       "6                              22471 Hannah Crossing  \n",
       "7                                          Suite 104  \n",
       "8  930 Chad Ford Apt. 029 New Michaelmouth, KY 89394  \n",
       "9  0874 Charles Forge Suite 659 Caitlinburgh, ME ...  "
      ]
     },
     "execution_count": 4,
     "metadata": {},
     "output_type": "execute_result"
    }
   ],
   "source": [
    "fake_pii.head(10)"
   ]
  },
  {
   "cell_type": "markdown",
   "metadata": {},
   "source": [
    "Take a look at the dimensions of the data."
   ]
  },
  {
   "cell_type": "code",
   "execution_count": 5,
   "metadata": {},
   "outputs": [
    {
     "data": {
      "text/plain": [
       "(800000, 3)"
      ]
     },
     "execution_count": 5,
     "metadata": {},
     "output_type": "execute_result"
    }
   ],
   "source": [
    "fake_pii.shape"
   ]
  },
  {
   "cell_type": "markdown",
   "metadata": {},
   "source": [
    "Let us take a look at one example of the data."
   ]
  },
  {
   "cell_type": "code",
   "execution_count": 6,
   "metadata": {},
   "outputs": [
    {
     "data": {
      "text/plain": [
       "'Impact region card technology indicate. Station cut rule Patricia Smith church Congress. There west parent write. Accept image region through group matter.'"
      ]
     },
     "execution_count": 6,
     "metadata": {},
     "output_type": "execute_result"
    }
   ],
   "source": [
    "fake_pii.iloc[300001,0]"
   ]
  },
  {
   "cell_type": "code",
   "execution_count": 7,
   "metadata": {},
   "outputs": [
    {
     "data": {
      "text/plain": [
       "['impact',\n",
       " 'region',\n",
       " 'card',\n",
       " 'technology',\n",
       " 'indicate',\n",
       " 'station',\n",
       " 'cut',\n",
       " 'rule',\n",
       " 'patricia',\n",
       " 'smith',\n",
       " 'church',\n",
       " 'congress',\n",
       " 'there',\n",
       " 'west',\n",
       " 'parent',\n",
       " 'write',\n",
       " 'accept',\n",
       " 'image',\n",
       " 'region',\n",
       " 'through',\n",
       " 'group',\n",
       " 'matter']"
      ]
     },
     "execution_count": 7,
     "metadata": {},
     "output_type": "execute_result"
    }
   ],
   "source": [
    "result_text = context_sentences[300001].split()\n",
    "\n",
    "result_text"
   ]
  },
  {
   "cell_type": "markdown",
   "metadata": {},
   "source": [
    "Let us see what is the most dissimilar word in the above list."
   ]
  },
  {
   "cell_type": "code",
   "execution_count": 8,
   "metadata": {
    "scrolled": true
   },
   "outputs": [
    {
     "data": {
      "text/plain": [
       "'patricia'"
      ]
     },
     "execution_count": 8,
     "metadata": {},
     "output_type": "execute_result"
    }
   ],
   "source": [
    "word2vec.wv.doesnt_match(result_text)"
   ]
  },
  {
   "cell_type": "markdown",
   "metadata": {},
   "source": [
    "## Visualize word2vec embedding in 2d "
   ]
  },
  {
   "cell_type": "markdown",
   "metadata": {},
   "source": [
    "The next goal is to generate the embedding for the part of the PII. "
   ]
  },
  {
   "cell_type": "code",
   "execution_count": 9,
   "metadata": {},
   "outputs": [],
   "source": [
    "def find_part_pii(text, model, sep = \" \"):\n",
    "    tokenized_text = text.split(sep)\n",
    "    \n",
    "    part_pii = model.wv.doesnt_match(tokenized_text)\n",
    "    \n",
    "    return part_pii    "
   ]
  },
  {
   "cell_type": "code",
   "execution_count": 10,
   "metadata": {
    "scrolled": true
   },
   "outputs": [
    {
     "name": "stderr",
     "output_type": "stream",
     "text": [
      "100%|██████████| 800000/800000 [01:22<00:00, 9707.25it/s] \n"
     ]
    }
   ],
   "source": [
    "from tqdm import tqdm\n",
    "pii_list = [find_part_pii(text, model = word2vec) for text in tqdm(context_sentences) ]"
   ]
  },
  {
   "cell_type": "code",
   "execution_count": 11,
   "metadata": {},
   "outputs": [],
   "source": [
    "import numpy as np\n",
    "from tqdm import tqdm\n",
    "\n",
    "def get_pii2vec_matrix(pii_list, model):\n",
    "    # set the matrix dimensions\n",
    "    column_num = model.trainables.layer1_size\n",
    "    row_num = len(pii_list)\n",
    "    # initialized the matrix\n",
    "    pii2vec_mat = np.zeros((row_num, column_num))\n",
    "    # iterate through the pii_list and assign the vectors to matrix.\n",
    "    for index, ith_pii in enumerate(tqdm(pii_list)):\n",
    "        pii2vec_mat[index,:] = model.wv[ith_pii]\n",
    "    \n",
    "    return pii2vec_mat"
   ]
  },
  {
   "cell_type": "code",
   "execution_count": 12,
   "metadata": {
    "scrolled": true
   },
   "outputs": [
    {
     "name": "stderr",
     "output_type": "stream",
     "text": [
      "100%|██████████| 800000/800000 [00:03<00:00, 210926.92it/s]\n"
     ]
    }
   ],
   "source": [
    "pii_matrix = get_pii2vec_matrix(pii_list = pii_list, model = word2vec)"
   ]
  },
  {
   "cell_type": "code",
   "execution_count": 13,
   "metadata": {},
   "outputs": [],
   "source": [
    "pii_labels = fake_pii[\"Labels\"]"
   ]
  },
  {
   "cell_type": "markdown",
   "metadata": {},
   "source": [
    "Visualize the resulting matrix with PCA in 2 dimensions. "
   ]
  },
  {
   "cell_type": "code",
   "execution_count": 14,
   "metadata": {},
   "outputs": [],
   "source": [
    "from yellowbrick.features.pca import PCADecomposition\n",
    "import matplotlib.pyplot as plt"
   ]
  },
  {
   "cell_type": "code",
   "execution_count": 15,
   "metadata": {},
   "outputs": [
    {
     "data": {
      "text/plain": [
       "Phone_number        100000\n",
       "SSN                 100000\n",
       "Email               100000\n",
       "Address             100000\n",
       "Name                100000\n",
       "Plates              100000\n",
       "CreditCardNumber    100000\n",
       "None                100000\n",
       "Name: Labels, dtype: int64"
      ]
     },
     "execution_count": 15,
     "metadata": {},
     "output_type": "execute_result"
    }
   ],
   "source": [
    "pii_labels.value_counts()"
   ]
  },
  {
   "cell_type": "code",
   "execution_count": 16,
   "metadata": {},
   "outputs": [],
   "source": [
    "color_dict = {\"Phone_number\":\"red\",\"SSN\":\"blue\",\"Address\":\"black\",\"Name\":\"yellow\",\\\n",
    "             \"Plates\":\"orange\",\"CreditCardNumber\":\"purple\",\"None\":'pink',\"Email\":\"tan\"}\n",
    "\n",
    "colors = pii_labels.map(color_dict)"
   ]
  },
  {
   "cell_type": "code",
   "execution_count": 17,
   "metadata": {},
   "outputs": [
    {
     "data": {
      "image/png": "[encoded data removed]",
      "text/plain": [
       "<Figure size 720x720 with 1 Axes>"
      ]
     },
     "metadata": {
      "needs_background": "light"
     },
     "output_type": "display_data"
    },
    {
     "name": "stdout",
     "output_type": "stream",
     "text": [
      "CPU times: user 54.4 s, sys: 9.34 s, total: 1min 3s\n",
      "Wall time: 50.3 s\n"
     ]
    }
   ],
   "source": [
    "%%time \n",
    "\n",
    "plt.figure(figsize=(10,10))\n",
    "PCAvisualizer = PCADecomposition(scale=True, color = colors, proj_dim = 2)\n",
    "PCAvisualizer.fit_transform(pii_matrix, pii_labels)\n",
    "PCAvisualizer.poof()"
   ]
  },
  {
   "cell_type": "markdown",
   "metadata": {},
   "source": [
    "The color and PII type are related as \n",
    "{\"Phone_number\":\"red\",\"SSN\":\"blue\",\"Address\":\"black\",\"Name\":\"yellow\",\\\n",
    "             \"Plates\":\"orange\",\"CreditCardNumber\":\"purple\",\"None\":'pink',\"Email\":\"tan\"}"
   ]
  },
  {
   "cell_type": "markdown",
   "metadata": {},
   "source": [
    "### The Pink is the non-PII data and others are different types of PII. A Logistic regression can have a good performance on seprating the PII vs non-PII data."
   ]
  },
  {
   "cell_type": "markdown",
   "metadata": {},
   "source": [
    "## Try a logistic regression classifier for performance. "
   ]
  },
  {
   "cell_type": "markdown",
   "metadata": {},
   "source": [
    "Train a Logistic regression to classify different PIIs and non-PII text. "
   ]
  },
  {
   "cell_type": "code",
   "execution_count": 18,
   "metadata": {},
   "outputs": [],
   "source": [
    "from sklearn.pipeline import make_pipeline\n",
    "from sklearn.preprocessing import StandardScaler\n",
    "from sklearn.model_selection import RandomizedSearchCV\n",
    "from scipy.stats import randint, expon\n",
    "\n",
    "from sklearn.decomposition import PCA\n",
    "\n",
    "from sklearn.linear_model import LogisticRegression\n"
   ]
  },
  {
   "cell_type": "code",
   "execution_count": 19,
   "metadata": {},
   "outputs": [],
   "source": [
    "fake_pii[\"Extracted_PII\"] = pii_list"
   ]
  },
  {
   "cell_type": "code",
   "execution_count": 20,
   "metadata": {},
   "outputs": [],
   "source": [
    "# %%time \n",
    "# pipe = make_pipeline(StandardScaler(), PCA(n_components= 10),\\\n",
    "#                      LogisticRegression(random_state=7, multi_class='multinomial',solver='lbfgs',max_iter=10000))\n",
    "# param_grid = {\n",
    "#     \"logisticregression__C\": expon(scale=2),\n",
    "#     \"logisticregression__penalty\": ['l1','l2']\n",
    "# }\n",
    "\n",
    "# pipe.fit(pii_matrix, fake_pii[\"Labels\"])\n",
    "# random_cv = RandomizedSearchCV(pipe,param_grid, cv = 10, n_jobs = 2,\n",
    "#                                n_iter = 10 , error_score = 0, \n",
    "#                                return_train_score=True, scoring = 'f1')"
   ]
  },
  {
   "cell_type": "code",
   "execution_count": 21,
   "metadata": {},
   "outputs": [
    {
     "name": "stdout",
     "output_type": "stream",
     "text": [
      "CPU times: user 31min, sys: 5min 36s, total: 36min 36s\n",
      "Wall time: 12min 20s\n"
     ]
    }
   ],
   "source": [
    "%%time\n",
    "\n",
    "from sklearn.linear_model import LogisticRegression\n",
    "\n",
    "lr_multi = LogisticRegression(random_state=0, multi_class='multinomial',solver='lbfgs',max_iter=10000)\n",
    "\n",
    "lr_multi.fit(pii_matrix, fake_pii[\"Labels\"])\n"
   ]
  },
  {
   "cell_type": "code",
   "execution_count": 22,
   "metadata": {},
   "outputs": [],
   "source": [
    "prediction = lr_multi.predict(pii_matrix)"
   ]
  },
  {
   "cell_type": "code",
   "execution_count": 23,
   "metadata": {},
   "outputs": [],
   "source": [
    "def binary_pii(label):\n",
    "    pii_label = \"No\"\n",
    "    if label != \"None\":\n",
    "        pii_label = \"Yes\"\n",
    "    return pii_label \n",
    "        \n",
    "binary_true = [binary_pii(label) for label in fake_pii[\"Labels\"]]\n",
    "\n",
    "binary_pred = [binary_pii(label) for label in prediction]"
   ]
  },
  {
   "cell_type": "code",
   "execution_count": 24,
   "metadata": {},
   "outputs": [],
   "source": [
    "from sklearn.metrics import f1_score"
   ]
  },
  {
   "cell_type": "code",
   "execution_count": 25,
   "metadata": {},
   "outputs": [],
   "source": [
    "from sklearn.metrics import confusion_matrix"
   ]
  },
  {
   "cell_type": "code",
   "execution_count": 26,
   "metadata": {},
   "outputs": [
    {
     "data": {
      "text/plain": [
       "Yes    700000\n",
       "No     100000\n",
       "dtype: int64"
      ]
     },
     "execution_count": 26,
     "metadata": {},
     "output_type": "execute_result"
    }
   ],
   "source": [
    "binary_true = pd.Series(binary_true)\n",
    "binary_true.value_counts()"
   ]
  },
  {
   "cell_type": "code",
   "execution_count": 27,
   "metadata": {},
   "outputs": [
    {
     "data": {
      "text/plain": [
       "Yes    689050\n",
       "No     110950\n",
       "dtype: int64"
      ]
     },
     "execution_count": 27,
     "metadata": {},
     "output_type": "execute_result"
    }
   ],
   "source": [
    "binary_pred = pd.Series(binary_pred)\n",
    "binary_pred.value_counts()"
   ]
  },
  {
   "cell_type": "code",
   "execution_count": 28,
   "metadata": {},
   "outputs": [
    {
     "data": {
      "text/plain": [
       "Text(33,0.5,'True values')"
      ]
     },
     "execution_count": 28,
     "metadata": {},
     "output_type": "execute_result"
    },
    {
     "data": {
      "image/png": "[encoded data removed]",
      "text/plain": [
       "<Figure size 432x288 with 2 Axes>"
      ]
     },
     "metadata": {
      "needs_background": "light"
     },
     "output_type": "display_data"
    }
   ],
   "source": [
    "import seaborn as sns\n",
    "import matplotlib.pyplot as plt\n",
    "sns.heatmap(confusion_matrix(y_true = binary_true, y_pred = binary_pred), annot = True,fmt=\"d\")\n",
    "plt.xlabel(\"Predicted values\")\n",
    "plt.ylabel(\"True values\")"
   ]
  },
  {
   "cell_type": "code",
   "execution_count": 29,
   "metadata": {},
   "outputs": [
    {
     "data": {
      "text/plain": [
       "Text(114,0.5,'True values')"
      ]
     },
     "execution_count": 29,
     "metadata": {},
     "output_type": "execute_result"
    },
    {
     "data": {
      "image/png": "[encoded data removed]",
      "text/plain": [
       "<Figure size 1080x1080 with 2 Axes>"
      ]
     },
     "metadata": {
      "needs_background": "light"
     },
     "output_type": "display_data"
    }
   ],
   "source": [
    "plt.figure(figsize = (15,15))\n",
    "sns.heatmap(confusion_matrix(y_true = fake_pii[\"Labels\"], y_pred = prediction), annot = True,fmt=\"d\")\n",
    "plt.xlabel(\"Predicted values\")\n",
    "plt.ylabel(\"True values\")"
   ]
  },
  {
   "cell_type": "markdown",
   "metadata": {},
   "source": [
    "## The non-PII vs PII binary classification result. "
   ]
  },
  {
   "cell_type": "code",
   "execution_count": 30,
   "metadata": {},
   "outputs": [],
   "source": [
    "from sklearn.metrics import classification_report"
   ]
  },
  {
   "cell_type": "code",
   "execution_count": 31,
   "metadata": {},
   "outputs": [
    {
     "name": "stdout",
     "output_type": "stream",
     "text": [
      "              precision    recall  f1-score   support\n",
      "\n",
      "          No       0.90      1.00      0.95    100000\n",
      "         Yes       1.00      0.98      0.99    700000\n",
      "\n",
      "   micro avg       0.99      0.99      0.99    800000\n",
      "   macro avg       0.95      0.99      0.97    800000\n",
      "weighted avg       0.99      0.99      0.99    800000\n",
      "\n",
      "CPU times: user 21.3 s, sys: 7.52 ms, total: 21.3 s\n",
      "Wall time: 21.3 s\n"
     ]
    }
   ],
   "source": [
    "%%time\n",
    "print(classification_report(y_true = binary_true, y_pred = binary_pred))"
   ]
  },
  {
   "cell_type": "markdown",
   "metadata": {},
   "source": [
    "##  The multi-class PII classification result."
   ]
  },
  {
   "cell_type": "code",
   "execution_count": 32,
   "metadata": {},
   "outputs": [
    {
     "name": "stdout",
     "output_type": "stream",
     "text": [
      "                  precision    recall  f1-score   support\n",
      "\n",
      "         Address       0.95      0.89      0.92    100000\n",
      "CreditCardNumber       0.25      0.15      0.19    100000\n",
      "           Email       0.26      0.18      0.21    100000\n",
      "            Name       0.98      0.94      0.96    100000\n",
      "            None       0.90      1.00      0.95    100000\n",
      "    Phone_number       0.27      0.59      0.38    100000\n",
      "          Plates       0.34      0.35      0.34    100000\n",
      "             SSN       0.82      0.39      0.53    100000\n",
      "\n",
      "       micro avg       0.56      0.56      0.56    800000\n",
      "       macro avg       0.60      0.56      0.56    800000\n",
      "    weighted avg       0.60      0.56      0.56    800000\n",
      "\n",
      "CPU times: user 15.8 s, sys: 10.2 ms, total: 15.8 s\n",
      "Wall time: 15.8 s\n"
     ]
    }
   ],
   "source": [
    "%%time\n",
    "print(classification_report(y_true = fake_pii[\"Labels\"], y_pred = prediction))"
   ]
  },
  {
   "cell_type": "markdown",
   "metadata": {},
   "source": [
    "The model achieves a pretty good performance on binary classification of text with/without PII as expected from the PCA visualizer. A much better model can be trained to deal with better performance among recognizing different PII types. "
   ]
  },
  {
   "cell_type": "markdown",
   "metadata": {},
   "source": [
    "### But a more important problem to solve was how to generalize the trained model to perform on unseen data if  the model has not seen this specific PII data before. "
   ]
  },
  {
   "cell_type": "markdown",
   "metadata": {},
   "source": [
    "## Import some new fake data and test to see if it works on email data. "
   ]
  },
  {
   "cell_type": "code",
   "execution_count": 45,
   "metadata": {},
   "outputs": [],
   "source": [
    "new_data = pd.read_csv('../data/text_with_pii_2018_12_28_11_08_49_371014.csv')\n",
    "word2vec_new = Word2Vec.load(\"./word2vec/word2vec_300_fake_pii.bin\")"
   ]
  },
  {
   "cell_type": "code",
   "execution_count": 46,
   "metadata": {},
   "outputs": [],
   "source": [
    "email_pii_copy = new_data[new_data.Labels == \"Email\"].copy()"
   ]
  },
  {
   "cell_type": "code",
   "execution_count": 47,
   "metadata": {},
   "outputs": [],
   "source": [
    "email_pii_copy[\"Text\"] = email_pii_copy['Text'].apply(clean_sentence)"
   ]
  },
  {
   "cell_type": "code",
   "execution_count": 48,
   "metadata": {},
   "outputs": [
    {
     "data": {
      "text/plain": [
       "'agreement threat conference audience goal billion green yeah wrhodes@santiagocom couple pressure wrong play analysis push even great'"
      ]
     },
     "execution_count": 48,
     "metadata": {},
     "output_type": "execute_result"
    }
   ],
   "source": [
    "email_pii_copy['Text'].iloc[1]"
   ]
  },
  {
   "cell_type": "code",
   "execution_count": 49,
   "metadata": {},
   "outputs": [],
   "source": [
    "email_pii_text = list(email_pii_copy['Text'].values)"
   ]
  },
  {
   "cell_type": "code",
   "execution_count": 50,
   "metadata": {},
   "outputs": [],
   "source": [
    "tokenized_email_pii_text = [email_pii.split(\" \") for email_pii in email_pii_text] "
   ]
  },
  {
   "cell_type": "code",
   "execution_count": 51,
   "metadata": {},
   "outputs": [
    {
     "data": {
      "text/plain": [
       "1000"
      ]
     },
     "execution_count": 51,
     "metadata": {},
     "output_type": "execute_result"
    }
   ],
   "source": [
    "len(tokenized_email_pii_text)"
   ]
  },
  {
   "cell_type": "code",
   "execution_count": 52,
   "metadata": {},
   "outputs": [],
   "source": [
    "word2vec_new.build_vocab(tokenized_email_pii_text, update = True)"
   ]
  },
  {
   "cell_type": "code",
   "execution_count": 53,
   "metadata": {},
   "outputs": [
    {
     "data": {
      "text/plain": [
       "(73930, 73930)"
      ]
     },
     "execution_count": 53,
     "metadata": {},
     "output_type": "execute_result"
    }
   ],
   "source": [
    "word2vec_new.train(tokenized_email_pii_text, total_examples= len(tokenized_email_pii_text)\\\n",
    "               ,epochs = 5)"
   ]
  },
  {
   "cell_type": "code",
   "execution_count": 54,
   "metadata": {},
   "outputs": [
    {
     "data": {
      "text/plain": [
       "'ybarton@gmailcom'"
      ]
     },
     "execution_count": 54,
     "metadata": {},
     "output_type": "execute_result"
    }
   ],
   "source": [
    "word2vec_new.wv.doesnt_match(tokenized_email_pii_text[0])"
   ]
  },
  {
   "cell_type": "code",
   "execution_count": 57,
   "metadata": {},
   "outputs": [],
   "source": [
    "word2vec_old = Word2Vec.load(\"./word2vec/word2vec_300_fake_pii.bin\")"
   ]
  },
  {
   "cell_type": "code",
   "execution_count": 58,
   "metadata": {},
   "outputs": [],
   "source": [
    "word2vec_old_vocab_list = word2vec_old.wv.vocab.keys()"
   ]
  },
  {
   "cell_type": "code",
   "execution_count": 59,
   "metadata": {},
   "outputs": [
    {
     "data": {
      "text/plain": [
       "False"
      ]
     },
     "execution_count": 59,
     "metadata": {},
     "output_type": "execute_result"
    }
   ],
   "source": [
    "\"ybarton@gmailcom\" in word2vec_old_vocab_list"
   ]
  },
  {
   "cell_type": "code",
   "execution_count": 60,
   "metadata": {},
   "outputs": [
    {
     "name": "stdout",
     "output_type": "stream",
     "text": [
      "ybarton@gmailcom False\n"
     ]
    }
   ],
   "source": [
    "print(\"ybarton@gmailcom\", False)"
   ]
  },
  {
   "cell_type": "code",
   "execution_count": 69,
   "metadata": {
    "scrolled": true
   },
   "outputs": [
    {
     "name": "stdout",
     "output_type": "stream",
     "text": [
      "ybarton@gmailcom False\n",
      "wrhodes@santiagocom False\n",
      "christinawilson@browncom False\n",
      "kellysmith@lopezcom False\n",
      "gmayer@gmailcom False\n",
      "larabrandon@gmailcom False\n",
      "schmidtmichael@hotmailcom False\n",
      "romeroronald@crawfordcom False\n",
      "mary12@kleincom False\n",
      "ghayes@warren-beckcom False\n",
      "egallagher@hotmailcom False\n",
      "fieldselizabeth@smithbiz False\n",
      "west True\n",
      "svalencia@snyderbiz False\n",
      "harringtonpaige@gmailcom False\n",
      "jamiezimmerman@pierce-hallorg False\n",
      "kdudley@colliercom False\n",
      "mcdanielruben@jacobson-rivascom False\n",
      "sjackson@lewisinfo False\n",
      "zadams@yahoocom False\n",
      "xdawson@johnsonbiz False\n",
      "mcdanielruben@jacobson-rivascom False\n",
      "marshalladrian@cruzcom False\n",
      "leekevin@buckleycom False\n",
      "susan24@fordnet False\n",
      "sarahrose@hotmailcom False\n",
      "chaseregina@howellcom False\n",
      "nathan27@foxorg False\n",
      "gregory32@terrycom False\n",
      "tylerbuckley@hotmailcom False\n",
      "angelawilliams@gmailcom False\n",
      "robert88@hotmailcom True\n",
      "ovaldez@hendersoncom False\n",
      "deborahstewart@parker-smithcom False\n",
      "kellymercedes@fletcher-rileycom False\n",
      "juanmaynard@gmailcom False\n",
      "stephanie62@yahoocom False\n",
      "rebekahcohen@yahoocom False\n",
      "johnny91@penacom False\n",
      "ybarton@gmailcom False\n",
      "jason50@stevensnet False\n",
      "christopher19@bell-harringtoncom False\n",
      "cbrown@rossnet False\n",
      "abarnes@cisneros-olsoninfo False\n",
      "judyadams@moorecom False\n",
      "kimanthony@diaznet False\n",
      "peter60@fox-perrycom False\n",
      "jackie71@logannet False\n",
      "cannonmitchell@hall-williamsbiz False\n",
      "carmenevans@gmailcom False\n",
      "victoria36@carpenter-walkernet False\n",
      "tchen@yahoocom False\n",
      "anthony42@olsoninfo False\n",
      "rachelcaldwell@lamorg False\n",
      "bjones@weissbiz False\n",
      "henrygross@smithcom False\n",
      "mrandall@gmailcom False\n",
      "ewilliams@gmailcom False\n",
      "jacob43@martincom False\n",
      "alexandercompton@yahoocom False\n",
      "jennifer76@fosterinfo False\n",
      "gainessarah@rosscom False\n",
      "elizabeth04@hotmailcom False\n",
      "barbara77@gmailcom False\n",
      "sandravelez@yahoocom False\n",
      "barbaragonzalez@gmailcom False\n",
      "frich@gmailcom False\n",
      "andreawright@hotmailcom False\n",
      "austin21@gmailcom False\n",
      "sanchezdennis@hotmailcom False\n",
      "danielmorgan@tucker-hardingbiz False\n",
      "david72@hotmailcom False\n",
      "dean34@hotmailcom False\n",
      "fflynn@yahoocom False\n",
      "kmccall@mosleyinfo False\n",
      "martinkimberly@hotmailcom False\n",
      "natalie50@yahoocom True\n",
      "sharon71@gmailcom False\n",
      "wilsonchristopher@gmailcom False\n",
      "scott43@gmailcom True\n",
      "gutierrezjustin@mccallbiz False\n",
      "wkennedy@yahoocom False\n",
      "okeith@lang-scottnet False\n",
      "uchapman@padilla-bishopcom False\n",
      "james41@hotmailcom False\n",
      "alexandercompton@yahoocom False\n",
      "amberflores@johnson-howardnet False\n",
      "ashley44@conner-andrewscom False\n",
      "sjohnson@yahoocom True\n",
      "hector04@wilkerson-crawfordnet False\n",
      "lucastimothy@lewis-mckinneycom False\n",
      "mcdanielruben@jacobson-rivascom False\n",
      "julie10@lopezbiz False\n",
      "peter60@fox-perrycom False\n",
      "brooksalice@hotmailcom False\n",
      "anita37@scott-prattcom False\n",
      "luis08@stephensoncom False\n",
      "smithmatthew@sellers-martincom False\n",
      "wmorris@gmailcom False\n",
      "conleysavannah@longcom False\n",
      "victoria36@carpenter-walkernet False\n",
      "vking@yahoocom False\n",
      "john19@mcdonaldcom False\n",
      "jamiezimmerman@pierce-hallorg False\n",
      "tdunlap@howard-browncom False\n",
      "kleinlinda@savagecom False\n",
      "eaguirre@mayo-maycom False\n",
      "cassandra12@changcom False\n",
      "qsmith@brown-parkernet False\n",
      "dtaylor@fisher-chambersbiz False\n",
      "iprice@elliottbiz False\n",
      "bcooper@yahoocom False\n",
      "tim94@garciacom False\n",
      "pameladaniels@yahoocom False\n",
      "wsharp@davidsoncom False\n",
      "lynn19@munoz-trevinocom False\n",
      "christinaking@robertsinfo False\n",
      "hallchad@hernandezbiz False\n",
      "sandra30@wagner-wardcom False\n",
      "xdawson@johnsonbiz False\n",
      "amberbrown@hotmailcom False\n",
      "christopher33@frost-barroncom False\n",
      "hjohnson@gmailcom False\n",
      "romerophyllis@millerbiz False\n",
      "michael93@yahoocom True\n",
      "lcox@gmailcom False\n",
      "morgansamuel@cunninghamcom False\n",
      "mcdonaldtyler@wiley-changcom False\n",
      "kimberlybanks@thompsonnet False\n",
      "bwilliams@leecom False\n",
      "thorntonmark@gmailcom False\n",
      "matthewschwartz@yahoocom False\n",
      "brianowens@yahoocom True\n",
      "smithjacqueline@caldwell-humphreyorg False\n",
      "josephstevenson@maldonadocom False\n",
      "yflynn@hotmailcom False\n",
      "vanessayoung@gmailcom False\n",
      "juliemcdonald@gmailcom True\n",
      "anthonyrobinson@yahoocom False\n",
      "sandra30@wagner-wardcom False\n",
      "matthew13@careycom False\n",
      "christina55@hotmailcom False\n",
      "ysims@yahoocom False\n",
      "forbesnicole@millercom False\n",
      "turnerrobert@yahoocom True\n",
      "patricia38@cole-pricecom False\n",
      "middletonmichael@grahamcom False\n",
      "vweaver@starknet False\n",
      "michael96@alvarezcom False\n",
      "rcarter@wells-andradeorg False\n",
      "donna13@thomascom False\n",
      "acostajeffery@grahamcom False\n",
      "haleymeghan@chapmancom False\n",
      "wkennedy@yahoocom False\n",
      "kdudley@colliercom False\n",
      "ashley98@woodcom False\n",
      "johnsonjohn@yahoocom True\n",
      "angelawilliams@gmailcom False\n",
      "mooreantonio@hotmailcom False\n",
      "holtnicholas@yahoocom False\n",
      "peterwright@gmailcom False\n",
      "tristan96@yahoocom False\n",
      "billydavis@green-benitezcom False\n",
      "michael39@yahoocom False\n",
      "stafforddaniel@hotmailcom False\n",
      "perryjacob@shawcom False\n",
      "donaldjones@sanchezinfo False\n",
      "josephmcconnell@nuneznet False\n",
      "gregory32@terrycom False\n",
      "taylormichael@hotmailcom True\n",
      "sallyterry@jimenezcom False\n",
      "adamskenneth@hotmailcom False\n",
      "angelawilliams@gmailcom False\n",
      "benjamin60@hotmailcom False\n",
      "susanlane@austinbiz False\n",
      "hamiltonbenjamin@gmailcom False\n",
      "aguilartara@adams-arellanoorg False\n",
      "mikewatson@wintersorg False\n",
      "elizabeth10@gmailcom False\n",
      "derek15@hotmailcom False\n",
      "david94@gmailcom True\n",
      "ymartinez@hillcom False\n",
      "djohnson@gmailcom True\n",
      "williamschristina@gmailcom False\n",
      "jason67@yahoocom False\n",
      "holtnicholas@yahoocom False\n",
      "gdiaz@perezcom False\n",
      "heatherblack@hotmailcom False\n",
      "alexander99@ryan-martineznet False\n",
      "michelledawson@faulknercom False\n",
      "vbass@yahoocom False\n",
      "smithjacob@hotmailcom False\n",
      "coxcraig@gmailcom False\n",
      "bauerkimberly@johnsoncom False\n",
      "taylor55@ferrell-martinezcom False\n",
      "erinyork@smithbiz False\n",
      "kerrjessica@gmailcom False\n",
      "knightalexander@buckley-matthewscom False\n",
      "bellkayla@hill-hollandcom False\n",
      "amy85@hotmailcom False\n",
      "jamesproctor@powellcom False\n",
      "fisheramanda@carrcom False\n",
      "sfletcher@yahoocom True\n",
      "rachelrogers@warnerbiz False\n",
      "knightalexander@buckley-matthewscom False\n",
      "martinjonathan@cortez-gomezcom False\n",
      "williamdavis@gmailcom True\n",
      "alexandra28@yahoocom False\n",
      "sspencer@hotmailcom False\n",
      "hwheeler@browncom False\n",
      "ejohnson@gmailcom True\n",
      "lorraine91@santiagonet False\n",
      "angelawilliams@gmailcom False\n",
      "jonessandra@gmailcom False\n",
      "april43@deleoncom False\n",
      "mcdonaldtyler@wiley-changcom False\n",
      "bscott@hotmailcom False\n",
      "zrodriguez@whitecom False\n",
      "rdurham@moorecom False\n",
      "sarahrose@hotmailcom False\n",
      "garyramirez@hotmailcom False\n",
      "johnsonaaron@goodwincom False\n",
      "edwarddavis@gmailcom False\n",
      "april98@hotmailcom False\n",
      "ibush@rodriguezcom False\n",
      "juanglover@gmailcom False\n",
      "brownandrew@nicholscom False\n",
      "conleysavannah@longcom False\n",
      "brobinson@hotmailcom True\n",
      "hocassandra@powellinfo False\n",
      "iglover@jamesorg False\n",
      "rebekahnoble@hotmailcom False\n",
      "donna13@thomascom False\n",
      "cnewman@piercecom False\n",
      "richardmorrow@hartmaninfo False\n",
      "tiffany05@lopezcom False\n",
      "gjensen@rowlandcom False\n",
      "jennifer09@riveracom False\n",
      "kmccall@mosleyinfo False\n",
      "christinemiranda@smithinfo False\n",
      "millerjoseph@green-valentinecom False\n",
      "kwatkins@edwardscom False\n",
      "benjamin60@hotmailcom False\n",
      "vbass@yahoocom False\n",
      "rachelrogers@warnerbiz False\n",
      "rodriguezemily@gutierrezcom False\n",
      "joel38@johnson-myersinfo False\n",
      "rachelcaldwell@lamorg False\n",
      "jeremy26@yahoocom True\n",
      "kryan@hotmailcom False\n",
      "qturner@yahoocom False\n",
      "robertdunn@hotmailcom False\n",
      "colemansandra@hotmailcom False\n",
      "jenniferkent@hotmailcom False\n",
      "kdudley@colliercom False\n",
      "kimberly28@hotmailcom True\n",
      "dawndelgado@yahoocom False\n",
      "qwalker@hotmailcom False\n",
      "rgeorge@forbes-flemingcom False\n",
      "tim94@garciacom False\n",
      "roy91@hotmailcom False\n",
      "mcintyretonya@gmailcom False\n",
      "haleymeghan@chapmancom False\n",
      "samanthachang@trujillo-kingcom False\n",
      "ronaldmcfarland@yahoocom False\n",
      "monica24@yahoocom False\n",
      "nicholasmckenzie@woodbiz False\n",
      "daniellawrence@jones-williamscom False\n",
      "washingtondanielle@hillcom False\n",
      "roy91@hotmailcom False\n",
      "rebekahcohen@yahoocom False\n",
      "rortiz@hotmailcom False\n",
      "ndavenport@yahoocom False\n",
      "yparker@contreras-fryinfo False\n",
      "martinezcheryl@youngnet False\n",
      "tdunlap@howard-browncom False\n",
      "mmartinez@hotmailcom False\n",
      "jennifersimpson@jones-johnsoncom False\n",
      "pwarren@martin-gonzalezorg False\n",
      "michael99@garrisoninfo False\n",
      "rebekahnoble@hotmailcom False\n",
      "lopeztimothy@hotmailcom False\n",
      "stephaniefowler@parkercom False\n",
      "turnerrobert@yahoocom True\n",
      "amanda93@foxcom False\n",
      "rachelcaldwell@lamorg False\n",
      "bradleyshepherd@morales-leachnet False\n",
      "iguerrero@gmailcom True\n",
      "lewisrobert@ricecom False\n",
      "xwalls@yahoocom False\n",
      "marycervantes@hotmailcom False\n",
      "christopherrobinson@saunderscom False\n",
      "william57@mcphersoncom False\n",
      "tthompson@gmailcom False\n",
      "mariahill@whitaker-sotocom False\n",
      "gdiaz@perezcom False\n",
      "qlowe@young-morrisoncom False\n",
      "april98@hotmailcom False\n",
      "christopherwalker@yahoocom True\n",
      "deborah18@rittercom False\n",
      "zmccoy@yahoocom False\n",
      "youngpatrick@hotmailcom False\n",
      "kevin48@mullinsbiz False\n",
      "yperez@hotmailcom False\n",
      "paularogers@kirby-watsonnet False\n",
      "roy91@hotmailcom False\n",
      "zadams@yahoocom False\n",
      "tyler25@gmailcom False\n",
      "karengolden@gmailcom False\n",
      "christinawilson@browncom False\n",
      "fisheramanda@carrcom False\n",
      "greenetammy@gmailcom False\n",
      "fschultz@gmailcom False\n",
      "kimberly62@turnerbiz False\n",
      "xmoore@dixon-molinaorg False\n",
      "brian08@gmailcom False\n",
      "bjones@weissbiz False\n",
      "james41@hotmailcom False\n",
      "davidlewis@morgan-riggscom False\n",
      "wkennedy@yahoocom False\n",
      "deborahbutler@yahoocom False\n",
      "jackie71@logannet False\n",
      "vazquezmegan@hotmailcom False\n",
      "qturner@yahoocom False\n",
      "hstephens@parkcom False\n",
      "nicholasmckenzie@woodbiz False\n",
      "bryan16@yahoocom False\n",
      "vmiller@williams-johnsoninfo False\n",
      "kimberly62@turnerbiz False\n",
      "taylorvaldez@perkins-turnerorg False\n",
      "stephen12@soliscom False\n",
      "sierraboone@brown-baileynet False\n",
      "gjensen@rowlandcom False\n",
      "bwilliams@leecom False\n",
      "michaelkennedy@petersonnet False\n",
      "anita37@scott-prattcom False\n",
      "ashleywebb@chancom False\n",
      "showard@hartcom False\n",
      "rmeyer@yahoocom False\n",
      "kwatkins@edwardscom False\n",
      "heidijohnson@turnernet False\n",
      "roger20@yahoocom False\n",
      "dburns@yahoocom False\n",
      "megannavarro@boylebiz False\n",
      "wmorris@gmailcom False\n",
      "josephluna@stevens-greenbiz False\n",
      "amandalewis@powellcom False\n",
      "tylerjacobson@mayo-claycom False\n",
      "laurenwalker@yahoocom False\n",
      "harrislarry@hotmailcom False\n",
      "josephmcconnell@nuneznet False\n",
      "rgeorge@forbes-flemingcom False\n",
      "lbell@mays-millercom False\n",
      "box True\n",
      "qwalker@hotmailcom False\n",
      "martinezjoe@hotmailcom False\n",
      "christinemiranda@smithinfo False\n",
      "juanglover@gmailcom False\n",
      "rodney33@yahoocom False\n",
      "williamsjessica@gmailcom False\n",
      "stacy40@gmailcom False\n",
      "lwright@yahoocom True\n",
      "manningmelissa@hotmailcom False\n",
      "jenniferchristensen@yahoocom False\n",
      "hineskaitlin@gmailcom False\n",
      "timothyjones@coxcom False\n",
      "christopher30@gilescom False\n",
      "hailey78@cooperinfo False\n",
      "david72@hotmailcom False\n",
      "jturner@sawyercom False\n",
      "deborahdavis@jackson-burgesscom False\n",
      "perryjacob@shawcom False\n",
      "martinezcheryl@youngnet False\n",
      "jasmine45@thomas-rittercom False\n",
      "rodney33@yahoocom False\n",
      "fritzsharon@jacksoncom False\n",
      "rachael15@huangcom False\n",
      "stewartjessica@leebiz False\n",
      "patelbilly@jones-walkercom False\n",
      "hallchad@hernandezbiz False\n",
      "deborah18@rittercom False\n",
      "regina26@brown-mendozainfo False\n",
      "lauraharrington@yahoocom False\n",
      "grahammaureen@hotmailcom False\n",
      "dillonkelli@yahoocom False\n",
      "sharon71@gmailcom False\n",
      "james01@walkercom False\n",
      "april98@hotmailcom False\n",
      "vbass@yahoocom False\n",
      "nicholas37@scottcom False\n",
      "robertpowell@hotmailcom False\n",
      "fschultz@gmailcom False\n",
      "robertdunn@hotmailcom False\n",
      "raymondgarner@perezcom False\n",
      "thomasbrianna@maynet False\n",
      "hollymontes@griffincom False\n",
      "kathryncooper@yahoocom False\n",
      "derek15@hotmailcom False\n",
      "mcdanielruben@jacobson-rivascom False\n",
      "ycabrera@yahoocom False\n",
      "bryan97@gmailcom False\n",
      "batesmatthew@hotmailcom False\n",
      "smora@walkercom False\n",
      "leematthew@hotmailcom False\n",
      "yferguson@riveracom False\n",
      "batesmatthew@hotmailcom False\n",
      "xchase@smith-johnsoncom False\n",
      "hstephens@parkcom False\n",
      "michelleevans@parkscom False\n",
      "hatfieldmatthew@steelenet False\n",
      "john06@hotmailcom False\n",
      "johnchavez@hotmailcom False\n",
      "justin59@walkerorg False\n",
      "greggcurry@wilsoncom False\n",
      "robertblankenship@hotmailcom False\n",
      "seanwilson@kennedy-batescom False\n",
      "sarahrose@hotmailcom False\n",
      "rita30@hotmailcom False\n",
      "abrown@edwardsinfo False\n",
      "hannah88@skinnercom False\n",
      "lovekatelyn@gmailcom False\n",
      "bradleyjacobs@gmailcom False\n",
      "brownandrew@nicholscom False\n",
      "amber77@johnsoninfo False\n",
      "leonardkevin@simscom False\n",
      "cassandrarodriguez@hotmailcom False\n",
      "acarr@kramerbiz False\n",
      "romanmichele@hotmailcom False\n",
      "sgiles@hotmailcom False\n",
      "ninanelson@romerobiz False\n",
      "tiffany05@lopezcom False\n",
      "brian83@fraziercom False\n",
      "sanchezdennis@hotmailcom False\n",
      "omatthews@gmailcom True\n",
      "sullivandevin@jonesinfo False\n",
      "taylor55@ferrell-martinezcom False\n",
      "sandersmaxwell@goodman-walkerinfo False\n",
      "yflynn@hotmailcom False\n",
      "fcampbell@sotoorg False\n",
      "evansmarcus@hotmailcom False\n",
      "nnguyen@allencom False\n",
      "barbara77@gmailcom False\n",
      "vsmith@clarkorg False\n",
      "smithjacob@hotmailcom False\n",
      "wsutton@millercom False\n",
      "brettrobbins@gmailcom False\n",
      "chaseregina@howellcom False\n"
     ]
    },
    {
     "name": "stdout",
     "output_type": "stream",
     "text": [
      "omiller@yahoocom False\n",
      "emily84@yahoocom False\n",
      "oarcher@gmailcom False\n",
      "jordan26@yahoocom False\n",
      "rlopez@yahoocom False\n",
      "elizabeth94@hotmailcom False\n",
      "barbarabrooks@kellycom False\n",
      "xmoore@dixon-molinaorg False\n",
      "nicholas37@scottcom False\n",
      "katherine65@warner-petersoncom False\n",
      "davidcole@yahoocom False\n",
      "lisa74@johnson-jacksoncom False\n",
      "gwebster@princecom False\n",
      "tracy35@yahoocom False\n",
      "stephaniefowler@parkercom False\n",
      "mary27@hotmailcom False\n",
      "daltonbond@yahoocom False\n",
      "jamiezimmerman@pierce-hallorg False\n",
      "keith79@reynoldscom False\n",
      "jesse19@gmailcom False\n",
      "dylan26@gmailcom False\n",
      "brittanycummings@benjamincom False\n",
      "melissaroth@perez-jacksonbiz False\n",
      "joseph89@gmailcom False\n",
      "escobardebra@huber-gordoncom False\n",
      "qsmith@burkebiz False\n",
      "lgonzalez@mullinsorg False\n",
      "ruizalexis@lin-millercom False\n",
      "rharris@greenebiz False\n",
      "sarah50@yahoocom False\n",
      "samuel40@richmond-willisbiz False\n",
      "ryangallagher@lozano-thompsoncom False\n",
      "smitherin@gmailcom False\n",
      "eaguirre@mayo-maycom False\n",
      "martinashley@yahoocom True\n",
      "tsalas@watts-perryorg False\n",
      "davidcole@yahoocom False\n",
      "tammie78@simpsoninfo False\n",
      "summercosta@hotmailcom False\n",
      "xmoore@dixon-molinaorg False\n",
      "amandagray@yahoocom True\n",
      "jacob43@martincom False\n",
      "travis47@swansoninfo False\n",
      "sjackson@lewisinfo False\n",
      "jsanders@herrera-castanedacom False\n",
      "vickie02@yahoocom False\n",
      "grahamrobert@hotmailcom False\n",
      "jacksonkimberly@yahoocom False\n",
      "allengregory@atkinsoncom False\n",
      "nwalker@yahoocom False\n",
      "mckinneyrobert@knapp-alvarezinfo False\n",
      "hailey78@cooperinfo False\n",
      "omatthews@gmailcom True\n",
      "jessica25@blaircom False\n",
      "ghiggins@hotmailcom False\n",
      "april43@deleoncom False\n",
      "iglover@jamesorg False\n",
      "gutierrezjustin@mccallbiz False\n",
      "smithdaniel@hotmailcom True\n",
      "michellemccormick@hotmailcom False\n",
      "russellralph@gmailcom False\n",
      "kimanthony@diaznet False\n",
      "hlee@hotmailcom True\n",
      "qparsons@davis-vancenet False\n",
      "lsimmons@greerinfo False\n",
      "amandalewis@powellcom False\n",
      "fmurphy@garciacom False\n",
      "dillonsara@gmailcom False\n",
      "hstephens@parkcom False\n",
      "stonejeffrey@hotmailcom False\n",
      "ywright@yahoocom False\n",
      "hollymontes@griffincom False\n",
      "cardenasjennifer@nguyenbiz False\n",
      "hernandezcasey@gmailcom False\n",
      "dennislopez@martincom False\n",
      "gwebster@princecom False\n",
      "hawkinslisa@gmailcom False\n",
      "carlajohnson@butlercom False\n",
      "hocassandra@powellinfo False\n",
      "thompsonbrian@jones-clarkcom False\n",
      "thomasbrianna@maynet False\n",
      "gcampos@yahoocom False\n",
      "jeaton@gmailcom False\n",
      "dylan26@gmailcom False\n",
      "john87@smithbiz False\n",
      "ralvarez@gmailcom False\n",
      "lbell@mays-millercom False\n",
      "hoffmanshane@hotmailcom False\n",
      "herrerachristopher@gmailcom False\n",
      "robin97@jonescom False\n",
      "rfrederick@greene-herreracom False\n",
      "robertabrooks@macdonald-davisnet False\n",
      "wandachan@lopezcom False\n",
      "mwilson@quinncom False\n",
      "youngdennis@hotmailcom False\n",
      "christianmelody@currycom False\n",
      "austin21@gmailcom False\n",
      "jordan26@yahoocom False\n",
      "abrown@edwardsinfo False\n",
      "andrewsbrandon@gmailcom False\n",
      "stevenlewis@hotmailcom False\n",
      "jordan26@yahoocom False\n",
      "brian69@gmailcom False\n",
      "rmeyer@yahoocom False\n",
      "michelleevans@parkscom False\n",
      "ryan35@hotmailcom False\n",
      "rushandrew@barnes-maxwellcom False\n",
      "jamesdawson@stewartcom False\n",
      "abrown@edwardsinfo False\n",
      "wmorris@gmailcom False\n",
      "wandachan@lopezcom False\n",
      "smithjacqueline@caldwell-humphreyorg False\n",
      "louiswalsh@martinezbiz False\n",
      "burnsanthony@greenbiz False\n",
      "vlee@pierce-moranbiz False\n",
      "tammy40@silva-josephcom False\n",
      "wsutton@millercom False\n",
      "ysolomon@gmailcom False\n",
      "brianowens@yahoocom True\n",
      "tsalas@watts-perryorg False\n",
      "andreawright@hotmailcom False\n",
      "sanchezdennis@hotmailcom False\n",
      "gwhite@hotmailcom True\n",
      "kwatkins@edwardscom False\n",
      "harrislarry@hotmailcom False\n",
      "jilljackson@stewartnet False\n",
      "gwebster@princecom False\n",
      "raymondgarner@perezcom False\n",
      "gonzalezmichelle@hendersoncom False\n",
      "gstewart@huffcom False\n",
      "willie58@hotmailcom False\n",
      "lopeztimothy@hotmailcom False\n",
      "christinaking@robertsinfo False\n",
      "jamesbaker@gmailcom False\n",
      "brandicook@thompsoncom False\n",
      "martinashley@yahoocom True\n",
      "johnchavez@hotmailcom False\n",
      "rodney33@yahoocom False\n",
      "jasonbush@hotmailcom False\n",
      "rlopez@yahoocom False\n",
      "mooregeorge@brucebiz False\n",
      "uharris@sextoncom False\n",
      "hlee@hotmailcom True\n",
      "nicholas37@scottcom False\n",
      "ywilson@gmailcom False\n",
      "mary27@hotmailcom False\n",
      "brian08@gmailcom False\n",
      "middletonmichael@grahamcom False\n",
      "greenetammy@gmailcom False\n",
      "anthonyrobinson@yahoocom False\n",
      "eturner@gmailcom False\n",
      "michellemccormick@hotmailcom False\n",
      "singhsamantha@hotmailcom False\n",
      "tracyyates@hotmailcom False\n",
      "amychurch@jackson-richardsonorg False\n",
      "michelleevans@parkscom False\n",
      "ryoung@gmailcom False\n",
      "donaldavery@hotmailcom False\n",
      "brownandrew@nicholscom False\n",
      "richard46@buckleyinfo False\n",
      "heatherblack@hotmailcom False\n",
      "susanlove@gibson-macdonaldcom False\n",
      "jaysimpson@gmailcom False\n",
      "jason50@stevensnet False\n",
      "harnold@gmailcom True\n",
      "bjones@weissbiz False\n",
      "devon94@lopezcom False\n",
      "kylerangel@lawsoncom False\n",
      "karen52@rodriguezcom False\n",
      "jrodriguez@gmailcom False\n",
      "mary85@hotmailcom False\n",
      "kbaker@williams-westcom False\n",
      "marshalladrian@cruzcom False\n",
      "strongmichelle@gmailcom False\n",
      "garyramirez@hotmailcom False\n",
      "lisarogers@stephensnet False\n",
      "carolynwarren@jordan-garciacom False\n",
      "christian94@hotmailcom False\n",
      "bmcbride@yahoocom False\n",
      "rickyturner@hotmailcom False\n",
      "ehill@hotmailcom False\n",
      "peter60@fox-perrycom False\n",
      "jamespeter@jimenez-fullernet False\n",
      "blankenshipcheryl@yahoocom False\n",
      "andrewaters@washingtonnet False\n",
      "anthonymontgomery@grantcom False\n",
      "ycabrera@yahoocom False\n",
      "floressherri@hotmailcom False\n",
      "diane13@hotmailcom False\n",
      "davidsoncraig@moss-mcintyrecom False\n",
      "lynn19@munoz-trevinocom False\n",
      "rmeyer@yahoocom False\n",
      "fbeck@sharpcom False\n",
      "munoznatalie@gmailcom False\n",
      "parkermichael@velazquez-maynardcom False\n",
      "kscott@mcconnellcom False\n",
      "jamesgomez@yahoocom False\n",
      "fschultz@gmailcom False\n",
      "howerobert@yahoocom False\n",
      "austinnelson@villanueva-floydcom False\n",
      "smithjacqueline@caldwell-humphreyorg False\n",
      "stonejeffrey@hotmailcom False\n",
      "greenetammy@gmailcom False\n",
      "russellapril@gmailcom False\n",
      "ylopez@farmer-rogerscom False\n",
      "thorntonmark@gmailcom False\n",
      "andrewaters@washingtonnet False\n",
      "yspencer@williams-jenkinscom False\n",
      "williegarza@hotmailcom False\n",
      "gdiaz@perezcom False\n",
      "sarahwilliams@yahoocom False\n",
      "cory25@hotmailcom False\n",
      "aprilanthony@hotmailcom False\n",
      "richard61@yahoocom False\n",
      "allison16@yahoocom True\n",
      "kenneth49@hotmailcom False\n",
      "mcconnellsamuel@dennisorg False\n",
      "megannavarro@boylebiz False\n",
      "amychurch@jackson-richardsonorg False\n",
      "courtneyflores@gmailcom False\n",
      "byang@richardson-parkcom False\n",
      "hcook@yahoocom False\n",
      "natasha47@whitebiz False\n",
      "amandagray@yahoocom True\n",
      "kelly26@yahoocom False\n",
      "dean34@hotmailcom False\n",
      "tiffany42@yahoocom False\n",
      "lauraharrington@yahoocom False\n",
      "colingregory@browncom False\n",
      "erinyork@smithbiz False\n",
      "fjimenez@cantrell-chapmanorg False\n",
      "rubiodevin@yahoocom False\n",
      "victoria36@carpenter-walkernet False\n",
      "brianowens@yahoocom True\n",
      "lindsaybrooks@hotmailcom False\n",
      "smithjennifer@hotmailcom False\n",
      "gpena@myerscom False\n",
      "gregory32@terrycom False\n",
      "stevemaxwell@gmailcom False\n",
      "martinkimberly@hotmailcom False\n",
      "sharon71@gmailcom False\n",
      "wsutton@millercom False\n",
      "cassandrakerr@smithnet False\n",
      "devon94@lopezcom False\n",
      "ndavenport@yahoocom False\n",
      "charles52@romerocom False\n",
      "bellgina@yahoocom False\n",
      "mooreantonio@hotmailcom False\n",
      "blake63@gutierrezcom False\n",
      "heatherbrown@hotmailcom False\n",
      "john06@hotmailcom False\n",
      "smithcharles@gmailcom True\n",
      "ehill@hotmailcom False\n",
      "rmarshall@nielseninfo False\n",
      "yflynn@hotmailcom False\n",
      "roy91@hotmailcom False\n",
      "svalencia@snyderbiz False\n",
      "zmccoy@yahoocom False\n",
      "zsutton@hotmailcom False\n",
      "sandra30@wagner-wardcom False\n",
      "jilljackson@stewartnet False\n",
      "devon94@lopezcom False\n",
      "david94@gmailcom True\n",
      "tsalas@watts-perryorg False\n",
      "ronald73@yahoocom False\n",
      "keith79@reynoldscom False\n",
      "rachael15@huangcom False\n",
      "sandra30@wagner-wardcom False\n",
      "russellapril@gmailcom False\n",
      "josephmcconnell@nuneznet False\n",
      "sfreeman@valentine-bradfordinfo False\n",
      "jaredmyers@gregory-robertscom False\n",
      "pameladaniels@yahoocom False\n",
      "smithjacqueline@caldwell-humphreyorg False\n",
      "east True\n",
      "richardtorres@cooper-sharpcom False\n",
      "williamsnancy@hotmailcom False\n",
      "mfrank@richardcom False\n",
      "charles00@hickscom False\n",
      "lisarogers@stephensnet False\n",
      "herrerachristopher@gmailcom False\n",
      "deborahdavis@jackson-burgesscom False\n",
      "carmenevans@gmailcom False\n",
      "ethomas@rodriguezcom False\n",
      "benjaminpaul@yahoocom False\n",
      "zmarks@hotmailcom False\n",
      "tsalas@watts-perryorg False\n",
      "qgood@gmailcom False\n",
      "sandersmaxwell@goodman-walkerinfo False\n",
      "rcarter@gmailcom False\n",
      "davischristopher@hotmailcom False\n",
      "jeaton@gmailcom False\n",
      "box True\n",
      "hdonaldson@hotmailcom False\n",
      "robertabrooks@macdonald-davisnet False\n",
      "kellymercedes@fletcher-rileycom False\n",
      "xpalmer@gmailcom False\n",
      "hornmary@hunt-youngcom False\n",
      "christian94@hotmailcom False\n",
      "amanda19@yahoocom False\n",
      "wguerrero@flores-allisonbiz False\n",
      "megannavarro@boylebiz False\n",
      "patriciarhodes@brownorg False\n",
      "robertabrooks@macdonald-davisnet False\n",
      "galvanjennifer@long-swansoncom False\n",
      "nwalker@yahoocom False\n",
      "kellerbenjamin@kelly-winterscom False\n",
      "mcintyretonya@gmailcom False\n",
      "roger20@yahoocom False\n",
      "wsharp@davidsoncom False\n",
      "heidijohnson@turnernet False\n",
      "west True\n",
      "nguyenrussell@hotmailcom False\n",
      "anthonyrobinson@yahoocom False\n",
      "mcdanielruben@jacobson-rivascom False\n",
      "brittney12@gmailcom False\n",
      "rodriguezemily@gutierrezcom False\n",
      "tsalas@watts-perryorg False\n",
      "vickie02@yahoocom False\n",
      "austin21@gmailcom False\n",
      "leekevin@buckleycom False\n",
      "robertromero@whitney-bryantcom False\n",
      "christopher61@hotmailcom False\n",
      "smithjennifer@hotmailcom False\n",
      "nicholasmckenzie@woodbiz False\n",
      "johnchavez@hotmailcom False\n",
      "dylan26@gmailcom False\n",
      "tiffany05@lopezcom False\n",
      "tristan96@yahoocom False\n",
      "bmiller@yahoocom True\n",
      "gregphillips@hotmailcom False\n",
      "christinemiranda@smithinfo False\n",
      "singhsamantha@hotmailcom False\n",
      "qhood@prattinfo False\n",
      "johnsonjohn@yahoocom True\n",
      "nicholasmckenzie@woodbiz False\n",
      "sharivalentine@gmailcom False\n",
      "mfrank@richardcom False\n",
      "rodriguezemily@gutierrezcom False\n",
      "brendahobbs@hotmailcom False\n",
      "nortonlarry@gmailcom False\n",
      "nneal@henrycom False\n",
      "vbass@yahoocom False\n",
      "burgessjoseph@yahoocom False\n",
      "robertdunn@hotmailcom False\n",
      "brucetaylor@yahoocom False\n",
      "davischristopher@hotmailcom False\n",
      "ashley98@woodcom False\n",
      "davischristopher@hotmailcom False\n",
      "jarcher@gmailcom False\n",
      "anthonyrobinson@yahoocom False\n",
      "mmiller@wheelerorg False\n",
      "elizabethking@yahoocom False\n",
      "tapiatyler@smith-olsonbiz False\n",
      "fhodge@vanginfo False\n",
      "daniel43@conley-ruizorg False\n",
      "hdonaldson@hotmailcom False\n",
      "yferguson@riveracom False\n",
      "rushandrew@barnes-maxwellcom False\n",
      "thomasarthur@gmailcom False\n",
      "michaelhoffman@hotmailcom False\n",
      "brian83@fraziercom False\n",
      "gmayer@gmailcom False\n",
      "bpotts@gmailcom False\n",
      "patriciagates@gmailcom False\n",
      "vaughndana@gmailcom False\n",
      "woconnell@watersbiz False\n",
      "svalencia@snyderbiz False\n",
      "luis08@stephensoncom False\n",
      "grahammaureen@hotmailcom False\n",
      "xhamilton@hotmailcom True\n",
      "harrellvictoria@gmailcom False\n",
      "regina26@brown-mendozainfo False\n",
      "ehill@hotmailcom False\n",
      "lcortez@morenocom False\n",
      "teresamendez@bondcom False\n",
      "washingtondanielle@hillcom False\n",
      "mcculloughjames@hicks-bellcom False\n",
      "michael99@garrisoninfo False\n",
      "laura15@matthews-williamscom False\n",
      "carmenevans@gmailcom False\n",
      "cassandrarodriguez@hotmailcom False\n",
      "tyler25@gmailcom False\n",
      "ronaldmcfarland@yahoocom False\n",
      "christopher19@bell-harringtoncom False\n",
      "marshalladrian@cruzcom False\n",
      "msantana@yahoocom False\n",
      "nnguyen@allencom False\n",
      "diana97@yahoocom False\n",
      "francisco85@bell-walkerbiz False\n",
      "anthonymontgomery@grantcom False\n",
      "marie32@yahoocom False\n",
      "chadgarrett@hotmailcom False\n",
      "christophercisneros@denniscom False\n",
      "amymartin@oliverbiz False\n",
      "perryjacob@shawcom False\n",
      "laurenwalker@yahoocom False\n",
      "robertabrooks@macdonald-davisnet False\n",
      "agross@hotmailcom False\n",
      "callahankimberly@hotmailcom False\n",
      "vweaver@starknet False\n",
      "samuel40@richmond-willisbiz False\n",
      "davidcole@yahoocom False\n",
      "russellralph@gmailcom False\n",
      "allison16@yahoocom True\n",
      "derek15@hotmailcom False\n",
      "vweaver@starknet False\n",
      "garciapamela@davisinfo False\n",
      "sullivanjohn@yahoocom False\n",
      "rushandrew@barnes-maxwellcom False\n",
      "marybrown@hotmailcom False\n",
      "hornmary@hunt-youngcom False\n",
      "hsmith@yahoocom True\n",
      "ovaldez@hendersoncom False\n",
      "hendersonmichael@cruz-longbiz False\n",
      "bellgina@yahoocom False\n",
      "veronicaadams@yahoocom False\n",
      "qlowe@young-morrisoncom False\n",
      "holtnicholas@yahoocom False\n",
      "elizabethking@yahoocom False\n",
      "bwilliams@leecom False\n",
      "bjones@weissbiz False\n",
      "petersenrachael@allen-chencom False\n",
      "jennifer76@fosterinfo False\n",
      "taylormichael@hotmailcom True\n",
      "christianmelody@currycom False\n",
      "gainessarah@rosscom False\n",
      "holtnicholas@yahoocom False\n",
      "gconner@hotmailcom False\n",
      "michael93@yahoocom True\n",
      "vking@yahoocom False\n",
      "mooreantonio@hotmailcom False\n",
      "tammy40@silva-josephcom False\n",
      "kellymercedes@fletcher-rileycom False\n",
      "connie59@gmailcom False\n",
      "singhsamantha@hotmailcom False\n",
      "joseblack@yahoocom False\n",
      "stephenrobbins@jimenez-freemancom False\n",
      "kscott@mcconnellcom False\n",
      "sonyapetty@russellinfo False\n",
      "tim94@garciacom False\n",
      "xmyers@jimeneznet False\n",
      "dillonsara@gmailcom False\n",
      "jasonbush@hotmailcom False\n",
      "huffmanlance@austinnet False\n",
      "umcneil@yahoocom False\n",
      "reedbrent@donaldson-donaldsoncom False\n",
      "amy85@hotmailcom False\n",
      "johnny91@penacom False\n",
      "qwalker@hotmailcom False\n",
      "wrhodes@santiagocom False\n",
      "shelly31@yahoocom False\n",
      "david72@hotmailcom False\n",
      "ashley98@woodcom False\n",
      "patelbilly@jones-walkercom False\n",
      "christianmelody@currycom False\n",
      "nwalters@licom False\n",
      "heidi74@pattersoncom False\n",
      "summercosta@hotmailcom False\n",
      "raymondgarner@perezcom False\n",
      "thompsonscott@wrightcom False\n",
      "margarethayes@frank-hesternet False\n",
      "gibsonregina@haley-bellcom False\n",
      "ryoung@gmailcom False\n",
      "kathryncooper@yahoocom False\n"
     ]
    },
    {
     "name": "stdout",
     "output_type": "stream",
     "text": [
      "nicholas37@scottcom False\n",
      "hollandronald@yahoocom False\n",
      "sullivandevin@jonesinfo False\n",
      "susanbrown@walker-kaisercom False\n",
      "taylor75@yahoocom False\n",
      "johnchavez@hotmailcom False\n",
      "morgansamuel@cunninghamcom False\n",
      "rcarter@wells-andradeorg False\n",
      "williegarza@hotmailcom False\n",
      "jodistevenson@bennettcom False\n",
      "vanessayoung@gmailcom False\n",
      "coxcraig@gmailcom False\n",
      "jaysimpson@gmailcom False\n",
      "fritzsharon@jacksoncom False\n",
      "svalencia@snyderbiz False\n",
      "ylopez@farmer-rogerscom False\n",
      "cassandra12@changcom False\n",
      "austin73@hotmailcom False\n",
      "goldensabrina@rocha-garciacom False\n",
      "ylopez@farmer-rogerscom False\n",
      "thomasarthur@gmailcom False\n",
      "rodney33@yahoocom False\n",
      "timothyjones@coxcom False\n",
      "sfletcher@yahoocom True\n",
      "stafforddaniel@hotmailcom False\n",
      "mariahayes@cabrerainfo False\n",
      "uharris@sextoncom False\n",
      "gstewart@huffcom False\n",
      "roger60@gmailcom False\n",
      "kenneth91@navarro-parkercom False\n",
      "iprice@elliottbiz False\n",
      "gstewart@huffcom False\n",
      "johnsonaaron@goodwincom False\n",
      "curtisgray@bradfordcom False\n",
      "zwhite@meyercom False\n",
      "fbeck@sharpcom False\n",
      "jake49@stevenson-simmonsinfo False\n",
      "byang@richardson-parkcom False\n",
      "melissahensley@gmailcom False\n",
      "rhouston@hamptonorg False\n",
      "troymullen@yahoocom False\n",
      "kathleenwilliams@jones-websterorg False\n",
      "jdavis@yahoocom True\n",
      "amandaweber@hotmailcom False\n",
      "nelsonadam@gmailcom False\n",
      "jeffery59@gmailcom False\n",
      "jodistevenson@bennettcom False\n",
      "james49@yahoocom False\n",
      "summercosta@hotmailcom False\n",
      "cgomez@long-gallaghercom False\n",
      "tiffany05@lopezcom False\n",
      "corysantos@faulknernet False\n",
      "wendydavidson@gmailcom False\n",
      "rwashington@fordcom False\n",
      "blake63@gutierrezcom False\n",
      "willie58@hotmailcom False\n",
      "jasonponce@yahoocom False\n",
      "bpotts@gmailcom False\n",
      "tracyboyle@blevinsorg False\n",
      "haydenreed@yahoocom False\n",
      "iglover@jamesorg False\n",
      "robertphillips@hobbscom False\n",
      "colingregory@browncom False\n",
      "flemingmegan@yahoocom False\n",
      "christina55@hotmailcom False\n",
      "millscraig@frazier-rangelcom False\n",
      "qturner@yahoocom False\n",
      "jesse19@gmailcom False\n",
      "sphillips@reyescom False\n",
      "ymartinez@hillcom False\n",
      "cbrown@rossnet False\n",
      "sandravelez@yahoocom False\n",
      "juanglover@gmailcom False\n",
      "harringtonpaige@gmailcom False\n",
      "ycabrera@yahoocom False\n",
      "moorecindy@hartcom False\n",
      "brodriguez@little-herringcom False\n",
      "cameron94@morton-hillcom False\n",
      "blankenshipcheryl@yahoocom False\n",
      "ymartinez@hillcom False\n",
      "ethomas@rodriguezcom False\n",
      "harringtonpaige@gmailcom False\n",
      "colemanjames@hotmailcom False\n",
      "nneal@henrycom False\n",
      "kmoss@bauercom False\n",
      "raven21@burchcom False\n",
      "zwhite@meyercom False\n",
      "mikewatson@wintersorg False\n"
     ]
    }
   ],
   "source": [
    "tot_in_old_vocab = 0\n",
    "for index in range(len(tokenized_email_pii_text)):\n",
    "    part_pii = word2vec_new.wv.doesnt_match(tokenized_email_pii_text[index])\n",
    "    part_pii_in_old_vocabs = part_pii in word2vec_old_vocab_list\n",
    "    if part_pii_in_old_vocabs:\n",
    "        tot_in_old_vocab += 1\n",
    "    print(part_pii, part_pii_in_old_vocabs)\n",
    "    "
   ]
  },
  {
   "cell_type": "code",
   "execution_count": 67,
   "metadata": {},
   "outputs": [
    {
     "data": {
      "text/plain": [
       "52"
      ]
     },
     "execution_count": 67,
     "metadata": {},
     "output_type": "execute_result"
    }
   ],
   "source": [
    "tot_in_old_vocab"
   ]
  },
  {
   "cell_type": "markdown",
   "metadata": {},
   "source": [
    "### There are only 52 old vocabs in the new data. Most of the new PIIs are not in the old data but the algorithm can be able to identify the email address. "
   ]
  },
  {
   "cell_type": "markdown",
   "metadata": {},
   "source": [
    "## Try to see if it works on some other PII. "
   ]
  },
  {
   "cell_type": "code",
   "execution_count": 72,
   "metadata": {},
   "outputs": [
    {
     "data": {
      "text/plain": [
       "Address             1000\n",
       "CreditCardNumber    1000\n",
       "Email               1000\n",
       "Phone_number        1000\n",
       "SSN                 1000\n",
       "Plates              1000\n",
       "Name                1000\n",
       "None                1000\n",
       "Name: Labels, dtype: int64"
      ]
     },
     "execution_count": 72,
     "metadata": {},
     "output_type": "execute_result"
    }
   ],
   "source": [
    "new_data[\"Labels\"].value_counts()"
   ]
  },
  {
   "cell_type": "code",
   "execution_count": 139,
   "metadata": {},
   "outputs": [],
   "source": [
    "all_pii_data = new_data[new_data.Labels != \"None\"].copy()"
   ]
  },
  {
   "cell_type": "code",
   "execution_count": 130,
   "metadata": {},
   "outputs": [
    {
     "data": {
      "text/plain": [
       "'320 Diaz Ports South Annbury, WI 90917 Agreement threat conference audience. Goal billion green yeah couple pressure. Wrong play analysis push even great.'"
      ]
     },
     "execution_count": 130,
     "metadata": {},
     "output_type": "execute_result"
    }
   ],
   "source": [
    "all_pii_data['Text'].iloc[1]"
   ]
  },
  {
   "cell_type": "code",
   "execution_count": 132,
   "metadata": {},
   "outputs": [],
   "source": [
    "all_pii = list(all_pii_data['Text'].values)"
   ]
  },
  {
   "cell_type": "code",
   "execution_count": 133,
   "metadata": {},
   "outputs": [],
   "source": [
    "tokenized_all_pii_text = [each_pii.split(\" \") for each_pii in all_pii ]"
   ]
  },
  {
   "cell_type": "code",
   "execution_count": 134,
   "metadata": {},
   "outputs": [],
   "source": [
    "word2vec_all = Word2Vec.load(\"./word2vec/word2vec_300_fake_pii.bin\")"
   ]
  },
  {
   "cell_type": "code",
   "execution_count": 135,
   "metadata": {},
   "outputs": [],
   "source": [
    "word2vec_all.build_vocab(tokenized_all_pii_text,update = True)"
   ]
  },
  {
   "cell_type": "code",
   "execution_count": 136,
   "metadata": {},
   "outputs": [
    {
     "data": {
      "text/plain": [
       "(543364, 543600)"
      ]
     },
     "execution_count": 136,
     "metadata": {},
     "output_type": "execute_result"
    }
   ],
   "source": [
    "word2vec_all.train(tokenized_all_pii_text, total_examples = len(all_pii), epochs = 5 )"
   ]
  },
  {
   "cell_type": "code",
   "execution_count": 137,
   "metadata": {},
   "outputs": [],
   "source": [
    "extracted_pii = [word2vec_all.wv.doesnt_match(each_pii_text) \\\n",
    "                 for each_pii_text in tokenized_all_pii_text ]"
   ]
  },
  {
   "cell_type": "code",
   "execution_count": 138,
   "metadata": {},
   "outputs": [],
   "source": [
    "def is_pii(extracted,original):\n",
    "    assert len(extracted) == len(original), \"The extracted and original are not of the same length.\"\n",
    "    \n",
    "    pii_true_false = np.full(len(extracted), True, dtype=bool)\n",
    "    \n",
    "    for index in range(len(extracted)):\n",
    "        boolean_value = extracted[index] in original.iloc[index]\n",
    "        pii_true_false[index] = boolean_value\n",
    "        \n",
    "    return pii_true_false\n",
    "        \n",
    "        "
   ]
  },
  {
   "cell_type": "code",
   "execution_count": 140,
   "metadata": {
    "scrolled": true
   },
   "outputs": [],
   "source": [
    "all_pii_result = is_pii(extracted_pii, all_pii_data[\"PII\"])"
   ]
  },
  {
   "cell_type": "code",
   "execution_count": 141,
   "metadata": {},
   "outputs": [
    {
     "data": {
      "text/plain": [
       "435"
      ]
     },
     "execution_count": 141,
     "metadata": {},
     "output_type": "execute_result"
    }
   ],
   "source": [
    "sum(ssn_result)"
   ]
  },
  {
   "cell_type": "code",
   "execution_count": 143,
   "metadata": {},
   "outputs": [
    {
     "name": "stderr",
     "output_type": "stream",
     "text": [
      "100%|██████████| 7000/7000 [00:00<00:00, 168628.79it/s]\n"
     ]
    }
   ],
   "source": [
    "all_pii_word2vec_matrix = get_pii2vec_matrix(extracted_pii, model = word2vec_all )"
   ]
  },
  {
   "cell_type": "code",
   "execution_count": 144,
   "metadata": {},
   "outputs": [],
   "source": [
    "prediction_new_pii = lr_multi.predict(all_pii_word2vec_matrix)"
   ]
  },
  {
   "cell_type": "code",
   "execution_count": 145,
   "metadata": {},
   "outputs": [],
   "source": [
    "binary_true = [binary_pii(label) for label in all_pii_data[\"Labels\"]]\n",
    "\n",
    "binary_pred = [binary_pii(label) for label in prediction_new_pii]"
   ]
  },
  {
   "cell_type": "code",
   "execution_count": 146,
   "metadata": {},
   "outputs": [
    {
     "data": {
      "text/plain": [
       "Yes    7000\n",
       "dtype: int64"
      ]
     },
     "execution_count": 146,
     "metadata": {},
     "output_type": "execute_result"
    }
   ],
   "source": [
    "binary_true = pd.Series(binary_true)\n",
    "binary_true.value_counts()"
   ]
  },
  {
   "cell_type": "code",
   "execution_count": null,
   "metadata": {},
   "outputs": [],
   "source": []
  }
 ],
 "metadata": {
  "kernelspec": {
   "display_name": "Python 3",
   "language": "python",
   "name": "python3"
  },
  "language_info": {
   "codemirror_mode": {
    "name": "ipython",
    "version": 3
   },
   "file_extension": ".py",
   "mimetype": "text/x-python",
   "name": "python",
   "nbconvert_exporter": "python",
   "pygments_lexer": "ipython3",
   "version": "3.6.6"
  }
 },
 "nbformat": 4,
 "nbformat_minor": 2
}
